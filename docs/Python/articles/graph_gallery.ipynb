{
 "cells": [
  {
   "cell_type": "markdown",
   "metadata": {
    "nbsphinx": "hidden"
   },
   "source": [
    "## Link to article\n",
    "\n",
    "This notebook is included in the documentation, where the interactive Plotly charts show up. See:\n",
    "https://pegasystems.github.io/pega-datascientist-tools/Python/articles/graph_gallery.html"
   ]
  },
  {
   "cell_type": "markdown",
   "metadata": {},
   "source": [
    "# Graph Gallery"
   ]
  },
  {
   "cell_type": "code",
   "execution_count": 1,
   "metadata": {
    "execution": {
     "iopub.execute_input": "2023-02-22T12:47:35.273091Z",
     "iopub.status.busy": "2023-02-22T12:47:35.272839Z",
     "iopub.status.idle": "2023-02-22T12:47:35.592306Z",
     "shell.execute_reply": "2023-02-22T12:47:35.591710Z"
    },
    "nbsphinx": "hidden"
   },
   "outputs": [],
   "source": [
    "# These lines are only for rendering in the docs, and are hidden through Jupyter tags\n",
    "# Do not run if you're running the notebook seperately\n",
    "import plotly.io as pio\n",
    "pio.renderers.default='notebook_connected'\n",
    "\n",
    "import sys\n",
    "sys.path.append('../../../')"
   ]
  },
  {
   "cell_type": "code",
   "execution_count": 2,
   "metadata": {
    "execution": {
     "iopub.execute_input": "2023-02-22T12:47:35.595351Z",
     "iopub.status.busy": "2023-02-22T12:47:35.595084Z",
     "iopub.status.idle": "2023-02-22T12:47:37.345921Z",
     "shell.execute_reply": "2023-02-22T12:47:37.345167Z"
    }
   },
   "outputs": [
    {
     "name": "stdout",
     "output_type": "stream",
     "text": [
      "File Data-Decision-ADM-ModelSnapshot_pyModelSnapshots_20210526T131808_GMT.zip not found in dir https://raw.githubusercontent.com/pegasystems/pega-datascientist-tools/master/data\n"
     ]
    },
    {
     "name": "stdout",
     "output_type": "stream",
     "text": [
      "File Data-Decision-ADM-PredictorBinningSnapshot_pyADMPredictorSnapshots_20210526T133622_GMT.zip not found in dir https://raw.githubusercontent.com/pegasystems/pega-datascientist-tools/master/data\n",
      "Could not be combined. Do you have both model data and predictor data?\n"
     ]
    }
   ],
   "source": [
    "from pdstools import datasets\n",
    "data = datasets.CDHSample()"
   ]
  },
  {
   "cell_type": "markdown",
   "metadata": {},
   "source": [
    "## Impact Influence"
   ]
  },
  {
   "cell_type": "code",
   "execution_count": 3,
   "metadata": {
    "execution": {
     "iopub.execute_input": "2023-02-22T12:47:37.349562Z",
     "iopub.status.busy": "2023-02-22T12:47:37.349255Z",
     "iopub.status.idle": "2023-02-22T12:47:37.487569Z",
     "shell.execute_reply": "2023-02-22T12:47:37.486946Z"
    }
   },
   "outputs": [
    {
     "name": "stdout",
     "output_type": "stream",
     "text": [
      "Plot is only available in matplotlib.\n"
     ]
    },
    {
     "ename": "NotApplicableError",
     "evalue": "This visualisation requires combinedData, but that table isn't in this dataset.",
     "output_type": "error",
     "traceback": [
      "\u001b[0;31m---------------------------------------------------------------------------\u001b[0m",
      "\u001b[0;31mNotApplicableError\u001b[0m                        Traceback (most recent call last)",
      "Cell \u001b[0;32mIn [3], line 1\u001b[0m\n\u001b[0;32m----> 1\u001b[0m \u001b[43mdata\u001b[49m\u001b[38;5;241;43m.\u001b[39;49m\u001b[43mplotImpactInfluence\u001b[49m\u001b[43m(\u001b[49m\u001b[43m)\u001b[49m\n",
      "File \u001b[0;32m/Library/Frameworks/Python.framework/Versions/3.11/lib/python3.11/site-packages/pdstools/plots/plot_base.py:877\u001b[0m, in \u001b[0;36mPlots.plotImpactInfluence\u001b[0;34m(self, ModelID, query, **kwargs)\u001b[0m\n\u001b[1;32m    867\u001b[0m last \u001b[38;5;241m=\u001b[39m \u001b[38;5;28;01mTrue\u001b[39;00m\n\u001b[1;32m    868\u001b[0m required_columns \u001b[38;5;241m=\u001b[39m {\n\u001b[1;32m    869\u001b[0m     \u001b[38;5;124m\"\u001b[39m\u001b[38;5;124mModelID\u001b[39m\u001b[38;5;124m\"\u001b[39m,\n\u001b[1;32m    870\u001b[0m     \u001b[38;5;124m\"\u001b[39m\u001b[38;5;124mPredictorName\u001b[39m\u001b[38;5;124m\"\u001b[39m,\n\u001b[0;32m   (...)\u001b[0m\n\u001b[1;32m    875\u001b[0m     \u001b[38;5;124m\"\u001b[39m\u001b[38;5;124mBinNegatives\u001b[39m\u001b[38;5;124m\"\u001b[39m,\n\u001b[1;32m    876\u001b[0m }\n\u001b[0;32m--> 877\u001b[0m df \u001b[38;5;241m=\u001b[39m \u001b[38;5;28;43mself\u001b[39;49m\u001b[38;5;241;43m.\u001b[39;49m\u001b[43m_subset_data\u001b[49m\u001b[43m(\u001b[49m\u001b[43mtable\u001b[49m\u001b[43m,\u001b[49m\u001b[43m \u001b[49m\u001b[43mrequired_columns\u001b[49m\u001b[43m,\u001b[49m\u001b[43m \u001b[49m\u001b[43mquery\u001b[49m\u001b[43m,\u001b[49m\u001b[43m \u001b[49m\u001b[43mlast\u001b[49m\u001b[38;5;241;43m=\u001b[39;49m\u001b[43mlast\u001b[49m\u001b[43m)\u001b[49m\u001b[38;5;241m.\u001b[39mreset_index()\n\u001b[1;32m    878\u001b[0m df \u001b[38;5;241m=\u001b[39m (\n\u001b[1;32m    879\u001b[0m     \u001b[38;5;28mself\u001b[39m\u001b[38;5;241m.\u001b[39m_calculate_impact_influence(\n\u001b[1;32m    880\u001b[0m         df, context_keys\u001b[38;5;241m=\u001b[39m\u001b[38;5;28mself\u001b[39m\u001b[38;5;241m.\u001b[39mcontext_keys, ModelID\u001b[38;5;241m=\u001b[39mModelID\n\u001b[0;32m   (...)\u001b[0m\n\u001b[1;32m    885\u001b[0m     \u001b[38;5;241m.\u001b[39mrename(columns\u001b[38;5;241m=\u001b[39m{\u001b[38;5;124m\"\u001b[39m\u001b[38;5;124mlevel_2\u001b[39m\u001b[38;5;124m\"\u001b[39m: \u001b[38;5;124m\"\u001b[39m\u001b[38;5;124mmetric\u001b[39m\u001b[38;5;124m\"\u001b[39m, \u001b[38;5;241m0\u001b[39m: \u001b[38;5;124m\"\u001b[39m\u001b[38;5;124mvalue\u001b[39m\u001b[38;5;124m\"\u001b[39m})\n\u001b[1;32m    886\u001b[0m )\n\u001b[1;32m    888\u001b[0m \u001b[38;5;28;01mif\u001b[39;00m kwargs\u001b[38;5;241m.\u001b[39mpop(\u001b[38;5;124m\"\u001b[39m\u001b[38;5;124mreturn_df\u001b[39m\u001b[38;5;124m\"\u001b[39m, \u001b[38;5;28;01mFalse\u001b[39;00m):\n",
      "File \u001b[0;32m/Library/Frameworks/Python.framework/Versions/3.11/lib/python3.11/site-packages/pdstools/plots/plot_base.py:112\u001b[0m, in \u001b[0;36mPlots._subset_data\u001b[0;34m(self, table, required_columns, query, multi_snapshot, last, active_only, include_cols)\u001b[0m\n\u001b[1;32m     80\u001b[0m \u001b[38;5;124;03m\"\"\"Retrieves and subsets the data and performs some assertion checks\u001b[39;00m\n\u001b[1;32m     81\u001b[0m \n\u001b[1;32m     82\u001b[0m \u001b[38;5;124;03mParameters\u001b[39;00m\n\u001b[0;32m   (...)\u001b[0m\n\u001b[1;32m    109\u001b[0m \u001b[38;5;124;03m    The subsetted dataframe\u001b[39;00m\n\u001b[1;32m    110\u001b[0m \u001b[38;5;124;03m\"\"\"\u001b[39;00m\n\u001b[1;32m    111\u001b[0m \u001b[38;5;28;01mif\u001b[39;00m \u001b[38;5;129;01mnot\u001b[39;00m \u001b[38;5;28mhasattr\u001b[39m(\u001b[38;5;28mself\u001b[39m, table) \u001b[38;5;129;01mor\u001b[39;00m \u001b[38;5;28mgetattr\u001b[39m(\u001b[38;5;28mself\u001b[39m, table) \u001b[38;5;129;01mis\u001b[39;00m \u001b[38;5;28;01mNone\u001b[39;00m:\n\u001b[0;32m--> 112\u001b[0m     \u001b[38;5;28;01mraise\u001b[39;00m \u001b[38;5;28mself\u001b[39m\u001b[38;5;241m.\u001b[39mNotApplicableError(\n\u001b[1;32m    113\u001b[0m         \u001b[38;5;124mf\u001b[39m\u001b[38;5;124m\"\u001b[39m\u001b[38;5;124mThis visualisation requires \u001b[39m\u001b[38;5;132;01m{\u001b[39;00mtable\u001b[38;5;132;01m}\u001b[39;00m\u001b[38;5;124m, but that table isn\u001b[39m\u001b[38;5;124m'\u001b[39m\u001b[38;5;124mt in this dataset.\u001b[39m\u001b[38;5;124m\"\u001b[39m\n\u001b[1;32m    114\u001b[0m     )\n\u001b[1;32m    116\u001b[0m df \u001b[38;5;241m=\u001b[39m \u001b[38;5;28mgetattr\u001b[39m(\u001b[38;5;28mself\u001b[39m, table)\n\u001b[1;32m    117\u001b[0m \u001b[38;5;28;01mif\u001b[39;00m table \u001b[38;5;241m!=\u001b[39m \u001b[38;5;124m\"\u001b[39m\u001b[38;5;124mpredictorData\u001b[39m\u001b[38;5;124m\"\u001b[39m:\n",
      "\u001b[0;31mNotApplicableError\u001b[0m: This visualisation requires combinedData, but that table isn't in this dataset."
     ]
    }
   ],
   "source": [
    "data.plotImpactInfluence()"
   ]
  },
  {
   "cell_type": "markdown",
   "metadata": {},
   "source": [
    "## Models By Positives"
   ]
  },
  {
   "cell_type": "code",
   "execution_count": 4,
   "metadata": {
    "execution": {
     "iopub.execute_input": "2023-02-22T12:47:37.490078Z",
     "iopub.status.busy": "2023-02-22T12:47:37.489899Z",
     "iopub.status.idle": "2023-02-22T12:47:37.515106Z",
     "shell.execute_reply": "2023-02-22T12:47:37.514552Z"
    }
   },
   "outputs": [
    {
     "ename": "NotApplicableError",
     "evalue": "This visualisation requires modelData, but that table isn't in this dataset.",
     "output_type": "error",
     "traceback": [
      "\u001b[0;31m---------------------------------------------------------------------------\u001b[0m",
      "\u001b[0;31mNotApplicableError\u001b[0m                        Traceback (most recent call last)",
      "Cell \u001b[0;32mIn [4], line 1\u001b[0m\n\u001b[0;32m----> 1\u001b[0m \u001b[43mdata\u001b[49m\u001b[38;5;241;43m.\u001b[39;49m\u001b[43mplotModelsByPositives\u001b[49m\u001b[43m(\u001b[49m\u001b[43m)\u001b[49m\n",
      "File \u001b[0;32m/Library/Frameworks/Python.framework/Versions/3.11/lib/python3.11/site-packages/pdstools/plots/plot_base.py:989\u001b[0m, in \u001b[0;36mPlots.plotModelsByPositives\u001b[0;34m(self, by, query, **kwargs)\u001b[0m\n\u001b[1;32m    987\u001b[0m last \u001b[38;5;241m=\u001b[39m \u001b[38;5;28;01mTrue\u001b[39;00m\n\u001b[1;32m    988\u001b[0m required_columns \u001b[38;5;241m=\u001b[39m {by, \u001b[38;5;124m\"\u001b[39m\u001b[38;5;124mPositives\u001b[39m\u001b[38;5;124m\"\u001b[39m, \u001b[38;5;124m\"\u001b[39m\u001b[38;5;124mModelID\u001b[39m\u001b[38;5;124m\"\u001b[39m}\n\u001b[0;32m--> 989\u001b[0m df \u001b[38;5;241m=\u001b[39m \u001b[38;5;28;43mself\u001b[39;49m\u001b[38;5;241;43m.\u001b[39;49m\u001b[43m_subset_data\u001b[49m\u001b[43m(\u001b[49m\u001b[43mtable\u001b[49m\u001b[43m,\u001b[49m\u001b[43m \u001b[49m\u001b[43mrequired_columns\u001b[49m\u001b[43m,\u001b[49m\u001b[43m \u001b[49m\u001b[43mquery\u001b[49m\u001b[43m,\u001b[49m\u001b[43m \u001b[49m\u001b[43mlast\u001b[49m\u001b[38;5;241;43m=\u001b[39;49m\u001b[43mlast\u001b[49m\u001b[43m)\u001b[49m\n\u001b[1;32m    990\u001b[0m df \u001b[38;5;241m=\u001b[39m \u001b[38;5;28mself\u001b[39m\u001b[38;5;241m.\u001b[39mmodels_by_positives_df(df, by\u001b[38;5;241m=\u001b[39mby)\n\u001b[1;32m    991\u001b[0m \u001b[38;5;28;01mif\u001b[39;00m kwargs\u001b[38;5;241m.\u001b[39mpop(\u001b[38;5;124m\"\u001b[39m\u001b[38;5;124mreturn_df\u001b[39m\u001b[38;5;124m\"\u001b[39m, \u001b[38;5;28;01mFalse\u001b[39;00m):\n",
      "File \u001b[0;32m/Library/Frameworks/Python.framework/Versions/3.11/lib/python3.11/site-packages/pdstools/plots/plot_base.py:112\u001b[0m, in \u001b[0;36mPlots._subset_data\u001b[0;34m(self, table, required_columns, query, multi_snapshot, last, active_only, include_cols)\u001b[0m\n\u001b[1;32m     80\u001b[0m \u001b[38;5;124;03m\"\"\"Retrieves and subsets the data and performs some assertion checks\u001b[39;00m\n\u001b[1;32m     81\u001b[0m \n\u001b[1;32m     82\u001b[0m \u001b[38;5;124;03mParameters\u001b[39;00m\n\u001b[0;32m   (...)\u001b[0m\n\u001b[1;32m    109\u001b[0m \u001b[38;5;124;03m    The subsetted dataframe\u001b[39;00m\n\u001b[1;32m    110\u001b[0m \u001b[38;5;124;03m\"\"\"\u001b[39;00m\n\u001b[1;32m    111\u001b[0m \u001b[38;5;28;01mif\u001b[39;00m \u001b[38;5;129;01mnot\u001b[39;00m \u001b[38;5;28mhasattr\u001b[39m(\u001b[38;5;28mself\u001b[39m, table) \u001b[38;5;129;01mor\u001b[39;00m \u001b[38;5;28mgetattr\u001b[39m(\u001b[38;5;28mself\u001b[39m, table) \u001b[38;5;129;01mis\u001b[39;00m \u001b[38;5;28;01mNone\u001b[39;00m:\n\u001b[0;32m--> 112\u001b[0m     \u001b[38;5;28;01mraise\u001b[39;00m \u001b[38;5;28mself\u001b[39m\u001b[38;5;241m.\u001b[39mNotApplicableError(\n\u001b[1;32m    113\u001b[0m         \u001b[38;5;124mf\u001b[39m\u001b[38;5;124m\"\u001b[39m\u001b[38;5;124mThis visualisation requires \u001b[39m\u001b[38;5;132;01m{\u001b[39;00mtable\u001b[38;5;132;01m}\u001b[39;00m\u001b[38;5;124m, but that table isn\u001b[39m\u001b[38;5;124m'\u001b[39m\u001b[38;5;124mt in this dataset.\u001b[39m\u001b[38;5;124m\"\u001b[39m\n\u001b[1;32m    114\u001b[0m     )\n\u001b[1;32m    116\u001b[0m df \u001b[38;5;241m=\u001b[39m \u001b[38;5;28mgetattr\u001b[39m(\u001b[38;5;28mself\u001b[39m, table)\n\u001b[1;32m    117\u001b[0m \u001b[38;5;28;01mif\u001b[39;00m table \u001b[38;5;241m!=\u001b[39m \u001b[38;5;124m\"\u001b[39m\u001b[38;5;124mpredictorData\u001b[39m\u001b[38;5;124m\"\u001b[39m:\n",
      "\u001b[0;31mNotApplicableError\u001b[0m: This visualisation requires modelData, but that table isn't in this dataset."
     ]
    }
   ],
   "source": [
    "data.plotModelsByPositives()"
   ]
  },
  {
   "cell_type": "markdown",
   "metadata": {},
   "source": [
    "## Over Time"
   ]
  },
  {
   "cell_type": "code",
   "execution_count": 5,
   "metadata": {
    "execution": {
     "iopub.execute_input": "2023-02-22T12:47:37.517840Z",
     "iopub.status.busy": "2023-02-22T12:47:37.517629Z",
     "iopub.status.idle": "2023-02-22T12:47:37.540370Z",
     "shell.execute_reply": "2023-02-22T12:47:37.539864Z"
    }
   },
   "outputs": [
    {
     "ename": "NotApplicableError",
     "evalue": "This visualisation requires modelData, but that table isn't in this dataset.",
     "output_type": "error",
     "traceback": [
      "\u001b[0;31m---------------------------------------------------------------------------\u001b[0m",
      "\u001b[0;31mNotApplicableError\u001b[0m                        Traceback (most recent call last)",
      "Cell \u001b[0;32mIn [5], line 1\u001b[0m\n\u001b[0;32m----> 1\u001b[0m \u001b[43mdata\u001b[49m\u001b[38;5;241;43m.\u001b[39;49m\u001b[43mplotOverTime\u001b[49m\u001b[43m(\u001b[49m\u001b[43mquery\u001b[49m\u001b[38;5;241;43m=\u001b[39;49m\u001b[38;5;124;43m\"\u001b[39;49m\u001b[38;5;124;43mChannel==\u001b[39;49m\u001b[38;5;124;43m'\u001b[39;49m\u001b[38;5;124;43mWeb\u001b[39;49m\u001b[38;5;124;43m'\u001b[39;49m\u001b[38;5;124;43m\"\u001b[39;49m\u001b[43m,\u001b[49m\u001b[43m \u001b[49m\u001b[43mby\u001b[49m\u001b[38;5;241;43m=\u001b[39;49m\u001b[38;5;124;43m'\u001b[39;49m\u001b[38;5;124;43mModelName\u001b[39;49m\u001b[38;5;124;43m'\u001b[39;49m\u001b[43m)\u001b[49m\n",
      "File \u001b[0;32m/Library/Frameworks/Python.framework/Versions/3.11/lib/python3.11/site-packages/pdstools/plots/plot_base.py:339\u001b[0m, in \u001b[0;36mPlots.plotOverTime\u001b[0;34m(self, metric, by, query, facets, **kwargs)\u001b[0m\n\u001b[1;32m    329\u001b[0m multi_snapshot \u001b[38;5;241m=\u001b[39m \u001b[38;5;28;01mTrue\u001b[39;00m\n\u001b[1;32m    330\u001b[0m required_columns \u001b[38;5;241m=\u001b[39m {\n\u001b[1;32m    331\u001b[0m     \u001b[38;5;124m\"\u001b[39m\u001b[38;5;124mModelID\u001b[39m\u001b[38;5;124m\"\u001b[39m,\n\u001b[1;32m    332\u001b[0m     \u001b[38;5;124m\"\u001b[39m\u001b[38;5;124mModelName\u001b[39m\u001b[38;5;124m\"\u001b[39m,\n\u001b[0;32m   (...)\u001b[0m\n\u001b[1;32m    337\u001b[0m     \u001b[38;5;124m\"\u001b[39m\u001b[38;5;124mPositives\u001b[39m\u001b[38;5;124m\"\u001b[39m,\n\u001b[1;32m    338\u001b[0m }\n\u001b[0;32m--> 339\u001b[0m df \u001b[38;5;241m=\u001b[39m \u001b[38;5;28;43mself\u001b[39;49m\u001b[38;5;241;43m.\u001b[39;49m\u001b[43m_subset_data\u001b[49m\u001b[43m(\u001b[49m\n\u001b[1;32m    340\u001b[0m \u001b[43m    \u001b[49m\u001b[43mtable\u001b[49m\u001b[43m,\u001b[49m\n\u001b[1;32m    341\u001b[0m \u001b[43m    \u001b[49m\u001b[43mrequired_columns\u001b[49m\u001b[43m,\u001b[49m\n\u001b[1;32m    342\u001b[0m \u001b[43m    \u001b[49m\u001b[43mquery\u001b[49m\u001b[43m,\u001b[49m\n\u001b[1;32m    343\u001b[0m \u001b[43m    \u001b[49m\u001b[43mmulti_snapshot\u001b[49m\u001b[38;5;241;43m=\u001b[39;49m\u001b[43mmulti_snapshot\u001b[49m\u001b[43m,\u001b[49m\n\u001b[1;32m    344\u001b[0m \u001b[43m    \u001b[49m\u001b[43minclude_cols\u001b[49m\u001b[38;5;241;43m=\u001b[39;49m\u001b[43m[\u001b[49m\u001b[43mby\u001b[49m\u001b[43m]\u001b[49m\u001b[43m,\u001b[49m\n\u001b[1;32m    345\u001b[0m \u001b[43m\u001b[49m\u001b[43m)\u001b[49m\n\u001b[1;32m    347\u001b[0m \u001b[38;5;28;01mif\u001b[39;00m kwargs\u001b[38;5;241m.\u001b[39mpop(\u001b[38;5;124m\"\u001b[39m\u001b[38;5;124mreturn_df\u001b[39m\u001b[38;5;124m\"\u001b[39m, \u001b[38;5;28;01mFalse\u001b[39;00m):\n\u001b[1;32m    348\u001b[0m     \u001b[38;5;28;01mreturn\u001b[39;00m df\n",
      "File \u001b[0;32m/Library/Frameworks/Python.framework/Versions/3.11/lib/python3.11/site-packages/pdstools/plots/plot_base.py:112\u001b[0m, in \u001b[0;36mPlots._subset_data\u001b[0;34m(self, table, required_columns, query, multi_snapshot, last, active_only, include_cols)\u001b[0m\n\u001b[1;32m     80\u001b[0m \u001b[38;5;124;03m\"\"\"Retrieves and subsets the data and performs some assertion checks\u001b[39;00m\n\u001b[1;32m     81\u001b[0m \n\u001b[1;32m     82\u001b[0m \u001b[38;5;124;03mParameters\u001b[39;00m\n\u001b[0;32m   (...)\u001b[0m\n\u001b[1;32m    109\u001b[0m \u001b[38;5;124;03m    The subsetted dataframe\u001b[39;00m\n\u001b[1;32m    110\u001b[0m \u001b[38;5;124;03m\"\"\"\u001b[39;00m\n\u001b[1;32m    111\u001b[0m \u001b[38;5;28;01mif\u001b[39;00m \u001b[38;5;129;01mnot\u001b[39;00m \u001b[38;5;28mhasattr\u001b[39m(\u001b[38;5;28mself\u001b[39m, table) \u001b[38;5;129;01mor\u001b[39;00m \u001b[38;5;28mgetattr\u001b[39m(\u001b[38;5;28mself\u001b[39m, table) \u001b[38;5;129;01mis\u001b[39;00m \u001b[38;5;28;01mNone\u001b[39;00m:\n\u001b[0;32m--> 112\u001b[0m     \u001b[38;5;28;01mraise\u001b[39;00m \u001b[38;5;28mself\u001b[39m\u001b[38;5;241m.\u001b[39mNotApplicableError(\n\u001b[1;32m    113\u001b[0m         \u001b[38;5;124mf\u001b[39m\u001b[38;5;124m\"\u001b[39m\u001b[38;5;124mThis visualisation requires \u001b[39m\u001b[38;5;132;01m{\u001b[39;00mtable\u001b[38;5;132;01m}\u001b[39;00m\u001b[38;5;124m, but that table isn\u001b[39m\u001b[38;5;124m'\u001b[39m\u001b[38;5;124mt in this dataset.\u001b[39m\u001b[38;5;124m\"\u001b[39m\n\u001b[1;32m    114\u001b[0m     )\n\u001b[1;32m    116\u001b[0m df \u001b[38;5;241m=\u001b[39m \u001b[38;5;28mgetattr\u001b[39m(\u001b[38;5;28mself\u001b[39m, table)\n\u001b[1;32m    117\u001b[0m \u001b[38;5;28;01mif\u001b[39;00m table \u001b[38;5;241m!=\u001b[39m \u001b[38;5;124m\"\u001b[39m\u001b[38;5;124mpredictorData\u001b[39m\u001b[38;5;124m\"\u001b[39m:\n",
      "\u001b[0;31mNotApplicableError\u001b[0m: This visualisation requires modelData, but that table isn't in this dataset."
     ]
    }
   ],
   "source": [
    "data.plotOverTime(query=\"Channel=='Web'\", by='ModelName')"
   ]
  },
  {
   "cell_type": "markdown",
   "metadata": {},
   "source": [
    "## Performance Success Rate Bubble Chart"
   ]
  },
  {
   "cell_type": "code",
   "execution_count": 6,
   "metadata": {
    "execution": {
     "iopub.execute_input": "2023-02-22T12:47:37.543081Z",
     "iopub.status.busy": "2023-02-22T12:47:37.542882Z",
     "iopub.status.idle": "2023-02-22T12:47:37.570277Z",
     "shell.execute_reply": "2023-02-22T12:47:37.569776Z"
    }
   },
   "outputs": [
    {
     "ename": "NotApplicableError",
     "evalue": "This visualisation requires modelData, but that table isn't in this dataset.",
     "output_type": "error",
     "traceback": [
      "\u001b[0;31m---------------------------------------------------------------------------\u001b[0m",
      "\u001b[0;31mNotApplicableError\u001b[0m                        Traceback (most recent call last)",
      "Cell \u001b[0;32mIn [6], line 1\u001b[0m\n\u001b[0;32m----> 1\u001b[0m \u001b[43mdata\u001b[49m\u001b[38;5;241;43m.\u001b[39;49m\u001b[43mplotPerformanceSuccessRateBubbleChart\u001b[49m\u001b[43m(\u001b[49m\u001b[43m)\u001b[49m\n",
      "File \u001b[0;32m/Library/Frameworks/Python.framework/Versions/3.11/lib/python3.11/site-packages/pdstools/plots/plot_base.py:201\u001b[0m, in \u001b[0;36mPlots.plotPerformanceSuccessRateBubbleChart\u001b[0;34m(self, last, add_bottom_left_text, query, facets, **kwargs)\u001b[0m\n\u001b[1;32m    192\u001b[0m table \u001b[38;5;241m=\u001b[39m \u001b[38;5;124m\"\u001b[39m\u001b[38;5;124mmodelData\u001b[39m\u001b[38;5;124m\"\u001b[39m\n\u001b[1;32m    193\u001b[0m required_columns \u001b[38;5;241m=\u001b[39m {\n\u001b[1;32m    194\u001b[0m     \u001b[38;5;124m\"\u001b[39m\u001b[38;5;124mModelID\u001b[39m\u001b[38;5;124m\"\u001b[39m,\n\u001b[1;32m    195\u001b[0m     \u001b[38;5;124m\"\u001b[39m\u001b[38;5;124mPerformance\u001b[39m\u001b[38;5;124m\"\u001b[39m,\n\u001b[0;32m   (...)\u001b[0m\n\u001b[1;32m    198\u001b[0m     \u001b[38;5;124m\"\u001b[39m\u001b[38;5;124mModelName\u001b[39m\u001b[38;5;124m\"\u001b[39m,\n\u001b[1;32m    199\u001b[0m }\n\u001b[0;32m--> 201\u001b[0m df \u001b[38;5;241m=\u001b[39m \u001b[38;5;28;43mself\u001b[39;49m\u001b[38;5;241;43m.\u001b[39;49m\u001b[43m_subset_data\u001b[49m\u001b[43m(\u001b[49m\n\u001b[1;32m    202\u001b[0m \u001b[43m    \u001b[49m\u001b[43mtable\u001b[49m\u001b[38;5;241;43m=\u001b[39;49m\u001b[43mtable\u001b[49m\u001b[43m,\u001b[49m\u001b[43m \u001b[49m\u001b[43mrequired_columns\u001b[49m\u001b[38;5;241;43m=\u001b[39;49m\u001b[43mrequired_columns\u001b[49m\u001b[43m,\u001b[49m\u001b[43m \u001b[49m\u001b[43mquery\u001b[49m\u001b[38;5;241;43m=\u001b[39;49m\u001b[43mquery\u001b[49m\u001b[43m,\u001b[49m\u001b[43m \u001b[49m\u001b[43mlast\u001b[49m\u001b[38;5;241;43m=\u001b[39;49m\u001b[43mlast\u001b[49m\n\u001b[1;32m    203\u001b[0m \u001b[43m\u001b[49m\u001b[43m)\u001b[49m\n\u001b[1;32m    204\u001b[0m df[[\u001b[38;5;124m\"\u001b[39m\u001b[38;5;124mPerformance\u001b[39m\u001b[38;5;124m\"\u001b[39m, \u001b[38;5;124m\"\u001b[39m\u001b[38;5;124mSuccessRate\u001b[39m\u001b[38;5;124m\"\u001b[39m]] \u001b[38;5;241m=\u001b[39m df[[\u001b[38;5;124m\"\u001b[39m\u001b[38;5;124mPerformance\u001b[39m\u001b[38;5;124m\"\u001b[39m, \u001b[38;5;124m\"\u001b[39m\u001b[38;5;124mSuccessRate\u001b[39m\u001b[38;5;124m\"\u001b[39m]]\u001b[38;5;241m.\u001b[39mapply(\n\u001b[1;32m    205\u001b[0m     \u001b[38;5;28;01mlambda\u001b[39;00m x: \u001b[38;5;28mround\u001b[39m(x \u001b[38;5;241m*\u001b[39m \u001b[38;5;241m100\u001b[39m, kwargs\u001b[38;5;241m.\u001b[39mpop(\u001b[38;5;124m\"\u001b[39m\u001b[38;5;124mround\u001b[39m\u001b[38;5;124m\"\u001b[39m, \u001b[38;5;241m5\u001b[39m))\n\u001b[1;32m    206\u001b[0m )  \u001b[38;5;66;03m# fix to use .loc\u001b[39;00m\n\u001b[1;32m    208\u001b[0m \u001b[38;5;28;01mif\u001b[39;00m kwargs\u001b[38;5;241m.\u001b[39mpop(\u001b[38;5;124m\"\u001b[39m\u001b[38;5;124mreturn_df\u001b[39m\u001b[38;5;124m\"\u001b[39m, \u001b[38;5;28;01mFalse\u001b[39;00m):\n",
      "File \u001b[0;32m/Library/Frameworks/Python.framework/Versions/3.11/lib/python3.11/site-packages/pdstools/plots/plot_base.py:112\u001b[0m, in \u001b[0;36mPlots._subset_data\u001b[0;34m(self, table, required_columns, query, multi_snapshot, last, active_only, include_cols)\u001b[0m\n\u001b[1;32m     80\u001b[0m \u001b[38;5;124;03m\"\"\"Retrieves and subsets the data and performs some assertion checks\u001b[39;00m\n\u001b[1;32m     81\u001b[0m \n\u001b[1;32m     82\u001b[0m \u001b[38;5;124;03mParameters\u001b[39;00m\n\u001b[0;32m   (...)\u001b[0m\n\u001b[1;32m    109\u001b[0m \u001b[38;5;124;03m    The subsetted dataframe\u001b[39;00m\n\u001b[1;32m    110\u001b[0m \u001b[38;5;124;03m\"\"\"\u001b[39;00m\n\u001b[1;32m    111\u001b[0m \u001b[38;5;28;01mif\u001b[39;00m \u001b[38;5;129;01mnot\u001b[39;00m \u001b[38;5;28mhasattr\u001b[39m(\u001b[38;5;28mself\u001b[39m, table) \u001b[38;5;129;01mor\u001b[39;00m \u001b[38;5;28mgetattr\u001b[39m(\u001b[38;5;28mself\u001b[39m, table) \u001b[38;5;129;01mis\u001b[39;00m \u001b[38;5;28;01mNone\u001b[39;00m:\n\u001b[0;32m--> 112\u001b[0m     \u001b[38;5;28;01mraise\u001b[39;00m \u001b[38;5;28mself\u001b[39m\u001b[38;5;241m.\u001b[39mNotApplicableError(\n\u001b[1;32m    113\u001b[0m         \u001b[38;5;124mf\u001b[39m\u001b[38;5;124m\"\u001b[39m\u001b[38;5;124mThis visualisation requires \u001b[39m\u001b[38;5;132;01m{\u001b[39;00mtable\u001b[38;5;132;01m}\u001b[39;00m\u001b[38;5;124m, but that table isn\u001b[39m\u001b[38;5;124m'\u001b[39m\u001b[38;5;124mt in this dataset.\u001b[39m\u001b[38;5;124m\"\u001b[39m\n\u001b[1;32m    114\u001b[0m     )\n\u001b[1;32m    116\u001b[0m df \u001b[38;5;241m=\u001b[39m \u001b[38;5;28mgetattr\u001b[39m(\u001b[38;5;28mself\u001b[39m, table)\n\u001b[1;32m    117\u001b[0m \u001b[38;5;28;01mif\u001b[39;00m table \u001b[38;5;241m!=\u001b[39m \u001b[38;5;124m\"\u001b[39m\u001b[38;5;124mpredictorData\u001b[39m\u001b[38;5;124m\"\u001b[39m:\n",
      "\u001b[0;31mNotApplicableError\u001b[0m: This visualisation requires modelData, but that table isn't in this dataset."
     ]
    }
   ],
   "source": [
    "data.plotPerformanceSuccessRateBubbleChart()"
   ]
  },
  {
   "cell_type": "markdown",
   "metadata": {},
   "source": [
    "## Performance And Success Rate Over Time"
   ]
  },
  {
   "cell_type": "code",
   "execution_count": 7,
   "metadata": {
    "execution": {
     "iopub.execute_input": "2023-02-22T12:47:37.572813Z",
     "iopub.status.busy": "2023-02-22T12:47:37.572611Z",
     "iopub.status.idle": "2023-02-22T12:47:37.595222Z",
     "shell.execute_reply": "2023-02-22T12:47:37.594619Z"
    }
   },
   "outputs": [
    {
     "name": "stdout",
     "output_type": "stream",
     "text": [
      "Plot is only available in matplotlib.\n"
     ]
    },
    {
     "ename": "NotApplicableError",
     "evalue": "This visualisation requires modelData, but that table isn't in this dataset.",
     "output_type": "error",
     "traceback": [
      "\u001b[0;31m---------------------------------------------------------------------------\u001b[0m",
      "\u001b[0;31mNotApplicableError\u001b[0m                        Traceback (most recent call last)",
      "Cell \u001b[0;32mIn [7], line 1\u001b[0m\n\u001b[0;32m----> 1\u001b[0m \u001b[43mdata\u001b[49m\u001b[38;5;241;43m.\u001b[39;49m\u001b[43mplotPerformanceAndSuccessRateOverTime\u001b[49m\u001b[43m(\u001b[49m\u001b[43mquery\u001b[49m\u001b[38;5;241;43m=\u001b[39;49m\u001b[38;5;124;43m'\u001b[39;49m\u001b[38;5;124;43mChannel==\u001b[39;49m\u001b[38;5;124;43m\"\u001b[39;49m\u001b[38;5;124;43mWeb\u001b[39;49m\u001b[38;5;124;43m\"\u001b[39;49m\u001b[38;5;124;43m'\u001b[39;49m\u001b[43m)\u001b[49m\n",
      "File \u001b[0;32m/Library/Frameworks/Python.framework/Versions/3.11/lib/python3.11/site-packages/pdstools/plots/plot_base.py:268\u001b[0m, in \u001b[0;36mPlots.plotPerformanceAndSuccessRateOverTime\u001b[0;34m(self, day_interval, query, **kwargs)\u001b[0m\n\u001b[1;32m    259\u001b[0m multi_snapshot \u001b[38;5;241m=\u001b[39m \u001b[38;5;28;01mTrue\u001b[39;00m\n\u001b[1;32m    260\u001b[0m required_columns \u001b[38;5;241m=\u001b[39m {\n\u001b[1;32m    261\u001b[0m     \u001b[38;5;124m\"\u001b[39m\u001b[38;5;124mModelID\u001b[39m\u001b[38;5;124m\"\u001b[39m,\n\u001b[1;32m    262\u001b[0m     \u001b[38;5;124m\"\u001b[39m\u001b[38;5;124mModelName\u001b[39m\u001b[38;5;124m\"\u001b[39m,\n\u001b[0;32m   (...)\u001b[0m\n\u001b[1;32m    266\u001b[0m     \u001b[38;5;124m\"\u001b[39m\u001b[38;5;124mSuccessRate\u001b[39m\u001b[38;5;124m\"\u001b[39m,\n\u001b[1;32m    267\u001b[0m }\n\u001b[0;32m--> 268\u001b[0m df \u001b[38;5;241m=\u001b[39m \u001b[38;5;28;43mself\u001b[39;49m\u001b[38;5;241;43m.\u001b[39;49m\u001b[43m_subset_data\u001b[49m\u001b[43m(\u001b[49m\n\u001b[1;32m    269\u001b[0m \u001b[43m    \u001b[49m\u001b[43mtable\u001b[49m\u001b[43m,\u001b[49m\u001b[43m \u001b[49m\u001b[43mrequired_columns\u001b[49m\u001b[43m,\u001b[49m\u001b[43m \u001b[49m\u001b[43mquery\u001b[49m\u001b[43m,\u001b[49m\u001b[43m \u001b[49m\u001b[43mmulti_snapshot\u001b[49m\u001b[38;5;241;43m=\u001b[39;49m\u001b[43mmulti_snapshot\u001b[49m\n\u001b[1;32m    270\u001b[0m \u001b[43m\u001b[49m\u001b[43m)\u001b[49m\n\u001b[1;32m    271\u001b[0m \u001b[38;5;28;01mif\u001b[39;00m kwargs\u001b[38;5;241m.\u001b[39mpop(\u001b[38;5;124m\"\u001b[39m\u001b[38;5;124mreturn_df\u001b[39m\u001b[38;5;124m\"\u001b[39m, \u001b[38;5;28;01mFalse\u001b[39;00m):\n\u001b[1;32m    272\u001b[0m     \u001b[38;5;28;01mreturn\u001b[39;00m df\n",
      "File \u001b[0;32m/Library/Frameworks/Python.framework/Versions/3.11/lib/python3.11/site-packages/pdstools/plots/plot_base.py:112\u001b[0m, in \u001b[0;36mPlots._subset_data\u001b[0;34m(self, table, required_columns, query, multi_snapshot, last, active_only, include_cols)\u001b[0m\n\u001b[1;32m     80\u001b[0m \u001b[38;5;124;03m\"\"\"Retrieves and subsets the data and performs some assertion checks\u001b[39;00m\n\u001b[1;32m     81\u001b[0m \n\u001b[1;32m     82\u001b[0m \u001b[38;5;124;03mParameters\u001b[39;00m\n\u001b[0;32m   (...)\u001b[0m\n\u001b[1;32m    109\u001b[0m \u001b[38;5;124;03m    The subsetted dataframe\u001b[39;00m\n\u001b[1;32m    110\u001b[0m \u001b[38;5;124;03m\"\"\"\u001b[39;00m\n\u001b[1;32m    111\u001b[0m \u001b[38;5;28;01mif\u001b[39;00m \u001b[38;5;129;01mnot\u001b[39;00m \u001b[38;5;28mhasattr\u001b[39m(\u001b[38;5;28mself\u001b[39m, table) \u001b[38;5;129;01mor\u001b[39;00m \u001b[38;5;28mgetattr\u001b[39m(\u001b[38;5;28mself\u001b[39m, table) \u001b[38;5;129;01mis\u001b[39;00m \u001b[38;5;28;01mNone\u001b[39;00m:\n\u001b[0;32m--> 112\u001b[0m     \u001b[38;5;28;01mraise\u001b[39;00m \u001b[38;5;28mself\u001b[39m\u001b[38;5;241m.\u001b[39mNotApplicableError(\n\u001b[1;32m    113\u001b[0m         \u001b[38;5;124mf\u001b[39m\u001b[38;5;124m\"\u001b[39m\u001b[38;5;124mThis visualisation requires \u001b[39m\u001b[38;5;132;01m{\u001b[39;00mtable\u001b[38;5;132;01m}\u001b[39;00m\u001b[38;5;124m, but that table isn\u001b[39m\u001b[38;5;124m'\u001b[39m\u001b[38;5;124mt in this dataset.\u001b[39m\u001b[38;5;124m\"\u001b[39m\n\u001b[1;32m    114\u001b[0m     )\n\u001b[1;32m    116\u001b[0m df \u001b[38;5;241m=\u001b[39m \u001b[38;5;28mgetattr\u001b[39m(\u001b[38;5;28mself\u001b[39m, table)\n\u001b[1;32m    117\u001b[0m \u001b[38;5;28;01mif\u001b[39;00m table \u001b[38;5;241m!=\u001b[39m \u001b[38;5;124m\"\u001b[39m\u001b[38;5;124mpredictorData\u001b[39m\u001b[38;5;124m\"\u001b[39m:\n",
      "\u001b[0;31mNotApplicableError\u001b[0m: This visualisation requires modelData, but that table isn't in this dataset."
     ]
    }
   ],
   "source": [
    "data.plotPerformanceAndSuccessRateOverTime(query='Channel==\"Web\"')"
   ]
  },
  {
   "cell_type": "markdown",
   "metadata": {},
   "source": [
    "## Predictor Binning"
   ]
  },
  {
   "cell_type": "code",
   "execution_count": 8,
   "metadata": {
    "execution": {
     "iopub.execute_input": "2023-02-22T12:47:37.598188Z",
     "iopub.status.busy": "2023-02-22T12:47:37.598006Z",
     "iopub.status.idle": "2023-02-22T12:47:37.625531Z",
     "shell.execute_reply": "2023-02-22T12:47:37.625003Z"
    }
   },
   "outputs": [
    {
     "ename": "NotApplicableError",
     "evalue": "This visualisation requires combinedData, but that table isn't in this dataset.",
     "output_type": "error",
     "traceback": [
      "\u001b[0;31m---------------------------------------------------------------------------\u001b[0m",
      "\u001b[0;31mNotApplicableError\u001b[0m                        Traceback (most recent call last)",
      "Cell \u001b[0;32mIn [8], line 1\u001b[0m\n\u001b[0;32m----> 1\u001b[0m \u001b[43mdata\u001b[49m\u001b[38;5;241;43m.\u001b[39;49m\u001b[43mplotPredictorBinning\u001b[49m\u001b[43m(\u001b[49m\u001b[43mquery\u001b[49m\u001b[38;5;241;43m=\u001b[39;49m\u001b[38;5;124;43mf\u001b[39;49m\u001b[38;5;124;43m'\u001b[39;49m\u001b[38;5;124;43mModelID == \u001b[39;49m\u001b[38;5;124;43m\"\u001b[39;49m\u001b[38;5;124;43m08ca1302-9fc0-57bf-9031-d4179d400493\u001b[39;49m\u001b[38;5;124;43m\"\u001b[39;49m\u001b[38;5;124;43m and PredictorName in \u001b[39;49m\u001b[38;5;132;43;01m{\u001b[39;49;00m\u001b[43m[\u001b[49m\u001b[38;5;124;43m\"\u001b[39;49m\u001b[38;5;124;43mCustomer.Age\u001b[39;49m\u001b[38;5;124;43m\"\u001b[39;49m\u001b[43m,\u001b[49m\u001b[43m \u001b[49m\u001b[38;5;124;43m\"\u001b[39;49m\u001b[38;5;124;43mCustomer.AnnualIncome\u001b[39;49m\u001b[38;5;124;43m\"\u001b[39;49m\u001b[43m,\u001b[49m\u001b[43m \u001b[49m\u001b[38;5;124;43m\"\u001b[39;49m\u001b[38;5;124;43mIH.Email.Outbound.Accepted.pxLastGroupID\u001b[39;49m\u001b[38;5;124;43m\"\u001b[39;49m\u001b[43m]\u001b[49m\u001b[38;5;132;43;01m}\u001b[39;49;00m\u001b[38;5;124;43m'\u001b[39;49m\u001b[43m)\u001b[49m;\n",
      "File \u001b[0;32m/Library/Frameworks/Python.framework/Versions/3.11/lib/python3.11/site-packages/pdstools/plots/plot_base.py:637\u001b[0m, in \u001b[0;36mPlots.plotPredictorBinning\u001b[0;34m(self, predictors, modelids, query, **kwargs)\u001b[0m\n\u001b[1;32m    627\u001b[0m last \u001b[38;5;241m=\u001b[39m \u001b[38;5;28;01mTrue\u001b[39;00m\n\u001b[1;32m    628\u001b[0m required_columns \u001b[38;5;241m=\u001b[39m {\n\u001b[1;32m    629\u001b[0m     \u001b[38;5;124m\"\u001b[39m\u001b[38;5;124mPredictorName\u001b[39m\u001b[38;5;124m\"\u001b[39m,\n\u001b[1;32m    630\u001b[0m     \u001b[38;5;124m\"\u001b[39m\u001b[38;5;124mModelName\u001b[39m\u001b[38;5;124m\"\u001b[39m,\n\u001b[0;32m   (...)\u001b[0m\n\u001b[1;32m    635\u001b[0m     \u001b[38;5;124m\"\u001b[39m\u001b[38;5;124mModelID\u001b[39m\u001b[38;5;124m\"\u001b[39m,\n\u001b[1;32m    636\u001b[0m }\n\u001b[0;32m--> 637\u001b[0m df \u001b[38;5;241m=\u001b[39m \u001b[38;5;28;43mself\u001b[39;49m\u001b[38;5;241;43m.\u001b[39;49m\u001b[43m_subset_data\u001b[49m\u001b[43m(\u001b[49m\u001b[43mtable\u001b[49m\u001b[43m,\u001b[49m\u001b[43m \u001b[49m\u001b[43mrequired_columns\u001b[49m\u001b[43m,\u001b[49m\u001b[43m \u001b[49m\u001b[43mquery\u001b[49m\u001b[43m,\u001b[49m\u001b[43m \u001b[49m\u001b[43mlast\u001b[49m\u001b[38;5;241;43m=\u001b[39;49m\u001b[43mlast\u001b[49m\u001b[43m)\u001b[49m\n\u001b[1;32m    638\u001b[0m df \u001b[38;5;241m=\u001b[39m df\u001b[38;5;241m.\u001b[39mquery(\u001b[38;5;124m\"\u001b[39m\u001b[38;5;124mPredictorName != \u001b[39m\u001b[38;5;124m'\u001b[39m\u001b[38;5;124mClassifier\u001b[39m\u001b[38;5;124m'\u001b[39m\u001b[38;5;124m\"\u001b[39m)\n\u001b[1;32m    639\u001b[0m \u001b[38;5;28;01mif\u001b[39;00m modelids \u001b[38;5;129;01mis\u001b[39;00m \u001b[38;5;129;01mnot\u001b[39;00m \u001b[38;5;28;01mNone\u001b[39;00m:\n",
      "File \u001b[0;32m/Library/Frameworks/Python.framework/Versions/3.11/lib/python3.11/site-packages/pdstools/plots/plot_base.py:112\u001b[0m, in \u001b[0;36mPlots._subset_data\u001b[0;34m(self, table, required_columns, query, multi_snapshot, last, active_only, include_cols)\u001b[0m\n\u001b[1;32m     80\u001b[0m \u001b[38;5;124;03m\"\"\"Retrieves and subsets the data and performs some assertion checks\u001b[39;00m\n\u001b[1;32m     81\u001b[0m \n\u001b[1;32m     82\u001b[0m \u001b[38;5;124;03mParameters\u001b[39;00m\n\u001b[0;32m   (...)\u001b[0m\n\u001b[1;32m    109\u001b[0m \u001b[38;5;124;03m    The subsetted dataframe\u001b[39;00m\n\u001b[1;32m    110\u001b[0m \u001b[38;5;124;03m\"\"\"\u001b[39;00m\n\u001b[1;32m    111\u001b[0m \u001b[38;5;28;01mif\u001b[39;00m \u001b[38;5;129;01mnot\u001b[39;00m \u001b[38;5;28mhasattr\u001b[39m(\u001b[38;5;28mself\u001b[39m, table) \u001b[38;5;129;01mor\u001b[39;00m \u001b[38;5;28mgetattr\u001b[39m(\u001b[38;5;28mself\u001b[39m, table) \u001b[38;5;129;01mis\u001b[39;00m \u001b[38;5;28;01mNone\u001b[39;00m:\n\u001b[0;32m--> 112\u001b[0m     \u001b[38;5;28;01mraise\u001b[39;00m \u001b[38;5;28mself\u001b[39m\u001b[38;5;241m.\u001b[39mNotApplicableError(\n\u001b[1;32m    113\u001b[0m         \u001b[38;5;124mf\u001b[39m\u001b[38;5;124m\"\u001b[39m\u001b[38;5;124mThis visualisation requires \u001b[39m\u001b[38;5;132;01m{\u001b[39;00mtable\u001b[38;5;132;01m}\u001b[39;00m\u001b[38;5;124m, but that table isn\u001b[39m\u001b[38;5;124m'\u001b[39m\u001b[38;5;124mt in this dataset.\u001b[39m\u001b[38;5;124m\"\u001b[39m\n\u001b[1;32m    114\u001b[0m     )\n\u001b[1;32m    116\u001b[0m df \u001b[38;5;241m=\u001b[39m \u001b[38;5;28mgetattr\u001b[39m(\u001b[38;5;28mself\u001b[39m, table)\n\u001b[1;32m    117\u001b[0m \u001b[38;5;28;01mif\u001b[39;00m table \u001b[38;5;241m!=\u001b[39m \u001b[38;5;124m\"\u001b[39m\u001b[38;5;124mpredictorData\u001b[39m\u001b[38;5;124m\"\u001b[39m:\n",
      "\u001b[0;31mNotApplicableError\u001b[0m: This visualisation requires combinedData, but that table isn't in this dataset."
     ]
    }
   ],
   "source": [
    "data.plotPredictorBinning(query=f'ModelID == \"08ca1302-9fc0-57bf-9031-d4179d400493\" and PredictorName in {[\"Customer.Age\", \"Customer.AnnualIncome\", \"IH.Email.Outbound.Accepted.pxLastGroupID\"]}');"
   ]
  },
  {
   "cell_type": "markdown",
   "metadata": {},
   "source": [
    "## Predictor Performance"
   ]
  },
  {
   "cell_type": "code",
   "execution_count": 9,
   "metadata": {
    "execution": {
     "iopub.execute_input": "2023-02-22T12:47:37.628110Z",
     "iopub.status.busy": "2023-02-22T12:47:37.627950Z",
     "iopub.status.idle": "2023-02-22T12:47:37.652358Z",
     "shell.execute_reply": "2023-02-22T12:47:37.651288Z"
    }
   },
   "outputs": [
    {
     "ename": "NotApplicableError",
     "evalue": "This visualisation requires combinedData, but that table isn't in this dataset.",
     "output_type": "error",
     "traceback": [
      "\u001b[0;31m---------------------------------------------------------------------------\u001b[0m",
      "\u001b[0;31mNotApplicableError\u001b[0m                        Traceback (most recent call last)",
      "Cell \u001b[0;32mIn [9], line 1\u001b[0m\n\u001b[0;32m----> 1\u001b[0m \u001b[43mdata\u001b[49m\u001b[38;5;241;43m.\u001b[39;49m\u001b[43mplotPredictorPerformance\u001b[49m\u001b[43m(\u001b[49m\u001b[43mtop_n\u001b[49m\u001b[38;5;241;43m=\u001b[39;49m\u001b[38;5;241;43m30\u001b[39;49m\u001b[43m)\u001b[49m\n",
      "File \u001b[0;32m/Library/Frameworks/Python.framework/Versions/3.11/lib/python3.11/site-packages/pdstools/plots/plot_base.py:730\u001b[0m, in \u001b[0;36mPlots.plotPredictorPerformance\u001b[0;34m(self, top_n, active_only, to_plot, query, facets, **kwargs)\u001b[0m\n\u001b[1;32m    728\u001b[0m last \u001b[38;5;241m=\u001b[39m \u001b[38;5;28;01mTrue\u001b[39;00m\n\u001b[1;32m    729\u001b[0m required_columns \u001b[38;5;241m=\u001b[39m {\u001b[38;5;124m\"\u001b[39m\u001b[38;5;124mChannel\u001b[39m\u001b[38;5;124m\"\u001b[39m, \u001b[38;5;124m\"\u001b[39m\u001b[38;5;124mPredictorName\u001b[39m\u001b[38;5;124m\"\u001b[39m, var_to_plot, \u001b[38;5;124m\"\u001b[39m\u001b[38;5;124mType\u001b[39m\u001b[38;5;124m\"\u001b[39m}\n\u001b[0;32m--> 730\u001b[0m df \u001b[38;5;241m=\u001b[39m \u001b[38;5;28;43mself\u001b[39;49m\u001b[38;5;241;43m.\u001b[39;49m\u001b[43m_subset_data\u001b[49m\u001b[43m(\u001b[49m\n\u001b[1;32m    731\u001b[0m \u001b[43m    \u001b[49m\u001b[43mtable\u001b[49m\u001b[43m,\u001b[49m\u001b[43m \u001b[49m\u001b[43mrequired_columns\u001b[49m\u001b[43m,\u001b[49m\u001b[43m \u001b[49m\u001b[43mquery\u001b[49m\u001b[43m,\u001b[49m\u001b[43m \u001b[49m\u001b[43mlast\u001b[49m\u001b[38;5;241;43m=\u001b[39;49m\u001b[43mlast\u001b[49m\u001b[43m,\u001b[49m\u001b[43m \u001b[49m\u001b[43mactive_only\u001b[49m\u001b[38;5;241;43m=\u001b[39;49m\u001b[43mactive_only\u001b[49m\n\u001b[1;32m    732\u001b[0m \u001b[43m\u001b[49m\u001b[43m)\u001b[49m\n\u001b[1;32m    733\u001b[0m df \u001b[38;5;241m=\u001b[39m df\u001b[38;5;241m.\u001b[39mquery(\u001b[38;5;124m\"\u001b[39m\u001b[38;5;124mPredictorName != \u001b[39m\u001b[38;5;124m'\u001b[39m\u001b[38;5;124mClassifier\u001b[39m\u001b[38;5;124m'\u001b[39m\u001b[38;5;124m\"\u001b[39m)\u001b[38;5;241m.\u001b[39mreset_index(drop\u001b[38;5;241m=\u001b[39m\u001b[38;5;28;01mTrue\u001b[39;00m)\n\u001b[1;32m    735\u001b[0m df \u001b[38;5;241m=\u001b[39m \u001b[38;5;28mself\u001b[39m\u001b[38;5;241m.\u001b[39mtop_n(df, top_n, var_to_plot)\n",
      "File \u001b[0;32m/Library/Frameworks/Python.framework/Versions/3.11/lib/python3.11/site-packages/pdstools/plots/plot_base.py:112\u001b[0m, in \u001b[0;36mPlots._subset_data\u001b[0;34m(self, table, required_columns, query, multi_snapshot, last, active_only, include_cols)\u001b[0m\n\u001b[1;32m     80\u001b[0m \u001b[38;5;124;03m\"\"\"Retrieves and subsets the data and performs some assertion checks\u001b[39;00m\n\u001b[1;32m     81\u001b[0m \n\u001b[1;32m     82\u001b[0m \u001b[38;5;124;03mParameters\u001b[39;00m\n\u001b[0;32m   (...)\u001b[0m\n\u001b[1;32m    109\u001b[0m \u001b[38;5;124;03m    The subsetted dataframe\u001b[39;00m\n\u001b[1;32m    110\u001b[0m \u001b[38;5;124;03m\"\"\"\u001b[39;00m\n\u001b[1;32m    111\u001b[0m \u001b[38;5;28;01mif\u001b[39;00m \u001b[38;5;129;01mnot\u001b[39;00m \u001b[38;5;28mhasattr\u001b[39m(\u001b[38;5;28mself\u001b[39m, table) \u001b[38;5;129;01mor\u001b[39;00m \u001b[38;5;28mgetattr\u001b[39m(\u001b[38;5;28mself\u001b[39m, table) \u001b[38;5;129;01mis\u001b[39;00m \u001b[38;5;28;01mNone\u001b[39;00m:\n\u001b[0;32m--> 112\u001b[0m     \u001b[38;5;28;01mraise\u001b[39;00m \u001b[38;5;28mself\u001b[39m\u001b[38;5;241m.\u001b[39mNotApplicableError(\n\u001b[1;32m    113\u001b[0m         \u001b[38;5;124mf\u001b[39m\u001b[38;5;124m\"\u001b[39m\u001b[38;5;124mThis visualisation requires \u001b[39m\u001b[38;5;132;01m{\u001b[39;00mtable\u001b[38;5;132;01m}\u001b[39;00m\u001b[38;5;124m, but that table isn\u001b[39m\u001b[38;5;124m'\u001b[39m\u001b[38;5;124mt in this dataset.\u001b[39m\u001b[38;5;124m\"\u001b[39m\n\u001b[1;32m    114\u001b[0m     )\n\u001b[1;32m    116\u001b[0m df \u001b[38;5;241m=\u001b[39m \u001b[38;5;28mgetattr\u001b[39m(\u001b[38;5;28mself\u001b[39m, table)\n\u001b[1;32m    117\u001b[0m \u001b[38;5;28;01mif\u001b[39;00m table \u001b[38;5;241m!=\u001b[39m \u001b[38;5;124m\"\u001b[39m\u001b[38;5;124mpredictorData\u001b[39m\u001b[38;5;124m\"\u001b[39m:\n",
      "\u001b[0;31mNotApplicableError\u001b[0m: This visualisation requires combinedData, but that table isn't in this dataset."
     ]
    }
   ],
   "source": [
    "data.plotPredictorPerformance(top_n=30)"
   ]
  },
  {
   "cell_type": "markdown",
   "metadata": {},
   "source": [
    "## Predictor Performance Heatmap"
   ]
  },
  {
   "cell_type": "code",
   "execution_count": 10,
   "metadata": {
    "execution": {
     "iopub.execute_input": "2023-02-22T12:47:37.655834Z",
     "iopub.status.busy": "2023-02-22T12:47:37.655389Z",
     "iopub.status.idle": "2023-02-22T12:47:37.681022Z",
     "shell.execute_reply": "2023-02-22T12:47:37.680142Z"
    }
   },
   "outputs": [
    {
     "ename": "NotApplicableError",
     "evalue": "This visualisation requires combinedData, but that table isn't in this dataset.",
     "output_type": "error",
     "traceback": [
      "\u001b[0;31m---------------------------------------------------------------------------\u001b[0m",
      "\u001b[0;31mNotApplicableError\u001b[0m                        Traceback (most recent call last)",
      "Cell \u001b[0;32mIn [10], line 1\u001b[0m\n\u001b[0;32m----> 1\u001b[0m \u001b[43mdata\u001b[49m\u001b[38;5;241;43m.\u001b[39;49m\u001b[43mplotPredictorPerformanceHeatmap\u001b[49m\u001b[43m(\u001b[49m\u001b[43mtop_n\u001b[49m\u001b[38;5;241;43m=\u001b[39;49m\u001b[38;5;241;43m20\u001b[39;49m\u001b[43m)\u001b[49m\n",
      "File \u001b[0;32m/Library/Frameworks/Python.framework/Versions/3.11/lib/python3.11/site-packages/pdstools/plots/plot_base.py:811\u001b[0m, in \u001b[0;36mPlots.plotPredictorPerformanceHeatmap\u001b[0;34m(self, top_n, active_only, query, facets, **kwargs)\u001b[0m\n\u001b[1;32m    809\u001b[0m table \u001b[38;5;241m=\u001b[39m \u001b[38;5;124m\"\u001b[39m\u001b[38;5;124mcombinedData\u001b[39m\u001b[38;5;124m\"\u001b[39m\n\u001b[1;32m    810\u001b[0m required_columns \u001b[38;5;241m=\u001b[39m {\u001b[38;5;124m\"\u001b[39m\u001b[38;5;124mPredictorName\u001b[39m\u001b[38;5;124m\"\u001b[39m, \u001b[38;5;124m\"\u001b[39m\u001b[38;5;124mModelName\u001b[39m\u001b[38;5;124m\"\u001b[39m, \u001b[38;5;124m\"\u001b[39m\u001b[38;5;124mPerformanceBin\u001b[39m\u001b[38;5;124m\"\u001b[39m}\n\u001b[0;32m--> 811\u001b[0m df \u001b[38;5;241m=\u001b[39m \u001b[38;5;28;43mself\u001b[39;49m\u001b[38;5;241;43m.\u001b[39;49m\u001b[43m_subset_data\u001b[49m\u001b[43m(\u001b[49m\n\u001b[1;32m    812\u001b[0m \u001b[43m    \u001b[49m\u001b[43mtable\u001b[49m\u001b[43m,\u001b[49m\u001b[43m \u001b[49m\u001b[43mrequired_columns\u001b[49m\u001b[43m,\u001b[49m\u001b[43m \u001b[49m\u001b[43mquery\u001b[49m\u001b[43m,\u001b[49m\u001b[43m \u001b[49m\u001b[43mactive_only\u001b[49m\u001b[38;5;241;43m=\u001b[39;49m\u001b[43mactive_only\u001b[49m\u001b[43m,\u001b[49m\u001b[43m \u001b[49m\u001b[43mlast\u001b[49m\u001b[38;5;241;43m=\u001b[39;49m\u001b[38;5;28;43;01mTrue\u001b[39;49;00m\n\u001b[1;32m    813\u001b[0m \u001b[43m\u001b[49m\u001b[43m)\u001b[49m\n\u001b[1;32m    814\u001b[0m df \u001b[38;5;241m=\u001b[39m df[df[\u001b[38;5;124m\"\u001b[39m\u001b[38;5;124mPredictorName\u001b[39m\u001b[38;5;124m\"\u001b[39m] \u001b[38;5;241m!=\u001b[39m \u001b[38;5;124m\"\u001b[39m\u001b[38;5;124mClassifier\u001b[39m\u001b[38;5;124m\"\u001b[39m]\u001b[38;5;241m.\u001b[39mreset_index(drop\u001b[38;5;241m=\u001b[39m\u001b[38;5;28;01mTrue\u001b[39;00m)\n\u001b[1;32m    816\u001b[0m df \u001b[38;5;241m=\u001b[39m \u001b[38;5;28mself\u001b[39m\u001b[38;5;241m.\u001b[39mpivot_df(df)\n",
      "File \u001b[0;32m/Library/Frameworks/Python.framework/Versions/3.11/lib/python3.11/site-packages/pdstools/plots/plot_base.py:112\u001b[0m, in \u001b[0;36mPlots._subset_data\u001b[0;34m(self, table, required_columns, query, multi_snapshot, last, active_only, include_cols)\u001b[0m\n\u001b[1;32m     80\u001b[0m \u001b[38;5;124;03m\"\"\"Retrieves and subsets the data and performs some assertion checks\u001b[39;00m\n\u001b[1;32m     81\u001b[0m \n\u001b[1;32m     82\u001b[0m \u001b[38;5;124;03mParameters\u001b[39;00m\n\u001b[0;32m   (...)\u001b[0m\n\u001b[1;32m    109\u001b[0m \u001b[38;5;124;03m    The subsetted dataframe\u001b[39;00m\n\u001b[1;32m    110\u001b[0m \u001b[38;5;124;03m\"\"\"\u001b[39;00m\n\u001b[1;32m    111\u001b[0m \u001b[38;5;28;01mif\u001b[39;00m \u001b[38;5;129;01mnot\u001b[39;00m \u001b[38;5;28mhasattr\u001b[39m(\u001b[38;5;28mself\u001b[39m, table) \u001b[38;5;129;01mor\u001b[39;00m \u001b[38;5;28mgetattr\u001b[39m(\u001b[38;5;28mself\u001b[39m, table) \u001b[38;5;129;01mis\u001b[39;00m \u001b[38;5;28;01mNone\u001b[39;00m:\n\u001b[0;32m--> 112\u001b[0m     \u001b[38;5;28;01mraise\u001b[39;00m \u001b[38;5;28mself\u001b[39m\u001b[38;5;241m.\u001b[39mNotApplicableError(\n\u001b[1;32m    113\u001b[0m         \u001b[38;5;124mf\u001b[39m\u001b[38;5;124m\"\u001b[39m\u001b[38;5;124mThis visualisation requires \u001b[39m\u001b[38;5;132;01m{\u001b[39;00mtable\u001b[38;5;132;01m}\u001b[39;00m\u001b[38;5;124m, but that table isn\u001b[39m\u001b[38;5;124m'\u001b[39m\u001b[38;5;124mt in this dataset.\u001b[39m\u001b[38;5;124m\"\u001b[39m\n\u001b[1;32m    114\u001b[0m     )\n\u001b[1;32m    116\u001b[0m df \u001b[38;5;241m=\u001b[39m \u001b[38;5;28mgetattr\u001b[39m(\u001b[38;5;28mself\u001b[39m, table)\n\u001b[1;32m    117\u001b[0m \u001b[38;5;28;01mif\u001b[39;00m table \u001b[38;5;241m!=\u001b[39m \u001b[38;5;124m\"\u001b[39m\u001b[38;5;124mpredictorData\u001b[39m\u001b[38;5;124m\"\u001b[39m:\n",
      "\u001b[0;31mNotApplicableError\u001b[0m: This visualisation requires combinedData, but that table isn't in this dataset."
     ]
    }
   ],
   "source": [
    "data.plotPredictorPerformanceHeatmap(top_n=20)"
   ]
  },
  {
   "cell_type": "markdown",
   "metadata": {},
   "source": [
    "## Proposition Success Rates"
   ]
  },
  {
   "cell_type": "code",
   "execution_count": 11,
   "metadata": {
    "execution": {
     "iopub.execute_input": "2023-02-22T12:47:37.684274Z",
     "iopub.status.busy": "2023-02-22T12:47:37.683913Z",
     "iopub.status.idle": "2023-02-22T12:47:37.709485Z",
     "shell.execute_reply": "2023-02-22T12:47:37.708645Z"
    }
   },
   "outputs": [
    {
     "ename": "NotApplicableError",
     "evalue": "This visualisation requires modelData, but that table isn't in this dataset.",
     "output_type": "error",
     "traceback": [
      "\u001b[0;31m---------------------------------------------------------------------------\u001b[0m",
      "\u001b[0;31mNotApplicableError\u001b[0m                        Traceback (most recent call last)",
      "Cell \u001b[0;32mIn [11], line 1\u001b[0m\n\u001b[0;32m----> 1\u001b[0m \u001b[43mdata\u001b[49m\u001b[38;5;241;43m.\u001b[39;49m\u001b[43mplotPropositionSuccessRates\u001b[49m\u001b[43m(\u001b[49m\u001b[43mquery\u001b[49m\u001b[38;5;241;43m=\u001b[39;49m\u001b[38;5;124;43m'\u001b[39;49m\u001b[38;5;124;43mChannel == \u001b[39;49m\u001b[38;5;124;43m\"\u001b[39;49m\u001b[38;5;124;43mWeb\u001b[39;49m\u001b[38;5;124;43m\"\u001b[39;49m\u001b[38;5;124;43m'\u001b[39;49m\u001b[43m)\u001b[49m\n",
      "File \u001b[0;32m/Library/Frameworks/Python.framework/Versions/3.11/lib/python3.11/site-packages/pdstools/plots/plot_base.py:489\u001b[0m, in \u001b[0;36mPlots.plotPropositionSuccessRates\u001b[0;34m(self, metric, by, show_error, query, facets, **kwargs)\u001b[0m\n\u001b[1;32m    487\u001b[0m last \u001b[38;5;241m=\u001b[39m \u001b[38;5;28;01mTrue\u001b[39;00m\n\u001b[1;32m    488\u001b[0m required_columns \u001b[38;5;241m=\u001b[39m {\u001b[38;5;124m\"\u001b[39m\u001b[38;5;124mModelID\u001b[39m\u001b[38;5;124m\"\u001b[39m, \u001b[38;5;124m\"\u001b[39m\u001b[38;5;124mModelName\u001b[39m\u001b[38;5;124m\"\u001b[39m, \u001b[38;5;124m\"\u001b[39m\u001b[38;5;124mSuccessRate\u001b[39m\u001b[38;5;124m\"\u001b[39m}\u001b[38;5;241m.\u001b[39munion({metric})\n\u001b[0;32m--> 489\u001b[0m df \u001b[38;5;241m=\u001b[39m \u001b[38;5;28;43mself\u001b[39;49m\u001b[38;5;241;43m.\u001b[39;49m\u001b[43m_subset_data\u001b[49m\u001b[43m(\u001b[49m\u001b[43mtable\u001b[49m\u001b[43m,\u001b[49m\u001b[43m \u001b[49m\u001b[43mrequired_columns\u001b[49m\u001b[43m,\u001b[49m\u001b[43m \u001b[49m\u001b[43mquery\u001b[49m\u001b[43m,\u001b[49m\u001b[43m \u001b[49m\u001b[43mlast\u001b[49m\u001b[38;5;241;43m=\u001b[39;49m\u001b[43mlast\u001b[49m\u001b[43m)\u001b[49m\n\u001b[1;32m    491\u001b[0m \u001b[38;5;28;01mif\u001b[39;00m kwargs\u001b[38;5;241m.\u001b[39mpop(\u001b[38;5;124m\"\u001b[39m\u001b[38;5;124mreturn_df\u001b[39m\u001b[38;5;124m\"\u001b[39m, \u001b[38;5;28;01mFalse\u001b[39;00m):\n\u001b[1;32m    492\u001b[0m     \u001b[38;5;28;01mreturn\u001b[39;00m df\n",
      "File \u001b[0;32m/Library/Frameworks/Python.framework/Versions/3.11/lib/python3.11/site-packages/pdstools/plots/plot_base.py:112\u001b[0m, in \u001b[0;36mPlots._subset_data\u001b[0;34m(self, table, required_columns, query, multi_snapshot, last, active_only, include_cols)\u001b[0m\n\u001b[1;32m     80\u001b[0m \u001b[38;5;124;03m\"\"\"Retrieves and subsets the data and performs some assertion checks\u001b[39;00m\n\u001b[1;32m     81\u001b[0m \n\u001b[1;32m     82\u001b[0m \u001b[38;5;124;03mParameters\u001b[39;00m\n\u001b[0;32m   (...)\u001b[0m\n\u001b[1;32m    109\u001b[0m \u001b[38;5;124;03m    The subsetted dataframe\u001b[39;00m\n\u001b[1;32m    110\u001b[0m \u001b[38;5;124;03m\"\"\"\u001b[39;00m\n\u001b[1;32m    111\u001b[0m \u001b[38;5;28;01mif\u001b[39;00m \u001b[38;5;129;01mnot\u001b[39;00m \u001b[38;5;28mhasattr\u001b[39m(\u001b[38;5;28mself\u001b[39m, table) \u001b[38;5;129;01mor\u001b[39;00m \u001b[38;5;28mgetattr\u001b[39m(\u001b[38;5;28mself\u001b[39m, table) \u001b[38;5;129;01mis\u001b[39;00m \u001b[38;5;28;01mNone\u001b[39;00m:\n\u001b[0;32m--> 112\u001b[0m     \u001b[38;5;28;01mraise\u001b[39;00m \u001b[38;5;28mself\u001b[39m\u001b[38;5;241m.\u001b[39mNotApplicableError(\n\u001b[1;32m    113\u001b[0m         \u001b[38;5;124mf\u001b[39m\u001b[38;5;124m\"\u001b[39m\u001b[38;5;124mThis visualisation requires \u001b[39m\u001b[38;5;132;01m{\u001b[39;00mtable\u001b[38;5;132;01m}\u001b[39;00m\u001b[38;5;124m, but that table isn\u001b[39m\u001b[38;5;124m'\u001b[39m\u001b[38;5;124mt in this dataset.\u001b[39m\u001b[38;5;124m\"\u001b[39m\n\u001b[1;32m    114\u001b[0m     )\n\u001b[1;32m    116\u001b[0m df \u001b[38;5;241m=\u001b[39m \u001b[38;5;28mgetattr\u001b[39m(\u001b[38;5;28mself\u001b[39m, table)\n\u001b[1;32m    117\u001b[0m \u001b[38;5;28;01mif\u001b[39;00m table \u001b[38;5;241m!=\u001b[39m \u001b[38;5;124m\"\u001b[39m\u001b[38;5;124mpredictorData\u001b[39m\u001b[38;5;124m\"\u001b[39m:\n",
      "\u001b[0;31mNotApplicableError\u001b[0m: This visualisation requires modelData, but that table isn't in this dataset."
     ]
    }
   ],
   "source": [
    "data.plotPropositionSuccessRates(query='Channel == \"Web\"')"
   ]
  },
  {
   "cell_type": "markdown",
   "metadata": {},
   "source": [
    "## Response Gain"
   ]
  },
  {
   "cell_type": "code",
   "execution_count": 12,
   "metadata": {
    "execution": {
     "iopub.execute_input": "2023-02-22T12:47:37.712716Z",
     "iopub.status.busy": "2023-02-22T12:47:37.712515Z",
     "iopub.status.idle": "2023-02-22T12:47:37.733621Z",
     "shell.execute_reply": "2023-02-22T12:47:37.733132Z"
    }
   },
   "outputs": [
    {
     "ename": "NotApplicableError",
     "evalue": "This visualisation requires modelData, but that table isn't in this dataset.",
     "output_type": "error",
     "traceback": [
      "\u001b[0;31m---------------------------------------------------------------------------\u001b[0m",
      "\u001b[0;31mNotApplicableError\u001b[0m                        Traceback (most recent call last)",
      "Cell \u001b[0;32mIn [12], line 1\u001b[0m\n\u001b[0;32m----> 1\u001b[0m \u001b[43mdata\u001b[49m\u001b[38;5;241;43m.\u001b[39;49m\u001b[43mplotResponseGain\u001b[49m\u001b[43m(\u001b[49m\u001b[43m)\u001b[49m\n",
      "File \u001b[0;32m/Library/Frameworks/Python.framework/Versions/3.11/lib/python3.11/site-packages/pdstools/plots/plot_base.py:938\u001b[0m, in \u001b[0;36mPlots.plotResponseGain\u001b[0;34m(self, by, query, **kwargs)\u001b[0m\n\u001b[1;32m    936\u001b[0m last \u001b[38;5;241m=\u001b[39m \u001b[38;5;28;01mTrue\u001b[39;00m\n\u001b[1;32m    937\u001b[0m required_columns \u001b[38;5;241m=\u001b[39m {by, \u001b[38;5;124m\"\u001b[39m\u001b[38;5;124mResponseCount\u001b[39m\u001b[38;5;124m\"\u001b[39m, \u001b[38;5;124m\"\u001b[39m\u001b[38;5;124mModelID\u001b[39m\u001b[38;5;124m\"\u001b[39m}\n\u001b[0;32m--> 938\u001b[0m df \u001b[38;5;241m=\u001b[39m \u001b[38;5;28;43mself\u001b[39;49m\u001b[38;5;241;43m.\u001b[39;49m\u001b[43m_subset_data\u001b[49m\u001b[43m(\u001b[49m\u001b[43mtable\u001b[49m\u001b[43m,\u001b[49m\u001b[43m \u001b[49m\u001b[43mrequired_columns\u001b[49m\u001b[43m,\u001b[49m\u001b[43m \u001b[49m\u001b[43mquery\u001b[49m\u001b[43m,\u001b[49m\u001b[43m \u001b[49m\u001b[43mlast\u001b[49m\u001b[38;5;241;43m=\u001b[39;49m\u001b[43mlast\u001b[49m\u001b[43m)\u001b[49m\n\u001b[1;32m    939\u001b[0m df \u001b[38;5;241m=\u001b[39m \u001b[38;5;28mself\u001b[39m\u001b[38;5;241m.\u001b[39mresponse_gain_df(df, by\u001b[38;5;241m=\u001b[39mby)\n\u001b[1;32m    941\u001b[0m \u001b[38;5;28;01mif\u001b[39;00m kwargs\u001b[38;5;241m.\u001b[39mpop(\u001b[38;5;124m\"\u001b[39m\u001b[38;5;124mreturn_df\u001b[39m\u001b[38;5;124m\"\u001b[39m, \u001b[38;5;28;01mFalse\u001b[39;00m):\n",
      "File \u001b[0;32m/Library/Frameworks/Python.framework/Versions/3.11/lib/python3.11/site-packages/pdstools/plots/plot_base.py:112\u001b[0m, in \u001b[0;36mPlots._subset_data\u001b[0;34m(self, table, required_columns, query, multi_snapshot, last, active_only, include_cols)\u001b[0m\n\u001b[1;32m     80\u001b[0m \u001b[38;5;124;03m\"\"\"Retrieves and subsets the data and performs some assertion checks\u001b[39;00m\n\u001b[1;32m     81\u001b[0m \n\u001b[1;32m     82\u001b[0m \u001b[38;5;124;03mParameters\u001b[39;00m\n\u001b[0;32m   (...)\u001b[0m\n\u001b[1;32m    109\u001b[0m \u001b[38;5;124;03m    The subsetted dataframe\u001b[39;00m\n\u001b[1;32m    110\u001b[0m \u001b[38;5;124;03m\"\"\"\u001b[39;00m\n\u001b[1;32m    111\u001b[0m \u001b[38;5;28;01mif\u001b[39;00m \u001b[38;5;129;01mnot\u001b[39;00m \u001b[38;5;28mhasattr\u001b[39m(\u001b[38;5;28mself\u001b[39m, table) \u001b[38;5;129;01mor\u001b[39;00m \u001b[38;5;28mgetattr\u001b[39m(\u001b[38;5;28mself\u001b[39m, table) \u001b[38;5;129;01mis\u001b[39;00m \u001b[38;5;28;01mNone\u001b[39;00m:\n\u001b[0;32m--> 112\u001b[0m     \u001b[38;5;28;01mraise\u001b[39;00m \u001b[38;5;28mself\u001b[39m\u001b[38;5;241m.\u001b[39mNotApplicableError(\n\u001b[1;32m    113\u001b[0m         \u001b[38;5;124mf\u001b[39m\u001b[38;5;124m\"\u001b[39m\u001b[38;5;124mThis visualisation requires \u001b[39m\u001b[38;5;132;01m{\u001b[39;00mtable\u001b[38;5;132;01m}\u001b[39;00m\u001b[38;5;124m, but that table isn\u001b[39m\u001b[38;5;124m'\u001b[39m\u001b[38;5;124mt in this dataset.\u001b[39m\u001b[38;5;124m\"\u001b[39m\n\u001b[1;32m    114\u001b[0m     )\n\u001b[1;32m    116\u001b[0m df \u001b[38;5;241m=\u001b[39m \u001b[38;5;28mgetattr\u001b[39m(\u001b[38;5;28mself\u001b[39m, table)\n\u001b[1;32m    117\u001b[0m \u001b[38;5;28;01mif\u001b[39;00m table \u001b[38;5;241m!=\u001b[39m \u001b[38;5;124m\"\u001b[39m\u001b[38;5;124mpredictorData\u001b[39m\u001b[38;5;124m\"\u001b[39m:\n",
      "\u001b[0;31mNotApplicableError\u001b[0m: This visualisation requires modelData, but that table isn't in this dataset."
     ]
    }
   ],
   "source": [
    "data.plotResponseGain()"
   ]
  },
  {
   "cell_type": "markdown",
   "metadata": {},
   "source": [
    "## Score Distribution"
   ]
  },
  {
   "cell_type": "code",
   "execution_count": 13,
   "metadata": {
    "execution": {
     "iopub.execute_input": "2023-02-22T12:47:37.736264Z",
     "iopub.status.busy": "2023-02-22T12:47:37.736068Z",
     "iopub.status.idle": "2023-02-22T12:47:37.764388Z",
     "shell.execute_reply": "2023-02-22T12:47:37.763619Z"
    }
   },
   "outputs": [
    {
     "ename": "NotApplicableError",
     "evalue": "This visualisation requires combinedData, but that table isn't in this dataset.",
     "output_type": "error",
     "traceback": [
      "\u001b[0;31m---------------------------------------------------------------------------\u001b[0m",
      "\u001b[0;31mNotApplicableError\u001b[0m                        Traceback (most recent call last)",
      "Cell \u001b[0;32mIn [13], line 1\u001b[0m\n\u001b[0;32m----> 1\u001b[0m \u001b[43mdata\u001b[49m\u001b[38;5;241;43m.\u001b[39;49m\u001b[43mplotScoreDistribution\u001b[49m\u001b[43m(\u001b[49m\u001b[43mshow_each\u001b[49m\u001b[38;5;241;43m=\u001b[39;49m\u001b[38;5;28;43;01mTrue\u001b[39;49;00m\u001b[43m)\u001b[49m;\n",
      "File \u001b[0;32m/Library/Frameworks/Python.framework/Versions/3.11/lib/python3.11/site-packages/pdstools/plots/plot_base.py:559\u001b[0m, in \u001b[0;36mPlots.plotScoreDistribution\u001b[0;34m(self, by, show_zero_responses, query, **kwargs)\u001b[0m\n\u001b[1;32m    549\u001b[0m table \u001b[38;5;241m=\u001b[39m \u001b[38;5;124m\"\u001b[39m\u001b[38;5;124mcombinedData\u001b[39m\u001b[38;5;124m\"\u001b[39m\n\u001b[1;32m    550\u001b[0m required_columns \u001b[38;5;241m=\u001b[39m {\n\u001b[1;32m    551\u001b[0m     \u001b[38;5;124m\"\u001b[39m\u001b[38;5;124mPredictorName\u001b[39m\u001b[38;5;124m\"\u001b[39m,\n\u001b[1;32m    552\u001b[0m     \u001b[38;5;124m\"\u001b[39m\u001b[38;5;124mModelName\u001b[39m\u001b[38;5;124m\"\u001b[39m,\n\u001b[0;32m   (...)\u001b[0m\n\u001b[1;32m    557\u001b[0m     \u001b[38;5;124m\"\u001b[39m\u001b[38;5;124mModelID\u001b[39m\u001b[38;5;124m\"\u001b[39m,\n\u001b[1;32m    558\u001b[0m }\n\u001b[0;32m--> 559\u001b[0m df \u001b[38;5;241m=\u001b[39m \u001b[38;5;28;43mself\u001b[39;49m\u001b[38;5;241;43m.\u001b[39;49m\u001b[43m_subset_data\u001b[49m\u001b[43m(\u001b[49m\u001b[43mtable\u001b[49m\u001b[43m,\u001b[49m\u001b[43m \u001b[49m\u001b[43mrequired_columns\u001b[49m\u001b[43m,\u001b[49m\u001b[43m \u001b[49m\u001b[43mquery\u001b[49m\u001b[43m)\u001b[49m\n\u001b[1;32m    561\u001b[0m df \u001b[38;5;241m=\u001b[39m df[df[\u001b[38;5;124m\"\u001b[39m\u001b[38;5;124mPredictorName\u001b[39m\u001b[38;5;124m\"\u001b[39m] \u001b[38;5;241m==\u001b[39m \u001b[38;5;124m\"\u001b[39m\u001b[38;5;124mClassifier\u001b[39m\u001b[38;5;124m\"\u001b[39m]\n\u001b[1;32m    562\u001b[0m df \u001b[38;5;241m=\u001b[39m df\u001b[38;5;241m.\u001b[39mgroupby(by)\n",
      "File \u001b[0;32m/Library/Frameworks/Python.framework/Versions/3.11/lib/python3.11/site-packages/pdstools/plots/plot_base.py:112\u001b[0m, in \u001b[0;36mPlots._subset_data\u001b[0;34m(self, table, required_columns, query, multi_snapshot, last, active_only, include_cols)\u001b[0m\n\u001b[1;32m     80\u001b[0m \u001b[38;5;124;03m\"\"\"Retrieves and subsets the data and performs some assertion checks\u001b[39;00m\n\u001b[1;32m     81\u001b[0m \n\u001b[1;32m     82\u001b[0m \u001b[38;5;124;03mParameters\u001b[39;00m\n\u001b[0;32m   (...)\u001b[0m\n\u001b[1;32m    109\u001b[0m \u001b[38;5;124;03m    The subsetted dataframe\u001b[39;00m\n\u001b[1;32m    110\u001b[0m \u001b[38;5;124;03m\"\"\"\u001b[39;00m\n\u001b[1;32m    111\u001b[0m \u001b[38;5;28;01mif\u001b[39;00m \u001b[38;5;129;01mnot\u001b[39;00m \u001b[38;5;28mhasattr\u001b[39m(\u001b[38;5;28mself\u001b[39m, table) \u001b[38;5;129;01mor\u001b[39;00m \u001b[38;5;28mgetattr\u001b[39m(\u001b[38;5;28mself\u001b[39m, table) \u001b[38;5;129;01mis\u001b[39;00m \u001b[38;5;28;01mNone\u001b[39;00m:\n\u001b[0;32m--> 112\u001b[0m     \u001b[38;5;28;01mraise\u001b[39;00m \u001b[38;5;28mself\u001b[39m\u001b[38;5;241m.\u001b[39mNotApplicableError(\n\u001b[1;32m    113\u001b[0m         \u001b[38;5;124mf\u001b[39m\u001b[38;5;124m\"\u001b[39m\u001b[38;5;124mThis visualisation requires \u001b[39m\u001b[38;5;132;01m{\u001b[39;00mtable\u001b[38;5;132;01m}\u001b[39;00m\u001b[38;5;124m, but that table isn\u001b[39m\u001b[38;5;124m'\u001b[39m\u001b[38;5;124mt in this dataset.\u001b[39m\u001b[38;5;124m\"\u001b[39m\n\u001b[1;32m    114\u001b[0m     )\n\u001b[1;32m    116\u001b[0m df \u001b[38;5;241m=\u001b[39m \u001b[38;5;28mgetattr\u001b[39m(\u001b[38;5;28mself\u001b[39m, table)\n\u001b[1;32m    117\u001b[0m \u001b[38;5;28;01mif\u001b[39;00m table \u001b[38;5;241m!=\u001b[39m \u001b[38;5;124m\"\u001b[39m\u001b[38;5;124mpredictorData\u001b[39m\u001b[38;5;124m\"\u001b[39m:\n",
      "\u001b[0;31mNotApplicableError\u001b[0m: This visualisation requires combinedData, but that table isn't in this dataset."
     ]
    }
   ],
   "source": [
    "data.plotScoreDistribution(show_each=True);"
   ]
  },
  {
   "cell_type": "markdown",
   "metadata": {},
   "source": [
    "## Tree Map"
   ]
  },
  {
   "cell_type": "code",
   "execution_count": 14,
   "metadata": {
    "execution": {
     "iopub.execute_input": "2023-02-22T12:47:37.766819Z",
     "iopub.status.busy": "2023-02-22T12:47:37.766651Z",
     "iopub.status.idle": "2023-02-22T12:47:37.906972Z",
     "shell.execute_reply": "2023-02-22T12:47:37.906427Z"
    }
   },
   "outputs": [
    {
     "ename": "AttributeError",
     "evalue": "'NoneType' object has no attribute 'reset_index'",
     "output_type": "error",
     "traceback": [
      "\u001b[0;31m---------------------------------------------------------------------------\u001b[0m",
      "\u001b[0;31mAttributeError\u001b[0m                            Traceback (most recent call last)",
      "Cell \u001b[0;32mIn [14], line 1\u001b[0m\n\u001b[0;32m----> 1\u001b[0m \u001b[43mdata\u001b[49m\u001b[38;5;241;43m.\u001b[39;49m\u001b[43mplotTreeMap\u001b[49m\u001b[43m(\u001b[49m\u001b[43m)\u001b[49m\n",
      "File \u001b[0;32m/Library/Frameworks/Python.framework/Versions/3.11/lib/python3.11/site-packages/pdstools/plots/plot_base.py:1061\u001b[0m, in \u001b[0;36mPlots.plotTreeMap\u001b[0;34m(self, color_var, by, value_in_text, midpoint, query, **kwargs)\u001b[0m\n\u001b[1;32m   1059\u001b[0m \u001b[38;5;28;01mif\u001b[39;00m kwargs\u001b[38;5;241m.\u001b[39mget(\u001b[38;5;124m\"\u001b[39m\u001b[38;5;124mplotting_engine\u001b[39m\u001b[38;5;124m\"\u001b[39m, \u001b[38;5;28mself\u001b[39m\u001b[38;5;241m.\u001b[39mplotting_engine) \u001b[38;5;241m!=\u001b[39m \u001b[38;5;124m\"\u001b[39m\u001b[38;5;124mplotly\u001b[39m\u001b[38;5;124m\"\u001b[39m:\n\u001b[1;32m   1060\u001b[0m     \u001b[38;5;28mprint\u001b[39m(\u001b[38;5;124m\"\u001b[39m\u001b[38;5;124mPlot is only available in Plotly.\u001b[39m\u001b[38;5;124m\"\u001b[39m)\n\u001b[0;32m-> 1061\u001b[0m df \u001b[38;5;241m=\u001b[39m \u001b[38;5;28;43mself\u001b[39;49m\u001b[38;5;241;43m.\u001b[39;49m\u001b[43mmodel_summary\u001b[49m\u001b[43m(\u001b[49m\u001b[43mby\u001b[49m\u001b[38;5;241;43m=\u001b[39;49m\u001b[43mby\u001b[49m\u001b[43m,\u001b[49m\u001b[43m \u001b[49m\u001b[43mquery\u001b[49m\u001b[38;5;241;43m=\u001b[39;49m\u001b[43mquery\u001b[49m\u001b[43m)\u001b[49m\n\u001b[1;32m   1062\u001b[0m df \u001b[38;5;241m=\u001b[39m df[\n\u001b[1;32m   1063\u001b[0m     [\n\u001b[1;32m   1064\u001b[0m         (by, \u001b[38;5;124m\"\u001b[39m\u001b[38;5;124mcount\u001b[39m\u001b[38;5;124m\"\u001b[39m),\n\u001b[0;32m   (...)\u001b[0m\n\u001b[1;32m   1070\u001b[0m     ]\n\u001b[1;32m   1071\u001b[0m ]\n\u001b[1;32m   1072\u001b[0m df \u001b[38;5;241m=\u001b[39m df\u001b[38;5;241m.\u001b[39mreset_index()\n",
      "File \u001b[0;32m/Library/Frameworks/Python.framework/Versions/3.11/lib/python3.11/site-packages/pdstools/adm/ADMDatamart.py:927\u001b[0m, in \u001b[0;36mADMDatamart.model_summary\u001b[0;34m(self, by, query, **kwargs)\u001b[0m\n\u001b[1;32m    906\u001b[0m \u001b[38;5;124;03m\"\"\"Convenience method to automatically generate a summary over models\u001b[39;00m\n\u001b[1;32m    907\u001b[0m \u001b[38;5;124;03mBy default, it summarizes ResponseCount, Performance, SuccessRate & Positives by model ID.\u001b[39;00m\n\u001b[1;32m    908\u001b[0m \u001b[38;5;124;03mIt also adds weighted means for Performance and SuccessRate,\u001b[39;00m\n\u001b[0;32m   (...)\u001b[0m\n\u001b[1;32m    924\u001b[0m \u001b[38;5;124;03m    Groupby dataframe over all models\u001b[39;00m\n\u001b[1;32m    925\u001b[0m \u001b[38;5;124;03m\"\"\"\u001b[39;00m\n\u001b[1;32m    926\u001b[0m df \u001b[38;5;241m=\u001b[39m \u001b[38;5;28mself\u001b[39m\u001b[38;5;241m.\u001b[39m_apply_query(\u001b[38;5;28mself\u001b[39m\u001b[38;5;241m.\u001b[39mmodelData, query)\n\u001b[0;32m--> 927\u001b[0m data \u001b[38;5;241m=\u001b[39m \u001b[38;5;28;43mself\u001b[39;49m\u001b[38;5;241;43m.\u001b[39;49m\u001b[43mlast\u001b[49m\u001b[43m(\u001b[49m\u001b[43mdf\u001b[49m\u001b[43m)\u001b[49m\u001b[38;5;241;43m.\u001b[39;49m\u001b[43mreset_index\u001b[49m()\n\u001b[1;32m    929\u001b[0m required_columns \u001b[38;5;241m=\u001b[39m {\n\u001b[1;32m    930\u001b[0m     by,\n\u001b[1;32m    931\u001b[0m     \u001b[38;5;124m\"\u001b[39m\u001b[38;5;124mResponseCount\u001b[39m\u001b[38;5;124m\"\u001b[39m,\n\u001b[0;32m   (...)\u001b[0m\n\u001b[1;32m    934\u001b[0m     \u001b[38;5;124m\"\u001b[39m\u001b[38;5;124mPositives\u001b[39m\u001b[38;5;124m\"\u001b[39m,\n\u001b[1;32m    935\u001b[0m }\n\u001b[1;32m    937\u001b[0m context_keys \u001b[38;5;241m=\u001b[39m kwargs\u001b[38;5;241m.\u001b[39mget(\u001b[38;5;124m\"\u001b[39m\u001b[38;5;124mcontext_keys\u001b[39m\u001b[38;5;124m\"\u001b[39m, \u001b[38;5;28mself\u001b[39m\u001b[38;5;241m.\u001b[39mcontext_keys)\n",
      "\u001b[0;31mAttributeError\u001b[0m: 'NoneType' object has no attribute 'reset_index'"
     ]
    }
   ],
   "source": [
    "data.plotTreeMap()"
   ]
  }
 ],
 "metadata": {
  "interpreter": {
   "hash": "aee8b7b246df8f9039afb4144a1f6fd8d2ca17a180786b69acc140d282b71a49"
  },
  "kernelspec": {
   "display_name": "Python 3.10.2 64-bit",
   "language": "python",
   "name": "python3"
  },
  "language_info": {
   "codemirror_mode": {
    "name": "ipython",
    "version": 3
   },
   "file_extension": ".py",
   "mimetype": "text/x-python",
   "name": "python",
   "nbconvert_exporter": "python",
   "pygments_lexer": "ipython3",
   "version": "3.11.0"
  }
 },
 "nbformat": 4,
 "nbformat_minor": 2
}
