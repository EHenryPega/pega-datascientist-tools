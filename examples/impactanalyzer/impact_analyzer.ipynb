{
 "cells": [
  {
   "cell_type": "markdown",
   "metadata": {},
   "source": [
    "# Impact Analyzer"
   ]
  },
  {
   "cell_type": "code",
   "execution_count": null,
   "metadata": {},
   "outputs": [],
   "source": [
    "import polars as pl\n",
    "import pathlib\n",
    "import pdstools\n"
   ]
  },
  {
   "cell_type": "markdown",
   "metadata": {},
   "source": [
    "# Data\n",
    "\n",
    "Export the VBD Actuals dataset from Dev Studio (in production) or VBD Scenario Planner Actuals (in BOE)."
   ]
  },
  {
   "cell_type": "code",
   "execution_count": null,
   "metadata": {},
   "outputs": [],
   "source": [
    "vbd_export_path = pathlib.Path(\"~/Downloads/Data-pxStrategyResult_ActualsExport_20240221T204009_GMT.zip\").expanduser()\n",
    "# TODO check no action\n",
    "# vbd_export_path = pathlib.Path(\"~/Library/CloudStorage/OneDrive-PegasystemsInc/AI Chapter/projects/Impact Analyzer/Lmms-22-02-2023/Data-pxStrategyResult_Actuals_20230222T154840_GMT.zip\").expanduser()\n",
    "vbd_export = pdstools.readDSExport(vbd_export_path)\n"
   ]
  },
  {
   "cell_type": "code",
   "execution_count": null,
   "metadata": {},
   "outputs": [],
   "source": [
    "cols = vbd_export.columns\n",
    "cols.sort()\n",
    "cols"
   ]
  },
  {
   "cell_type": "markdown",
   "metadata": {},
   "source": [
    "# Control Groups in Impact Analyzer\n",
    "\n",
    "IA uses **pyReason**, **MktType**, **MktValue** and **ModelControlGroup** to define the various experiments. For the standard NBA decisions (no experiment), values are left empty (null). \n",
    "\n",
    "Prior to Impact Analyzer, or when turned off, Predictions from Prediction Studio manage two groups through the **ModelControlGroup** property. A value of **Test** is used for model driven arbitration, **Control** for the random control group (defaulted to 2% prior to Impact Analyzer).\n",
    "\n",
    "When IA is on, the distinct values from just **MktValue** are sufficient to identify the different experiments.\n"
   ]
  },
  {
   "cell_type": "code",
   "execution_count": null,
   "metadata": {},
   "outputs": [],
   "source": [
    "default_ia_experiments = pl.DataFrame(\n",
    "    {\n",
    "        \"Experiment\": [\n",
    "            \"Random Eligible Action\",\n",
    "            \"Propensity Only\",\n",
    "            \"No Levers\",\n",
    "            \"Only Eligibility Rules\",\n",
    "            \"Random p\",\n",
    "            \"ADM only\",\n",
    "            \"Full NBA\",\n",
    "        ],\n",
    "        \"MktValue\": [\n",
    "            \"NBAHealth_NBAPrioritization\",\n",
    "            \"NBAHealth_PropensityPriority\",\n",
    "            \"NBAHealth_LeverPriority\",\n",
    "            \"NBAHealth_EngagementPolicy\",\n",
    "            \"NBAHealth_ModelControl_1\",\n",
    "            \"NBAHealth_ModelControl_2\",\n",
    "            \"\",\n",
    "        ],\n",
    "        \"Description\": [\n",
    "            \"Random eligible action (all engagement policies but randomly prioritized)\",\n",
    "            \"Prioritized with propensity only (no V, C or L)\",\n",
    "            \"Prioritized with no levers (only p, V and C)\",\n",
    "            \"Only Eligibility policies applied (no Applicability or Suitability, and prioritized with pVCL)\",\n",
    "            \"Prioritized with Random (p) only\",\n",
    "            \"Prioritized with Adaptive model (p) only\",\n",
    "            \"Arbitrated with your full NBA as configured\",\n",
    "        ],\n",
    "    }\n",
    ")\n",
    "default_ia_experiments.to_pandas().style.hide(\n",
    "    axis=\"index\"\n",
    ")"
   ]
  },
  {
   "cell_type": "markdown",
   "metadata": {},
   "source": [
    "# Lift\n",
    "\n",
    "Engagement Lift is calculated as (SuccessRate(test) - SuccessRate(control))/SuccessRate(control)\n",
    "\n",
    "Value Lift is calculated as (ValueCapture(test) - ValueCapture(control))/ValueCapture(control)\n"
   ]
  },
  {
   "cell_type": "code",
   "execution_count": null,
   "metadata": {},
   "outputs": [],
   "source": [
    "fill_nulls = [pl.col(\"MktType\").fill_null(\"\"), pl.col(\"MktValue\").fill_null(\"\")]\n",
    "\n",
    "if \"FinalPropensity\" not in vbd_export.columns:\n",
    "    vbd_export = vbd_export.with_columns(pl.lit(None).alias(\"FinalPropensity\"))\n",
    "\n",
    "vbd_export.with_columns(\n",
    "    pdstools.cdh_utils.parsePegaDateTimeFormats(\"pxOutcomeTime\").dt.date()\n",
    ").group_by(\n",
    "    [\"pyChannel\", \"pyDirection\", \"MktType\", \"MktValue\", \"pyReason\", \"ModelControlGroup\"]\n",
    ").agg(\n",
    "    pl.count().alias(\"VBD Records\"),\n",
    "    pl.col(\"AggregateCount\").cast(pl.Int64).sum().alias(\"Actions\"),\n",
    "    pl.sum(\"FinalPropensity\"),\n",
    "    pl.sum(\"pyPropensity\"),\n",
    "    pl.sum(\"pxPriority\"),\n",
    "    pl.col(\"pxOutcomeTime\").max().alias(\"Most Recent Update\"),\n",
    ").with_columns(\n",
    "    (pl.col(\"VBD Records\") / pl.sum(\"VBD Records\"))\n",
    "    .over([\"pyChannel\", \"pyDirection\"])\n",
    "    .alias(\"VBD Records Percentage\"),\n",
    "    (pl.col(\"Actions\") / pl.sum(\"Actions\"))\n",
    "    .over([\"pyChannel\", \"pyDirection\"])\n",
    "    .alias(\"Actions Percentage\"),\n",
    "    (pl.col(\"FinalPropensity\") / pl.col(\"Actions\")).alias(\"Avg FinalPropensity\"),\n",
    "    (pl.col(\"pyPropensity\") / pl.col(\"Actions\")).alias(\"Avg pyPropensity\"),\n",
    "    (pl.col(\"pxPriority\") / pl.col(\"Actions\")).alias(\"Avg pxPriority\"),\n",
    ").with_columns(\n",
    "    fill_nulls\n",
    ").drop(\n",
    "    [\"FinalPropensity\", \"pyPropensity\", \"pxPriority\"]\n",
    ").join(\n",
    "    default_ia_experiments.lazy(),\n",
    "    how=\"left\",\n",
    "    on=[\"MktValue\"],\n",
    ").sort(\n",
    "    [\"pyChannel\", \"pyDirection\", \"MktType\", \"MktValue\", \"pyReason\", \"ModelControlGroup\"]\n",
    ").filter(\n",
    "    pl.col(\"pyChannel\") == \"Web\"\n",
    ").collect().to_pandas().style.format(\n",
    "    {\n",
    "        \"Avg FinalPropensity\": \"{:.2%}\",\n",
    "        \"Avg pyPropensity\": \"{:.2%}\",\n",
    "        \"Avg pxPriority\": \"{:.3f}\",\n",
    "        \"VBD Records Percentage\": \"{:.2%}\",\n",
    "        \"Actions Percentage\": \"{:.2%}\",\n",
    "        \"Most Recent Update\":\"{:%b '%y}\"\n",
    "    }\n",
    ").hide(\n",
    "    axis=\"index\"\n",
    ").hide(\n",
    "    [\"Description\", \"VBD Records Percentage\"], axis=\"columns\"\n",
    ")"
   ]
  }
 ],
 "metadata": {
  "kernelspec": {
   "display_name": "env-p11",
   "language": "python",
   "name": "python3"
  },
  "language_info": {
   "codemirror_mode": {
    "name": "ipython",
    "version": 3
   },
   "file_extension": ".py",
   "mimetype": "text/x-python",
   "name": "python",
   "nbconvert_exporter": "python",
   "pygments_lexer": "ipython3",
   "version": "3.11.5"
  },
  "orig_nbformat": 4
 },
 "nbformat": 4,
 "nbformat_minor": 2
}
