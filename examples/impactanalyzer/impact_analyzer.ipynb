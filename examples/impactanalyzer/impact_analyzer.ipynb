{
 "cells": [
  {
   "cell_type": "markdown",
   "metadata": {},
   "source": [
    "# Impact Analyzer"
   ]
  },
  {
   "cell_type": "markdown",
   "metadata": {},
   "source": [
    "This script reproduces the Impact Analyzer numbers from the data in VBD Actuals / Scenario Planner Actuals.\n",
    "\n",
    "The direct data export from Impact Analyzer gives the exact same numbers as are driving the plots. The VBD data is larger and allows to specify different time ranges or different selections than the Pega UI.\n",
    "\n",
    "Caveats:\n",
    "\n",
    "1. Impact Analyzer only looks at *active* actions. This notion of active / not active is not in the VBD data or at least not currently used by this script.\n",
    "\n",
    "This script is work-in-progress. It currently only reproduces the impression counts. Value should be included as well as lift, uncertainties etc."
   ]
  },
  {
   "cell_type": "code",
   "execution_count": null,
   "metadata": {},
   "outputs": [],
   "source": [
    "import polars as pl\n",
    "import pathlib\n",
    "import pdstools\n",
    "import polars.selectors as cs\n",
    "from pdstools import ImpactAnalyzer\n",
    "from pathlib import Path"
   ]
  },
  {
   "cell_type": "code",
   "execution_count": null,
   "metadata": {},
   "outputs": [],
   "source": [
    "# Replace by your own file. This example is part of the PDS tools repository. TODO: just pull from the GH site directly.\n",
    "\n",
    "sample_pdc_data = Path(\"~/dev/pega-datascientist-tools/data/ia/CDH_Metrics_ImpactAnalyzer.json\").expanduser()"
   ]
  },
  {
   "cell_type": "markdown",
   "metadata": {},
   "source": [
    "The raw input data shows like this. The PDC format is very verbose and includes even more than just these."
   ]
  },
  {
   "cell_type": "code",
   "execution_count": null,
   "metadata": {},
   "outputs": [],
   "source": [
    "ImpactAnalyzer.from_pdc(\n",
    "    sample_pdc_data, return_df=True\n",
    ").head(10).collect()"
   ]
  },
  {
   "cell_type": "markdown",
   "metadata": {},
   "source": [
    "When reading from PDC, our ImpactAnalyzer class only keeps the counts of impressions, accepts and the action value per impression and re-calculates all the derived values on demand. It drops in-active experiments and adds rows for the \"NBA\" group. The \"All channels\" is dropped. ValueLift and ValueLiftInterval are copied from the PDC data as this can currently not be re-calculated from the available raw numbers (ValuePerImpression is empty)."
   ]
  },
  {
   "cell_type": "code",
   "execution_count": null,
   "metadata": {},
   "outputs": [],
   "source": [
    "ia = ImpactAnalyzer.from_pdc(\n",
    "    sample_pdc_data,\n",
    ")\n",
    "ia.ia_data.head(10).collect().to_pandas().style"
   ]
  },
  {
   "cell_type": "markdown",
   "metadata": {},
   "source": [
    "All channels"
   ]
  },
  {
   "cell_type": "code",
   "execution_count": null,
   "metadata": {},
   "outputs": [],
   "source": [
    "ia.summarize_control_groups().collect()"
   ]
  },
  {
   "cell_type": "code",
   "execution_count": null,
   "metadata": {},
   "outputs": [],
   "source": [
    "ia.summarize_experiments().collect()"
   ]
  },
  {
   "cell_type": "markdown",
   "metadata": {},
   "source": [
    "There are convenient summarization functions that pivot the lift metrics overall or per channel."
   ]
  },
  {
   "cell_type": "code",
   "execution_count": null,
   "metadata": {},
   "outputs": [],
   "source": [
    "ia.overall_summary().collect()"
   ]
  },
  {
   "cell_type": "code",
   "execution_count": null,
   "metadata": {},
   "outputs": [],
   "source": [
    "ia.summary_by_channel().collect()"
   ]
  },
  {
   "cell_type": "markdown",
   "metadata": {},
   "source": [
    "There is also some (basic) support for plotting"
   ]
  },
  {
   "cell_type": "code",
   "execution_count": null,
   "metadata": {},
   "outputs": [],
   "source": [
    "ia.plot.overview()"
   ]
  },
  {
   "cell_type": "code",
   "execution_count": null,
   "metadata": {},
   "outputs": [],
   "source": [
    "ia.plot.trend()"
   ]
  },
  {
   "cell_type": "markdown",
   "metadata": {},
   "source": [
    "# TODO\n",
    "\n",
    "Above seems ok. Maybe control/test confused still. \n",
    "\n",
    "- Double check the numbers against the PDC data also in tests\n",
    "- check All Channel values\n",
    "- Check why there is a null channel\n",
    "- resurrect the calculations from VBD and/or data extracts from the IA UI\n",
    "- put in the client intelligence code for the summaries, generate cache over all clients, not sure about summaries, could be done on-the-fly\n",
    "- make sample notebook more useful with some other sample data\n",
    "\n",
    "\n"
   ]
  },
  {
   "cell_type": "markdown",
   "metadata": {},
   "source": [
    "# Data\n",
    "\n",
    "Export the VBD Actuals dataset (in production) or VBD Scenario Planner Actuals (in BOE) from Pega Dev or App Studio."
   ]
  },
  {
   "cell_type": "code",
   "execution_count": null,
   "metadata": {},
   "outputs": [],
   "source": [
    "from pdstools import read_ds_export\n",
    "from pdstools.utils import cdh_utils\n",
    "# vbd_export_path = pathlib.Path(\n",
    "#     \"~/Downloads/Data-pxStrategyResult_ActualsExport_20240221T204009_GMT.zip\"\n",
    "# ).expanduser()\n",
    "\n",
    "# GRR NONE of these have the required fields - we could assert this...\n",
    "\n",
    "vbd_export_path = pathlib.Path(\n",
    "    \"~/Library/CloudStorage/OneDrive-PegasystemsInc/AI Chapter/projects/Impact Analyzer/VBD_Exports/Data-pxStrategyResult_ScenarioPlannerActuals_20220720T143616_GMT/data.json\"\n",
    ").expanduser()\n",
    "\n",
    "vbd_export = read_ds_export(vbd_export_path).with_columns(\n",
    "    cdh_utils.parse_pega_date_time_formats(\"pxOutcomeTime\").dt.date(),\n",
    ")"
   ]
  },
  {
   "cell_type": "code",
   "execution_count": null,
   "metadata": {},
   "outputs": [],
   "source": [
    "cols = vbd_export.columns\n",
    "cols.sort()\n",
    "cols"
   ]
  },
  {
   "cell_type": "markdown",
   "metadata": {},
   "source": [
    "Fix up some data. **FinalPropensity** is not always in IH, only by customization or starting from v xxx onwards."
   ]
  },
  {
   "cell_type": "code",
   "execution_count": null,
   "metadata": {},
   "outputs": [],
   "source": [
    "if \"FinalPropensity\" not in vbd_export.columns:\n",
    "    vbd_export = vbd_export.with_columns(pl.lit(None).alias(\"FinalPropensity\"))"
   ]
  },
  {
   "cell_type": "markdown",
   "metadata": {},
   "source": [
    "# Control Groups in Impact Analyzer\n",
    "\n",
    "IA uses **pyReason**, **MktType**, **MktValue** and **ModelControlGroup** to define the various experiments. For the standard NBA decisions (no experiment), values are left empty (null). \n",
    "\n",
    "Prior to Impact Analyzer, or when turned off, Predictions from Prediction Studio manage two groups through the **ModelControlGroup** property. A value of **Test** is used for model driven arbitration, **Control** for the random control group (defaults to 2%).\n",
    "\n",
    "When IA is on, the distinct values from just **MktValue** are sufficient to identify the different experiments. In the future, more and custom experiments may be supported.\n",
    "\n",
    "For the full NBA interactions the value of the marker fields is left empty.\n",
    "\n",
    "TODO: NBAHealth_ModelControl_2 is conceptually the same as NBAHealth_PropensityPriority and will be phased out in Pega 24.1/24.2. \n"
   ]
  },
  {
   "cell_type": "markdown",
   "metadata": {},
   "source": [
    "# No-Action \n",
    "\n",
    "The usage of \"Default\" issues and groups indicates that there is no action. These need to be filtered out for proper reporting.\n",
    "\n",
    "TODO: should we exclude these from analysis?\n",
    "\n",
    "TODO: what about things with inactive status? And how can we know?"
   ]
  },
  {
   "cell_type": "code",
   "execution_count": null,
   "metadata": {},
   "outputs": [],
   "source": [
    "vbd_export.group_by([\"pyChannel\", \"pyDirection\", \"pyIssue\", \"pyGroup\"]).agg(\n",
    "    pl.count().alias(\"VBD Records\"),\n",
    "    pl.col(\"AggregateCount\").cast(pl.Int64).sum().alias(\"Actions\"),\n",
    ").with_columns(\n",
    "    (pl.col(\"VBD Records\") / pl.sum(\"VBD Records\"))\n",
    "    .over([\"pyChannel\", \"pyDirection\"])  # Percentages relative to channel\n",
    "    .alias(\"VBD Records Percentage (per channel)\"),\n",
    "    (pl.col(\"Actions\") / pl.sum(\"Actions\"))\n",
    "    .over([\"pyChannel\", \"pyDirection\"])  # Percentages relative to channel\n",
    "    .alias(\"Actions Percentage (per channel)\"),\n",
    ").filter(\n",
    "    (pl.col(\"pyIssue\") == \"Default\") | (pl.col(\"pyGroup\") == \"Default\")\n",
    ").collect()"
   ]
  },
  {
   "cell_type": "markdown",
   "metadata": {},
   "source": [
    "# Lookback Period\n",
    "\n",
    "Impact Analyzer goes back from today's date, also when the data is from an earlier date."
   ]
  },
  {
   "cell_type": "code",
   "execution_count": null,
   "metadata": {},
   "outputs": [],
   "source": [
    "from datetime import datetime\n",
    "\n",
    "\n",
    "lookback = \"-51d\"  # \"-1mo\", \"-2y\", \"-2w\" etc https://docs.pola.rs/py-polars/html/reference/expressions/api/polars.Expr.dt.offset_by.html\n",
    "\n",
    "AvailableDates = (\n",
    "    vbd_export.select(\n",
    "        From=pl.col(\"pxOutcomeTime\").min(),\n",
    "        To=pl.col(\"pxOutcomeTime\").max(),\n",
    "        LookbackFromLastDateInData=pl.col(\"pxOutcomeTime\").max().dt.offset_by(lookback),\n",
    "        LookbackFromNow=pl.lit(datetime.now()).dt.offset_by(lookback).dt.date(),\n",
    "    ).collect()\n",
    "    # .item()\n",
    ")\n",
    "\n",
    "lookback_time = AvailableDates.select(\"LookbackFromLastDateInData\").item()\n",
    "\n",
    "AvailableDates"
   ]
  },
  {
   "cell_type": "markdown",
   "metadata": {},
   "source": [
    "# Impact Analyzer counts by Channel"
   ]
  },
  {
   "cell_type": "code",
   "execution_count": null,
   "metadata": {},
   "outputs": [],
   "source": [
    "optional_mcg = (\n",
    "    [\"ModelControlGroup\"] if \"ModelControlGroup\" in vbd_export.columns else []\n",
    ")\n",
    "\n",
    "ia_summary_by_channel = (\n",
    "    vbd_export.filter(pl.col(\"pxOutcomeTime\") >= lookback_time)\n",
    "    .group_by(\n",
    "        [\n",
    "            \"pyChannel\",\n",
    "            \"pyDirection\",\n",
    "            \"MktType\",\n",
    "            \"MktValue\",\n",
    "            \"pyReason\",\n",
    "            \"pyOutcome\",\n",
    "        ]\n",
    "        + optional_mcg\n",
    "    )\n",
    "    .agg(\n",
    "        pl.col(\"pxOutcomeTime\").max().alias(\"Most Recent Update\"),\n",
    "        pl.count().alias(\"VBD Records\"),\n",
    "        pl.col(\"AggregateCount\").cast(pl.Int64).sum().alias(\"Actions\"),\n",
    "        pl.sum(\"FinalPropensity\"),\n",
    "        pl.sum(\"pyPropensity\"),\n",
    "        pl.sum(\"pxPriority\"),\n",
    "    )\n",
    "    .with_columns(\n",
    "        (pl.col(\"VBD Records\") / pl.sum(\"VBD Records\"))\n",
    "        .over([\"pyChannel\", \"pyDirection\"])  # Percentages relative to channel\n",
    "        .alias(\"VBD Records Percentage (per channel)\"),\n",
    "        (pl.col(\"Actions\") / pl.sum(\"Actions\"))\n",
    "        .over([\"pyChannel\", \"pyDirection\"])  # Percentages relative to channel\n",
    "        .alias(\"Actions Percentage (per channel)\"),\n",
    "        (pl.col(\"FinalPropensity\") / pl.col(\"Actions\")).alias(\"Avg FinalPropensity\"),\n",
    "        (pl.col(\"pyPropensity\") / pl.col(\"Actions\")).alias(\"Avg pyPropensity\"),\n",
    "        (pl.col(\"pxPriority\") / pl.col(\"Actions\")).alias(\"Avg pxPriority\"),\n",
    "    )\n",
    "    .drop([\"FinalPropensity\", \"pyPropensity\", \"pxPriority\"])\n",
    "    .join(\n",
    "        default_ia_experiments.lazy(),\n",
    "        how=\"left\",\n",
    "        on=[\"MktValue\", \"MktType\", \"pyReason\"],\n",
    "        nulls_equal=True,\n",
    "    )\n",
    "    .sort(\n",
    "        [\n",
    "            \"pyChannel\",\n",
    "            \"pyDirection\",\n",
    "            \"Experiment\",\n",
    "        ]\n",
    "        + optional_mcg,\n",
    "        nulls_last=True,\n",
    "    )\n",
    ")\n",
    "\n",
    "\n",
    "def highlight(s):\n",
    "    if s.Experiment is None:\n",
    "        return [\"background-color: orange\"] * len(s)\n",
    "    else:\n",
    "        return [\"background-color: white\"] * len(s)\n",
    "\n",
    "\n",
    "ia_summary_by_channel_formatted = (\n",
    "    ia_summary_by_channel.filter(pl.col(\"pyChannel\") == \"Web\")\n",
    "    .collect()\n",
    "    .to_pandas()\n",
    "    .style.format(\n",
    "        {\n",
    "            \"Avg FinalPropensity\": \"{:.2%}\",\n",
    "            \"Avg pyPropensity\": \"{:.2%}\",\n",
    "            \"Avg pxPriority\": \"{:.3f}\",\n",
    "            \"VBD Records Percentage (per channel)\": \"{:.2%}\",\n",
    "            \"Actions Percentage (per channel)\": \"{:.2%}\",\n",
    "            \"Most Recent Update\": \"{:%d %b '%y}\",\n",
    "        }\n",
    "    )\n",
    "    .hide(axis=\"index\")\n",
    "    .hide([\"Description\", \"VBD Records Percentage (per channel)\"], axis=\"columns\")\n",
    "    .set_caption(\"Experiment Summary:\")\n",
    "    .apply(highlight, axis=1)\n",
    ")\n",
    "\n",
    "ia_summary_by_channel_formatted"
   ]
  },
  {
   "cell_type": "markdown",
   "metadata": {},
   "source": [
    "# KPIs per Channel"
   ]
  },
  {
   "cell_type": "code",
   "execution_count": null,
   "metadata": {},
   "outputs": [],
   "source": [
    "# ia_summary_by_channel.collect().pivot(\"pyOutcome\")\n",
    "# xxx = set(ia_summary_by_channel.columns)\n",
    "# xxx.remove('pyOutcome')\n",
    "import pandas as pd\n",
    "\n",
    "group_by_cols = [\n",
    "    \"pyChannel\",\n",
    "    \"pyDirection\",\n",
    "    # \"MktType\",\n",
    "    \"Experiment\",\n",
    "    \"MktValue\",\n",
    "    # \"pyReason\",\n",
    "] + optional_mcg\n",
    "\n",
    "engagement_overview = (\n",
    "    ia_summary_by_channel.collect()\n",
    "    .pivot(\n",
    "        index=group_by_cols,\n",
    "        columns=\"pyOutcome\",\n",
    "        values=\"Actions\",\n",
    "        aggregate_function=\"sum\",\n",
    "        sort_columns=True,\n",
    "    )\n",
    "    .with_columns(cs.numeric().fill_null(0))\n",
    ")\n",
    "\n",
    "positive_labels = [\n",
    "    label\n",
    "    for label in [\"Clicked\", \"Accept\", \"Accepted\"]\n",
    "    if label in engagement_overview.columns\n",
    "]\n",
    "negative_labels = [\n",
    "    label for label in [\"Impression\"] if label in engagement_overview.columns\n",
    "]\n",
    "\n",
    "pos_expr = pl.lit(0.0)\n",
    "for label in positive_labels:\n",
    "    pos_expr = pos_expr + pl.col(label)\n",
    "neg_expr = pl.lit(0.0)\n",
    "for label in negative_labels:\n",
    "    neg_expr = neg_expr + pl.col(label)\n",
    "\n",
    "\n",
    "engagement_overview = (\n",
    "    engagement_overview.with_columns(\n",
    "        Positives=pos_expr.cast(pl.Int64),\n",
    "        Negatives=neg_expr.cast(pl.Int64),\n",
    "        CTR=(pos_expr / (pos_expr + neg_expr)),\n",
    "    ).with_columns(\n",
    "        CTR_Lift_vs_NBA=(\n",
    "            pl.col(\"CTR\")\n",
    "            / pl.repeat(\n",
    "                (pl.col(\"CTR\").filter(pl.col(\"MktValue\").is_null())), pl.count()\n",
    "            )\n",
    "            - 1.0\n",
    "        ).over([\"pyChannel\", \"pyDirection\"])\n",
    "    )\n",
    "    # .with_columns(\n",
    "    #     CTR_Lift_vs_NBA=(pl.col(\"CTR\")\n",
    "    #     / (pl.col(\"CTR\").filter(pl.col(\"MktValue\").is_null()))\n",
    "    #     - 1.0).over([\"pyChannel\", \"pyDirection\"])\n",
    "    # )\n",
    "    .sort([\"pyChannel\", \"pyDirection\", \"Experiment\"] + optional_mcg)\n",
    ")\n",
    "\n",
    "\n",
    "def set_background_col(s, color):\n",
    "    return \"background-color: %s\" % color\n",
    "\n",
    "\n",
    "def set_font_weight(val, weight=\"bold\"):\n",
    "    return \"font-weight: %s\" % weight\n",
    "\n",
    "\n",
    "engagement_overview.to_pandas().style.hide().applymap(\n",
    "    set_background_col,\n",
    "    subset=pd.IndexSlice[:, positive_labels + [\"Positives\"]],\n",
    "    color=\"mediumseagreen\",\n",
    ").applymap(\n",
    "    set_background_col,\n",
    "    subset=pd.IndexSlice[:, negative_labels + [\"Negatives\"]],\n",
    "    color=\"tomato\",\n",
    ").applymap(\n",
    "    set_background_col,\n",
    "    subset=pd.IndexSlice[:, [\"CTR\", \"CTR_Lift_vs_NBA\"]],\n",
    "    color=\"orange\",\n",
    ").applymap(\n",
    "    set_font_weight, subset=pd.IndexSlice[:, [\"pyChannel\", \"pyDirection\", \"Experiment\"]]\n",
    ").format(\n",
    "    {\"CTR\": \"{:,.3%}\".format}\n",
    ")"
   ]
  },
  {
   "cell_type": "markdown",
   "metadata": {},
   "source": [
    "# Aggregated over all channels"
   ]
  },
  {
   "cell_type": "code",
   "execution_count": null,
   "metadata": {},
   "outputs": [],
   "source": [
    "import pandas as pd\n",
    "\n",
    "\n",
    "top_level_dashboard = (\n",
    "    engagement_overview.group_by([\"Experiment\", \"MktValue\"] + optional_mcg)\n",
    "    .agg(cs.numeric().sum())\n",
    "    .with_columns(\n",
    "        Positives=pos_expr.cast(pl.Int64),\n",
    "        Negatives=neg_expr.cast(pl.Int64),\n",
    "        CTR=(pos_expr / (pos_expr + neg_expr)),\n",
    "    )\n",
    "    .with_columns(\n",
    "        CTR_Lift_vs_NBA=pl.col(\"CTR\")\n",
    "        / (pl.col(\"CTR\").filter(pl.col(\"MktValue\").is_null()))\n",
    "        - 1.0\n",
    "    )\n",
    "    .sort([\"Experiment\"] + optional_mcg)\n",
    ")\n",
    "\n",
    "top_level_dashboard.to_pandas().style.hide().applymap(\n",
    "    set_background_col,\n",
    "    subset=pd.IndexSlice[:, positive_labels + [\"Positives\"]],\n",
    "    color=\"mediumseagreen\",\n",
    ").applymap(\n",
    "    set_background_col,\n",
    "    subset=pd.IndexSlice[:, negative_labels + [\"Negatives\"]],\n",
    "    color=\"tomato\",\n",
    ").applymap(\n",
    "    set_background_col,\n",
    "    subset=pd.IndexSlice[:, [\"CTR\", \"CTR_Lift_vs_NBA\"]],\n",
    "    color=\"orange\",\n",
    ").applymap(\n",
    "    set_font_weight, subset=pd.IndexSlice[:, [\"Experiment\"]]\n",
    ").format(\n",
    "    {\"CTR\": \"{:,.3%}\".format}\n",
    ")"
   ]
  },
  {
   "cell_type": "markdown",
   "metadata": {},
   "source": [
    "# Lift\n",
    "\n",
    "Engagement Lift is calculated as (SuccessRate(test) - SuccessRate(control))/SuccessRate(control)\n",
    "\n",
    "Value Lift is calculated as (ValueCapture(test) - ValueCapture(control))/ValueCapture(control)\n",
    "\n",
    "TODO replicate IA tiles\n",
    "\n",
    "For value, aggregting the Value property\n"
   ]
  }
 ],
 "metadata": {
  "kernelspec": {
   "display_name": ".venv",
   "language": "python",
   "name": "python3"
  },
  "language_info": {
   "codemirror_mode": {
    "name": "ipython",
    "version": 3
   },
   "file_extension": ".py",
   "mimetype": "text/x-python",
   "name": "python",
   "nbconvert_exporter": "python",
   "pygments_lexer": "ipython3",
   "version": "3.12.6"
  }
 },
 "nbformat": 4,
 "nbformat_minor": 2
}
