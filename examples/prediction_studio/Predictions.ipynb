{
 "cells": [
  {
   "cell_type": "markdown",
   "metadata": {},
   "source": [
    "# Predictions Overview\n",
    "\n",
    "__Pega__\n",
    "\n",
    "__2024-12-04__\n",
    "\n",
    "This is a small notebook to report and analyse Prediction Studio data on Predictions. The underlying data is from the Data-DM-Snapshot table that is used to populate the Prediction Studio screen with Prediction Performance, Lift, CTR etc.\n",
    "\n",
    "As data this notebook accept data exported from PDC - which has a slightly altered format - as well as data directly exported from the pyGetSnapshot dataset in Pega.\n",
    "\n",
    "For a description of the datamart tables see https://docs-previous.pega.com/decision-management/87/database-tables-monitoring-models.\n",
    "\n",
    "Disclaimer: this is not a canned, robust and customer-facing notebook (yet). It's mostly used internally to validate Prediction data. Column names and file formats may need some more review to make it more robust."
   ]
  },
  {
   "cell_type": "markdown",
   "metadata": {},
   "source": [
    "## Raw data\n",
    "\n",
    "First, we're going to show the raw data as . The raw data is in a \"long\" format with e.g. test and control groups in separate rows."
   ]
  },
  {
   "cell_type": "code",
   "execution_count": 1,
   "metadata": {},
   "outputs": [],
   "source": [
    "from pathlib import Path\n",
    "from pdstools import Prediction\n",
    "\n",
    "# path to dataset export here\n",
    "# e.g. PR_DATA_DM_SNAPSHOTS.parquet\n",
    "data_export = \"<YOUR DATA HERE>\"\n",
    "\n",
    "if Path(data_export).exists():\n",
    "    prediction = Prediction.from_ds_export(data_export)\n",
    "else:\n",
    "    prediction = Prediction.from_mock_data(days=60)\n"
   ]
  },
  {
   "cell_type": "markdown",
   "metadata": {},
   "source": [
    "## Prediction Data\n",
    "\n",
    "The actual prediction data is in a \"wide\" format with separate fields for Test and Control groups. Also, it is only the \"daily\" snapshots and the numbers and date are formatted to be normal Polars types."
   ]
  },
  {
   "cell_type": "code",
   "execution_count": 2,
   "metadata": {},
   "outputs": [
    {
     "data": {
      "text/html": [
       "<div><style>\n",
       ".dataframe > thead > tr,\n",
       ".dataframe > tbody > tr {\n",
       "  text-align: right;\n",
       "  white-space: pre-wrap;\n",
       "}\n",
       "</style>\n",
       "<small>shape: (5, 23)</small><table border=\"1\" class=\"dataframe\"><thead><tr><th>pyModelId</th><th>SnapshotTime</th><th>Positives</th><th>Negatives</th><th>ResponseCount</th><th>Performance</th><th>Positives_Test</th><th>Negatives_Test</th><th>ResponseCount_Test</th><th>Positives_Control</th><th>Negatives_Control</th><th>ResponseCount_Control</th><th>Positives_NBA</th><th>Negatives_NBA</th><th>ResponseCount_NBA</th><th>Class</th><th>ModelName</th><th>CTR</th><th>CTR_Test</th><th>CTR_Control</th><th>CTR_NBA</th><th>CTR_Lift</th><th>isValidPrediction</th></tr><tr><td>str</td><td>date</td><td>f64</td><td>i64</td><td>f64</td><td>f32</td><td>f64</td><td>i64</td><td>f64</td><td>f64</td><td>i64</td><td>f64</td><td>f64</td><td>i64</td><td>f64</td><td>str</td><td>str</td><td>f64</td><td>f64</td><td>f64</td><td>f64</td><td>f64</td><td>bool</td></tr></thead><tbody><tr><td>&quot;DATA-DECISION-REQUEST-CUSTOMER…</td><td>2025-05-25</td><td>150.0</td><td>6000</td><td>6150.0</td><td>70.0</td><td>250.0</td><td>6000</td><td>6250.0</td><td>120.0</td><td>6000</td><td>6120.0</td><td>150.0</td><td>6000</td><td>6150.0</td><td>&quot;DATA-DECISION-REQUEST-CUSTOMER&quot;</td><td>&quot;PREDICTMOBILEPROPENSITY&quot;</td><td>0.02439</td><td>0.04</td><td>0.019608</td><td>0.02439</td><td>1.04</td><td>true</td></tr><tr><td>&quot;DATA-DECISION-REQUEST-CUSTOMER…</td><td>2025-05-25</td><td>250.0</td><td>6000</td><td>6250.0</td><td>70.0</td><td>250.0</td><td>6000</td><td>6250.0</td><td>120.0</td><td>6000</td><td>6120.0</td><td>150.0</td><td>6000</td><td>6150.0</td><td>&quot;DATA-DECISION-REQUEST-CUSTOMER&quot;</td><td>&quot;PREDICTMOBILEPROPENSITY&quot;</td><td>0.04</td><td>0.04</td><td>0.019608</td><td>0.02439</td><td>1.04</td><td>true</td></tr><tr><td>&quot;DATA-DECISION-REQUEST-CUSTOMER…</td><td>2025-05-25</td><td>120.0</td><td>6000</td><td>6120.0</td><td>70.0</td><td>250.0</td><td>6000</td><td>6250.0</td><td>120.0</td><td>6000</td><td>6120.0</td><td>150.0</td><td>6000</td><td>6150.0</td><td>&quot;DATA-DECISION-REQUEST-CUSTOMER&quot;</td><td>&quot;PREDICTMOBILEPROPENSITY&quot;</td><td>0.019608</td><td>0.04</td><td>0.019608</td><td>0.02439</td><td>1.04</td><td>true</td></tr><tr><td>&quot;DATA-DECISION-REQUEST-CUSTOMER…</td><td>2025-05-26</td><td>120.0</td><td>6000</td><td>6120.0</td><td>70.05085</td><td>250.847458</td><td>6000</td><td>6250.847458</td><td>120.0</td><td>6000</td><td>6120.0</td><td>150.0</td><td>6000</td><td>6150.0</td><td>&quot;DATA-DECISION-REQUEST-CUSTOMER&quot;</td><td>&quot;PREDICTMOBILEPROPENSITY&quot;</td><td>0.019608</td><td>0.04013</td><td>0.019608</td><td>0.02439</td><td>1.046638</td><td>true</td></tr><tr><td>&quot;DATA-DECISION-REQUEST-CUSTOMER…</td><td>2025-05-26</td><td>250.847458</td><td>6000</td><td>6250.847458</td><td>70.05085</td><td>250.847458</td><td>6000</td><td>6250.847458</td><td>120.0</td><td>6000</td><td>6120.0</td><td>150.0</td><td>6000</td><td>6150.0</td><td>&quot;DATA-DECISION-REQUEST-CUSTOMER&quot;</td><td>&quot;PREDICTMOBILEPROPENSITY&quot;</td><td>0.04013</td><td>0.04013</td><td>0.019608</td><td>0.02439</td><td>1.046638</td><td>true</td></tr></tbody></table></div>"
      ],
      "text/plain": [
       "shape: (5, 23)\n",
       "┌────────────┬────────────┬───────────┬───────────┬───┬───────────┬─────────┬──────────┬───────────┐\n",
       "│ pyModelId  ┆ SnapshotTi ┆ Positives ┆ Negatives ┆ … ┆ CTR_Contr ┆ CTR_NBA ┆ CTR_Lift ┆ isValidPr │\n",
       "│ ---        ┆ me         ┆ ---       ┆ ---       ┆   ┆ ol        ┆ ---     ┆ ---      ┆ ediction  │\n",
       "│ str        ┆ ---        ┆ f64       ┆ i64       ┆   ┆ ---       ┆ f64     ┆ f64      ┆ ---       │\n",
       "│            ┆ date       ┆           ┆           ┆   ┆ f64       ┆         ┆          ┆ bool      │\n",
       "╞════════════╪════════════╪═══════════╪═══════════╪═══╪═══════════╪═════════╪══════════╪═══════════╡\n",
       "│ DATA-DECIS ┆ 2025-05-25 ┆ 150.0     ┆ 6000      ┆ … ┆ 0.019608  ┆ 0.02439 ┆ 1.04     ┆ true      │\n",
       "│ ION-REQUES ┆            ┆           ┆           ┆   ┆           ┆         ┆          ┆           │\n",
       "│ T-CUSTOMER ┆            ┆           ┆           ┆   ┆           ┆         ┆          ┆           │\n",
       "│ …          ┆            ┆           ┆           ┆   ┆           ┆         ┆          ┆           │\n",
       "│ DATA-DECIS ┆ 2025-05-25 ┆ 250.0     ┆ 6000      ┆ … ┆ 0.019608  ┆ 0.02439 ┆ 1.04     ┆ true      │\n",
       "│ ION-REQUES ┆            ┆           ┆           ┆   ┆           ┆         ┆          ┆           │\n",
       "│ T-CUSTOMER ┆            ┆           ┆           ┆   ┆           ┆         ┆          ┆           │\n",
       "│ …          ┆            ┆           ┆           ┆   ┆           ┆         ┆          ┆           │\n",
       "│ DATA-DECIS ┆ 2025-05-25 ┆ 120.0     ┆ 6000      ┆ … ┆ 0.019608  ┆ 0.02439 ┆ 1.04     ┆ true      │\n",
       "│ ION-REQUES ┆            ┆           ┆           ┆   ┆           ┆         ┆          ┆           │\n",
       "│ T-CUSTOMER ┆            ┆           ┆           ┆   ┆           ┆         ┆          ┆           │\n",
       "│ …          ┆            ┆           ┆           ┆   ┆           ┆         ┆          ┆           │\n",
       "│ DATA-DECIS ┆ 2025-05-26 ┆ 120.0     ┆ 6000      ┆ … ┆ 0.019608  ┆ 0.02439 ┆ 1.046638 ┆ true      │\n",
       "│ ION-REQUES ┆            ┆           ┆           ┆   ┆           ┆         ┆          ┆           │\n",
       "│ T-CUSTOMER ┆            ┆           ┆           ┆   ┆           ┆         ┆          ┆           │\n",
       "│ …          ┆            ┆           ┆           ┆   ┆           ┆         ┆          ┆           │\n",
       "│ DATA-DECIS ┆ 2025-05-26 ┆ 250.84745 ┆ 6000      ┆ … ┆ 0.019608  ┆ 0.02439 ┆ 1.046638 ┆ true      │\n",
       "│ ION-REQUES ┆            ┆ 8         ┆           ┆   ┆           ┆         ┆          ┆           │\n",
       "│ T-CUSTOMER ┆            ┆           ┆           ┆   ┆           ┆         ┆          ┆           │\n",
       "│ …          ┆            ┆           ┆           ┆   ┆           ┆         ┆          ┆           │\n",
       "└────────────┴────────────┴───────────┴───────────┴───┴───────────┴─────────┴──────────┴───────────┘"
      ]
     },
     "execution_count": 2,
     "metadata": {},
     "output_type": "execute_result"
    }
   ],
   "source": [
    "prediction.predictions.head().collect()"
   ]
  },
  {
   "cell_type": "markdown",
   "metadata": {},
   "source": [
    "## Summary by Channel\n",
    "\n",
    "Standard functionality exists to summarize the predictions per channel. Note that we do not have the prediction to channel mapping in the data (this is an outstanding product issue), so apply the implicit naming conventions of NBAD. For a specific customer, custom mappings can be passed into the summarization function."
   ]
  },
  {
   "cell_type": "code",
   "execution_count": 3,
   "metadata": {},
   "outputs": [
    {
     "data": {
      "text/html": [
       "<div><style>\n",
       ".dataframe > thead > tr,\n",
       ".dataframe > tbody > tr {\n",
       "  text-align: right;\n",
       "  white-space: pre-wrap;\n",
       "}\n",
       "</style>\n",
       "<small>shape: (3, 28)</small><table border=\"1\" class=\"dataframe\"><thead><tr><th>Prediction</th><th>Channel</th><th>Direction</th><th>usesNBAD</th><th>isMultiChannel</th><th>DateRange Min</th><th>DateRange Max</th><th>Duration</th><th>Performance</th><th>Positives</th><th>Negatives</th><th>Responses</th><th>Positives_Test</th><th>Positives_Control</th><th>Positives_NBA</th><th>Negatives_Test</th><th>Negatives_Control</th><th>Negatives_NBA</th><th>usesImpactAnalyzer</th><th>ControlPercentage</th><th>TestPercentage</th><th>CTR</th><th>CTR_Test</th><th>CTR_Control</th><th>CTR_NBA</th><th>ChannelDirectionGroup</th><th>isValid</th><th>Lift</th></tr><tr><td>str</td><td>str</td><td>str</td><td>bool</td><td>bool</td><td>date</td><td>date</td><td>i64</td><td>f64</td><td>f64</td><td>i64</td><td>f64</td><td>f64</td><td>f64</td><td>f64</td><td>i64</td><td>i64</td><td>i64</td><td>bool</td><td>f64</td><td>f64</td><td>f64</td><td>f64</td><td>f64</td><td>f64</td><td>str</td><td>bool</td><td>f64</td></tr></thead><tbody><tr><td>&quot;PREDICTMOBILEPROPENSITY&quot;</td><td>&quot;Mobile&quot;</td><td>&quot;Inbound&quot;</td><td>true</td><td>false</td><td>2025-05-25</td><td>2025-07-23</td><td>5097600</td><td>71.500697</td><td>32700.0</td><td>1080000</td><td>1.1127e6</td><td>49500.0</td><td>21600.0</td><td>27000.0</td><td>1080000</td><td>1080000</td><td>1080000</td><td>true</td><td>33.000809</td><td>33.836614</td><td>0.029388</td><td>0.043825</td><td>0.019608</td><td>0.02439</td><td>&quot;Mobile/Inbound&quot;</td><td>true</td><td>1.23506</td></tr><tr><td>&quot;PREDICTOUTBOUNDEMAILPROPENSITY&quot;</td><td>&quot;E-mail&quot;</td><td>&quot;Outbound&quot;</td><td>true</td><td>false</td><td>2025-05-25</td><td>2025-07-23</td><td>5097600</td><td>62.500567</td><td>24000.0</td><td>1800000</td><td>1.8240e6</td><td>32400.0</td><td>18000.0</td><td>21600.0</td><td>1800000</td><td>1800000</td><td>1800000</td><td>true</td><td>33.223684</td><td>33.486842</td><td>0.013158</td><td>0.017682</td><td>0.009901</td><td>0.011858</td><td>&quot;E-mail/Outbound&quot;</td><td>true</td><td>0.785855</td></tr><tr><td>&quot;PREDICTWEBPROPENSITY&quot;</td><td>&quot;Web&quot;</td><td>&quot;Inbound&quot;</td><td>true</td><td>false</td><td>2025-05-25</td><td>2025-07-23</td><td>5097600</td><td>67.001637</td><td>379200.0</td><td>7200000</td><td>7.5792e6</td><td>612000.0</td><td>252000.0</td><td>273600.0</td><td>7200000</td><td>7200000</td><td>7200000</td><td>true</td><td>32.773908</td><td>34.357188</td><td>0.050032</td><td>0.078341</td><td>0.033816</td><td>0.036609</td><td>&quot;Web/Inbound&quot;</td><td>true</td><td>1.316656</td></tr></tbody></table></div>"
      ],
      "text/plain": [
       "shape: (3, 28)\n",
       "┌──────────────┬─────────┬───────────┬──────────┬───┬──────────┬──────────────┬─────────┬──────────┐\n",
       "│ Prediction   ┆ Channel ┆ Direction ┆ usesNBAD ┆ … ┆ CTR_NBA  ┆ ChannelDirec ┆ isValid ┆ Lift     │\n",
       "│ ---          ┆ ---     ┆ ---       ┆ ---      ┆   ┆ ---      ┆ tionGroup    ┆ ---     ┆ ---      │\n",
       "│ str          ┆ str     ┆ str       ┆ bool     ┆   ┆ f64      ┆ ---          ┆ bool    ┆ f64      │\n",
       "│              ┆         ┆           ┆          ┆   ┆          ┆ str          ┆         ┆          │\n",
       "╞══════════════╪═════════╪═══════════╪══════════╪═══╪══════════╪══════════════╪═════════╪══════════╡\n",
       "│ PREDICTMOBIL ┆ Mobile  ┆ Inbound   ┆ true     ┆ … ┆ 0.02439  ┆ Mobile/Inbou ┆ true    ┆ 1.23506  │\n",
       "│ EPROPENSITY  ┆         ┆           ┆          ┆   ┆          ┆ nd           ┆         ┆          │\n",
       "│ PREDICTOUTBO ┆ E-mail  ┆ Outbound  ┆ true     ┆ … ┆ 0.011858 ┆ E-mail/Outbo ┆ true    ┆ 0.785855 │\n",
       "│ UNDEMAILPROP ┆         ┆           ┆          ┆   ┆          ┆ und          ┆         ┆          │\n",
       "│ ENSITY       ┆         ┆           ┆          ┆   ┆          ┆              ┆         ┆          │\n",
       "│ PREDICTWEBPR ┆ Web     ┆ Inbound   ┆ true     ┆ … ┆ 0.036609 ┆ Web/Inbound  ┆ true    ┆ 1.316656 │\n",
       "│ OPENSITY     ┆         ┆           ┆          ┆   ┆          ┆              ┆         ┆          │\n",
       "└──────────────┴─────────┴───────────┴──────────┴───┴──────────┴──────────────┴─────────┴──────────┘"
      ]
     },
     "execution_count": 3,
     "metadata": {},
     "output_type": "execute_result"
    }
   ],
   "source": [
    "prediction.summary_by_channel().collect()"
   ]
  },
  {
   "cell_type": "markdown",
   "metadata": {},
   "source": [
    "# Prediction Trends\n",
    "\n",
    "Summarization by default is over all time. You can pass in an argument to summarize by day, week or any other period as supported by the (Polars time offset string language)[https://docs.pola.rs/api/python/stable/reference/expressions/api/polars.Expr.dt.offset_by.html].\n",
    "\n",
    "This trend data can then easily be visualized."
   ]
  },
  {
   "cell_type": "code",
   "execution_count": 4,
   "metadata": {},
   "outputs": [
    {
     "data": {
      "application/vnd.plotly.v1+json": {
       "config": {
        "plotlyServerURL": "https://plot.ly"
       },
       "data": [
        {
         "customdata": [
          [
           "1 days",
           520,
           18000,
           750,
           18000,
           0.04,
           360,
           18000,
           0.0196078431372549,
           450,
           18000,
           0.024390243902439025
          ],
          [
           "7 days",
           3663.728813559322,
           126000,
           5321.186440677965,
           126000,
           0.0405203957175769,
           2520,
           126000,
           0.0196078431372549,
           3150,
           126000,
           0.024390243902439025
          ],
          [
           "7 days",
           3705.2542372881358,
           126000,
           5445.762711864408,
           126000,
           0.04142973192526402,
           2520,
           126000,
           0.0196078431372549,
           3150,
           126000,
           0.024390243902439025
          ],
          [
           "7 days",
           3746.7796610169494,
           126000,
           5570.3389830508495,
           126000,
           0.04233734613823889,
           2520,
           126000,
           0.0196078431372549,
           3150,
           126000,
           0.024390243902439025
          ],
          [
           "7 days",
           3788.305084745763,
           126000,
           5694.915254237286,
           126000,
           0.04324324324324323,
           2520,
           126000,
           0.0196078431372549,
           3150,
           126000,
           0.024390243902439025
          ],
          [
           "7 days",
           3829.830508474576,
           126000,
           5819.4915254237285,
           126000,
           0.044147428108545966,
           2520,
           126000,
           0.0196078431372549,
           3150,
           126000,
           0.024390243902439025
          ],
          [
           "7 days",
           3871.3559322033893,
           126000,
           5944.06779661017,
           126000,
           0.045049905584030214,
           2520,
           126000,
           0.0196078431372549,
           3150,
           126000,
           0.024390243902439025
          ],
          [
           "7 days",
           3912.8813559322034,
           126000,
           6068.644067796611,
           126000,
           0.04595068050128016,
           2520,
           126000,
           0.0196078431372549,
           3150,
           126000,
           0.024390243902439025
          ],
          [
           "7 days",
           3954.406779661017,
           126000,
           6193.22033898305,
           126000,
           0.0468497576736672,
           2520,
           126000,
           0.0196078431372549,
           3150,
           126000,
           0.024390243902439025
          ],
          [
           "3 days",
           1707.4576271186443,
           54000,
           2692.372881355932,
           54000,
           0.047490918875285885,
           1080,
           54000,
           0.0196078431372549,
           1350,
           54000,
           0.024390243902439025
          ]
         ],
         "hovertemplate": "Prediction=Mobile (PREDICTMOBILEPROPENSITY)<br>Date=%{x}<br>Performance=%{y}<br>Period=%{customdata[0]}<br>Positives=%{customdata[1]}<br>Negatives=%{customdata[2]}<br>Positives_Test=%{customdata[3]}<br>Negatives_Test=%{customdata[4]}<br>CTR_Test=%{customdata[5]:.3%}<br>Positives_Control=%{customdata[6]}<br>Negatives_Control=%{customdata[7]}<br>CTR_Control=%{customdata[8]:.3%}<br>Positives_NBA=%{customdata[9]}<br>Negatives_NBA=%{customdata[10]}<br>CTR_NBA=%{customdata[11]:.3%}<extra></extra>",
         "legendgroup": "Mobile (PREDICTMOBILEPROPENSITY)",
         "line": {
          "color": "#001F5F",
          "dash": "solid"
         },
         "marker": {
          "symbol": "circle"
         },
         "mode": "lines+markers",
         "name": "Mobile (PREDICTMOBILEPROPENSITY)",
         "orientation": "v",
         "showlegend": true,
         "type": "scatter",
         "x": [
          "2025-05-25",
          "2025-05-26",
          "2025-06-02",
          "2025-06-09",
          "2025-06-16",
          "2025-06-23",
          "2025-06-30",
          "2025-07-07",
          "2025-07-14",
          "2025-07-21"
         ],
         "xaxis": "x",
         "y": {
          "bdata": "AAAAAACAUUAG1uJ9BI1RQLXHKBDMo1FAWJUlsJO6UUCHw/1GW9FRQJ8N1t0i6FFAZgEccOr+UUAh0RgQshVSQGwB8aZ5LFJAu8An8b48UkA=",
          "dtype": "f8"
         },
         "yaxis": "y"
        },
        {
         "customdata": [
          [
           "1 days",
           380,
           30000,
           480,
           30000,
           0.015748031496062992,
           300,
           30000,
           0.009900990099009901,
           360,
           30000,
           0.011857707509881422
          ],
          [
           "7 days",
           2678.983050847457,
           210000,
           3416.9491525423714,
           210000,
           0.016010673782521676,
           2100,
           210000,
           0.009900990099009901,
           2520,
           210000,
           0.011857707509881422
          ],
          [
           "7 days",
           2712.2033898305085,
           210000,
           3516.6101694915264,
           210000,
           0.01646996065879843,
           2100,
           210000,
           0.009900990099009901,
           2520,
           210000,
           0.011857707509881422
          ],
          [
           "7 days",
           2745.4237288135596,
           210000,
           3616.271186440678,
           210000,
           0.016928818981604903,
           2100,
           210000,
           0.009900990099009901,
           2520,
           210000,
           0.011857707509881422
          ],
          [
           "7 days",
           2778.6440677966098,
           210000,
           3715.9322033898284,
           210000,
           0.017387249350476308,
           2100,
           210000,
           0.009900990099009901,
           2520,
           210000,
           0.011857707509881422
          ],
          [
           "7 days",
           2811.864406779661,
           210000,
           3815.593220338984,
           210000,
           0.017845252363830076,
           2100,
           210000,
           0.009900990099009901,
           2520,
           210000,
           0.011857707509881422
          ],
          [
           "7 days",
           2845.084745762712,
           210000,
           3915.2542372881358,
           210000,
           0.018302828618968387,
           2100,
           210000,
           0.009900990099009901,
           2520,
           210000,
           0.011857707509881422
          ],
          [
           "7 days",
           2878.3050847457625,
           210000,
           4014.9152542372876,
           210000,
           0.018759978712080894,
           2100,
           210000,
           0.009900990099009901,
           2520,
           210000,
           0.011857707509881422
          ],
          [
           "7 days",
           2911.5254237288136,
           210000,
           4114.576271186441,
           210000,
           0.019216703238247226,
           2100,
           210000,
           0.009900990099009901,
           2520,
           210000,
           0.011857707509881422
          ],
          [
           "3 days",
           1257.9661016949153,
           90000,
           1793.8983050847457,
           90000,
           0.019542674820526455,
           900,
           90000,
           0.009900990099009901,
           1080,
           90000,
           0.011857707509881422
          ]
         ],
         "hovertemplate": "Prediction=E-mail (PREDICTOUTBOUNDEMAILPROPENSITY)<br>Date=%{x}<br>Performance=%{y}<br>Period=%{customdata[0]}<br>Positives=%{customdata[1]}<br>Negatives=%{customdata[2]}<br>Positives_Test=%{customdata[3]}<br>Negatives_Test=%{customdata[4]}<br>CTR_Test=%{customdata[5]:.3%}<br>Positives_Control=%{customdata[6]}<br>Negatives_Control=%{customdata[7]}<br>CTR_Control=%{customdata[8]:.3%}<br>Positives_NBA=%{customdata[9]}<br>Negatives_NBA=%{customdata[10]}<br>CTR_NBA=%{customdata[11]:.3%}<extra></extra>",
         "legendgroup": "E-mail (PREDICTOUTBOUNDEMAILPROPENSITY)",
         "line": {
          "color": "#10A5AC",
          "dash": "solid"
         },
         "marker": {
          "symbol": "circle"
         },
         "mode": "lines+markers",
         "name": "E-mail (PREDICTOUTBOUNDEMAILPROPENSITY)",
         "orientation": "v",
         "showlegend": true,
         "type": "scatter",
         "x": [
          "2025-05-25",
          "2025-05-26",
          "2025-06-02",
          "2025-06-09",
          "2025-06-16",
          "2025-06-23",
          "2025-06-30",
          "2025-07-07",
          "2025-07-14",
          "2025-07-21"
         ],
         "xaxis": "x",
         "y": {
          "bdata": "AAAAAAAATkAMtCoNZCtOQMBzurFSd05Aguq3UUHDTkBy+tn6Lw9PQG7BaZ8eW09AQ3v5Qw2nT0DvJ4no+/JPQFqm1Uh1H1BAAA1IhZM6UEA=",
          "dtype": "f8"
         },
         "yaxis": "y"
        },
        {
         "customdata": [
          [
           "1 days",
           5720,
           120000,
           8400,
           120000,
           0.06542056074766354,
           4200,
           120000,
           0.033816425120772944,
           4560,
           120000,
           0.036608863198458574
          ],
          [
           "7 days",
           40609.491525423735,
           840000,
           60508.47457627118,
           840000,
           0.06719367588932806,
           29400,
           840000,
           0.033816425120772944,
           31920,
           840000,
           0.036608863198458574
          ],
          [
           "7 days",
           41606.101694915254,
           840000,
           63498.30508474576,
           840000,
           0.07028049164828239,
           29400,
           840000,
           0.033816425120772944,
           31920,
           840000,
           0.036608863198458574
          ],
          [
           "7 days",
           42602.71186440678,
           840000,
           66488.13559322033,
           840000,
           0.0733469451861159,
           29400,
           840000,
           0.033816425120772944,
           31920,
           840000,
           0.036608863198458574
          ],
          [
           "7 days",
           43599.32203389831,
           840000,
           69477.96610169492,
           840000,
           0.07639323731997497,
           29400,
           840000,
           0.033816425120772944,
           31920,
           840000,
           0.036608863198458574
          ],
          [
           "7 days",
           44595.93220338983,
           840000,
           72467.79661016949,
           840000,
           0.07941956623498206,
           29400,
           840000,
           0.033816425120772944,
           31920,
           840000,
           0.036608863198458574
          ],
          [
           "7 days",
           45592.542372881355,
           840000,
           75457.62711864409,
           840000,
           0.08242612752721619,
           29400,
           840000,
           0.033816425120772944,
           31920,
           840000,
           0.036608863198458574
          ],
          [
           "7 days",
           46589.15254237288,
           840000,
           78447.45762711864,
           840000,
           0.08541311424585335,
           29400,
           840000,
           0.033816425120772944,
           31920,
           840000,
           0.036608863198458574
          ],
          [
           "7 days",
           47585.7627118644,
           840000,
           81437.28813559323,
           840000,
           0.08838071693448703,
           29400,
           840000,
           0.033816425120772944,
           31920,
           840000,
           0.036608863198458574
          ],
          [
           "3 days",
           20698.983050847455,
           360000,
           35816.94915254237,
           360000,
           0.09048866964698628,
           12600,
           360000,
           0.033816425120772944,
           13680,
           360000,
           0.036608863198458574
          ]
         ],
         "hovertemplate": "Prediction=Web (PREDICTWEBPROPENSITY)<br>Date=%{x}<br>Performance=%{y}<br>Period=%{customdata[0]}<br>Positives=%{customdata[1]}<br>Negatives=%{customdata[2]}<br>Positives_Test=%{customdata[3]}<br>Negatives_Test=%{customdata[4]}<br>CTR_Test=%{customdata[5]:.3%}<br>Positives_Control=%{customdata[6]}<br>Negatives_Control=%{customdata[7]}<br>CTR_Control=%{customdata[8]:.3%}<br>Positives_NBA=%{customdata[9]}<br>Negatives_NBA=%{customdata[10]}<br>CTR_NBA=%{customdata[11]:.3%}<extra></extra>",
         "legendgroup": "Web (PREDICTWEBPROPENSITY)",
         "line": {
          "color": "#F76923",
          "dash": "solid"
         },
         "marker": {
          "symbol": "circle"
         },
         "mode": "lines+markers",
         "name": "Web (PREDICTWEBPROPENSITY)",
         "orientation": "v",
         "showlegend": true,
         "type": "scatter",
         "x": [
          "2025-05-25",
          "2025-05-26",
          "2025-06-02",
          "2025-06-09",
          "2025-06-16",
          "2025-06-23",
          "2025-06-30",
          "2025-07-07",
          "2025-07-14",
          "2025-07-21"
         ],
         "xaxis": "x",
         "y": {
          "bdata": "AAAAAACAUEBnBqrprYhQQMTw/KTdl1BAK+C8Ww2nUEAZY6IbPbZQQNI89tZsxVBASfVJkpzUUEBzQwtJzONQQKyJXgT88lBAWw0xr9T9UEA=",
          "dtype": "f8"
         },
         "yaxis": "y"
        }
       ],
       "layout": {
        "legend": {
         "title": {
          "text": "Channel"
         },
         "tracegroupgap": 0
        },
        "template": {
         "layout": {
          "colorway": [
           "#001F5F",
           "#10A5AC",
           "#F76923",
           "#661D34",
           "#86CAC6",
           "#005154",
           "#86CAC6",
           "#5F67B9",
           "#FFC836",
           "#E63690",
           "#AC1361",
           "#63666F",
           "#A7A9B4",
           "#D0D1DB"
          ],
          "hovermode": "closest"
         }
        },
        "title": {
         "text": "Prediction Performance<br><sub>period: 25-May-2025 to 23-Jul-2025</sub>"
        },
        "xaxis": {
         "anchor": "y",
         "domain": [
          0,
          1
         ],
         "title": {
          "text": "Date"
         }
        },
        "yaxis": {
         "anchor": "x",
         "domain": [
          0,
          1
         ],
         "range": [
          50,
          100
         ],
         "title": {
          "text": "Performance (AUC)"
         }
        }
       }
      }
     },
     "metadata": {},
     "output_type": "display_data"
    }
   ],
   "source": [
    "prediction.plot.performance_trend(\"1w\")"
   ]
  },
  {
   "cell_type": "code",
   "execution_count": 5,
   "metadata": {},
   "outputs": [
    {
     "data": {
      "application/vnd.plotly.v1+json": {
       "config": {
        "plotlyServerURL": "https://plot.ly"
       },
       "data": [
        {
         "customdata": [
          [
           "1 days",
           520,
           18000,
           750,
           18000,
           0.04,
           360,
           18000,
           0.0196078431372549,
           450,
           18000,
           0.024390243902439025
          ],
          [
           "7 days",
           3663.728813559322,
           126000,
           5321.186440677965,
           126000,
           0.0405203957175769,
           2520,
           126000,
           0.0196078431372549,
           3150,
           126000,
           0.024390243902439025
          ],
          [
           "7 days",
           3705.2542372881358,
           126000,
           5445.762711864408,
           126000,
           0.04142973192526402,
           2520,
           126000,
           0.0196078431372549,
           3150,
           126000,
           0.024390243902439025
          ],
          [
           "7 days",
           3746.7796610169494,
           126000,
           5570.3389830508495,
           126000,
           0.04233734613823889,
           2520,
           126000,
           0.0196078431372549,
           3150,
           126000,
           0.024390243902439025
          ],
          [
           "7 days",
           3788.305084745763,
           126000,
           5694.915254237286,
           126000,
           0.04324324324324323,
           2520,
           126000,
           0.0196078431372549,
           3150,
           126000,
           0.024390243902439025
          ],
          [
           "7 days",
           3829.830508474576,
           126000,
           5819.4915254237285,
           126000,
           0.044147428108545966,
           2520,
           126000,
           0.0196078431372549,
           3150,
           126000,
           0.024390243902439025
          ],
          [
           "7 days",
           3871.3559322033893,
           126000,
           5944.06779661017,
           126000,
           0.045049905584030214,
           2520,
           126000,
           0.0196078431372549,
           3150,
           126000,
           0.024390243902439025
          ],
          [
           "7 days",
           3912.8813559322034,
           126000,
           6068.644067796611,
           126000,
           0.04595068050128016,
           2520,
           126000,
           0.0196078431372549,
           3150,
           126000,
           0.024390243902439025
          ],
          [
           "7 days",
           3954.406779661017,
           126000,
           6193.22033898305,
           126000,
           0.0468497576736672,
           2520,
           126000,
           0.0196078431372549,
           3150,
           126000,
           0.024390243902439025
          ],
          [
           "3 days",
           1707.4576271186443,
           54000,
           2692.372881355932,
           54000,
           0.047490918875285885,
           1080,
           54000,
           0.0196078431372549,
           1350,
           54000,
           0.024390243902439025
          ]
         ],
         "hovertemplate": "Prediction=Mobile (PREDICTMOBILEPROPENSITY)<br>Date=%{x}<br>Lift=%{y}<br>Period=%{customdata[0]}<br>Positives=%{customdata[1]}<br>Negatives=%{customdata[2]}<br>Positives_Test=%{customdata[3]}<br>Negatives_Test=%{customdata[4]}<br>CTR_Test=%{customdata[5]:.3%}<br>Positives_Control=%{customdata[6]}<br>Negatives_Control=%{customdata[7]}<br>CTR_Control=%{customdata[8]:.3%}<br>Positives_NBA=%{customdata[9]}<br>Negatives_NBA=%{customdata[10]}<br>CTR_NBA=%{customdata[11]:.3%}<extra></extra>",
         "legendgroup": "Mobile (PREDICTMOBILEPROPENSITY)",
         "line": {
          "color": "#001F5F",
          "dash": "solid"
         },
         "marker": {
          "symbol": "circle"
         },
         "mode": "lines+markers",
         "name": "Mobile (PREDICTMOBILEPROPENSITY)",
         "orientation": "v",
         "showlegend": true,
         "type": "scatter",
         "x": [
          "2025-05-25",
          "2025-05-26",
          "2025-06-02",
          "2025-06-09",
          "2025-06-16",
          "2025-06-23",
          "2025-06-30",
          "2025-07-07",
          "2025-07-14",
          "2025-07-21"
         ],
         "xaxis": "x",
         "y": {
          "bdata": "pHA9Ctej8D97Of1vjBDxP9APDFqBzvE/h4ujLRqM8j+TNKotV0nzPxLVxZw4BvQ/YMdbvb7C9D8ARJHR6X71P++uSxu6OvY/I+WruanA9j8=",
          "dtype": "f8"
         },
         "yaxis": "y"
        },
        {
         "customdata": [
          [
           "1 days",
           380,
           30000,
           480,
           30000,
           0.015748031496062992,
           300,
           30000,
           0.009900990099009901,
           360,
           30000,
           0.011857707509881422
          ],
          [
           "7 days",
           2678.983050847457,
           210000,
           3416.9491525423714,
           210000,
           0.016010673782521676,
           2100,
           210000,
           0.009900990099009901,
           2520,
           210000,
           0.011857707509881422
          ],
          [
           "7 days",
           2712.2033898305085,
           210000,
           3516.6101694915264,
           210000,
           0.01646996065879843,
           2100,
           210000,
           0.009900990099009901,
           2520,
           210000,
           0.011857707509881422
          ],
          [
           "7 days",
           2745.4237288135596,
           210000,
           3616.271186440678,
           210000,
           0.016928818981604903,
           2100,
           210000,
           0.009900990099009901,
           2520,
           210000,
           0.011857707509881422
          ],
          [
           "7 days",
           2778.6440677966098,
           210000,
           3715.9322033898284,
           210000,
           0.017387249350476308,
           2100,
           210000,
           0.009900990099009901,
           2520,
           210000,
           0.011857707509881422
          ],
          [
           "7 days",
           2811.864406779661,
           210000,
           3815.593220338984,
           210000,
           0.017845252363830076,
           2100,
           210000,
           0.009900990099009901,
           2520,
           210000,
           0.011857707509881422
          ],
          [
           "7 days",
           2845.084745762712,
           210000,
           3915.2542372881358,
           210000,
           0.018302828618968387,
           2100,
           210000,
           0.009900990099009901,
           2520,
           210000,
           0.011857707509881422
          ],
          [
           "7 days",
           2878.3050847457625,
           210000,
           4014.9152542372876,
           210000,
           0.018759978712080894,
           2100,
           210000,
           0.009900990099009901,
           2520,
           210000,
           0.011857707509881422
          ],
          [
           "7 days",
           2911.5254237288136,
           210000,
           4114.576271186441,
           210000,
           0.019216703238247226,
           2100,
           210000,
           0.009900990099009901,
           2520,
           210000,
           0.011857707509881422
          ],
          [
           "3 days",
           1257.9661016949153,
           90000,
           1793.8983050847457,
           90000,
           0.019542674820526455,
           900,
           90000,
           0.009900990099009901,
           1080,
           90000,
           0.011857707509881422
          ]
         ],
         "hovertemplate": "Prediction=E-mail (PREDICTOUTBOUNDEMAILPROPENSITY)<br>Date=%{x}<br>Lift=%{y}<br>Period=%{customdata[0]}<br>Positives=%{customdata[1]}<br>Negatives=%{customdata[2]}<br>Positives_Test=%{customdata[3]}<br>Negatives_Test=%{customdata[4]}<br>CTR_Test=%{customdata[5]:.3%}<br>Positives_Control=%{customdata[6]}<br>Negatives_Control=%{customdata[7]}<br>CTR_Control=%{customdata[8]:.3%}<br>Positives_NBA=%{customdata[9]}<br>Negatives_NBA=%{customdata[10]}<br>CTR_NBA=%{customdata[11]:.3%}<extra></extra>",
         "legendgroup": "E-mail (PREDICTOUTBOUNDEMAILPROPENSITY)",
         "line": {
          "color": "#10A5AC",
          "dash": "solid"
         },
         "marker": {
          "symbol": "circle"
         },
         "mode": "lines+markers",
         "name": "E-mail (PREDICTOUTBOUNDEMAILPROPENSITY)",
         "orientation": "v",
         "showlegend": true,
         "type": "scatter",
         "x": [
          "2025-05-25",
          "2025-05-26",
          "2025-06-02",
          "2025-06-09",
          "2025-06-16",
          "2025-06-23",
          "2025-06-30",
          "2025-07-07",
          "2025-07-14",
          "2025-07-21"
         ],
         "xaxis": "x",
         "y": {
          "bdata": "uVwul8vl4j8kMJJ4Gr/jP3OyvxodO+U/KTgP98S25j+OGgMuEjLoP7ouDuAErek/mM6TLZ0n6z+S4uc226HsP3nqThy/G+4/iw0J63Mp7z8=",
          "dtype": "f8"
         },
         "yaxis": "y"
        },
        {
         "customdata": [
          [
           "1 days",
           5720,
           120000,
           8400,
           120000,
           0.06542056074766354,
           4200,
           120000,
           0.033816425120772944,
           4560,
           120000,
           0.036608863198458574
          ],
          [
           "7 days",
           40609.491525423735,
           840000,
           60508.47457627118,
           840000,
           0.06719367588932806,
           29400,
           840000,
           0.033816425120772944,
           31920,
           840000,
           0.036608863198458574
          ],
          [
           "7 days",
           41606.101694915254,
           840000,
           63498.30508474576,
           840000,
           0.07028049164828239,
           29400,
           840000,
           0.033816425120772944,
           31920,
           840000,
           0.036608863198458574
          ],
          [
           "7 days",
           42602.71186440678,
           840000,
           66488.13559322033,
           840000,
           0.0733469451861159,
           29400,
           840000,
           0.033816425120772944,
           31920,
           840000,
           0.036608863198458574
          ],
          [
           "7 days",
           43599.32203389831,
           840000,
           69477.96610169492,
           840000,
           0.07639323731997497,
           29400,
           840000,
           0.033816425120772944,
           31920,
           840000,
           0.036608863198458574
          ],
          [
           "7 days",
           44595.93220338983,
           840000,
           72467.79661016949,
           840000,
           0.07941956623498206,
           29400,
           840000,
           0.033816425120772944,
           31920,
           840000,
           0.036608863198458574
          ],
          [
           "7 days",
           45592.542372881355,
           840000,
           75457.62711864409,
           840000,
           0.08242612752721619,
           29400,
           840000,
           0.033816425120772944,
           31920,
           840000,
           0.036608863198458574
          ],
          [
           "7 days",
           46589.15254237288,
           840000,
           78447.45762711864,
           840000,
           0.08541311424585335,
           29400,
           840000,
           0.033816425120772944,
           31920,
           840000,
           0.036608863198458574
          ],
          [
           "7 days",
           47585.7627118644,
           840000,
           81437.28813559323,
           840000,
           0.08838071693448703,
           29400,
           840000,
           0.033816425120772944,
           31920,
           840000,
           0.036608863198458574
          ],
          [
           "3 days",
           20698.983050847455,
           360000,
           35816.94915254237,
           360000,
           0.09048866964698628,
           12600,
           360000,
           0.033816425120772944,
           13680,
           360000,
           0.036608863198458574
          ]
         ],
         "hovertemplate": "Prediction=Web (PREDICTWEBPROPENSITY)<br>Date=%{x}<br>Lift=%{y}<br>Period=%{customdata[0]}<br>Positives=%{customdata[1]}<br>Negatives=%{customdata[2]}<br>Positives_Test=%{customdata[3]}<br>Negatives_Test=%{customdata[4]}<br>CTR_Test=%{customdata[5]:.3%}<br>Positives_Control=%{customdata[6]}<br>Negatives_Control=%{customdata[7]}<br>CTR_Control=%{customdata[8]:.3%}<br>Positives_NBA=%{customdata[9]}<br>Negatives_NBA=%{customdata[10]}<br>CTR_NBA=%{customdata[11]:.3%}<extra></extra>",
         "legendgroup": "Web (PREDICTWEBPROPENSITY)",
         "line": {
          "color": "#F76923",
          "dash": "solid"
         },
         "marker": {
          "symbol": "circle"
         },
         "mode": "lines+markers",
         "name": "Web (PREDICTWEBPROPENSITY)",
         "orientation": "v",
         "showlegend": true,
         "type": "scatter",
         "x": [
          "2025-05-25",
          "2025-05-26",
          "2025-06-02",
          "2025-06-09",
          "2025-06-16",
          "2025-06-23",
          "2025-06-30",
          "2025-07-07",
          "2025-07-14",
          "2025-07-21"
         ],
         "xaxis": "x",
         "y": {
          "bdata": "K0rjIxPo7T9zVn5CnJXvPyWkNcaxQPE/Q6F0Bx608j8IThMfGSX0P3E2RDKpk/U/lZ6sUdT/9j8uJbp5oGn4P5y79pIT0fk/P1OSvWbQ+j8=",
          "dtype": "f8"
         },
         "yaxis": "y"
        }
       ],
       "layout": {
        "legend": {
         "title": {
          "text": "Channel"
         },
         "tracegroupgap": 0
        },
        "template": {
         "layout": {
          "colorway": [
           "#001F5F",
           "#10A5AC",
           "#F76923",
           "#661D34",
           "#86CAC6",
           "#005154",
           "#86CAC6",
           "#5F67B9",
           "#FFC836",
           "#E63690",
           "#AC1361",
           "#63666F",
           "#A7A9B4",
           "#D0D1DB"
          ],
          "hovermode": "closest"
         }
        },
        "title": {
         "text": "Prediction Lift<br><sub>period: 25-May-2025 to 23-Jul-2025</sub>"
        },
        "xaxis": {
         "anchor": "y",
         "domain": [
          0,
          1
         ],
         "title": {
          "text": "Date"
         }
        },
        "yaxis": {
         "anchor": "x",
         "domain": [
          0,
          1
         ],
         "range": [
          -1,
          2.0110550771873417
         ],
         "tickformat": ",.2%",
         "title": {
          "text": "Engagement Lift"
         }
        }
       }
      }
     },
     "metadata": {},
     "output_type": "display_data"
    }
   ],
   "source": [
    "prediction.plot.lift_trend(\"1w\")#, return_df=True).collect()"
   ]
  },
  {
   "cell_type": "code",
   "execution_count": 6,
   "metadata": {},
   "outputs": [
    {
     "data": {
      "application/vnd.plotly.v1+json": {
       "config": {
        "plotlyServerURL": "https://plot.ly"
       },
       "data": [
        {
         "customdata": [
          [
           "1 days",
           520,
           18000,
           750,
           18000,
           0.04,
           360,
           18000,
           0.0196078431372549,
           450,
           18000,
           0.024390243902439025
          ],
          [
           "7 days",
           3663.728813559322,
           126000,
           5321.186440677965,
           126000,
           0.0405203957175769,
           2520,
           126000,
           0.0196078431372549,
           3150,
           126000,
           0.024390243902439025
          ],
          [
           "7 days",
           3705.2542372881358,
           126000,
           5445.762711864408,
           126000,
           0.04142973192526402,
           2520,
           126000,
           0.0196078431372549,
           3150,
           126000,
           0.024390243902439025
          ],
          [
           "7 days",
           3746.7796610169494,
           126000,
           5570.3389830508495,
           126000,
           0.04233734613823889,
           2520,
           126000,
           0.0196078431372549,
           3150,
           126000,
           0.024390243902439025
          ],
          [
           "7 days",
           3788.305084745763,
           126000,
           5694.915254237286,
           126000,
           0.04324324324324323,
           2520,
           126000,
           0.0196078431372549,
           3150,
           126000,
           0.024390243902439025
          ],
          [
           "7 days",
           3829.830508474576,
           126000,
           5819.4915254237285,
           126000,
           0.044147428108545966,
           2520,
           126000,
           0.0196078431372549,
           3150,
           126000,
           0.024390243902439025
          ],
          [
           "7 days",
           3871.3559322033893,
           126000,
           5944.06779661017,
           126000,
           0.045049905584030214,
           2520,
           126000,
           0.0196078431372549,
           3150,
           126000,
           0.024390243902439025
          ],
          [
           "7 days",
           3912.8813559322034,
           126000,
           6068.644067796611,
           126000,
           0.04595068050128016,
           2520,
           126000,
           0.0196078431372549,
           3150,
           126000,
           0.024390243902439025
          ],
          [
           "7 days",
           3954.406779661017,
           126000,
           6193.22033898305,
           126000,
           0.0468497576736672,
           2520,
           126000,
           0.0196078431372549,
           3150,
           126000,
           0.024390243902439025
          ],
          [
           "3 days",
           1707.4576271186443,
           54000,
           2692.372881355932,
           54000,
           0.047490918875285885,
           1080,
           54000,
           0.0196078431372549,
           1350,
           54000,
           0.024390243902439025
          ]
         ],
         "hovertemplate": "Prediction=Mobile (PREDICTMOBILEPROPENSITY)<br>Date=%{x}<br>CTR=%{y}<br>Period=%{customdata[0]}<br>Positives=%{customdata[1]}<br>Negatives=%{customdata[2]}<br>Positives_Test=%{customdata[3]}<br>Negatives_Test=%{customdata[4]}<br>CTR_Test=%{customdata[5]:.3%}<br>Positives_Control=%{customdata[6]}<br>Negatives_Control=%{customdata[7]}<br>CTR_Control=%{customdata[8]:.3%}<br>Positives_NBA=%{customdata[9]}<br>Negatives_NBA=%{customdata[10]}<br>CTR_NBA=%{customdata[11]:.3%}<extra></extra>",
         "legendgroup": "Mobile (PREDICTMOBILEPROPENSITY)",
         "line": {
          "color": "#001F5F",
          "dash": "solid"
         },
         "marker": {
          "symbol": "circle"
         },
         "mode": "lines+markers",
         "name": "Mobile (PREDICTMOBILEPROPENSITY)",
         "orientation": "v",
         "showlegend": true,
         "type": "scatter",
         "x": [
          "2025-05-25",
          "2025-05-26",
          "2025-06-02",
          "2025-06-09",
          "2025-06-16",
          "2025-06-23",
          "2025-06-30",
          "2025-07-07",
          "2025-07-14",
          "2025-07-21"
         ],
         "xaxis": "x",
         "y": {
          "bdata": "sG/qKGrAnD9WfBlwCu+cPwMuY2qYQJ0/i+R+BxmSnT+IRrVKjOOdPz3nTTfyNJ4/CUeP0EqGnj/Z074ZlteeP5LpIBbUKJ8/AgWjp9Ninz8=",
          "dtype": "f8"
         },
         "yaxis": "y"
        },
        {
         "customdata": [
          [
           "1 days",
           380,
           30000,
           480,
           30000,
           0.015748031496062992,
           300,
           30000,
           0.009900990099009901,
           360,
           30000,
           0.011857707509881422
          ],
          [
           "7 days",
           2678.983050847457,
           210000,
           3416.9491525423714,
           210000,
           0.016010673782521676,
           2100,
           210000,
           0.009900990099009901,
           2520,
           210000,
           0.011857707509881422
          ],
          [
           "7 days",
           2712.2033898305085,
           210000,
           3516.6101694915264,
           210000,
           0.01646996065879843,
           2100,
           210000,
           0.009900990099009901,
           2520,
           210000,
           0.011857707509881422
          ],
          [
           "7 days",
           2745.4237288135596,
           210000,
           3616.271186440678,
           210000,
           0.016928818981604903,
           2100,
           210000,
           0.009900990099009901,
           2520,
           210000,
           0.011857707509881422
          ],
          [
           "7 days",
           2778.6440677966098,
           210000,
           3715.9322033898284,
           210000,
           0.017387249350476308,
           2100,
           210000,
           0.009900990099009901,
           2520,
           210000,
           0.011857707509881422
          ],
          [
           "7 days",
           2811.864406779661,
           210000,
           3815.593220338984,
           210000,
           0.017845252363830076,
           2100,
           210000,
           0.009900990099009901,
           2520,
           210000,
           0.011857707509881422
          ],
          [
           "7 days",
           2845.084745762712,
           210000,
           3915.2542372881358,
           210000,
           0.018302828618968387,
           2100,
           210000,
           0.009900990099009901,
           2520,
           210000,
           0.011857707509881422
          ],
          [
           "7 days",
           2878.3050847457625,
           210000,
           4014.9152542372876,
           210000,
           0.018759978712080894,
           2100,
           210000,
           0.009900990099009901,
           2520,
           210000,
           0.011857707509881422
          ],
          [
           "7 days",
           2911.5254237288136,
           210000,
           4114.576271186441,
           210000,
           0.019216703238247226,
           2100,
           210000,
           0.009900990099009901,
           2520,
           210000,
           0.011857707509881422
          ],
          [
           "3 days",
           1257.9661016949153,
           90000,
           1793.8983050847457,
           90000,
           0.019542674820526455,
           900,
           90000,
           0.009900990099009901,
           1080,
           90000,
           0.011857707509881422
          ]
         ],
         "hovertemplate": "Prediction=E-mail (PREDICTOUTBOUNDEMAILPROPENSITY)<br>Date=%{x}<br>CTR=%{y}<br>Period=%{customdata[0]}<br>Positives=%{customdata[1]}<br>Negatives=%{customdata[2]}<br>Positives_Test=%{customdata[3]}<br>Negatives_Test=%{customdata[4]}<br>CTR_Test=%{customdata[5]:.3%}<br>Positives_Control=%{customdata[6]}<br>Negatives_Control=%{customdata[7]}<br>CTR_Control=%{customdata[8]:.3%}<br>Positives_NBA=%{customdata[9]}<br>Negatives_NBA=%{customdata[10]}<br>CTR_NBA=%{customdata[11]:.3%}<extra></extra>",
         "legendgroup": "E-mail (PREDICTOUTBOUNDEMAILPROPENSITY)",
         "line": {
          "color": "#10A5AC",
          "dash": "solid"
         },
         "marker": {
          "symbol": "circle"
         },
         "mode": "lines+markers",
         "name": "E-mail (PREDICTOUTBOUNDEMAILPROPENSITY)",
         "orientation": "v",
         "showlegend": true,
         "type": "scatter",
         "x": [
          "2025-05-25",
          "2025-05-26",
          "2025-06-02",
          "2025-06-09",
          "2025-06-16",
          "2025-06-23",
          "2025-06-30",
          "2025-07-07",
          "2025-07-14",
          "2025-07-21"
         ],
         "xaxis": "x",
         "y": {
          "bdata": "X+VBF+qdiT9ZHqwXIMyJP7b1uIP5HIo/XBUIecxtij+w5l/4mL6KP2azhgJfD4s/eKVCmB5giz84x1m617CLP1cDkmmKAYw/cHdGqyo7jD8=",
          "dtype": "f8"
         },
         "yaxis": "y"
        },
        {
         "customdata": [
          [
           "1 days",
           5720,
           120000,
           8400,
           120000,
           0.06542056074766354,
           4200,
           120000,
           0.033816425120772944,
           4560,
           120000,
           0.036608863198458574
          ],
          [
           "7 days",
           40609.491525423735,
           840000,
           60508.47457627118,
           840000,
           0.06719367588932806,
           29400,
           840000,
           0.033816425120772944,
           31920,
           840000,
           0.036608863198458574
          ],
          [
           "7 days",
           41606.101694915254,
           840000,
           63498.30508474576,
           840000,
           0.07028049164828239,
           29400,
           840000,
           0.033816425120772944,
           31920,
           840000,
           0.036608863198458574
          ],
          [
           "7 days",
           42602.71186440678,
           840000,
           66488.13559322033,
           840000,
           0.0733469451861159,
           29400,
           840000,
           0.033816425120772944,
           31920,
           840000,
           0.036608863198458574
          ],
          [
           "7 days",
           43599.32203389831,
           840000,
           69477.96610169492,
           840000,
           0.07639323731997497,
           29400,
           840000,
           0.033816425120772944,
           31920,
           840000,
           0.036608863198458574
          ],
          [
           "7 days",
           44595.93220338983,
           840000,
           72467.79661016949,
           840000,
           0.07941956623498206,
           29400,
           840000,
           0.033816425120772944,
           31920,
           840000,
           0.036608863198458574
          ],
          [
           "7 days",
           45592.542372881355,
           840000,
           75457.62711864409,
           840000,
           0.08242612752721619,
           29400,
           840000,
           0.033816425120772944,
           31920,
           840000,
           0.036608863198458574
          ],
          [
           "7 days",
           46589.15254237288,
           840000,
           78447.45762711864,
           840000,
           0.08541311424585335,
           29400,
           840000,
           0.033816425120772944,
           31920,
           840000,
           0.036608863198458574
          ],
          [
           "7 days",
           47585.7627118644,
           840000,
           81437.28813559323,
           840000,
           0.08838071693448703,
           29400,
           840000,
           0.033816425120772944,
           31920,
           840000,
           0.036608863198458574
          ],
          [
           "3 days",
           20698.983050847455,
           360000,
           35816.94915254237,
           360000,
           0.09048866964698628,
           12600,
           360000,
           0.033816425120772944,
           13680,
           360000,
           0.036608863198458574
          ]
         ],
         "hovertemplate": "Prediction=Web (PREDICTWEBPROPENSITY)<br>Date=%{x}<br>CTR=%{y}<br>Period=%{customdata[0]}<br>Positives=%{customdata[1]}<br>Negatives=%{customdata[2]}<br>Positives_Test=%{customdata[3]}<br>Negatives_Test=%{customdata[4]}<br>CTR_Test=%{customdata[5]:.3%}<br>Positives_Control=%{customdata[6]}<br>Negatives_Control=%{customdata[7]}<br>CTR_Control=%{customdata[8]:.3%}<br>Positives_NBA=%{customdata[9]}<br>Negatives_NBA=%{customdata[10]}<br>CTR_NBA=%{customdata[11]:.3%}<extra></extra>",
         "legendgroup": "Web (PREDICTWEBPROPENSITY)",
         "line": {
          "color": "#F76923",
          "dash": "solid"
         },
         "marker": {
          "symbol": "circle"
         },
         "mode": "lines+markers",
         "name": "Web (PREDICTWEBPROPENSITY)",
         "orientation": "v",
         "showlegend": true,
         "type": "scatter",
         "x": [
          "2025-05-25",
          "2025-05-26",
          "2025-06-02",
          "2025-06-09",
          "2025-06-16",
          "2025-06-23",
          "2025-06-30",
          "2025-07-07",
          "2025-07-14",
          "2025-07-21"
         ],
         "xaxis": "x",
         "y": {
          "bdata": "B2syQ4FLpz+ZTJSsaZynP7GsUgHAKag/pxzCn8S2qD9tl6rOd0OpP41vgtTZz6k/x8Ru9+pbqj/k+EN9q+eqP8Ijhqsbc6s/wXUX54PWqz8=",
          "dtype": "f8"
         },
         "yaxis": "y"
        }
       ],
       "layout": {
        "legend": {
         "title": {
          "text": "Channel"
         },
         "tracegroupgap": 0
        },
        "template": {
         "layout": {
          "colorway": [
           "#001F5F",
           "#10A5AC",
           "#F76923",
           "#661D34",
           "#86CAC6",
           "#005154",
           "#86CAC6",
           "#5F67B9",
           "#FFC836",
           "#E63690",
           "#AC1361",
           "#63666F",
           "#A7A9B4",
           "#D0D1DB"
          ],
          "hovermode": "closest"
         }
        },
        "title": {
         "text": "Prediction CTR<br><sub>period: 25-May-2025 to 23-Jul-2025</sub>"
        },
        "xaxis": {
         "anchor": "y",
         "domain": [
          0,
          1
         ],
         "title": {
          "text": "Date"
         }
        },
        "yaxis": {
         "anchor": "x",
         "domain": [
          0,
          1
         ],
         "rangemode": "tozero",
         "tickformat": ",.3%",
         "title": {
          "text": "CTR"
         }
        }
       }
      }
     },
     "metadata": {},
     "output_type": "display_data"
    }
   ],
   "source": [
    "prediction.plot.ctr_trend(\"1w\", facetting=False)"
   ]
  },
  {
   "cell_type": "code",
   "execution_count": 7,
   "metadata": {},
   "outputs": [
    {
     "data": {
      "application/vnd.plotly.v1+json": {
       "config": {
        "plotlyServerURL": "https://plot.ly"
       },
       "data": [
        {
         "customdata": [
          [
           "1 days",
           520,
           18000,
           750,
           18000,
           0.04,
           360,
           18000,
           0.0196078431372549,
           450,
           18000,
           0.024390243902439025
          ],
          [
           "7 days",
           3663.728813559322,
           126000,
           5321.186440677965,
           126000,
           0.0405203957175769,
           2520,
           126000,
           0.0196078431372549,
           3150,
           126000,
           0.024390243902439025
          ],
          [
           "7 days",
           3705.2542372881358,
           126000,
           5445.762711864408,
           126000,
           0.04142973192526402,
           2520,
           126000,
           0.0196078431372549,
           3150,
           126000,
           0.024390243902439025
          ],
          [
           "7 days",
           3746.7796610169494,
           126000,
           5570.3389830508495,
           126000,
           0.04233734613823889,
           2520,
           126000,
           0.0196078431372549,
           3150,
           126000,
           0.024390243902439025
          ],
          [
           "7 days",
           3788.305084745763,
           126000,
           5694.915254237286,
           126000,
           0.04324324324324323,
           2520,
           126000,
           0.0196078431372549,
           3150,
           126000,
           0.024390243902439025
          ],
          [
           "7 days",
           3829.830508474576,
           126000,
           5819.4915254237285,
           126000,
           0.044147428108545966,
           2520,
           126000,
           0.0196078431372549,
           3150,
           126000,
           0.024390243902439025
          ],
          [
           "7 days",
           3871.3559322033893,
           126000,
           5944.06779661017,
           126000,
           0.045049905584030214,
           2520,
           126000,
           0.0196078431372549,
           3150,
           126000,
           0.024390243902439025
          ],
          [
           "7 days",
           3912.8813559322034,
           126000,
           6068.644067796611,
           126000,
           0.04595068050128016,
           2520,
           126000,
           0.0196078431372549,
           3150,
           126000,
           0.024390243902439025
          ],
          [
           "7 days",
           3954.406779661017,
           126000,
           6193.22033898305,
           126000,
           0.0468497576736672,
           2520,
           126000,
           0.0196078431372549,
           3150,
           126000,
           0.024390243902439025
          ],
          [
           "3 days",
           1707.4576271186443,
           54000,
           2692.372881355932,
           54000,
           0.047490918875285885,
           1080,
           54000,
           0.0196078431372549,
           1350,
           54000,
           0.024390243902439025
          ]
         ],
         "hovertemplate": "Prediction=Mobile (PREDICTMOBILEPROPENSITY)<br>Date=%{x}<br>Responses=%{y}<br>Period=%{customdata[0]}<br>Positives=%{customdata[1]}<br>Negatives=%{customdata[2]}<br>Positives_Test=%{customdata[3]}<br>Negatives_Test=%{customdata[4]}<br>CTR_Test=%{customdata[5]:.3%}<br>Positives_Control=%{customdata[6]}<br>Negatives_Control=%{customdata[7]}<br>CTR_Control=%{customdata[8]:.3%}<br>Positives_NBA=%{customdata[9]}<br>Negatives_NBA=%{customdata[10]}<br>CTR_NBA=%{customdata[11]:.3%}<extra></extra>",
         "legendgroup": "Mobile (PREDICTMOBILEPROPENSITY)",
         "line": {
          "color": "#001F5F",
          "dash": "solid"
         },
         "marker": {
          "symbol": "circle"
         },
         "mode": "lines+markers",
         "name": "Mobile (PREDICTMOBILEPROPENSITY)",
         "orientation": "v",
         "showlegend": true,
         "type": "scatter",
         "x": [
          "2025-05-25",
          "2025-05-26",
          "2025-06-02",
          "2025-06-09",
          "2025-06-16",
          "2025-06-23",
          "2025-06-30",
          "2025-07-07",
          "2025-07-14",
          "2025-07-21"
         ],
         "xaxis": "x",
         "y": {
          "bdata": "AAAAAAAW0kAjaDip+6f/QF8eWxGUqv9AnNR9eSyt/0DZiqDhxK//QBVBw0ldsv9AVPflsfW0/0CPrQgajrf/QMtjK4Imuv9Ai6DhpG4z60A=",
          "dtype": "f8"
         },
         "yaxis": "y"
        },
        {
         "customdata": [
          [
           "1 days",
           380,
           30000,
           480,
           30000,
           0.015748031496062992,
           300,
           30000,
           0.009900990099009901,
           360,
           30000,
           0.011857707509881422
          ],
          [
           "7 days",
           2678.983050847457,
           210000,
           3416.9491525423714,
           210000,
           0.016010673782521676,
           2100,
           210000,
           0.009900990099009901,
           2520,
           210000,
           0.011857707509881422
          ],
          [
           "7 days",
           2712.2033898305085,
           210000,
           3516.6101694915264,
           210000,
           0.01646996065879843,
           2100,
           210000,
           0.009900990099009901,
           2520,
           210000,
           0.011857707509881422
          ],
          [
           "7 days",
           2745.4237288135596,
           210000,
           3616.271186440678,
           210000,
           0.016928818981604903,
           2100,
           210000,
           0.009900990099009901,
           2520,
           210000,
           0.011857707509881422
          ],
          [
           "7 days",
           2778.6440677966098,
           210000,
           3715.9322033898284,
           210000,
           0.017387249350476308,
           2100,
           210000,
           0.009900990099009901,
           2520,
           210000,
           0.011857707509881422
          ],
          [
           "7 days",
           2811.864406779661,
           210000,
           3815.593220338984,
           210000,
           0.017845252363830076,
           2100,
           210000,
           0.009900990099009901,
           2520,
           210000,
           0.011857707509881422
          ],
          [
           "7 days",
           2845.084745762712,
           210000,
           3915.2542372881358,
           210000,
           0.018302828618968387,
           2100,
           210000,
           0.009900990099009901,
           2520,
           210000,
           0.011857707509881422
          ],
          [
           "7 days",
           2878.3050847457625,
           210000,
           4014.9152542372876,
           210000,
           0.018759978712080894,
           2100,
           210000,
           0.009900990099009901,
           2520,
           210000,
           0.011857707509881422
          ],
          [
           "7 days",
           2911.5254237288136,
           210000,
           4114.576271186441,
           210000,
           0.019216703238247226,
           2100,
           210000,
           0.009900990099009901,
           2520,
           210000,
           0.011857707509881422
          ],
          [
           "3 days",
           1257.9661016949153,
           90000,
           1793.8983050847457,
           90000,
           0.019542674820526455,
           900,
           90000,
           0.009900990099009901,
           1080,
           90000,
           0.011857707509881422
          ]
         ],
         "hovertemplate": "Prediction=E-mail (PREDICTOUTBOUNDEMAILPROPENSITY)<br>Date=%{x}<br>Responses=%{y}<br>Period=%{customdata[0]}<br>Positives=%{customdata[1]}<br>Negatives=%{customdata[2]}<br>Positives_Test=%{customdata[3]}<br>Negatives_Test=%{customdata[4]}<br>CTR_Test=%{customdata[5]:.3%}<br>Positives_Control=%{customdata[6]}<br>Negatives_Control=%{customdata[7]}<br>CTR_Control=%{customdata[8]:.3%}<br>Positives_NBA=%{customdata[9]}<br>Negatives_NBA=%{customdata[10]}<br>CTR_NBA=%{customdata[11]:.3%}<extra></extra>",
         "legendgroup": "E-mail (PREDICTOUTBOUNDEMAILPROPENSITY)",
         "line": {
          "color": "#10A5AC",
          "dash": "solid"
         },
         "marker": {
          "symbol": "circle"
         },
         "mode": "lines+markers",
         "name": "E-mail (PREDICTOUTBOUNDEMAILPROPENSITY)",
         "orientation": "v",
         "showlegend": true,
         "type": "scatter",
         "x": [
          "2025-05-25",
          "2025-05-26",
          "2025-06-02",
          "2025-06-09",
          "2025-06-16",
          "2025-06-23",
          "2025-06-30",
          "2025-07-07",
          "2025-07-14",
          "2025-07-21"
         ],
         "xaxis": "x",
         "y": {
          "bdata": "AAAAAACr3UBBw0ndN/YJQfPYiqBB9wlBpe7LY0v4CUFXBA0nVfkJQQkaTupe+glBuy+PrWj7CUFsRdBwcvwJQR9bETR8/QlBBA0ndZ9H9kA=",
          "dtype": "f8"
         },
         "yaxis": "y"
        },
        {
         "customdata": [
          [
           "1 days",
           5720,
           120000,
           8400,
           120000,
           0.06542056074766354,
           4200,
           120000,
           0.033816425120772944,
           4560,
           120000,
           0.036608863198458574
          ],
          [
           "7 days",
           40609.491525423735,
           840000,
           60508.47457627118,
           840000,
           0.06719367588932806,
           29400,
           840000,
           0.033816425120772944,
           31920,
           840000,
           0.036608863198458574
          ],
          [
           "7 days",
           41606.101694915254,
           840000,
           63498.30508474576,
           840000,
           0.07028049164828239,
           29400,
           840000,
           0.033816425120772944,
           31920,
           840000,
           0.036608863198458574
          ],
          [
           "7 days",
           42602.71186440678,
           840000,
           66488.13559322033,
           840000,
           0.0733469451861159,
           29400,
           840000,
           0.033816425120772944,
           31920,
           840000,
           0.036608863198458574
          ],
          [
           "7 days",
           43599.32203389831,
           840000,
           69477.96610169492,
           840000,
           0.07639323731997497,
           29400,
           840000,
           0.033816425120772944,
           31920,
           840000,
           0.036608863198458574
          ],
          [
           "7 days",
           44595.93220338983,
           840000,
           72467.79661016949,
           840000,
           0.07941956623498206,
           29400,
           840000,
           0.033816425120772944,
           31920,
           840000,
           0.036608863198458574
          ],
          [
           "7 days",
           45592.542372881355,
           840000,
           75457.62711864409,
           840000,
           0.08242612752721619,
           29400,
           840000,
           0.033816425120772944,
           31920,
           840000,
           0.036608863198458574
          ],
          [
           "7 days",
           46589.15254237288,
           840000,
           78447.45762711864,
           840000,
           0.08541311424585335,
           29400,
           840000,
           0.033816425120772944,
           31920,
           840000,
           0.036608863198458574
          ],
          [
           "7 days",
           47585.7627118644,
           840000,
           81437.28813559323,
           840000,
           0.08838071693448703,
           29400,
           840000,
           0.033816425120772944,
           31920,
           840000,
           0.036608863198458574
          ],
          [
           "3 days",
           20698.983050847455,
           360000,
           35816.94915254237,
           360000,
           0.09048866964698628,
           12600,
           360000,
           0.033816425120772944,
           13680,
           360000,
           0.036608863198458574
          ]
         ],
         "hovertemplate": "Prediction=Web (PREDICTWEBPROPENSITY)<br>Date=%{x}<br>Responses=%{y}<br>Period=%{customdata[0]}<br>Positives=%{customdata[1]}<br>Negatives=%{customdata[2]}<br>Positives_Test=%{customdata[3]}<br>Negatives_Test=%{customdata[4]}<br>CTR_Test=%{customdata[5]:.3%}<br>Positives_Control=%{customdata[6]}<br>Negatives_Control=%{customdata[7]}<br>CTR_Control=%{customdata[8]:.3%}<br>Positives_NBA=%{customdata[9]}<br>Negatives_NBA=%{customdata[10]}<br>CTR_NBA=%{customdata[11]:.3%}<extra></extra>",
         "legendgroup": "Web (PREDICTWEBPROPENSITY)",
         "line": {
          "color": "#F76923",
          "dash": "solid"
         },
         "marker": {
          "symbol": "circle"
         },
         "mode": "lines+markers",
         "name": "Web (PREDICTWEBPROPENSITY)",
         "orientation": "v",
         "showlegend": true,
         "type": "scatter",
         "x": [
          "2025-05-25",
          "2025-05-26",
          "2025-06-02",
          "2025-06-09",
          "2025-06-16",
          "2025-06-23",
          "2025-06-30",
          "2025-07-07",
          "2025-07-14",
          "2025-07-21"
         ],
         "xaxis": "x",
         "y": {
          "bdata": "AAAAAICx/kBoOKn7wt8qQR5bETSM5ypB1H15bFXvKkGMoOGkHvcqQULDSd3n/ipB9+WxFbEGK0GuCBpOeg4rQWQrgoZDFitBoeGk7ms8F0E=",
          "dtype": "f8"
         },
         "yaxis": "y"
        }
       ],
       "layout": {
        "legend": {
         "title": {
          "text": "Channel"
         },
         "tracegroupgap": 0
        },
        "template": {
         "layout": {
          "colorway": [
           "#001F5F",
           "#10A5AC",
           "#F76923",
           "#661D34",
           "#86CAC6",
           "#005154",
           "#86CAC6",
           "#5F67B9",
           "#FFC836",
           "#E63690",
           "#AC1361",
           "#63666F",
           "#A7A9B4",
           "#D0D1DB"
          ],
          "hovermode": "closest"
         }
        },
        "title": {
         "text": "Prediction Responses<br><sub>period: 25-May-2025 to 23-Jul-2025</sub>"
        },
        "xaxis": {
         "anchor": "y",
         "domain": [
          0,
          1
         ],
         "title": {
          "text": "Date"
         }
        },
        "yaxis": {
         "anchor": "x",
         "domain": [
          0,
          1
         ],
         "title": {
          "text": "Responses"
         }
        }
       }
      }
     },
     "metadata": {},
     "output_type": "display_data"
    }
   ],
   "source": [
    "prediction.plot.responsecount_trend(\"1w\", facetting=False)"
   ]
  }
 ],
 "metadata": {
  "kernelspec": {
   "display_name": "pega-datascientist-tools",
   "language": "python",
   "name": "python3"
  },
  "language_info": {
   "codemirror_mode": {
    "name": "ipython",
    "version": 3
   },
   "file_extension": ".py",
   "mimetype": "text/x-python",
   "name": "python",
   "nbconvert_exporter": "python",
   "pygments_lexer": "ipython3",
   "version": "3.12.6"
  }
 },
 "nbformat": 4,
 "nbformat_minor": 2
}
