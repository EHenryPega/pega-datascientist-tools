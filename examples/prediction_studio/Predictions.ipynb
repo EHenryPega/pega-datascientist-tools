{
 "cells": [
  {
   "cell_type": "markdown",
   "metadata": {},
   "source": [
    "# Predictions View\n",
    "\n",
    "Currently using PDC data to reproduce the view of Predictions from a data dump: Lift, CTR, Performance trend charts.\n",
    "\n",
    "Will be generalized to support a direct export from the Prediction Studio datamart table."
   ]
  },
  {
   "cell_type": "code",
   "execution_count": null,
   "metadata": {},
   "outputs": [],
   "source": [
    "from pathlib import Path\n",
    "import polars as pl\n",
    "\n",
    "pdc_data_file = Path(\"~/<YOUR PATH TO THE PDC EXPORT>.parquet\").expanduser()\n",
    "pdc_data = (\n",
    "    pl.read_parquet(pdc_data_file)\n",
    "    .filter(pl.col(\"ModelType\").str.starts_with(\"Prediction\"))\n",
    "    .sort(\"SnapshotTime\")\n",
    ")\n",
    "\n",
    "pdc_data.head()"
   ]
  },
  {
   "cell_type": "code",
   "execution_count": null,
   "metadata": {},
   "outputs": [],
   "source": [
    "pdc_data.filter(pl.col(\"SnapshotTime\") == pl.col(\"SnapshotTime\").last()).sort(\n",
    "    [\"SnapshotTime\", \"ModelName\", \"ModelType\"]\n",
    ").select(\n",
    "    [\"ModelName\", \"ModelType\", \"Negatives\", \"Positives\", \"Performance\", \"CTR\"]\n",
    ").to_pandas().style.hide()"
   ]
  },
  {
   "cell_type": "code",
   "execution_count": null,
   "metadata": {},
   "outputs": [],
   "source": [
    "import plotly.express as px\n",
    "\n",
    "px.line(pdc_data, x=\"SnapshotTime\", y=\"Performance\", color=\"ModelName\")"
   ]
  },
  {
   "cell_type": "code",
   "execution_count": null,
   "metadata": {},
   "outputs": [],
   "source": [
    "px.line(pdc_data, x=\"SnapshotTime\", y=\"CTR\", color=\"ModelName\")"
   ]
  },
  {
   "cell_type": "code",
   "execution_count": null,
   "metadata": {},
   "outputs": [],
   "source": [
    "from pdstools import Prediction\n",
    "\n",
    "\n",
    "p = Prediction(pdc_data.lazy())\n",
    "p.summary_by_channel().collect().to_pandas().style"
   ]
  },
  {
   "cell_type": "code",
   "execution_count": null,
   "metadata": {},
   "outputs": [],
   "source": [
    "px.line(\n",
    "    p.summary_by_channel(keep_trend_data=True)\n",
    "    .collect()\n",
    "    .filter(pl.col(\"isMultiChannelPrediction\").not_())\n",
    "    .filter(pl.col(\"Channel\") != \"Unknown\")\n",
    "    .sort([\"SnapshotTime\"]),\n",
    "    x=\"SnapshotTime\",\n",
    "    y=\"Performance\",\n",
    "    color=\"Channel\",\n",
    ")"
   ]
  },
  {
   "cell_type": "code",
   "execution_count": null,
   "metadata": {},
   "outputs": [],
   "source": [
    "px.line(\n",
    "    p.summary_by_channel(keep_trend_data=True)\n",
    "    .collect()\n",
    "    .filter(pl.col(\"isMultiChannelPrediction\").not_())\n",
    "    .filter(pl.col(\"Channel\") != \"Unknown\")\n",
    "    .sort([\"SnapshotTime\"]),\n",
    "    x=\"SnapshotTime\",\n",
    "    y=\"Lift\",\n",
    "    color=\"Channel\",\n",
    ")"
   ]
  }
 ],
 "metadata": {
  "kernelspec": {
   "display_name": "env-p11",
   "language": "python",
   "name": "python3"
  },
  "language_info": {
   "codemirror_mode": {
    "name": "ipython",
    "version": 3
   },
   "file_extension": ".py",
   "mimetype": "text/x-python",
   "name": "python",
   "nbconvert_exporter": "python",
   "pygments_lexer": "ipython3",
   "version": "3.11.9"
  },
  "orig_nbformat": 4
 },
 "nbformat": 4,
 "nbformat_minor": 2
}
