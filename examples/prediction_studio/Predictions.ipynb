{
 "cells": [
  {
   "cell_type": "markdown",
   "metadata": {},
   "source": [
    "# Predictions Overview\n",
    "\n",
    "__Pega__\n",
    "\n",
    "__2024-12-04__\n",
    "\n",
    "This is a small notebook to report and analyse Prediction Studio data on Predictions. The underlying data is from the Data-DM-Snapshot table that is used to populate the Prediction Studio screen with Prediction Performance, Lift, CTR etc.\n",
    "\n",
    "As data this notebook accept data exported from PDC - which has a slightly altered format - as well as data directly exported from the pyGetSnapshot dataset in Pega.\n",
    "\n",
    "For a description of the datamart tables see https://docs-previous.pega.com/decision-management/87/database-tables-monitoring-models.\n",
    "\n",
    "Disclaimer: this is not a canned, robust and customer-facing notebook (yet). It's mostly used internally to validate Prediction data. Column names and file formats may need some more review to make it more robust."
   ]
  },
  {
   "cell_type": "markdown",
   "metadata": {},
   "source": [
    "## Raw data\n",
    "\n",
    "First, we're going to show the raw data as . The raw data is in a \"long\" format with e.g. test and control groups in separate rows."
   ]
  },
  {
   "cell_type": "code",
   "execution_count": 1,
   "metadata": {},
   "outputs": [],
   "source": [
    "from pathlib import Path\n",
    "import sys\n",
    "import polars as pl\n",
    "from pdstools import read_ds_export, Prediction\n",
    "\n",
    "# path to dataset export here\n",
    "# e.g. PR_DATA_DM_SNAPSHOTS.parquet\n",
    "data_export = \"<Your Export Here>\"\n",
    "\n",
    "prediction = None\n",
    "predictions_raw_data = None\n",
    "if data_export.endswith(\".parquet\"):\n",
    "    predictions_raw_data = pl.scan_parquet(Path(data_export).expanduser())\n",
    "    prediction = Prediction(predictions_raw_data)\n",
    "elif data_export.endswith(\".json\"):\n",
    "    print(\"Import of PDC JSON data not supported\")\n",
    "    sys.exit()\n",
    "elif data_export.endswith(\".zip\"):\n",
    "    predictions_raw_data = read_ds_export(data_export)\n",
    "    prediction = Prediction(predictions_raw_data)\n",
    "else:\n",
    "    prediction = Prediction.from_mock_data(days=60)\n",
    "\n",
    "if predictions_raw_data is not None:\n",
    "    predictions_raw_data.head(5).collect()"
   ]
  },
  {
   "cell_type": "markdown",
   "metadata": {},
   "source": [
    "## Prediction Data\n",
    "\n",
    "The actual prediction data is in a \"wide\" format with separate fields for Test and Control groups. Also, it is only the \"daily\" snapshots and the numbers and date are formatted to be normal Polars types."
   ]
  },
  {
   "cell_type": "code",
   "execution_count": 2,
   "metadata": {},
   "outputs": [
    {
     "data": {
      "text/html": [
       "<div><style>\n",
       ".dataframe > thead > tr,\n",
       ".dataframe > tbody > tr {\n",
       "  text-align: right;\n",
       "  white-space: pre-wrap;\n",
       "}\n",
       "</style>\n",
       "<small>shape: (5, 23)</small><table border=\"1\" class=\"dataframe\"><thead><tr><th>pyModelId</th><th>SnapshotTime</th><th>Positives</th><th>Negatives</th><th>ResponseCount</th><th>Performance</th><th>Positives_Test</th><th>Negatives_Test</th><th>ResponseCount_Test</th><th>Positives_Control</th><th>Negatives_Control</th><th>ResponseCount_Control</th><th>Positives_NBA</th><th>Negatives_NBA</th><th>ResponseCount_NBA</th><th>Class</th><th>ModelName</th><th>CTR</th><th>CTR_Test</th><th>CTR_Control</th><th>CTR_NBA</th><th>CTR_Lift</th><th>isValidPrediction</th></tr><tr><td>str</td><td>date</td><td>f64</td><td>i64</td><td>f64</td><td>f32</td><td>f64</td><td>i64</td><td>f64</td><td>f64</td><td>i64</td><td>f64</td><td>f64</td><td>i64</td><td>f64</td><td>str</td><td>str</td><td>f64</td><td>f64</td><td>f64</td><td>f64</td><td>f64</td><td>bool</td></tr></thead><tbody><tr><td>&quot;DATA-DECISION-REQUEST-CUSTOMER…</td><td>2025-02-23</td><td>150.0</td><td>6000</td><td>6150.0</td><td>0.7</td><td>250.0</td><td>6000</td><td>6250.0</td><td>120.0</td><td>6000</td><td>6120.0</td><td>150.0</td><td>6000</td><td>6150.0</td><td>&quot;DATA-DECISION-REQUEST-CUSTOMER&quot;</td><td>&quot;PREDICTMOBILEPROPENSITY&quot;</td><td>0.02439</td><td>0.04</td><td>0.019608</td><td>0.02439</td><td>1.04</td><td>true</td></tr><tr><td>&quot;DATA-DECISION-REQUEST-CUSTOMER…</td><td>2025-02-23</td><td>250.0</td><td>6000</td><td>6250.0</td><td>0.7</td><td>250.0</td><td>6000</td><td>6250.0</td><td>120.0</td><td>6000</td><td>6120.0</td><td>150.0</td><td>6000</td><td>6150.0</td><td>&quot;DATA-DECISION-REQUEST-CUSTOMER&quot;</td><td>&quot;PREDICTMOBILEPROPENSITY&quot;</td><td>0.04</td><td>0.04</td><td>0.019608</td><td>0.02439</td><td>1.04</td><td>true</td></tr><tr><td>&quot;DATA-DECISION-REQUEST-CUSTOMER…</td><td>2025-02-23</td><td>120.0</td><td>6000</td><td>6120.0</td><td>0.7</td><td>250.0</td><td>6000</td><td>6250.0</td><td>120.0</td><td>6000</td><td>6120.0</td><td>150.0</td><td>6000</td><td>6150.0</td><td>&quot;DATA-DECISION-REQUEST-CUSTOMER&quot;</td><td>&quot;PREDICTMOBILEPROPENSITY&quot;</td><td>0.019608</td><td>0.04</td><td>0.019608</td><td>0.02439</td><td>1.04</td><td>true</td></tr><tr><td>&quot;DATA-DECISION-REQUEST-CUSTOMER…</td><td>2025-02-24</td><td>120.0</td><td>6000</td><td>6120.0</td><td>0.700508</td><td>250.847458</td><td>6000</td><td>6250.847458</td><td>120.0</td><td>6000</td><td>6120.0</td><td>150.0</td><td>6000</td><td>6150.0</td><td>&quot;DATA-DECISION-REQUEST-CUSTOMER&quot;</td><td>&quot;PREDICTMOBILEPROPENSITY&quot;</td><td>0.019608</td><td>0.04013</td><td>0.019608</td><td>0.02439</td><td>1.046638</td><td>true</td></tr><tr><td>&quot;DATA-DECISION-REQUEST-CUSTOMER…</td><td>2025-02-24</td><td>250.847458</td><td>6000</td><td>6250.847458</td><td>0.700508</td><td>250.847458</td><td>6000</td><td>6250.847458</td><td>120.0</td><td>6000</td><td>6120.0</td><td>150.0</td><td>6000</td><td>6150.0</td><td>&quot;DATA-DECISION-REQUEST-CUSTOMER&quot;</td><td>&quot;PREDICTMOBILEPROPENSITY&quot;</td><td>0.04013</td><td>0.04013</td><td>0.019608</td><td>0.02439</td><td>1.046638</td><td>true</td></tr></tbody></table></div>"
      ],
      "text/plain": [
       "shape: (5, 23)\n",
       "┌────────────┬────────────┬───────────┬───────────┬───┬───────────┬─────────┬──────────┬───────────┐\n",
       "│ pyModelId  ┆ SnapshotTi ┆ Positives ┆ Negatives ┆ … ┆ CTR_Contr ┆ CTR_NBA ┆ CTR_Lift ┆ isValidPr │\n",
       "│ ---        ┆ me         ┆ ---       ┆ ---       ┆   ┆ ol        ┆ ---     ┆ ---      ┆ ediction  │\n",
       "│ str        ┆ ---        ┆ f64       ┆ i64       ┆   ┆ ---       ┆ f64     ┆ f64      ┆ ---       │\n",
       "│            ┆ date       ┆           ┆           ┆   ┆ f64       ┆         ┆          ┆ bool      │\n",
       "╞════════════╪════════════╪═══════════╪═══════════╪═══╪═══════════╪═════════╪══════════╪═══════════╡\n",
       "│ DATA-DECIS ┆ 2025-02-23 ┆ 150.0     ┆ 6000      ┆ … ┆ 0.019608  ┆ 0.02439 ┆ 1.04     ┆ true      │\n",
       "│ ION-REQUES ┆            ┆           ┆           ┆   ┆           ┆         ┆          ┆           │\n",
       "│ T-CUSTOMER ┆            ┆           ┆           ┆   ┆           ┆         ┆          ┆           │\n",
       "│ …          ┆            ┆           ┆           ┆   ┆           ┆         ┆          ┆           │\n",
       "│ DATA-DECIS ┆ 2025-02-23 ┆ 250.0     ┆ 6000      ┆ … ┆ 0.019608  ┆ 0.02439 ┆ 1.04     ┆ true      │\n",
       "│ ION-REQUES ┆            ┆           ┆           ┆   ┆           ┆         ┆          ┆           │\n",
       "│ T-CUSTOMER ┆            ┆           ┆           ┆   ┆           ┆         ┆          ┆           │\n",
       "│ …          ┆            ┆           ┆           ┆   ┆           ┆         ┆          ┆           │\n",
       "│ DATA-DECIS ┆ 2025-02-23 ┆ 120.0     ┆ 6000      ┆ … ┆ 0.019608  ┆ 0.02439 ┆ 1.04     ┆ true      │\n",
       "│ ION-REQUES ┆            ┆           ┆           ┆   ┆           ┆         ┆          ┆           │\n",
       "│ T-CUSTOMER ┆            ┆           ┆           ┆   ┆           ┆         ┆          ┆           │\n",
       "│ …          ┆            ┆           ┆           ┆   ┆           ┆         ┆          ┆           │\n",
       "│ DATA-DECIS ┆ 2025-02-24 ┆ 120.0     ┆ 6000      ┆ … ┆ 0.019608  ┆ 0.02439 ┆ 1.046638 ┆ true      │\n",
       "│ ION-REQUES ┆            ┆           ┆           ┆   ┆           ┆         ┆          ┆           │\n",
       "│ T-CUSTOMER ┆            ┆           ┆           ┆   ┆           ┆         ┆          ┆           │\n",
       "│ …          ┆            ┆           ┆           ┆   ┆           ┆         ┆          ┆           │\n",
       "│ DATA-DECIS ┆ 2025-02-24 ┆ 250.84745 ┆ 6000      ┆ … ┆ 0.019608  ┆ 0.02439 ┆ 1.046638 ┆ true      │\n",
       "│ ION-REQUES ┆            ┆ 8         ┆           ┆   ┆           ┆         ┆          ┆           │\n",
       "│ T-CUSTOMER ┆            ┆           ┆           ┆   ┆           ┆         ┆          ┆           │\n",
       "│ …          ┆            ┆           ┆           ┆   ┆           ┆         ┆          ┆           │\n",
       "└────────────┴────────────┴───────────┴───────────┴───┴───────────┴─────────┴──────────┴───────────┘"
      ]
     },
     "execution_count": 2,
     "metadata": {},
     "output_type": "execute_result"
    }
   ],
   "source": [
    "prediction.predictions.head().collect()"
   ]
  },
  {
   "cell_type": "markdown",
   "metadata": {},
   "source": [
    "## Summary by Channel\n",
    "\n",
    "Standard functionality exists to summarize the predictions per channel. Note that we do not have the prediction to channel mapping in the data (this is an outstanding product issue), so apply the implicit naming conventions of NBAD. For a specific customer, custom mappings can be passed into the summarization function."
   ]
  },
  {
   "cell_type": "code",
   "execution_count": 3,
   "metadata": {},
   "outputs": [
    {
     "data": {
      "text/html": [
       "<div><style>\n",
       ".dataframe > thead > tr,\n",
       ".dataframe > tbody > tr {\n",
       "  text-align: right;\n",
       "  white-space: pre-wrap;\n",
       "}\n",
       "</style>\n",
       "<small>shape: (3, 27)</small><table border=\"1\" class=\"dataframe\"><thead><tr><th>Prediction</th><th>Channel</th><th>Direction</th><th>isStandardNBADPrediction</th><th>isMultiChannelPrediction</th><th>DateRange Min</th><th>DateRange Max</th><th>Performance</th><th>Positives</th><th>Negatives</th><th>Responses</th><th>Positives_Test</th><th>Positives_Control</th><th>Positives_NBA</th><th>Negatives_Test</th><th>Negatives_Control</th><th>Negatives_NBA</th><th>usesImpactAnalyzer</th><th>ControlPercentage</th><th>TestPercentage</th><th>CTR</th><th>CTR_Test</th><th>CTR_Control</th><th>CTR_NBA</th><th>ChannelDirectionGroup</th><th>isValid</th><th>Lift</th></tr><tr><td>str</td><td>str</td><td>str</td><td>bool</td><td>bool</td><td>date</td><td>date</td><td>f64</td><td>f64</td><td>i64</td><td>f64</td><td>f64</td><td>f64</td><td>f64</td><td>i64</td><td>i64</td><td>i64</td><td>bool</td><td>f64</td><td>f64</td><td>f64</td><td>f64</td><td>f64</td><td>f64</td><td>str</td><td>bool</td><td>f64</td></tr></thead><tbody><tr><td>&quot;PREDICTMOBILEPROPENSITY&quot;</td><td>&quot;Mobile&quot;</td><td>&quot;Inbound&quot;</td><td>true</td><td>false</td><td>2025-02-23</td><td>2025-04-23</td><td>0.715007</td><td>32700.0</td><td>1080000</td><td>1.1127e6</td><td>49500.0</td><td>21600.0</td><td>27000.0</td><td>1080000</td><td>1080000</td><td>1080000</td><td>true</td><td>33.000809</td><td>33.836614</td><td>0.029388</td><td>0.043825</td><td>0.019608</td><td>0.02439</td><td>&quot;Mobile/Inbound&quot;</td><td>true</td><td>1.23506</td></tr><tr><td>&quot;PREDICTOUTBOUNDEMAILPROPENSITY&quot;</td><td>&quot;E-mail&quot;</td><td>&quot;Outbound&quot;</td><td>true</td><td>false</td><td>2025-02-23</td><td>2025-04-23</td><td>0.625006</td><td>24000.0</td><td>1800000</td><td>1.8240e6</td><td>32400.0</td><td>18000.0</td><td>21600.0</td><td>1800000</td><td>1800000</td><td>1800000</td><td>true</td><td>33.223684</td><td>33.486842</td><td>0.013158</td><td>0.017682</td><td>0.009901</td><td>0.011858</td><td>&quot;E-mail/Outbound&quot;</td><td>true</td><td>0.785855</td></tr><tr><td>&quot;PREDICTWEBPROPENSITY&quot;</td><td>&quot;Web&quot;</td><td>&quot;Inbound&quot;</td><td>true</td><td>false</td><td>2025-02-23</td><td>2025-04-23</td><td>0.670016</td><td>379200.0</td><td>7200000</td><td>7.5792e6</td><td>612000.0</td><td>252000.0</td><td>273600.0</td><td>7200000</td><td>7200000</td><td>7200000</td><td>true</td><td>32.773908</td><td>34.357188</td><td>0.050032</td><td>0.078341</td><td>0.033816</td><td>0.036609</td><td>&quot;Web/Inbound&quot;</td><td>true</td><td>1.316656</td></tr></tbody></table></div>"
      ],
      "text/plain": [
       "shape: (3, 27)\n",
       "┌─────────────┬─────────┬───────────┬─────────────┬───┬──────────┬────────────┬─────────┬──────────┐\n",
       "│ Prediction  ┆ Channel ┆ Direction ┆ isStandardN ┆ … ┆ CTR_NBA  ┆ ChannelDir ┆ isValid ┆ Lift     │\n",
       "│ ---         ┆ ---     ┆ ---       ┆ BADPredicti ┆   ┆ ---      ┆ ectionGrou ┆ ---     ┆ ---      │\n",
       "│ str         ┆ str     ┆ str       ┆ on          ┆   ┆ f64      ┆ p          ┆ bool    ┆ f64      │\n",
       "│             ┆         ┆           ┆ ---         ┆   ┆          ┆ ---        ┆         ┆          │\n",
       "│             ┆         ┆           ┆ bool        ┆   ┆          ┆ str        ┆         ┆          │\n",
       "╞═════════════╪═════════╪═══════════╪═════════════╪═══╪══════════╪════════════╪═════════╪══════════╡\n",
       "│ PREDICTMOBI ┆ Mobile  ┆ Inbound   ┆ true        ┆ … ┆ 0.02439  ┆ Mobile/Inb ┆ true    ┆ 1.23506  │\n",
       "│ LEPROPENSIT ┆         ┆           ┆             ┆   ┆          ┆ ound       ┆         ┆          │\n",
       "│ Y           ┆         ┆           ┆             ┆   ┆          ┆            ┆         ┆          │\n",
       "│ PREDICTOUTB ┆ E-mail  ┆ Outbound  ┆ true        ┆ … ┆ 0.011858 ┆ E-mail/Out ┆ true    ┆ 0.785855 │\n",
       "│ OUNDEMAILPR ┆         ┆           ┆             ┆   ┆          ┆ bound      ┆         ┆          │\n",
       "│ OPENSITY    ┆         ┆           ┆             ┆   ┆          ┆            ┆         ┆          │\n",
       "│ PREDICTWEBP ┆ Web     ┆ Inbound   ┆ true        ┆ … ┆ 0.036609 ┆ Web/Inboun ┆ true    ┆ 1.316656 │\n",
       "│ ROPENSITY   ┆         ┆           ┆             ┆   ┆          ┆ d          ┆         ┆          │\n",
       "└─────────────┴─────────┴───────────┴─────────────┴───┴──────────┴────────────┴─────────┴──────────┘"
      ]
     },
     "execution_count": 3,
     "metadata": {},
     "output_type": "execute_result"
    }
   ],
   "source": [
    "prediction.summary_by_channel().collect()"
   ]
  },
  {
   "cell_type": "markdown",
   "metadata": {},
   "source": [
    "# Prediction Trends\n",
    "\n",
    "Summarization by default is over all time. You can pass in an argument to summarize by day, week or any other period as supported by the (Polars time offset string language)[https://docs.pola.rs/api/python/stable/reference/expressions/api/polars.Expr.dt.offset_by.html].\n",
    "\n",
    "This trend data can then easily be visualized."
   ]
  },
  {
   "cell_type": "code",
   "execution_count": 4,
   "metadata": {},
   "outputs": [
    {
     "ename": "TypeError",
     "evalue": "Prediction.summary_by_channel() got an unexpected keyword argument 'by_period'",
     "output_type": "error",
     "traceback": [
      "\u001b[0;31m---------------------------------------------------------------------------\u001b[0m",
      "\u001b[0;31mTypeError\u001b[0m                                 Traceback (most recent call last)",
      "Cell \u001b[0;32mIn[4], line 1\u001b[0m\n\u001b[0;32m----> 1\u001b[0m \u001b[43mprediction\u001b[49m\u001b[38;5;241;43m.\u001b[39;49m\u001b[43mplot\u001b[49m\u001b[38;5;241;43m.\u001b[39;49m\u001b[43mperformance_trend\u001b[49m\u001b[43m(\u001b[49m\u001b[38;5;124;43m\"\u001b[39;49m\u001b[38;5;124;43m1w\u001b[39;49m\u001b[38;5;124;43m\"\u001b[39;49m\u001b[43m)\u001b[49m\n",
      "File \u001b[0;32m~/dev/pega-datascientist-tools/python/pdstools/utils/namespaces.py:15\u001b[0m, in \u001b[0;36mrequire_dependencies.<locals>.wrapper\u001b[0;34m(self, *args, **kwargs)\u001b[0m\n\u001b[1;32m     12\u001b[0m \u001b[38;5;129m@wraps\u001b[39m(func)\n\u001b[1;32m     13\u001b[0m \u001b[38;5;28;01mdef\u001b[39;00m\u001b[38;5;250m \u001b[39m\u001b[38;5;21mwrapper\u001b[39m(\u001b[38;5;28mself\u001b[39m, \u001b[38;5;241m*\u001b[39margs, \u001b[38;5;241m*\u001b[39m\u001b[38;5;241m*\u001b[39mkwargs):\n\u001b[1;32m     14\u001b[0m     \u001b[38;5;28mself\u001b[39m\u001b[38;5;241m.\u001b[39mcheck_dependencies()\n\u001b[0;32m---> 15\u001b[0m     \u001b[38;5;28;01mreturn\u001b[39;00m \u001b[43mfunc\u001b[49m\u001b[43m(\u001b[49m\u001b[38;5;28;43mself\u001b[39;49m\u001b[43m,\u001b[49m\u001b[43m \u001b[49m\u001b[38;5;241;43m*\u001b[39;49m\u001b[43margs\u001b[49m\u001b[43m,\u001b[49m\u001b[43m \u001b[49m\u001b[38;5;241;43m*\u001b[39;49m\u001b[38;5;241;43m*\u001b[39;49m\u001b[43mkwargs\u001b[49m\u001b[43m)\u001b[49m\n",
      "File \u001b[0;32m~/dev/pega-datascientist-tools/python/pdstools/prediction/Prediction.py:131\u001b[0m, in \u001b[0;36mPredictionPlots.performance_trend\u001b[0;34m(self, period, query, return_df)\u001b[0m\n\u001b[1;32m    124\u001b[0m \u001b[38;5;28;01mdef\u001b[39;00m\u001b[38;5;250m \u001b[39m\u001b[38;5;21mperformance_trend\u001b[39m(\n\u001b[1;32m    125\u001b[0m     \u001b[38;5;28mself\u001b[39m,\n\u001b[1;32m    126\u001b[0m     period: \u001b[38;5;28mstr\u001b[39m \u001b[38;5;241m=\u001b[39m \u001b[38;5;124m\"\u001b[39m\u001b[38;5;124m1d\u001b[39m\u001b[38;5;124m\"\u001b[39m,\n\u001b[0;32m   (...)\u001b[0m\n\u001b[1;32m    129\u001b[0m     return_df: \u001b[38;5;28mbool\u001b[39m \u001b[38;5;241m=\u001b[39m \u001b[38;5;28;01mFalse\u001b[39;00m,\n\u001b[1;32m    130\u001b[0m ):\n\u001b[0;32m--> 131\u001b[0m     result \u001b[38;5;241m=\u001b[39m \u001b[38;5;28;43mself\u001b[39;49m\u001b[38;5;241;43m.\u001b[39;49m\u001b[43m_prediction_trend\u001b[49m\u001b[43m(\u001b[49m\n\u001b[1;32m    132\u001b[0m \u001b[43m        \u001b[49m\u001b[43mquery\u001b[49m\u001b[38;5;241;43m=\u001b[39;49m\u001b[43mquery\u001b[49m\u001b[43m,\u001b[49m\n\u001b[1;32m    133\u001b[0m \u001b[43m        \u001b[49m\u001b[43mperiod\u001b[49m\u001b[38;5;241;43m=\u001b[39;49m\u001b[43mperiod\u001b[49m\u001b[43m,\u001b[49m\n\u001b[1;32m    134\u001b[0m \u001b[43m        \u001b[49m\u001b[43mreturn_df\u001b[49m\u001b[38;5;241;43m=\u001b[39;49m\u001b[43mreturn_df\u001b[49m\u001b[43m,\u001b[49m\n\u001b[1;32m    135\u001b[0m \u001b[43m        \u001b[49m\u001b[43mmetric\u001b[49m\u001b[38;5;241;43m=\u001b[39;49m\u001b[38;5;124;43m\"\u001b[39;49m\u001b[38;5;124;43mPerformance\u001b[39;49m\u001b[38;5;124;43m\"\u001b[39;49m\u001b[43m,\u001b[49m\n\u001b[1;32m    136\u001b[0m \u001b[43m        \u001b[49m\u001b[43mtitle\u001b[49m\u001b[38;5;241;43m=\u001b[39;49m\u001b[38;5;124;43m\"\u001b[39;49m\u001b[38;5;124;43mPrediction Performance\u001b[39;49m\u001b[38;5;124;43m\"\u001b[39;49m\u001b[43m,\u001b[49m\n\u001b[1;32m    137\u001b[0m \u001b[43m    \u001b[49m\u001b[43m)\u001b[49m\n\u001b[1;32m    138\u001b[0m     \u001b[38;5;28;01mif\u001b[39;00m \u001b[38;5;129;01mnot\u001b[39;00m return_df:\n\u001b[1;32m    139\u001b[0m         result\u001b[38;5;241m.\u001b[39mupdate_yaxes(\u001b[38;5;28mrange\u001b[39m\u001b[38;5;241m=\u001b[39m[\u001b[38;5;241m50\u001b[39m, \u001b[38;5;241m100\u001b[39m])\n",
      "File \u001b[0;32m~/dev/pega-datascientist-tools/python/pdstools/utils/namespaces.py:15\u001b[0m, in \u001b[0;36mrequire_dependencies.<locals>.wrapper\u001b[0;34m(self, *args, **kwargs)\u001b[0m\n\u001b[1;32m     12\u001b[0m \u001b[38;5;129m@wraps\u001b[39m(func)\n\u001b[1;32m     13\u001b[0m \u001b[38;5;28;01mdef\u001b[39;00m\u001b[38;5;250m \u001b[39m\u001b[38;5;21mwrapper\u001b[39m(\u001b[38;5;28mself\u001b[39m, \u001b[38;5;241m*\u001b[39margs, \u001b[38;5;241m*\u001b[39m\u001b[38;5;241m*\u001b[39mkwargs):\n\u001b[1;32m     14\u001b[0m     \u001b[38;5;28mself\u001b[39m\u001b[38;5;241m.\u001b[39mcheck_dependencies()\n\u001b[0;32m---> 15\u001b[0m     \u001b[38;5;28;01mreturn\u001b[39;00m \u001b[43mfunc\u001b[49m\u001b[43m(\u001b[49m\u001b[38;5;28;43mself\u001b[39;49m\u001b[43m,\u001b[49m\u001b[43m \u001b[49m\u001b[38;5;241;43m*\u001b[39;49m\u001b[43margs\u001b[49m\u001b[43m,\u001b[49m\u001b[43m \u001b[49m\u001b[38;5;241;43m*\u001b[39;49m\u001b[38;5;241;43m*\u001b[39;49m\u001b[43mkwargs\u001b[49m\u001b[43m)\u001b[49m\n",
      "File \u001b[0;32m~/dev/pega-datascientist-tools/python/pdstools/prediction/Prediction.py:59\u001b[0m, in \u001b[0;36mPredictionPlots._prediction_trend\u001b[0;34m(self, period, query, return_df, metric, title, facet_row, facet_col, bar_mode)\u001b[0m\n\u001b[1;32m     48\u001b[0m \u001b[38;5;28;01mdef\u001b[39;00m\u001b[38;5;250m \u001b[39m\u001b[38;5;21m_prediction_trend\u001b[39m(\n\u001b[1;32m     49\u001b[0m     \u001b[38;5;28mself\u001b[39m,\n\u001b[1;32m     50\u001b[0m     period: \u001b[38;5;28mstr\u001b[39m,\n\u001b[0;32m   (...)\u001b[0m\n\u001b[1;32m     57\u001b[0m     bar_mode: \u001b[38;5;28mbool\u001b[39m \u001b[38;5;241m=\u001b[39m \u001b[38;5;28;01mFalse\u001b[39;00m,\n\u001b[1;32m     58\u001b[0m ):\n\u001b[0;32m---> 59\u001b[0m     plot_df \u001b[38;5;241m=\u001b[39m \u001b[38;5;28;43mself\u001b[39;49m\u001b[38;5;241;43m.\u001b[39;49m\u001b[43mprediction\u001b[49m\u001b[38;5;241;43m.\u001b[39;49m\u001b[43msummary_by_channel\u001b[49m\u001b[43m(\u001b[49m\u001b[43mby_period\u001b[49m\u001b[38;5;241;43m=\u001b[39;49m\u001b[43mperiod\u001b[49m\u001b[43m)\u001b[49m\u001b[38;5;241m.\u001b[39mwith_columns(\n\u001b[1;32m     60\u001b[0m         Prediction\u001b[38;5;241m=\u001b[39mpl\u001b[38;5;241m.\u001b[39mformat(\u001b[38;5;124m\"\u001b[39m\u001b[38;5;132;01m{}\u001b[39;00m\u001b[38;5;124m (\u001b[39m\u001b[38;5;132;01m{}\u001b[39;00m\u001b[38;5;124m)\u001b[39m\u001b[38;5;124m\"\u001b[39m, pl\u001b[38;5;241m.\u001b[39mcol\u001b[38;5;241m.\u001b[39mChannel, pl\u001b[38;5;241m.\u001b[39mcol\u001b[38;5;241m.\u001b[39mPrediction),\n\u001b[1;32m     61\u001b[0m         Performance\u001b[38;5;241m=\u001b[39mpl\u001b[38;5;241m.\u001b[39mcol(\u001b[38;5;124m\"\u001b[39m\u001b[38;5;124mPerformance\u001b[39m\u001b[38;5;124m\"\u001b[39m) \u001b[38;5;241m*\u001b[39m \u001b[38;5;241m100\u001b[39m,\n\u001b[1;32m     62\u001b[0m     )\n\u001b[1;32m     64\u001b[0m     plot_df \u001b[38;5;241m=\u001b[39m cdh_utils\u001b[38;5;241m.\u001b[39m_apply_query(plot_df, query)\n\u001b[1;32m     66\u001b[0m     \u001b[38;5;28;01mif\u001b[39;00m return_df:\n",
      "\u001b[0;31mTypeError\u001b[0m: Prediction.summary_by_channel() got an unexpected keyword argument 'by_period'"
     ]
    }
   ],
   "source": [
    "prediction.plot.performance_trend(\"1w\")"
   ]
  },
  {
   "cell_type": "code",
   "execution_count": null,
   "metadata": {},
   "outputs": [],
   "source": [
    "prediction.plot.lift_trend(\"1w\")#, return_df=True).collect()"
   ]
  },
  {
   "cell_type": "code",
   "execution_count": null,
   "metadata": {},
   "outputs": [],
   "source": [
    "prediction.plot.ctr_trend(\"1w\", facetting=False)"
   ]
  },
  {
   "cell_type": "code",
   "execution_count": null,
   "metadata": {},
   "outputs": [],
   "source": [
    "prediction.plot.responsecount_trend(\"1w\", facetting=False)"
   ]
  }
 ],
 "metadata": {
  "kernelspec": {
   "display_name": ".venv",
   "language": "python",
   "name": "python3"
  },
  "language_info": {
   "codemirror_mode": {
    "name": "ipython",
    "version": 3
   },
   "file_extension": ".py",
   "mimetype": "text/x-python",
   "name": "python",
   "nbconvert_exporter": "python",
   "pygments_lexer": "ipython3",
   "version": "3.10.15"
  }
 },
 "nbformat": 4,
 "nbformat_minor": 2
}
