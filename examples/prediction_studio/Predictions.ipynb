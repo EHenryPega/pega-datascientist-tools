{
 "cells": [
  {
   "cell_type": "markdown",
   "metadata": {},
   "source": [
    "# Predictions Overview\n",
    "\n",
    "__Pega__\n",
    "\n",
    "__2024-12-04__\n",
    "\n",
    "This is a small notebook to report and analyse Prediction Studio data on Predictions. The underlying data is from the Data-DM-Snapshot table that is used to populate the Prediction Studio screen with Prediction Performance, Lift, CTR etc.\n",
    "\n",
    "As data this notebook accept data exported from PDC - which has a slightly altered format - as well as data directly exported from the pyGetSnapshot dataset in Pega.\n",
    "\n",
    "For a description of the datamart tables see https://docs-previous.pega.com/decision-management/87/database-tables-monitoring-models.\n",
    "\n",
    "Disclaimer: this is not a canned, robust and customer-facing notebook (yet). It's mostly used internally to validate Prediction data. Column names and file formats may need some more review to make it more robust."
   ]
  },
  {
   "cell_type": "markdown",
   "metadata": {},
   "source": [
    "## Raw data\n",
    "\n",
    "First, we're going to show the raw data as . The raw data is in a \"long\" format with e.g. test and control groups in separate rows."
   ]
  },
  {
   "cell_type": "code",
   "execution_count": 1,
   "metadata": {},
   "outputs": [],
   "source": [
    "from pathlib import Path\n",
    "import sys\n",
    "import polars as pl\n",
    "from pdstools import read_ds_export, Prediction\n",
    "\n",
    "# path to dataset export here\n",
    "# e.g. PR_DATA_DM_SNAPSHOTS.parquet\n",
    "data_export = \"<Your Export Here>\"\n",
    "\n",
    "prediction = None\n",
    "predictions_raw_data = None\n",
    "if data_export.endswith(\".parquet\"):\n",
    "    predictions_raw_data = pl.scan_parquet(Path(data_export).expanduser())\n",
    "    prediction = Prediction(predictions_raw_data)\n",
    "elif data_export.endswith(\".json\"):\n",
    "    print(\"Import of PDC JSON data not supported\")\n",
    "    sys.exit()\n",
    "elif data_export.endswith(\".zip\"):\n",
    "    predictions_raw_data = read_ds_export(data_export)\n",
    "    prediction = Prediction(predictions_raw_data)\n",
    "else:\n",
    "    prediction = Prediction.from_mock_data(days=60)\n",
    "\n",
    "if predictions_raw_data is not None:\n",
    "    predictions_raw_data.head(5).collect()"
   ]
  },
  {
   "cell_type": "markdown",
   "metadata": {},
   "source": [
    "## Prediction Data\n",
    "\n",
    "The actual prediction data is in a \"wide\" format with separate fields for Test and Control groups. Also, it is only the \"daily\" snapshots and the numbers and date are formatted to be normal Polars types."
   ]
  },
  {
   "cell_type": "code",
   "execution_count": 2,
   "metadata": {},
   "outputs": [
    {
     "data": {
      "text/html": [
       "<div><style>\n",
       ".dataframe > thead > tr,\n",
       ".dataframe > tbody > tr {\n",
       "  text-align: right;\n",
       "  white-space: pre-wrap;\n",
       "}\n",
       "</style>\n",
       "<small>shape: (5, 23)</small><table border=\"1\" class=\"dataframe\"><thead><tr><th>pyModelId</th><th>SnapshotTime</th><th>Positives</th><th>Negatives</th><th>ResponseCount</th><th>Performance</th><th>Positives_Test</th><th>Negatives_Test</th><th>ResponseCount_Test</th><th>Positives_Control</th><th>Negatives_Control</th><th>ResponseCount_Control</th><th>Positives_NBA</th><th>Negatives_NBA</th><th>ResponseCount_NBA</th><th>Class</th><th>ModelName</th><th>CTR</th><th>CTR_Test</th><th>CTR_Control</th><th>CTR_NBA</th><th>CTR_Lift</th><th>isValidPrediction</th></tr><tr><td>str</td><td>date</td><td>f64</td><td>i64</td><td>f64</td><td>f32</td><td>f64</td><td>i64</td><td>f64</td><td>f64</td><td>i64</td><td>f64</td><td>f64</td><td>i64</td><td>f64</td><td>str</td><td>str</td><td>f64</td><td>f64</td><td>f64</td><td>f64</td><td>f64</td><td>bool</td></tr></thead><tbody><tr><td>&quot;DATA-DECISION-REQUEST-CUSTOMER…</td><td>2025-05-12</td><td>150.0</td><td>6000</td><td>6150.0</td><td>70.0</td><td>250.0</td><td>6000</td><td>6250.0</td><td>120.0</td><td>6000</td><td>6120.0</td><td>150.0</td><td>6000</td><td>6150.0</td><td>&quot;DATA-DECISION-REQUEST-CUSTOMER&quot;</td><td>&quot;PREDICTMOBILEPROPENSITY&quot;</td><td>0.02439</td><td>0.04</td><td>0.019608</td><td>0.02439</td><td>1.04</td><td>true</td></tr><tr><td>&quot;DATA-DECISION-REQUEST-CUSTOMER…</td><td>2025-05-12</td><td>250.0</td><td>6000</td><td>6250.0</td><td>70.0</td><td>250.0</td><td>6000</td><td>6250.0</td><td>120.0</td><td>6000</td><td>6120.0</td><td>150.0</td><td>6000</td><td>6150.0</td><td>&quot;DATA-DECISION-REQUEST-CUSTOMER&quot;</td><td>&quot;PREDICTMOBILEPROPENSITY&quot;</td><td>0.04</td><td>0.04</td><td>0.019608</td><td>0.02439</td><td>1.04</td><td>true</td></tr><tr><td>&quot;DATA-DECISION-REQUEST-CUSTOMER…</td><td>2025-05-12</td><td>120.0</td><td>6000</td><td>6120.0</td><td>70.0</td><td>250.0</td><td>6000</td><td>6250.0</td><td>120.0</td><td>6000</td><td>6120.0</td><td>150.0</td><td>6000</td><td>6150.0</td><td>&quot;DATA-DECISION-REQUEST-CUSTOMER&quot;</td><td>&quot;PREDICTMOBILEPROPENSITY&quot;</td><td>0.019608</td><td>0.04</td><td>0.019608</td><td>0.02439</td><td>1.04</td><td>true</td></tr><tr><td>&quot;DATA-DECISION-REQUEST-CUSTOMER…</td><td>2025-05-13</td><td>120.0</td><td>6000</td><td>6120.0</td><td>70.05085</td><td>250.847458</td><td>6000</td><td>6250.847458</td><td>120.0</td><td>6000</td><td>6120.0</td><td>150.0</td><td>6000</td><td>6150.0</td><td>&quot;DATA-DECISION-REQUEST-CUSTOMER&quot;</td><td>&quot;PREDICTMOBILEPROPENSITY&quot;</td><td>0.019608</td><td>0.04013</td><td>0.019608</td><td>0.02439</td><td>1.046638</td><td>true</td></tr><tr><td>&quot;DATA-DECISION-REQUEST-CUSTOMER…</td><td>2025-05-13</td><td>250.847458</td><td>6000</td><td>6250.847458</td><td>70.05085</td><td>250.847458</td><td>6000</td><td>6250.847458</td><td>120.0</td><td>6000</td><td>6120.0</td><td>150.0</td><td>6000</td><td>6150.0</td><td>&quot;DATA-DECISION-REQUEST-CUSTOMER&quot;</td><td>&quot;PREDICTMOBILEPROPENSITY&quot;</td><td>0.04013</td><td>0.04013</td><td>0.019608</td><td>0.02439</td><td>1.046638</td><td>true</td></tr></tbody></table></div>"
      ],
      "text/plain": [
       "shape: (5, 23)\n",
       "┌────────────┬────────────┬───────────┬───────────┬───┬───────────┬─────────┬──────────┬───────────┐\n",
       "│ pyModelId  ┆ SnapshotTi ┆ Positives ┆ Negatives ┆ … ┆ CTR_Contr ┆ CTR_NBA ┆ CTR_Lift ┆ isValidPr │\n",
       "│ ---        ┆ me         ┆ ---       ┆ ---       ┆   ┆ ol        ┆ ---     ┆ ---      ┆ ediction  │\n",
       "│ str        ┆ ---        ┆ f64       ┆ i64       ┆   ┆ ---       ┆ f64     ┆ f64      ┆ ---       │\n",
       "│            ┆ date       ┆           ┆           ┆   ┆ f64       ┆         ┆          ┆ bool      │\n",
       "╞════════════╪════════════╪═══════════╪═══════════╪═══╪═══════════╪═════════╪══════════╪═══════════╡\n",
       "│ DATA-DECIS ┆ 2025-05-12 ┆ 150.0     ┆ 6000      ┆ … ┆ 0.019608  ┆ 0.02439 ┆ 1.04     ┆ true      │\n",
       "│ ION-REQUES ┆            ┆           ┆           ┆   ┆           ┆         ┆          ┆           │\n",
       "│ T-CUSTOMER ┆            ┆           ┆           ┆   ┆           ┆         ┆          ┆           │\n",
       "│ …          ┆            ┆           ┆           ┆   ┆           ┆         ┆          ┆           │\n",
       "│ DATA-DECIS ┆ 2025-05-12 ┆ 250.0     ┆ 6000      ┆ … ┆ 0.019608  ┆ 0.02439 ┆ 1.04     ┆ true      │\n",
       "│ ION-REQUES ┆            ┆           ┆           ┆   ┆           ┆         ┆          ┆           │\n",
       "│ T-CUSTOMER ┆            ┆           ┆           ┆   ┆           ┆         ┆          ┆           │\n",
       "│ …          ┆            ┆           ┆           ┆   ┆           ┆         ┆          ┆           │\n",
       "│ DATA-DECIS ┆ 2025-05-12 ┆ 120.0     ┆ 6000      ┆ … ┆ 0.019608  ┆ 0.02439 ┆ 1.04     ┆ true      │\n",
       "│ ION-REQUES ┆            ┆           ┆           ┆   ┆           ┆         ┆          ┆           │\n",
       "│ T-CUSTOMER ┆            ┆           ┆           ┆   ┆           ┆         ┆          ┆           │\n",
       "│ …          ┆            ┆           ┆           ┆   ┆           ┆         ┆          ┆           │\n",
       "│ DATA-DECIS ┆ 2025-05-13 ┆ 120.0     ┆ 6000      ┆ … ┆ 0.019608  ┆ 0.02439 ┆ 1.046638 ┆ true      │\n",
       "│ ION-REQUES ┆            ┆           ┆           ┆   ┆           ┆         ┆          ┆           │\n",
       "│ T-CUSTOMER ┆            ┆           ┆           ┆   ┆           ┆         ┆          ┆           │\n",
       "│ …          ┆            ┆           ┆           ┆   ┆           ┆         ┆          ┆           │\n",
       "│ DATA-DECIS ┆ 2025-05-13 ┆ 250.84745 ┆ 6000      ┆ … ┆ 0.019608  ┆ 0.02439 ┆ 1.046638 ┆ true      │\n",
       "│ ION-REQUES ┆            ┆ 8         ┆           ┆   ┆           ┆         ┆          ┆           │\n",
       "│ T-CUSTOMER ┆            ┆           ┆           ┆   ┆           ┆         ┆          ┆           │\n",
       "│ …          ┆            ┆           ┆           ┆   ┆           ┆         ┆          ┆           │\n",
       "└────────────┴────────────┴───────────┴───────────┴───┴───────────┴─────────┴──────────┴───────────┘"
      ]
     },
     "execution_count": 2,
     "metadata": {},
     "output_type": "execute_result"
    }
   ],
   "source": [
    "prediction.predictions.head().collect()"
   ]
  },
  {
   "cell_type": "markdown",
   "metadata": {},
   "source": [
    "## Summary by Channel\n",
    "\n",
    "Standard functionality exists to summarize the predictions per channel. Note that we do not have the prediction to channel mapping in the data (this is an outstanding product issue), so apply the implicit naming conventions of NBAD. For a specific customer, custom mappings can be passed into the summarization function."
   ]
  },
  {
   "cell_type": "code",
   "execution_count": 3,
   "metadata": {},
   "outputs": [
    {
     "data": {
      "text/html": [
       "<div><style>\n",
       ".dataframe > thead > tr,\n",
       ".dataframe > tbody > tr {\n",
       "  text-align: right;\n",
       "  white-space: pre-wrap;\n",
       "}\n",
       "</style>\n",
       "<small>shape: (3, 28)</small><table border=\"1\" class=\"dataframe\"><thead><tr><th>Prediction</th><th>Channel</th><th>Direction</th><th>isStandardNBADPrediction</th><th>isMultiChannelPrediction</th><th>DateRange Min</th><th>DateRange Max</th><th>Duration</th><th>Performance</th><th>Positives</th><th>Negatives</th><th>Responses</th><th>Positives_Test</th><th>Positives_Control</th><th>Positives_NBA</th><th>Negatives_Test</th><th>Negatives_Control</th><th>Negatives_NBA</th><th>usesImpactAnalyzer</th><th>ControlPercentage</th><th>TestPercentage</th><th>CTR</th><th>CTR_Test</th><th>CTR_Control</th><th>CTR_NBA</th><th>ChannelDirectionGroup</th><th>isValid</th><th>Lift</th></tr><tr><td>str</td><td>str</td><td>str</td><td>bool</td><td>bool</td><td>date</td><td>date</td><td>i64</td><td>f64</td><td>f64</td><td>i64</td><td>f64</td><td>f64</td><td>f64</td><td>f64</td><td>i64</td><td>i64</td><td>i64</td><td>bool</td><td>f64</td><td>f64</td><td>f64</td><td>f64</td><td>f64</td><td>f64</td><td>str</td><td>bool</td><td>f64</td></tr></thead><tbody><tr><td>&quot;PREDICTMOBILEPROPENSITY&quot;</td><td>&quot;Mobile&quot;</td><td>&quot;Inbound&quot;</td><td>true</td><td>false</td><td>2025-05-12</td><td>2025-07-10</td><td>5097600</td><td>71.500697</td><td>32700.0</td><td>1080000</td><td>1.1127e6</td><td>49500.0</td><td>21600.0</td><td>27000.0</td><td>1080000</td><td>1080000</td><td>1080000</td><td>true</td><td>33.000809</td><td>33.836614</td><td>0.029388</td><td>0.043825</td><td>0.019608</td><td>0.02439</td><td>&quot;Mobile/Inbound&quot;</td><td>true</td><td>1.23506</td></tr><tr><td>&quot;PREDICTOUTBOUNDEMAILPROPENSITY&quot;</td><td>&quot;E-mail&quot;</td><td>&quot;Outbound&quot;</td><td>true</td><td>false</td><td>2025-05-12</td><td>2025-07-10</td><td>5097600</td><td>62.500567</td><td>24000.0</td><td>1800000</td><td>1.8240e6</td><td>32400.0</td><td>18000.0</td><td>21600.0</td><td>1800000</td><td>1800000</td><td>1800000</td><td>true</td><td>33.223684</td><td>33.486842</td><td>0.013158</td><td>0.017682</td><td>0.009901</td><td>0.011858</td><td>&quot;E-mail/Outbound&quot;</td><td>true</td><td>0.785855</td></tr><tr><td>&quot;PREDICTWEBPROPENSITY&quot;</td><td>&quot;Web&quot;</td><td>&quot;Inbound&quot;</td><td>true</td><td>false</td><td>2025-05-12</td><td>2025-07-10</td><td>5097600</td><td>67.001637</td><td>379200.0</td><td>7200000</td><td>7.5792e6</td><td>612000.0</td><td>252000.0</td><td>273600.0</td><td>7200000</td><td>7200000</td><td>7200000</td><td>true</td><td>32.773908</td><td>34.357188</td><td>0.050032</td><td>0.078341</td><td>0.033816</td><td>0.036609</td><td>&quot;Web/Inbound&quot;</td><td>true</td><td>1.316656</td></tr></tbody></table></div>"
      ],
      "text/plain": [
       "shape: (3, 28)\n",
       "┌─────────────┬─────────┬───────────┬─────────────┬───┬──────────┬────────────┬─────────┬──────────┐\n",
       "│ Prediction  ┆ Channel ┆ Direction ┆ isStandardN ┆ … ┆ CTR_NBA  ┆ ChannelDir ┆ isValid ┆ Lift     │\n",
       "│ ---         ┆ ---     ┆ ---       ┆ BADPredicti ┆   ┆ ---      ┆ ectionGrou ┆ ---     ┆ ---      │\n",
       "│ str         ┆ str     ┆ str       ┆ on          ┆   ┆ f64      ┆ p          ┆ bool    ┆ f64      │\n",
       "│             ┆         ┆           ┆ ---         ┆   ┆          ┆ ---        ┆         ┆          │\n",
       "│             ┆         ┆           ┆ bool        ┆   ┆          ┆ str        ┆         ┆          │\n",
       "╞═════════════╪═════════╪═══════════╪═════════════╪═══╪══════════╪════════════╪═════════╪══════════╡\n",
       "│ PREDICTMOBI ┆ Mobile  ┆ Inbound   ┆ true        ┆ … ┆ 0.02439  ┆ Mobile/Inb ┆ true    ┆ 1.23506  │\n",
       "│ LEPROPENSIT ┆         ┆           ┆             ┆   ┆          ┆ ound       ┆         ┆          │\n",
       "│ Y           ┆         ┆           ┆             ┆   ┆          ┆            ┆         ┆          │\n",
       "│ PREDICTOUTB ┆ E-mail  ┆ Outbound  ┆ true        ┆ … ┆ 0.011858 ┆ E-mail/Out ┆ true    ┆ 0.785855 │\n",
       "│ OUNDEMAILPR ┆         ┆           ┆             ┆   ┆          ┆ bound      ┆         ┆          │\n",
       "│ OPENSITY    ┆         ┆           ┆             ┆   ┆          ┆            ┆         ┆          │\n",
       "│ PREDICTWEBP ┆ Web     ┆ Inbound   ┆ true        ┆ … ┆ 0.036609 ┆ Web/Inboun ┆ true    ┆ 1.316656 │\n",
       "│ ROPENSITY   ┆         ┆           ┆             ┆   ┆          ┆ d          ┆         ┆          │\n",
       "└─────────────┴─────────┴───────────┴─────────────┴───┴──────────┴────────────┴─────────┴──────────┘"
      ]
     },
     "execution_count": 3,
     "metadata": {},
     "output_type": "execute_result"
    }
   ],
   "source": [
    "prediction.summary_by_channel().collect()"
   ]
  },
  {
   "cell_type": "markdown",
   "metadata": {},
   "source": [
    "# Prediction Trends\n",
    "\n",
    "Summarization by default is over all time. You can pass in an argument to summarize by day, week or any other period as supported by the (Polars time offset string language)[https://docs.pola.rs/api/python/stable/reference/expressions/api/polars.Expr.dt.offset_by.html].\n",
    "\n",
    "This trend data can then easily be visualized."
   ]
  },
  {
   "cell_type": "code",
   "execution_count": 4,
   "metadata": {},
   "outputs": [
    {
     "data": {
      "application/vnd.plotly.v1+json": {
       "config": {
        "plotlyServerURL": "https://plot.ly"
       },
       "data": [
        {
         "customdata": [
          [
           "7 days",
           3657.7966101694915,
           126000,
           5303.389830508472,
           126000,
           0.040390349688262384,
           2520,
           126000,
           0.0196078431372549,
           3150,
           126000,
           0.024390243902439025
          ],
          [
           "7 days",
           3699.3220338983056,
           126000,
           5427.966101694914,
           126000,
           0.04129993229519295,
           2520,
           126000,
           0.0196078431372549,
           3150,
           126000,
           0.024390243902439025
          ],
          [
           "7 days",
           3740.847457627119,
           126000,
           5552.542372881357,
           126000,
           0.042207792207792215,
           2520,
           126000,
           0.0196078431372549,
           3150,
           126000,
           0.024390243902439025
          ],
          [
           "7 days",
           3782.3728813559323,
           126000,
           5677.118644067798,
           126000,
           0.04311393431544805,
           2520,
           126000,
           0.0196078431372549,
           3150,
           126000,
           0.024390243902439025
          ],
          [
           "7 days",
           3823.898305084746,
           126000,
           5801.694915254236,
           126000,
           0.04401836348906291,
           2520,
           126000,
           0.0196078431372549,
           3150,
           126000,
           0.024390243902439025
          ],
          [
           "7 days",
           3865.4237288135596,
           126000,
           5926.271186440678,
           126000,
           0.04492108458114124,
           2520,
           126000,
           0.0196078431372549,
           3150,
           126000,
           0.024390243902439025
          ],
          [
           "7 days",
           3906.9491525423728,
           126000,
           6050.84745762712,
           126000,
           0.04582210242587602,
           2520,
           126000,
           0.0196078431372549,
           3150,
           126000,
           0.024390243902439025
          ],
          [
           "7 days",
           3948.4745762711864,
           126000,
           6175.423728813558,
           126000,
           0.046721421839235215,
           2520,
           126000,
           0.0196078431372549,
           3150,
           126000,
           0.024390243902439025
          ],
          [
           "4 days",
           2274.915254237288,
           72000,
           3584.7457627118642,
           72000,
           0.0474268415741675,
           1440,
           72000,
           0.0196078431372549,
           1800,
           72000,
           0.024390243902439025
          ]
         ],
         "hovertemplate": "Prediction=Mobile (PREDICTMOBILEPROPENSITY)<br>Date=%{x}<br>Performance=%{y}<br>Period=%{customdata[0]}<br>Positives=%{customdata[1]}<br>Negatives=%{customdata[2]}<br>Positives_Test=%{customdata[3]}<br>Negatives_Test=%{customdata[4]}<br>CTR_Test=%{customdata[5]:.3%}<br>Positives_Control=%{customdata[6]}<br>Negatives_Control=%{customdata[7]}<br>CTR_Control=%{customdata[8]:.3%}<br>Positives_NBA=%{customdata[9]}<br>Negatives_NBA=%{customdata[10]}<br>CTR_NBA=%{customdata[11]:.3%}<extra></extra>",
         "legendgroup": "Mobile (PREDICTMOBILEPROPENSITY)",
         "line": {
          "color": "#001F5F",
          "dash": "solid"
         },
         "marker": {
          "symbol": "circle"
         },
         "mode": "lines+markers",
         "name": "Mobile (PREDICTMOBILEPROPENSITY)",
         "orientation": "v",
         "showlegend": true,
         "type": "scatter",
         "x": [
          "2025-05-12",
          "2025-05-19",
          "2025-05-26",
          "2025-06-02",
          "2025-06-09",
          "2025-06-16",
          "2025-06-23",
          "2025-06-30",
          "2025-07-07"
         ],
         "xaxis": "x",
         "y": {
          "bdata": "oM8HZ8OJUUAWGOD9iqBRQJrFSplSt1FAT9giMBrOUUDyBvvG4eRRQHxR012p+1FACgE++XASUkDjFRaQOClSQIanKmweO1JA",
          "dtype": "f8"
         },
         "yaxis": "y"
        },
        {
         "customdata": [
          [
           "7 days",
           2674.2372881355927,
           210000,
           3402.711864406778,
           210000,
           0.01594502635265861,
           2100,
           210000,
           0.009900990099009901,
           2520,
           210000,
           0.011857707509881422
          ],
          [
           "7 days",
           2707.4576271186443,
           210000,
           3502.3728813559337,
           210000,
           0.016404374499866637,
           2100,
           210000,
           0.009900990099009901,
           2520,
           210000,
           0.011857707509881422
          ],
          [
           "7 days",
           2740.677966101695,
           210000,
           3602.033898305085,
           210000,
           0.016863294007865095,
           2100,
           210000,
           0.009900990099009901,
           2520,
           210000,
           0.011857707509881422
          ],
          [
           "7 days",
           2773.898305084745,
           210000,
           3701.6949152542356,
           210000,
           0.017321785476349095,
           2100,
           210000,
           0.009900990099009901,
           2520,
           210000,
           0.011857707509881422
          ],
          [
           "7 days",
           2807.1186440677966,
           210000,
           3801.355932203391,
           210000,
           0.017779849503895592,
           2100,
           210000,
           0.009900990099009901,
           2520,
           210000,
           0.011857707509881422
          ],
          [
           "7 days",
           2840.338983050847,
           210000,
           3901.016949152542,
           210000,
           0.01823748668796592,
           2100,
           210000,
           0.009900990099009901,
           2520,
           210000,
           0.011857707509881422
          ],
          [
           "7 days",
           2873.559322033898,
           210000,
           4000.677966101693,
           210000,
           0.018694697624908514,
           2100,
           210000,
           0.009900990099009901,
           2520,
           210000,
           0.011857707509881422
          ],
          [
           "7 days",
           2906.7796610169494,
           210000,
           4100.338983050849,
           210000,
           0.019151482909961437,
           2100,
           210000,
           0.009900990099009901,
           2520,
           210000,
           0.011857707509881422
          ],
          [
           "4 days",
           1675.9322033898306,
           120000,
           2387.796610169492,
           120000,
           0.01951008741316848,
           1200,
           120000,
           0.009900990099009901,
           1440,
           120000,
           0.011857707509881422
          ]
         ],
         "hovertemplate": "Prediction=E-mail (PREDICTOUTBOUNDEMAILPROPENSITY)<br>Date=%{x}<br>Performance=%{y}<br>Period=%{customdata[0]}<br>Positives=%{customdata[1]}<br>Negatives=%{customdata[2]}<br>Positives_Test=%{customdata[3]}<br>Negatives_Test=%{customdata[4]}<br>CTR_Test=%{customdata[5]:.3%}<br>Positives_Control=%{customdata[6]}<br>Negatives_Control=%{customdata[7]}<br>CTR_Control=%{customdata[8]:.3%}<br>Positives_NBA=%{customdata[9]}<br>Negatives_NBA=%{customdata[10]}<br>CTR_NBA=%{customdata[11]:.3%}<extra></extra>",
         "legendgroup": "E-mail (PREDICTOUTBOUNDEMAILPROPENSITY)",
         "line": {
          "color": "#10A5AC",
          "dash": "solid"
         },
         "marker": {
          "symbol": "circle"
         },
         "mode": "lines+markers",
         "name": "E-mail (PREDICTOUTBOUNDEMAILPROPENSITY)",
         "orientation": "v",
         "showlegend": true,
         "type": "scatter",
         "x": [
          "2025-05-12",
          "2025-05-19",
          "2025-05-26",
          "2025-06-02",
          "2025-06-09",
          "2025-06-16",
          "2025-06-23",
          "2025-06-30",
          "2025-07-07"
         ],
         "xaxis": "x",
         "y": {
          "bdata": "9fLhGosgTkBQuXG/eWxOQAswb19ouE5AcOn+A1cET0As7CCtRVBPQKmssFE0nE9A/F9A9iLoT0AdF2jNCBpQQBUO51HdN1BA",
          "dtype": "f8"
         },
         "yaxis": "y"
        },
        {
         "customdata": [
          [
           "7 days",
           40467.11864406779,
           840000,
           60081.35593220338,
           840000,
           0.06675102815564694,
           29400,
           840000,
           0.033816425120772944,
           31920,
           840000,
           0.036608863198458574
          ],
          [
           "7 days",
           41463.72881355932,
           840000,
           63071.186440677964,
           840000,
           0.06984076935204162,
           29400,
           840000,
           0.033816425120772944,
           31920,
           840000,
           0.036608863198458574
          ],
          [
           "7 days",
           42460.338983050846,
           840000,
           66061.01694915253,
           840000,
           0.07291011942174731,
           29400,
           840000,
           0.033816425120772944,
           31920,
           840000,
           0.036608863198458574
          ],
          [
           "7 days",
           43456.94915254237,
           840000,
           69050.84745762711,
           840000,
           0.07595927956147219,
           29400,
           840000,
           0.033816425120772944,
           31920,
           840000,
           0.036608863198458574
          ],
          [
           "7 days",
           44453.55932203389,
           840000,
           72040.67796610169,
           840000,
           0.07898844832969092,
           29400,
           840000,
           0.033816425120772944,
           31920,
           840000,
           0.036608863198458574
          ],
          [
           "7 days",
           45450.16949152543,
           840000,
           75030.50847457627,
           840000,
           0.08199782168974638,
           29400,
           840000,
           0.033816425120772944,
           31920,
           840000,
           0.036608863198458574
          ],
          [
           "7 days",
           46446.779661016946,
           840000,
           78020.33898305082,
           840000,
           0.08498759305210916,
           29400,
           840000,
           0.033816425120772944,
           31920,
           840000,
           0.036608863198458574
          ],
          [
           "7 days",
           47443.38983050847,
           840000,
           81010.16949152545,
           840000,
           0.0879579533158139,
           29400,
           840000,
           0.033816425120772944,
           31920,
           840000,
           0.036608863198458574
          ],
          [
           "4 days",
           27557.966101694918,
           480000,
           47633.898305084746,
           480000,
           0.09027831316012642,
           16800,
           480000,
           0.033816425120772944,
           18240,
           480000,
           0.036608863198458574
          ]
         ],
         "hovertemplate": "Prediction=Web (PREDICTWEBPROPENSITY)<br>Date=%{x}<br>Performance=%{y}<br>Period=%{customdata[0]}<br>Positives=%{customdata[1]}<br>Negatives=%{customdata[2]}<br>Positives_Test=%{customdata[3]}<br>Negatives_Test=%{customdata[4]}<br>CTR_Test=%{customdata[5]:.3%}<br>Positives_Control=%{customdata[6]}<br>Negatives_Control=%{customdata[7]}<br>CTR_Control=%{customdata[8]:.3%}<br>Positives_NBA=%{customdata[9]}<br>Negatives_NBA=%{customdata[10]}<br>CTR_NBA=%{customdata[11]:.3%}<extra></extra>",
         "legendgroup": "Web (PREDICTWEBPROPENSITY)",
         "line": {
          "color": "#F76923",
          "dash": "solid"
         },
         "marker": {
          "symbol": "circle"
         },
         "mode": "lines+markers",
         "name": "Web (PREDICTWEBPROPENSITY)",
         "orientation": "v",
         "showlegend": true,
         "type": "scatter",
         "x": [
          "2025-05-12",
          "2025-05-19",
          "2025-05-26",
          "2025-06-02",
          "2025-06-09",
          "2025-06-16",
          "2025-06-23",
          "2025-06-30",
          "2025-07-07"
         ],
         "xaxis": "x",
         "y": {
          "bdata": "PFsbhYKGUEANE25AspVQQCSqwPvhpFBAlXIUtxG0UEDDGWhyQcNQQMqfuy1x0lBAgot85KDhUECNn8+f0PBQQKeOfAy//FBA",
          "dtype": "f8"
         },
         "yaxis": "y"
        }
       ],
       "layout": {
        "legend": {
         "title": {
          "text": "Channel"
         },
         "tracegroupgap": 0
        },
        "template": {
         "layout": {
          "colorway": [
           "#001F5F",
           "#10A5AC",
           "#F76923",
           "#661D34",
           "#86CAC6",
           "#005154",
           "#86CAC6",
           "#5F67B9",
           "#FFC836",
           "#E63690",
           "#AC1361",
           "#63666F",
           "#A7A9B4",
           "#D0D1DB"
          ],
          "hovermode": "closest"
         }
        },
        "title": {
         "text": "Prediction Performance<br><sub>period: 12-May-2025 to 10-Jul-2025</sub>"
        },
        "xaxis": {
         "anchor": "y",
         "domain": [
          0,
          1
         ],
         "title": {
          "text": "Date"
         }
        },
        "yaxis": {
         "anchor": "x",
         "domain": [
          0,
          1
         ],
         "range": [
          50,
          100
         ],
         "title": {
          "text": "Performance (AUC)"
         }
        }
       }
      }
     },
     "metadata": {},
     "output_type": "display_data"
    }
   ],
   "source": [
    "prediction.plot.performance_trend(\"1w\")"
   ]
  },
  {
   "cell_type": "code",
   "execution_count": 5,
   "metadata": {},
   "outputs": [
    {
     "data": {
      "application/vnd.plotly.v1+json": {
       "config": {
        "plotlyServerURL": "https://plot.ly"
       },
       "data": [
        {
         "customdata": [
          [
           "7 days",
           3657.7966101694915,
           126000,
           5303.389830508472,
           126000,
           0.040390349688262384,
           2520,
           126000,
           0.0196078431372549,
           3150,
           126000,
           0.024390243902439025
          ],
          [
           "7 days",
           3699.3220338983056,
           126000,
           5427.966101694914,
           126000,
           0.04129993229519295,
           2520,
           126000,
           0.0196078431372549,
           3150,
           126000,
           0.024390243902439025
          ],
          [
           "7 days",
           3740.847457627119,
           126000,
           5552.542372881357,
           126000,
           0.042207792207792215,
           2520,
           126000,
           0.0196078431372549,
           3150,
           126000,
           0.024390243902439025
          ],
          [
           "7 days",
           3782.3728813559323,
           126000,
           5677.118644067798,
           126000,
           0.04311393431544805,
           2520,
           126000,
           0.0196078431372549,
           3150,
           126000,
           0.024390243902439025
          ],
          [
           "7 days",
           3823.898305084746,
           126000,
           5801.694915254236,
           126000,
           0.04401836348906291,
           2520,
           126000,
           0.0196078431372549,
           3150,
           126000,
           0.024390243902439025
          ],
          [
           "7 days",
           3865.4237288135596,
           126000,
           5926.271186440678,
           126000,
           0.04492108458114124,
           2520,
           126000,
           0.0196078431372549,
           3150,
           126000,
           0.024390243902439025
          ],
          [
           "7 days",
           3906.9491525423728,
           126000,
           6050.84745762712,
           126000,
           0.04582210242587602,
           2520,
           126000,
           0.0196078431372549,
           3150,
           126000,
           0.024390243902439025
          ],
          [
           "7 days",
           3948.4745762711864,
           126000,
           6175.423728813558,
           126000,
           0.046721421839235215,
           2520,
           126000,
           0.0196078431372549,
           3150,
           126000,
           0.024390243902439025
          ],
          [
           "4 days",
           2274.915254237288,
           72000,
           3584.7457627118642,
           72000,
           0.0474268415741675,
           1440,
           72000,
           0.0196078431372549,
           1800,
           72000,
           0.024390243902439025
          ]
         ],
         "hovertemplate": "Prediction=Mobile (PREDICTMOBILEPROPENSITY)<br>Date=%{x}<br>Lift=%{y}<br>Period=%{customdata[0]}<br>Positives=%{customdata[1]}<br>Negatives=%{customdata[2]}<br>Positives_Test=%{customdata[3]}<br>Negatives_Test=%{customdata[4]}<br>CTR_Test=%{customdata[5]:.3%}<br>Positives_Control=%{customdata[6]}<br>Negatives_Control=%{customdata[7]}<br>CTR_Control=%{customdata[8]:.3%}<br>Positives_NBA=%{customdata[9]}<br>Negatives_NBA=%{customdata[10]}<br>CTR_NBA=%{customdata[11]:.3%}<extra></extra>",
         "legendgroup": "Mobile (PREDICTMOBILEPROPENSITY)",
         "line": {
          "color": "#001F5F",
          "dash": "solid"
         },
         "marker": {
          "symbol": "circle"
         },
         "mode": "lines+markers",
         "name": "Mobile (PREDICTMOBILEPROPENSITY)",
         "orientation": "v",
         "showlegend": true,
         "type": "scatter",
         "x": [
          "2025-05-12",
          "2025-05-19",
          "2025-05-26",
          "2025-06-02",
          "2025-06-09",
          "2025-06-16",
          "2025-06-23",
          "2025-06-30",
          "2025-07-07"
         ],
         "xaxis": "x",
         "y": {
          "bdata": "hNXD6mH18D/GcxQCZLPxPyrEWfkJcfI/wpSDE1Qu8z9+6kCTQuvzP5FPALvVp/Q/ISHwzA1k9T/N3P4K6x/2P7QdEwpHs/Y/",
          "dtype": "f8"
         },
         "yaxis": "y"
        },
        {
         "customdata": [
          [
           "7 days",
           2674.2372881355927,
           210000,
           3402.711864406778,
           210000,
           0.01594502635265861,
           2100,
           210000,
           0.009900990099009901,
           2520,
           210000,
           0.011857707509881422
          ],
          [
           "7 days",
           2707.4576271186443,
           210000,
           3502.3728813559337,
           210000,
           0.016404374499866637,
           2100,
           210000,
           0.009900990099009901,
           2520,
           210000,
           0.011857707509881422
          ],
          [
           "7 days",
           2740.677966101695,
           210000,
           3602.033898305085,
           210000,
           0.016863294007865095,
           2100,
           210000,
           0.009900990099009901,
           2520,
           210000,
           0.011857707509881422
          ],
          [
           "7 days",
           2773.898305084745,
           210000,
           3701.6949152542356,
           210000,
           0.017321785476349095,
           2100,
           210000,
           0.009900990099009901,
           2520,
           210000,
           0.011857707509881422
          ],
          [
           "7 days",
           2807.1186440677966,
           210000,
           3801.355932203391,
           210000,
           0.017779849503895592,
           2100,
           210000,
           0.009900990099009901,
           2520,
           210000,
           0.011857707509881422
          ],
          [
           "7 days",
           2840.338983050847,
           210000,
           3901.016949152542,
           210000,
           0.01823748668796592,
           2100,
           210000,
           0.009900990099009901,
           2520,
           210000,
           0.011857707509881422
          ],
          [
           "7 days",
           2873.559322033898,
           210000,
           4000.677966101693,
           210000,
           0.018694697624908514,
           2100,
           210000,
           0.009900990099009901,
           2520,
           210000,
           0.011857707509881422
          ],
          [
           "7 days",
           2906.7796610169494,
           210000,
           4100.338983050849,
           210000,
           0.019151482909961437,
           2100,
           210000,
           0.009900990099009901,
           2520,
           210000,
           0.011857707509881422
          ],
          [
           "4 days",
           1675.9322033898306,
           120000,
           2387.796610169492,
           120000,
           0.01951008741316848,
           1200,
           120000,
           0.009900990099009901,
           1440,
           120000,
           0.011857707509881422
          ]
         ],
         "hovertemplate": "Prediction=E-mail (PREDICTOUTBOUNDEMAILPROPENSITY)<br>Date=%{x}<br>Lift=%{y}<br>Period=%{customdata[0]}<br>Positives=%{customdata[1]}<br>Negatives=%{customdata[2]}<br>Positives_Test=%{customdata[3]}<br>Negatives_Test=%{customdata[4]}<br>CTR_Test=%{customdata[5]:.3%}<br>Positives_Control=%{customdata[6]}<br>Negatives_Control=%{customdata[7]}<br>CTR_Control=%{customdata[8]:.3%}<br>Positives_NBA=%{customdata[9]}<br>Negatives_NBA=%{customdata[10]}<br>CTR_NBA=%{customdata[11]:.3%}<extra></extra>",
         "legendgroup": "E-mail (PREDICTOUTBOUNDEMAILPROPENSITY)",
         "line": {
          "color": "#10A5AC",
          "dash": "solid"
         },
         "marker": {
          "symbol": "circle"
         },
         "mode": "lines+markers",
         "name": "E-mail (PREDICTOUTBOUNDEMAILPROPENSITY)",
         "orientation": "v",
         "showlegend": true,
         "type": "scatter",
         "x": [
          "2025-05-12",
          "2025-05-19",
          "2025-05-26",
          "2025-06-02",
          "2025-06-09",
          "2025-06-16",
          "2025-06-23",
          "2025-06-30",
          "2025-07-07"
         ],
         "xaxis": "x",
         "y": {
          "bdata": "aEfSiMmI4z9dEVol2QTlP8CxXfeNgOY/DbphH+j75z9BNtu953bpP9i1L/OM8eo/fFW139dr7D8DyLKjyOXtP1KGsYB9Du8/",
          "dtype": "f8"
         },
         "yaxis": "y"
        },
        {
         "customdata": [
          [
           "7 days",
           40467.11864406779,
           840000,
           60081.35593220338,
           840000,
           0.06675102815564694,
           29400,
           840000,
           0.033816425120772944,
           31920,
           840000,
           0.036608863198458574
          ],
          [
           "7 days",
           41463.72881355932,
           840000,
           63071.186440677964,
           840000,
           0.06984076935204162,
           29400,
           840000,
           0.033816425120772944,
           31920,
           840000,
           0.036608863198458574
          ],
          [
           "7 days",
           42460.338983050846,
           840000,
           66061.01694915253,
           840000,
           0.07291011942174731,
           29400,
           840000,
           0.033816425120772944,
           31920,
           840000,
           0.036608863198458574
          ],
          [
           "7 days",
           43456.94915254237,
           840000,
           69050.84745762711,
           840000,
           0.07595927956147219,
           29400,
           840000,
           0.033816425120772944,
           31920,
           840000,
           0.036608863198458574
          ],
          [
           "7 days",
           44453.55932203389,
           840000,
           72040.67796610169,
           840000,
           0.07898844832969092,
           29400,
           840000,
           0.033816425120772944,
           31920,
           840000,
           0.036608863198458574
          ],
          [
           "7 days",
           45450.16949152543,
           840000,
           75030.50847457627,
           840000,
           0.08199782168974638,
           29400,
           840000,
           0.033816425120772944,
           31920,
           840000,
           0.036608863198458574
          ],
          [
           "7 days",
           46446.779661016946,
           840000,
           78020.33898305082,
           840000,
           0.08498759305210916,
           29400,
           840000,
           0.033816425120772944,
           31920,
           840000,
           0.036608863198458574
          ],
          [
           "7 days",
           47443.38983050847,
           840000,
           81010.16949152545,
           840000,
           0.0879579533158139,
           29400,
           840000,
           0.033816425120772944,
           31920,
           840000,
           0.036608863198458574
          ],
          [
           "4 days",
           27557.966101694918,
           480000,
           47633.898305084746,
           480000,
           0.09027831316012642,
           16800,
           480000,
           0.033816425120772944,
           18240,
           480000,
           0.036608863198458574
          ]
         ],
         "hovertemplate": "Prediction=Web (PREDICTWEBPROPENSITY)<br>Date=%{x}<br>Lift=%{y}<br>Period=%{customdata[0]}<br>Positives=%{customdata[1]}<br>Negatives=%{customdata[2]}<br>Positives_Test=%{customdata[3]}<br>Negatives_Test=%{customdata[4]}<br>CTR_Test=%{customdata[5]:.3%}<br>Positives_Control=%{customdata[6]}<br>Negatives_Control=%{customdata[7]}<br>CTR_Control=%{customdata[8]:.3%}<br>Positives_NBA=%{customdata[9]}<br>Negatives_NBA=%{customdata[10]}<br>CTR_NBA=%{customdata[11]:.3%}<extra></extra>",
         "legendgroup": "Web (PREDICTWEBPROPENSITY)",
         "line": {
          "color": "#F76923",
          "dash": "solid"
         },
         "marker": {
          "symbol": "circle"
         },
         "mode": "lines+markers",
         "name": "Web (PREDICTWEBPROPENSITY)",
         "orientation": "v",
         "showlegend": true,
         "type": "scatter",
         "x": [
          "2025-05-12",
          "2025-05-19",
          "2025-05-26",
          "2025-06-02",
          "2025-06-09",
          "2025-06-16",
          "2025-06-23",
          "2025-06-30",
          "2025-07-07"
         ],
         "xaxis": "x",
         "y": {
          "bdata": "V89xHWEq7z8SoN3pbgvxP3Xm1vs0f/I/Nzi/AYnw8z/k1L8jcV/1P9BUaHXzy/Y/kokE9hU2+D9LsvCQ3p35Pz0Mlwfstvo/",
          "dtype": "f8"
         },
         "yaxis": "y"
        }
       ],
       "layout": {
        "legend": {
         "title": {
          "text": "Channel"
         },
         "tracegroupgap": 0
        },
        "template": {
         "layout": {
          "colorway": [
           "#001F5F",
           "#10A5AC",
           "#F76923",
           "#661D34",
           "#86CAC6",
           "#005154",
           "#86CAC6",
           "#5F67B9",
           "#FFC836",
           "#E63690",
           "#AC1361",
           "#63666F",
           "#A7A9B4",
           "#D0D1DB"
          ],
          "hovermode": "closest"
         }
        },
        "title": {
         "text": "Prediction Lift<br><sub>period: 12-May-2025 to 10-Jul-2025</sub>"
        },
        "xaxis": {
         "anchor": "y",
         "domain": [
          0,
          1
         ],
         "title": {
          "text": "Date"
         }
        },
        "yaxis": {
         "anchor": "x",
         "domain": [
          0,
          1
         ],
         "range": [
          -1,
          2.0035904269964866
         ],
         "tickformat": ",.2%",
         "title": {
          "text": "Engagement Lift"
         }
        }
       }
      }
     },
     "metadata": {},
     "output_type": "display_data"
    }
   ],
   "source": [
    "prediction.plot.lift_trend(\"1w\")#, return_df=True).collect()"
   ]
  },
  {
   "cell_type": "code",
   "execution_count": 6,
   "metadata": {},
   "outputs": [
    {
     "data": {
      "application/vnd.plotly.v1+json": {
       "config": {
        "plotlyServerURL": "https://plot.ly"
       },
       "data": [
        {
         "customdata": [
          [
           "7 days",
           3657.7966101694915,
           126000,
           5303.389830508472,
           126000,
           0.040390349688262384,
           2520,
           126000,
           0.0196078431372549,
           3150,
           126000,
           0.024390243902439025
          ],
          [
           "7 days",
           3699.3220338983056,
           126000,
           5427.966101694914,
           126000,
           0.04129993229519295,
           2520,
           126000,
           0.0196078431372549,
           3150,
           126000,
           0.024390243902439025
          ],
          [
           "7 days",
           3740.847457627119,
           126000,
           5552.542372881357,
           126000,
           0.042207792207792215,
           2520,
           126000,
           0.0196078431372549,
           3150,
           126000,
           0.024390243902439025
          ],
          [
           "7 days",
           3782.3728813559323,
           126000,
           5677.118644067798,
           126000,
           0.04311393431544805,
           2520,
           126000,
           0.0196078431372549,
           3150,
           126000,
           0.024390243902439025
          ],
          [
           "7 days",
           3823.898305084746,
           126000,
           5801.694915254236,
           126000,
           0.04401836348906291,
           2520,
           126000,
           0.0196078431372549,
           3150,
           126000,
           0.024390243902439025
          ],
          [
           "7 days",
           3865.4237288135596,
           126000,
           5926.271186440678,
           126000,
           0.04492108458114124,
           2520,
           126000,
           0.0196078431372549,
           3150,
           126000,
           0.024390243902439025
          ],
          [
           "7 days",
           3906.9491525423728,
           126000,
           6050.84745762712,
           126000,
           0.04582210242587602,
           2520,
           126000,
           0.0196078431372549,
           3150,
           126000,
           0.024390243902439025
          ],
          [
           "7 days",
           3948.4745762711864,
           126000,
           6175.423728813558,
           126000,
           0.046721421839235215,
           2520,
           126000,
           0.0196078431372549,
           3150,
           126000,
           0.024390243902439025
          ],
          [
           "4 days",
           2274.915254237288,
           72000,
           3584.7457627118642,
           72000,
           0.0474268415741675,
           1440,
           72000,
           0.0196078431372549,
           1800,
           72000,
           0.024390243902439025
          ]
         ],
         "hovertemplate": "Prediction=Mobile (PREDICTMOBILEPROPENSITY)<br>Date=%{x}<br>CTR=%{y}<br>Period=%{customdata[0]}<br>Positives=%{customdata[1]}<br>Negatives=%{customdata[2]}<br>Positives_Test=%{customdata[3]}<br>Negatives_Test=%{customdata[4]}<br>CTR_Test=%{customdata[5]:.3%}<br>Positives_Control=%{customdata[6]}<br>Negatives_Control=%{customdata[7]}<br>CTR_Control=%{customdata[8]:.3%}<br>Positives_NBA=%{customdata[9]}<br>Negatives_NBA=%{customdata[10]}<br>CTR_NBA=%{customdata[11]:.3%}<extra></extra>",
         "legendgroup": "Mobile (PREDICTMOBILEPROPENSITY)",
         "line": {
          "color": "#001F5F",
          "dash": "solid"
         },
         "marker": {
          "symbol": "circle"
         },
         "mode": "lines+markers",
         "name": "Mobile (PREDICTMOBILEPROPENSITY)",
         "orientation": "v",
         "showlegend": true,
         "type": "scatter",
         "x": [
          "2025-05-12",
          "2025-05-19",
          "2025-05-26",
          "2025-06-02",
          "2025-06-09",
          "2025-06-16",
          "2025-06-23",
          "2025-06-30",
          "2025-07-07"
         ],
         "xaxis": "x",
         "y": {
          "bdata": "QIEox2LjnD/oT3Sq8jSdPx71GTB1hp0/2j5iW+rXnT+v55QvUimePziX+K+sep4/kOLS3/nLnj+9TGjCOR2fP+zc8jMHXZ8/",
          "dtype": "f8"
         },
         "yaxis": "y"
        },
        {
         "customdata": [
          [
           "7 days",
           2674.2372881355927,
           210000,
           3402.711864406778,
           210000,
           0.01594502635265861,
           2100,
           210000,
           0.009900990099009901,
           2520,
           210000,
           0.011857707509881422
          ],
          [
           "7 days",
           2707.4576271186443,
           210000,
           3502.3728813559337,
           210000,
           0.016404374499866637,
           2100,
           210000,
           0.009900990099009901,
           2520,
           210000,
           0.011857707509881422
          ],
          [
           "7 days",
           2740.677966101695,
           210000,
           3602.033898305085,
           210000,
           0.016863294007865095,
           2100,
           210000,
           0.009900990099009901,
           2520,
           210000,
           0.011857707509881422
          ],
          [
           "7 days",
           2773.898305084745,
           210000,
           3701.6949152542356,
           210000,
           0.017321785476349095,
           2100,
           210000,
           0.009900990099009901,
           2520,
           210000,
           0.011857707509881422
          ],
          [
           "7 days",
           2807.1186440677966,
           210000,
           3801.355932203391,
           210000,
           0.017779849503895592,
           2100,
           210000,
           0.009900990099009901,
           2520,
           210000,
           0.011857707509881422
          ],
          [
           "7 days",
           2840.338983050847,
           210000,
           3901.016949152542,
           210000,
           0.01823748668796592,
           2100,
           210000,
           0.009900990099009901,
           2520,
           210000,
           0.011857707509881422
          ],
          [
           "7 days",
           2873.559322033898,
           210000,
           4000.677966101693,
           210000,
           0.018694697624908514,
           2100,
           210000,
           0.009900990099009901,
           2520,
           210000,
           0.011857707509881422
          ],
          [
           "7 days",
           2906.7796610169494,
           210000,
           4100.338983050849,
           210000,
           0.019151482909961437,
           2100,
           210000,
           0.009900990099009901,
           2520,
           210000,
           0.011857707509881422
          ],
          [
           "4 days",
           1675.9322033898306,
           120000,
           2387.796610169492,
           120000,
           0.01951008741316848,
           1200,
           120000,
           0.009900990099009901,
           1440,
           120000,
           0.011857707509881422
          ]
         ],
         "hovertemplate": "Prediction=E-mail (PREDICTOUTBOUNDEMAILPROPENSITY)<br>Date=%{x}<br>CTR=%{y}<br>Period=%{customdata[0]}<br>Positives=%{customdata[1]}<br>Negatives=%{customdata[2]}<br>Positives_Test=%{customdata[3]}<br>Negatives_Test=%{customdata[4]}<br>CTR_Test=%{customdata[5]:.3%}<br>Positives_Control=%{customdata[6]}<br>Negatives_Control=%{customdata[7]}<br>CTR_Control=%{customdata[8]:.3%}<br>Positives_NBA=%{customdata[9]}<br>Negatives_NBA=%{customdata[10]}<br>CTR_NBA=%{customdata[11]:.3%}<extra></extra>",
         "legendgroup": "E-mail (PREDICTOUTBOUNDEMAILPROPENSITY)",
         "line": {
          "color": "#10A5AC",
          "dash": "solid"
         },
         "marker": {
          "symbol": "circle"
         },
         "mode": "lines+markers",
         "name": "E-mail (PREDICTOUTBOUNDEMAILPROPENSITY)",
         "orientation": "v",
         "showlegend": true,
         "type": "scatter",
         "x": [
          "2025-05-12",
          "2025-05-19",
          "2025-05-26",
          "2025-06-02",
          "2025-06-09",
          "2025-06-16",
          "2025-06-23",
          "2025-06-30",
          "2025-07-07"
         ],
         "xaxis": "x",
         "y": {
          "bdata": "z9pAypLAiT88JcIibRGKPyhdaQRBYoo/gvD8bw6zij+DLUNm1QOLP6pCAuiVVIs/0j4A9k+liz8xEQORA/aLPwG0YZdnNYw/",
          "dtype": "f8"
         },
         "yaxis": "y"
        },
        {
         "customdata": [
          [
           "7 days",
           40467.11864406779,
           840000,
           60081.35593220338,
           840000,
           0.06675102815564694,
           29400,
           840000,
           0.033816425120772944,
           31920,
           840000,
           0.036608863198458574
          ],
          [
           "7 days",
           41463.72881355932,
           840000,
           63071.186440677964,
           840000,
           0.06984076935204162,
           29400,
           840000,
           0.033816425120772944,
           31920,
           840000,
           0.036608863198458574
          ],
          [
           "7 days",
           42460.338983050846,
           840000,
           66061.01694915253,
           840000,
           0.07291011942174731,
           29400,
           840000,
           0.033816425120772944,
           31920,
           840000,
           0.036608863198458574
          ],
          [
           "7 days",
           43456.94915254237,
           840000,
           69050.84745762711,
           840000,
           0.07595927956147219,
           29400,
           840000,
           0.033816425120772944,
           31920,
           840000,
           0.036608863198458574
          ],
          [
           "7 days",
           44453.55932203389,
           840000,
           72040.67796610169,
           840000,
           0.07898844832969092,
           29400,
           840000,
           0.033816425120772944,
           31920,
           840000,
           0.036608863198458574
          ],
          [
           "7 days",
           45450.16949152543,
           840000,
           75030.50847457627,
           840000,
           0.08199782168974638,
           29400,
           840000,
           0.033816425120772944,
           31920,
           840000,
           0.036608863198458574
          ],
          [
           "7 days",
           46446.779661016946,
           840000,
           78020.33898305082,
           840000,
           0.08498759305210916,
           29400,
           840000,
           0.033816425120772944,
           31920,
           840000,
           0.036608863198458574
          ],
          [
           "7 days",
           47443.38983050847,
           840000,
           81010.16949152545,
           840000,
           0.0879579533158139,
           29400,
           840000,
           0.033816425120772944,
           31920,
           840000,
           0.036608863198458574
          ],
          [
           "4 days",
           27557.966101694918,
           480000,
           47633.898305084746,
           480000,
           0.09027831316012642,
           16800,
           480000,
           0.033816425120772944,
           18240,
           480000,
           0.036608863198458574
          ]
         ],
         "hovertemplate": "Prediction=Web (PREDICTWEBPROPENSITY)<br>Date=%{x}<br>CTR=%{y}<br>Period=%{customdata[0]}<br>Positives=%{customdata[1]}<br>Negatives=%{customdata[2]}<br>Positives_Test=%{customdata[3]}<br>Negatives_Test=%{customdata[4]}<br>CTR_Test=%{customdata[5]:.3%}<br>Positives_Control=%{customdata[6]}<br>Negatives_Control=%{customdata[7]}<br>CTR_Control=%{customdata[8]:.3%}<br>Positives_NBA=%{customdata[9]}<br>Negatives_NBA=%{customdata[10]}<br>CTR_NBA=%{customdata[11]:.3%}<extra></extra>",
         "legendgroup": "Web (PREDICTWEBPROPENSITY)",
         "line": {
          "color": "#F76923",
          "dash": "solid"
         },
         "marker": {
          "symbol": "circle"
         },
         "mode": "lines+markers",
         "name": "Web (PREDICTWEBPROPENSITY)",
         "orientation": "v",
         "showlegend": true,
         "type": "scatter",
         "x": [
          "2025-05-12",
          "2025-05-19",
          "2025-05-26",
          "2025-06-02",
          "2025-06-09",
          "2025-06-16",
          "2025-06-23",
          "2025-06-30",
          "2025-07-07"
         ],
         "xaxis": "x",
         "y": {
          "bdata": "9R1JFTKIpz904CcclBWoP9xvlGKkoqg/I3tiL2MvqT/w9xPJ0LupP2SY2XXtR6o//j+Te7nTqj/Wd9AfNV+rP/JoPuqUzKs/",
          "dtype": "f8"
         },
         "yaxis": "y"
        }
       ],
       "layout": {
        "legend": {
         "title": {
          "text": "Channel"
         },
         "tracegroupgap": 0
        },
        "template": {
         "layout": {
          "colorway": [
           "#001F5F",
           "#10A5AC",
           "#F76923",
           "#661D34",
           "#86CAC6",
           "#005154",
           "#86CAC6",
           "#5F67B9",
           "#FFC836",
           "#E63690",
           "#AC1361",
           "#63666F",
           "#A7A9B4",
           "#D0D1DB"
          ],
          "hovermode": "closest"
         }
        },
        "title": {
         "text": "Prediction CTR<br><sub>period: 12-May-2025 to 10-Jul-2025</sub>"
        },
        "xaxis": {
         "anchor": "y",
         "domain": [
          0,
          1
         ],
         "title": {
          "text": "Date"
         }
        },
        "yaxis": {
         "anchor": "x",
         "domain": [
          0,
          1
         ],
         "rangemode": "tozero",
         "tickformat": ",.3%",
         "title": {
          "text": "CTR"
         }
        }
       }
      }
     },
     "metadata": {},
     "output_type": "display_data"
    }
   ],
   "source": [
    "prediction.plot.ctr_trend(\"1w\", facetting=False)"
   ]
  },
  {
   "cell_type": "code",
   "execution_count": 7,
   "metadata": {},
   "outputs": [
    {
     "data": {
      "application/vnd.plotly.v1+json": {
       "config": {
        "plotlyServerURL": "https://plot.ly"
       },
       "data": [
        {
         "customdata": [
          [
           "7 days",
           3657.7966101694915,
           126000,
           5303.389830508472,
           126000,
           0.040390349688262384,
           2520,
           126000,
           0.0196078431372549,
           3150,
           126000,
           0.024390243902439025
          ],
          [
           "7 days",
           3699.3220338983056,
           126000,
           5427.966101694914,
           126000,
           0.04129993229519295,
           2520,
           126000,
           0.0196078431372549,
           3150,
           126000,
           0.024390243902439025
          ],
          [
           "7 days",
           3740.847457627119,
           126000,
           5552.542372881357,
           126000,
           0.042207792207792215,
           2520,
           126000,
           0.0196078431372549,
           3150,
           126000,
           0.024390243902439025
          ],
          [
           "7 days",
           3782.3728813559323,
           126000,
           5677.118644067798,
           126000,
           0.04311393431544805,
           2520,
           126000,
           0.0196078431372549,
           3150,
           126000,
           0.024390243902439025
          ],
          [
           "7 days",
           3823.898305084746,
           126000,
           5801.694915254236,
           126000,
           0.04401836348906291,
           2520,
           126000,
           0.0196078431372549,
           3150,
           126000,
           0.024390243902439025
          ],
          [
           "7 days",
           3865.4237288135596,
           126000,
           5926.271186440678,
           126000,
           0.04492108458114124,
           2520,
           126000,
           0.0196078431372549,
           3150,
           126000,
           0.024390243902439025
          ],
          [
           "7 days",
           3906.9491525423728,
           126000,
           6050.84745762712,
           126000,
           0.04582210242587602,
           2520,
           126000,
           0.0196078431372549,
           3150,
           126000,
           0.024390243902439025
          ],
          [
           "7 days",
           3948.4745762711864,
           126000,
           6175.423728813558,
           126000,
           0.046721421839235215,
           2520,
           126000,
           0.0196078431372549,
           3150,
           126000,
           0.024390243902439025
          ],
          [
           "4 days",
           2274.915254237288,
           72000,
           3584.7457627118642,
           72000,
           0.0474268415741675,
           1440,
           72000,
           0.0196078431372549,
           1800,
           72000,
           0.024390243902439025
          ]
         ],
         "hovertemplate": "Prediction=Mobile (PREDICTMOBILEPROPENSITY)<br>Date=%{x}<br>Responses=%{y}<br>Period=%{customdata[0]}<br>Positives=%{customdata[1]}<br>Negatives=%{customdata[2]}<br>Positives_Test=%{customdata[3]}<br>Negatives_Test=%{customdata[4]}<br>CTR_Test=%{customdata[5]:.3%}<br>Positives_Control=%{customdata[6]}<br>Negatives_Control=%{customdata[7]}<br>CTR_Control=%{customdata[8]:.3%}<br>Positives_NBA=%{customdata[9]}<br>Negatives_NBA=%{customdata[10]}<br>CTR_NBA=%{customdata[11]:.3%}<extra></extra>",
         "legendgroup": "Mobile (PREDICTMOBILEPROPENSITY)",
         "line": {
          "color": "#001F5F",
          "dash": "solid"
         },
         "marker": {
          "symbol": "circle"
         },
         "mode": "lines+markers",
         "name": "Mobile (PREDICTMOBILEPROPENSITY)",
         "orientation": "v",
         "showlegend": true,
         "type": "scatter",
         "x": [
          "2025-05-12",
          "2025-05-19",
          "2025-05-26",
          "2025-06-02",
          "2025-06-09",
          "2025-06-16",
          "2025-06-23",
          "2025-06-30",
          "2025-07-07"
         ],
         "xaxis": "x",
         "y": {
          "bdata": "Gk7qvpyn/0BXBA0nNar/QJS6L4/NrP9A0HBS92Wv/0ANJ3Vf/rH/QErdl8eWtP9AhpO6Ly+3/0DDSd2Xx7n/QIug4aQuIvJA",
          "dtype": "f8"
         },
         "yaxis": "y"
        },
        {
         "customdata": [
          [
           "7 days",
           2674.2372881355927,
           210000,
           3402.711864406778,
           210000,
           0.01594502635265861,
           2100,
           210000,
           0.009900990099009901,
           2520,
           210000,
           0.011857707509881422
          ],
          [
           "7 days",
           2707.4576271186443,
           210000,
           3502.3728813559337,
           210000,
           0.016404374499866637,
           2100,
           210000,
           0.009900990099009901,
           2520,
           210000,
           0.011857707509881422
          ],
          [
           "7 days",
           2740.677966101695,
           210000,
           3602.033898305085,
           210000,
           0.016863294007865095,
           2100,
           210000,
           0.009900990099009901,
           2520,
           210000,
           0.011857707509881422
          ],
          [
           "7 days",
           2773.898305084745,
           210000,
           3701.6949152542356,
           210000,
           0.017321785476349095,
           2100,
           210000,
           0.009900990099009901,
           2520,
           210000,
           0.011857707509881422
          ],
          [
           "7 days",
           2807.1186440677966,
           210000,
           3801.355932203391,
           210000,
           0.017779849503895592,
           2100,
           210000,
           0.009900990099009901,
           2520,
           210000,
           0.011857707509881422
          ],
          [
           "7 days",
           2840.338983050847,
           210000,
           3901.016949152542,
           210000,
           0.01823748668796592,
           2100,
           210000,
           0.009900990099009901,
           2520,
           210000,
           0.011857707509881422
          ],
          [
           "7 days",
           2873.559322033898,
           210000,
           4000.677966101693,
           210000,
           0.018694697624908514,
           2100,
           210000,
           0.009900990099009901,
           2520,
           210000,
           0.011857707509881422
          ],
          [
           "7 days",
           2906.7796610169494,
           210000,
           4100.338983050849,
           210000,
           0.019151482909961437,
           2100,
           210000,
           0.009900990099009901,
           2520,
           210000,
           0.011857707509881422
          ],
          [
           "4 days",
           1675.9322033898306,
           120000,
           2387.796610169492,
           120000,
           0.01951008741316848,
           1200,
           120000,
           0.009900990099009901,
           1440,
           120000,
           0.011857707509881422
          ]
         ],
         "hovertemplate": "Prediction=E-mail (PREDICTOUTBOUNDEMAILPROPENSITY)<br>Date=%{x}<br>Responses=%{y}<br>Period=%{customdata[0]}<br>Positives=%{customdata[1]}<br>Negatives=%{customdata[2]}<br>Positives_Test=%{customdata[3]}<br>Negatives_Test=%{customdata[4]}<br>CTR_Test=%{customdata[5]:.3%}<br>Positives_Control=%{customdata[6]}<br>Negatives_Control=%{customdata[7]}<br>CTR_Control=%{customdata[8]:.3%}<br>Positives_NBA=%{customdata[9]}<br>Negatives_NBA=%{customdata[10]}<br>CTR_NBA=%{customdata[11]:.3%}<extra></extra>",
         "legendgroup": "E-mail (PREDICTOUTBOUNDEMAILPROPENSITY)",
         "line": {
          "color": "#10A5AC",
          "dash": "solid"
         },
         "marker": {
          "symbol": "circle"
         },
         "mode": "lines+markers",
         "name": "E-mail (PREDICTOUTBOUNDEMAILPROPENSITY)",
         "orientation": "v",
         "showlegend": true,
         "type": "scatter",
         "x": [
          "2025-05-12",
          "2025-05-19",
          "2025-05-26",
          "2025-06-02",
          "2025-06-09",
          "2025-06-16",
          "2025-06-23",
          "2025-06-30",
          "2025-07-07"
         ],
         "xaxis": "x",
         "y": {
          "bdata": "cVL35RH2CUEiaDipG/cJQdR9eWwl+AlBhpO6Ly/5CUE5qfvyOPoJQeq+PLZC+wlBnNR9eUz8CUFO6r48Vv0JQQkaTuq+tP1A",
          "dtype": "f8"
         },
         "yaxis": "y"
        },
        {
         "customdata": [
          [
           "7 days",
           40467.11864406779,
           840000,
           60081.35593220338,
           840000,
           0.06675102815564694,
           29400,
           840000,
           0.033816425120772944,
           31920,
           840000,
           0.036608863198458574
          ],
          [
           "7 days",
           41463.72881355932,
           840000,
           63071.186440677964,
           840000,
           0.06984076935204162,
           29400,
           840000,
           0.033816425120772944,
           31920,
           840000,
           0.036608863198458574
          ],
          [
           "7 days",
           42460.338983050846,
           840000,
           66061.01694915253,
           840000,
           0.07291011942174731,
           29400,
           840000,
           0.033816425120772944,
           31920,
           840000,
           0.036608863198458574
          ],
          [
           "7 days",
           43456.94915254237,
           840000,
           69050.84745762711,
           840000,
           0.07595927956147219,
           29400,
           840000,
           0.033816425120772944,
           31920,
           840000,
           0.036608863198458574
          ],
          [
           "7 days",
           44453.55932203389,
           840000,
           72040.67796610169,
           840000,
           0.07898844832969092,
           29400,
           840000,
           0.033816425120772944,
           31920,
           840000,
           0.036608863198458574
          ],
          [
           "7 days",
           45450.16949152543,
           840000,
           75030.50847457627,
           840000,
           0.08199782168974638,
           29400,
           840000,
           0.033816425120772944,
           31920,
           840000,
           0.036608863198458574
          ],
          [
           "7 days",
           46446.779661016946,
           840000,
           78020.33898305082,
           840000,
           0.08498759305210916,
           29400,
           840000,
           0.033816425120772944,
           31920,
           840000,
           0.036608863198458574
          ],
          [
           "7 days",
           47443.38983050847,
           840000,
           81010.16949152545,
           840000,
           0.0879579533158139,
           29400,
           840000,
           0.033816425120772944,
           31920,
           840000,
           0.036608863198458574
          ],
          [
           "4 days",
           27557.966101694918,
           480000,
           47633.898305084746,
           480000,
           0.09027831316012642,
           16800,
           480000,
           0.033816425120772944,
           18240,
           480000,
           0.036608863198458574
          ]
         ],
         "hovertemplate": "Prediction=Web (PREDICTWEBPROPENSITY)<br>Date=%{x}<br>Responses=%{y}<br>Period=%{customdata[0]}<br>Positives=%{customdata[1]}<br>Negatives=%{customdata[2]}<br>Positives_Test=%{customdata[3]}<br>Negatives_Test=%{customdata[4]}<br>CTR_Test=%{customdata[5]:.3%}<br>Positives_Control=%{customdata[6]}<br>Negatives_Control=%{customdata[7]}<br>CTR_Control=%{customdata[8]:.3%}<br>Positives_NBA=%{customdata[9]}<br>Negatives_NBA=%{customdata[10]}<br>CTR_NBA=%{customdata[11]:.3%}<extra></extra>",
         "legendgroup": "Web (PREDICTWEBPROPENSITY)",
         "line": {
          "color": "#F76923",
          "dash": "solid"
         },
         "marker": {
          "symbol": "circle"
         },
         "mode": "lines+markers",
         "name": "Web (PREDICTWEBPROPENSITY)",
         "orientation": "v",
         "showlegend": true,
         "type": "scatter",
         "x": [
          "2025-05-12",
          "2025-05-19",
          "2025-05-26",
          "2025-06-02",
          "2025-06-09",
          "2025-06-16",
          "2025-06-23",
          "2025-06-30",
          "2025-07-07"
         ],
         "xaxis": "x",
         "y": {
          "bdata": "Teq+PKbeKkEEDSd1b+YqQbovj6047ipBcVL35QH2KkEndV8ey/0qQd2Xx1aUBStBk7ovj10NK0FK3ZfHJhUrQUHDSd2X+h5B",
          "dtype": "f8"
         },
         "yaxis": "y"
        }
       ],
       "layout": {
        "legend": {
         "title": {
          "text": "Channel"
         },
         "tracegroupgap": 0
        },
        "template": {
         "layout": {
          "colorway": [
           "#001F5F",
           "#10A5AC",
           "#F76923",
           "#661D34",
           "#86CAC6",
           "#005154",
           "#86CAC6",
           "#5F67B9",
           "#FFC836",
           "#E63690",
           "#AC1361",
           "#63666F",
           "#A7A9B4",
           "#D0D1DB"
          ],
          "hovermode": "closest"
         }
        },
        "title": {
         "text": "Prediction Responses<br><sub>period: 12-May-2025 to 10-Jul-2025</sub>"
        },
        "xaxis": {
         "anchor": "y",
         "domain": [
          0,
          1
         ],
         "title": {
          "text": "Date"
         }
        },
        "yaxis": {
         "anchor": "x",
         "domain": [
          0,
          1
         ],
         "title": {
          "text": "Responses"
         }
        }
       }
      }
     },
     "metadata": {},
     "output_type": "display_data"
    }
   ],
   "source": [
    "prediction.plot.responsecount_trend(\"1w\", facetting=False)"
   ]
  }
 ],
 "metadata": {
  "kernelspec": {
   "display_name": "pega-datascientist-tools",
   "language": "python",
   "name": "python3"
  },
  "language_info": {
   "codemirror_mode": {
    "name": "ipython",
    "version": 3
   },
   "file_extension": ".py",
   "mimetype": "text/x-python",
   "name": "python",
   "nbconvert_exporter": "python",
   "pygments_lexer": "ipython3",
   "version": "3.12.6"
  }
 },
 "nbformat": 4,
 "nbformat_minor": 2
}
