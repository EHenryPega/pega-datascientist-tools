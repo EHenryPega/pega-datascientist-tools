{
 "cells": [
  {
   "cell_type": "markdown",
   "metadata": {},
   "source": [
    "# Predictions Overview\n",
    "\n",
    "This is a small notebook to report and analyse Prediction Studio data on Predictions. The underlying data is from the Data-DM-Snapshot table that is used to populate the Prediction Studio screen with Prediction Performance, Lift, CTR etc.\n",
    "\n",
    "As data this notebook accept data exported from PDC - which has a slightly altered format - as well as data directly exported from the pyGetSnapshot dataset in Pega.\n",
    "\n",
    "For a description of the datamart tables see https://docs-previous.pega.com/decision-management/87/database-tables-monitoring-models.\n",
    "\n",
    "Disclaimer: this is not a canned, robust and customer-facing notebook (yet). It's mostly used internally to validate Prediction data. Column names and file formats may need some more review to make it more robust."
   ]
  },
  {
   "cell_type": "code",
   "execution_count": null,
   "metadata": {},
   "outputs": [],
   "source": [
    "from pathlib import Path\n",
    "import polars as pl\n",
    "import json\n",
    "from pdstools import readDSExport, Prediction\n",
    "\n",
    "data_export = \"<YOUR DATA FILE HERE>\"\n",
    "data_export = \"/Users/perdo/Downloads/NAB_ADM_Result_Data/Data-DM-Snapshot_pyGetSnapshot_20240612T051004_GMT.zip\"\n",
    "# data_export = \"/Users/perdo/Library/CloudStorage/OneDrive-SharedLibraries-PegasystemsInc/AI Chapter Data Sets - Documents/Customers/NFCU/PDC/Models_data_20240122T103548.244 GMT.json\"\n",
    "\n",
    "prediction = None\n",
    "if data_export.endswith(\".parquet\"):\n",
    "    # TODO - this should be similar to the JSON import and is by convention\n",
    "    predictions_raw_data = pl.read_parquet(Path(data_export).expanduser())\n",
    "    prediction = Prediction(predictions_raw_data.lazy())\n",
    "elif data_export.endswith(\".json\"):\n",
    "    # Assume this is an export from the PDC screen\n",
    "    with open(Path(data_export).expanduser()) as f:\n",
    "        predictions_raw_data = (\n",
    "            pl.from_dicts(json.loads(f.read())[\"pxResults\"])\n",
    "        )\n",
    "        prediction = Prediction.from_pdc(predictions_raw_data.lazy())\n",
    "elif data_export.endswith(\".zip\"):\n",
    "    # Assuming a direct export from the dataset\n",
    "    predictions_raw_data = (\n",
    "        readDSExport(data_export)\n",
    "        .collect()\n",
    "    )\n",
    "    prediction = Prediction(predictions_raw_data.lazy())\n",
    "\n",
    "predictions_raw_data.head()  # .to_pandas().style"
   ]
  },
  {
   "cell_type": "markdown",
   "metadata": {},
   "source": [
    "Quick glance at the available data. Selecting just the last day of the snapshots."
   ]
  },
  {
   "cell_type": "code",
   "execution_count": null,
   "metadata": {},
   "outputs": [],
   "source": [
    "prediction.summary_by_channel().collect().to_pandas().style"
   ]
  },
  {
   "cell_type": "code",
   "execution_count": null,
   "metadata": {},
   "outputs": [],
   "source": [
    "import plotly.express as px\n",
    "px.line(\n",
    "    prediction.summary_by_channel(keep_trend_data=True)\n",
    "    .collect()\n",
    "    .filter(pl.col(\"isMultiChannelPrediction\").not_())\n",
    "    .filter(pl.col(\"Channel\") != \"Unknown\")\n",
    "    .sort([\"SnapshotTime\"]),\n",
    "    x=\"SnapshotTime\",\n",
    "    y=\"Performance\",\n",
    "    color=\"Channel\",\n",
    "    title=\"Prediction Performance\",\n",
    ")"
   ]
  },
  {
   "cell_type": "code",
   "execution_count": null,
   "metadata": {},
   "outputs": [],
   "source": [
    "px.line(\n",
    "    prediction.summary_by_channel(keep_trend_data=True)\n",
    "    .collect()\n",
    "    .filter(pl.col(\"isMultiChannelPrediction\").not_())\n",
    "    .filter(pl.col(\"Channel\") != \"Unknown\")\n",
    "    .sort([\"SnapshotTime\"]),\n",
    "    x=\"SnapshotTime\",\n",
    "    y=\"Lift\",\n",
    "    color=\"Channel\",\n",
    "    title=\"Prediction Lift\",\n",
    ").update_yaxes(tickformat = ',.2%')"
   ]
  }
 ],
 "metadata": {
  "kernelspec": {
   "display_name": "env-p11",
   "language": "python",
   "name": "python3"
  },
  "language_info": {
   "codemirror_mode": {
    "name": "ipython",
    "version": 3
   },
   "file_extension": ".py",
   "mimetype": "text/x-python",
   "name": "python",
   "nbconvert_exporter": "python",
   "pygments_lexer": "ipython3",
   "version": "3.11.9"
  },
  "orig_nbformat": 4
 },
 "nbformat": 4,
 "nbformat_minor": 2
}
