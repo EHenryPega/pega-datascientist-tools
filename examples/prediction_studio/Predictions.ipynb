{
 "cells": [
  {
   "cell_type": "markdown",
   "metadata": {},
   "source": [
    "# Predictions Overview\n",
    "\n",
    "This is a small notebook to report and analyse Prediction Studio data on Predictions. The underlying data is from the Data-DM-Snapshot table that is used to populate the Prediction Studio screen with Prediction Performance, Lift, CTR etc.\n",
    "\n",
    "As data this notebook accept data exported from PDC - which has a slightly altered format - as well as data directly exported from the pyGetSnapshot dataset in Pega.\n",
    "\n",
    "For a description of the datamart tables see https://docs-previous.pega.com/decision-management/87/database-tables-monitoring-models.\n",
    "\n",
    "Disclaimer: this is not a canned, robust and customer-facing notebook (yet). It's mostly used internally to validate Prediction data. Column names and file formats may need some more review to make it more robust."
   ]
  },
  {
   "cell_type": "markdown",
   "metadata": {},
   "source": [
    "## Raw data\n",
    "\n",
    "First, we're going to show the raw data as . The raw data is in a \"long\" format with e.g. test and control groups in separate rows."
   ]
  },
  {
   "cell_type": "code",
   "execution_count": null,
   "metadata": {},
   "outputs": [],
   "source": [
    "from pathlib import Path\n",
    "import sys\n",
    "import polars as pl\n",
    "from pdstools import read_ds_export, Prediction\n",
    "\n",
    "# path to dataset export here\n",
    "# e.g. PR_DATA_DM_SNAPSHOTS.parquet\n",
    "data_export = \"<Your Export Here>\"\n",
    "\n",
    "prediction = None\n",
    "predictions_raw_data = None\n",
    "if data_export.endswith(\".parquet\"):\n",
    "    predictions_raw_data = pl.scan_parquet(Path(data_export).expanduser())\n",
    "    prediction = Prediction(predictions_raw_data)\n",
    "elif data_export.endswith(\".json\"):\n",
    "    print(\"Import of PDC JSON data not supported\")\n",
    "    sys.exit()\n",
    "elif data_export.endswith(\".zip\"):\n",
    "    predictions_raw_data = read_ds_export(data_export)\n",
    "    prediction = Prediction(predictions_raw_data)\n",
    "else:\n",
    "    prediction = Prediction.from_mock_data(days=60)\n",
    "\n",
    "if predictions_raw_data is not None:\n",
    "    predictions_raw_data.head(5).collect().to_pandas().style"
   ]
  },
  {
   "cell_type": "markdown",
   "metadata": {},
   "source": [
    "## Prediction Data\n",
    "\n",
    "The actual prediction data is in a \"wide\" format with separate fields for Test and Control groups. Also, it is only the \"daily\" snapshots and the numbers and date are formatted to be normal Polars types."
   ]
  },
  {
   "cell_type": "code",
   "execution_count": 2,
   "metadata": {},
   "outputs": [
    {
     "data": {
      "text/html": [
       "<style type=\"text/css\">\n",
       "</style>\n",
       "<table id=\"T_31f31\">\n",
       "  <thead>\n",
       "    <tr>\n",
       "      <th class=\"blank level0\" >&nbsp;</th>\n",
       "      <th id=\"T_31f31_level0_col0\" class=\"col_heading level0 col0\" >pyModelId</th>\n",
       "      <th id=\"T_31f31_level0_col1\" class=\"col_heading level0 col1\" >SnapshotTime</th>\n",
       "      <th id=\"T_31f31_level0_col2\" class=\"col_heading level0 col2\" >Positives</th>\n",
       "      <th id=\"T_31f31_level0_col3\" class=\"col_heading level0 col3\" >Negatives</th>\n",
       "      <th id=\"T_31f31_level0_col4\" class=\"col_heading level0 col4\" >ResponseCount</th>\n",
       "      <th id=\"T_31f31_level0_col5\" class=\"col_heading level0 col5\" >Performance</th>\n",
       "      <th id=\"T_31f31_level0_col6\" class=\"col_heading level0 col6\" >Positives_Test</th>\n",
       "      <th id=\"T_31f31_level0_col7\" class=\"col_heading level0 col7\" >Negatives_Test</th>\n",
       "      <th id=\"T_31f31_level0_col8\" class=\"col_heading level0 col8\" >ResponseCount_Test</th>\n",
       "      <th id=\"T_31f31_level0_col9\" class=\"col_heading level0 col9\" >Positives_Control</th>\n",
       "      <th id=\"T_31f31_level0_col10\" class=\"col_heading level0 col10\" >Negatives_Control</th>\n",
       "      <th id=\"T_31f31_level0_col11\" class=\"col_heading level0 col11\" >ResponseCount_Control</th>\n",
       "      <th id=\"T_31f31_level0_col12\" class=\"col_heading level0 col12\" >Positives_NBA</th>\n",
       "      <th id=\"T_31f31_level0_col13\" class=\"col_heading level0 col13\" >Negatives_NBA</th>\n",
       "      <th id=\"T_31f31_level0_col14\" class=\"col_heading level0 col14\" >ResponseCount_NBA</th>\n",
       "      <th id=\"T_31f31_level0_col15\" class=\"col_heading level0 col15\" >Class</th>\n",
       "      <th id=\"T_31f31_level0_col16\" class=\"col_heading level0 col16\" >ModelName</th>\n",
       "      <th id=\"T_31f31_level0_col17\" class=\"col_heading level0 col17\" >CTR</th>\n",
       "      <th id=\"T_31f31_level0_col18\" class=\"col_heading level0 col18\" >CTR_Test</th>\n",
       "      <th id=\"T_31f31_level0_col19\" class=\"col_heading level0 col19\" >CTR_Control</th>\n",
       "      <th id=\"T_31f31_level0_col20\" class=\"col_heading level0 col20\" >CTR_NBA</th>\n",
       "      <th id=\"T_31f31_level0_col21\" class=\"col_heading level0 col21\" >CTR_Lift</th>\n",
       "      <th id=\"T_31f31_level0_col22\" class=\"col_heading level0 col22\" >isValidPrediction</th>\n",
       "    </tr>\n",
       "  </thead>\n",
       "  <tbody>\n",
       "    <tr>\n",
       "      <th id=\"T_31f31_level0_row0\" class=\"row_heading level0 row0\" >0</th>\n",
       "      <td id=\"T_31f31_row0_col0\" class=\"data row0 col0\" >DATA-DECISION-REQUEST-CUSTOMER!PREDICTMOBILEPROPENSITY</td>\n",
       "      <td id=\"T_31f31_row0_col1\" class=\"data row0 col1\" >2024-10-06 00:00:00</td>\n",
       "      <td id=\"T_31f31_row0_col2\" class=\"data row0 col2\" >150.000000</td>\n",
       "      <td id=\"T_31f31_row0_col3\" class=\"data row0 col3\" >6000</td>\n",
       "      <td id=\"T_31f31_row0_col4\" class=\"data row0 col4\" >6150.000000</td>\n",
       "      <td id=\"T_31f31_row0_col5\" class=\"data row0 col5\" >0.700000</td>\n",
       "      <td id=\"T_31f31_row0_col6\" class=\"data row0 col6\" >250.000000</td>\n",
       "      <td id=\"T_31f31_row0_col7\" class=\"data row0 col7\" >6000</td>\n",
       "      <td id=\"T_31f31_row0_col8\" class=\"data row0 col8\" >6250.000000</td>\n",
       "      <td id=\"T_31f31_row0_col9\" class=\"data row0 col9\" >120.000000</td>\n",
       "      <td id=\"T_31f31_row0_col10\" class=\"data row0 col10\" >6000</td>\n",
       "      <td id=\"T_31f31_row0_col11\" class=\"data row0 col11\" >6120.000000</td>\n",
       "      <td id=\"T_31f31_row0_col12\" class=\"data row0 col12\" >150.000000</td>\n",
       "      <td id=\"T_31f31_row0_col13\" class=\"data row0 col13\" >6000</td>\n",
       "      <td id=\"T_31f31_row0_col14\" class=\"data row0 col14\" >6150.000000</td>\n",
       "      <td id=\"T_31f31_row0_col15\" class=\"data row0 col15\" >DATA-DECISION-REQUEST-CUSTOMER</td>\n",
       "      <td id=\"T_31f31_row0_col16\" class=\"data row0 col16\" >PREDICTMOBILEPROPENSITY</td>\n",
       "      <td id=\"T_31f31_row0_col17\" class=\"data row0 col17\" >0.024390</td>\n",
       "      <td id=\"T_31f31_row0_col18\" class=\"data row0 col18\" >0.040000</td>\n",
       "      <td id=\"T_31f31_row0_col19\" class=\"data row0 col19\" >0.019608</td>\n",
       "      <td id=\"T_31f31_row0_col20\" class=\"data row0 col20\" >0.024390</td>\n",
       "      <td id=\"T_31f31_row0_col21\" class=\"data row0 col21\" >1.040000</td>\n",
       "      <td id=\"T_31f31_row0_col22\" class=\"data row0 col22\" >True</td>\n",
       "    </tr>\n",
       "    <tr>\n",
       "      <th id=\"T_31f31_level0_row1\" class=\"row_heading level0 row1\" >1</th>\n",
       "      <td id=\"T_31f31_row1_col0\" class=\"data row1 col0\" >DATA-DECISION-REQUEST-CUSTOMER!PREDICTMOBILEPROPENSITY</td>\n",
       "      <td id=\"T_31f31_row1_col1\" class=\"data row1 col1\" >2024-10-06 00:00:00</td>\n",
       "      <td id=\"T_31f31_row1_col2\" class=\"data row1 col2\" >250.000000</td>\n",
       "      <td id=\"T_31f31_row1_col3\" class=\"data row1 col3\" >6000</td>\n",
       "      <td id=\"T_31f31_row1_col4\" class=\"data row1 col4\" >6250.000000</td>\n",
       "      <td id=\"T_31f31_row1_col5\" class=\"data row1 col5\" >0.700000</td>\n",
       "      <td id=\"T_31f31_row1_col6\" class=\"data row1 col6\" >250.000000</td>\n",
       "      <td id=\"T_31f31_row1_col7\" class=\"data row1 col7\" >6000</td>\n",
       "      <td id=\"T_31f31_row1_col8\" class=\"data row1 col8\" >6250.000000</td>\n",
       "      <td id=\"T_31f31_row1_col9\" class=\"data row1 col9\" >120.000000</td>\n",
       "      <td id=\"T_31f31_row1_col10\" class=\"data row1 col10\" >6000</td>\n",
       "      <td id=\"T_31f31_row1_col11\" class=\"data row1 col11\" >6120.000000</td>\n",
       "      <td id=\"T_31f31_row1_col12\" class=\"data row1 col12\" >150.000000</td>\n",
       "      <td id=\"T_31f31_row1_col13\" class=\"data row1 col13\" >6000</td>\n",
       "      <td id=\"T_31f31_row1_col14\" class=\"data row1 col14\" >6150.000000</td>\n",
       "      <td id=\"T_31f31_row1_col15\" class=\"data row1 col15\" >DATA-DECISION-REQUEST-CUSTOMER</td>\n",
       "      <td id=\"T_31f31_row1_col16\" class=\"data row1 col16\" >PREDICTMOBILEPROPENSITY</td>\n",
       "      <td id=\"T_31f31_row1_col17\" class=\"data row1 col17\" >0.040000</td>\n",
       "      <td id=\"T_31f31_row1_col18\" class=\"data row1 col18\" >0.040000</td>\n",
       "      <td id=\"T_31f31_row1_col19\" class=\"data row1 col19\" >0.019608</td>\n",
       "      <td id=\"T_31f31_row1_col20\" class=\"data row1 col20\" >0.024390</td>\n",
       "      <td id=\"T_31f31_row1_col21\" class=\"data row1 col21\" >1.040000</td>\n",
       "      <td id=\"T_31f31_row1_col22\" class=\"data row1 col22\" >True</td>\n",
       "    </tr>\n",
       "    <tr>\n",
       "      <th id=\"T_31f31_level0_row2\" class=\"row_heading level0 row2\" >2</th>\n",
       "      <td id=\"T_31f31_row2_col0\" class=\"data row2 col0\" >DATA-DECISION-REQUEST-CUSTOMER!PREDICTMOBILEPROPENSITY</td>\n",
       "      <td id=\"T_31f31_row2_col1\" class=\"data row2 col1\" >2024-10-06 00:00:00</td>\n",
       "      <td id=\"T_31f31_row2_col2\" class=\"data row2 col2\" >120.000000</td>\n",
       "      <td id=\"T_31f31_row2_col3\" class=\"data row2 col3\" >6000</td>\n",
       "      <td id=\"T_31f31_row2_col4\" class=\"data row2 col4\" >6120.000000</td>\n",
       "      <td id=\"T_31f31_row2_col5\" class=\"data row2 col5\" >0.700000</td>\n",
       "      <td id=\"T_31f31_row2_col6\" class=\"data row2 col6\" >250.000000</td>\n",
       "      <td id=\"T_31f31_row2_col7\" class=\"data row2 col7\" >6000</td>\n",
       "      <td id=\"T_31f31_row2_col8\" class=\"data row2 col8\" >6250.000000</td>\n",
       "      <td id=\"T_31f31_row2_col9\" class=\"data row2 col9\" >120.000000</td>\n",
       "      <td id=\"T_31f31_row2_col10\" class=\"data row2 col10\" >6000</td>\n",
       "      <td id=\"T_31f31_row2_col11\" class=\"data row2 col11\" >6120.000000</td>\n",
       "      <td id=\"T_31f31_row2_col12\" class=\"data row2 col12\" >150.000000</td>\n",
       "      <td id=\"T_31f31_row2_col13\" class=\"data row2 col13\" >6000</td>\n",
       "      <td id=\"T_31f31_row2_col14\" class=\"data row2 col14\" >6150.000000</td>\n",
       "      <td id=\"T_31f31_row2_col15\" class=\"data row2 col15\" >DATA-DECISION-REQUEST-CUSTOMER</td>\n",
       "      <td id=\"T_31f31_row2_col16\" class=\"data row2 col16\" >PREDICTMOBILEPROPENSITY</td>\n",
       "      <td id=\"T_31f31_row2_col17\" class=\"data row2 col17\" >0.019608</td>\n",
       "      <td id=\"T_31f31_row2_col18\" class=\"data row2 col18\" >0.040000</td>\n",
       "      <td id=\"T_31f31_row2_col19\" class=\"data row2 col19\" >0.019608</td>\n",
       "      <td id=\"T_31f31_row2_col20\" class=\"data row2 col20\" >0.024390</td>\n",
       "      <td id=\"T_31f31_row2_col21\" class=\"data row2 col21\" >1.040000</td>\n",
       "      <td id=\"T_31f31_row2_col22\" class=\"data row2 col22\" >True</td>\n",
       "    </tr>\n",
       "    <tr>\n",
       "      <th id=\"T_31f31_level0_row3\" class=\"row_heading level0 row3\" >3</th>\n",
       "      <td id=\"T_31f31_row3_col0\" class=\"data row3 col0\" >DATA-DECISION-REQUEST-CUSTOMER!PREDICTMOBILEPROPENSITY</td>\n",
       "      <td id=\"T_31f31_row3_col1\" class=\"data row3 col1\" >2024-10-07 00:00:00</td>\n",
       "      <td id=\"T_31f31_row3_col2\" class=\"data row3 col2\" >250.847458</td>\n",
       "      <td id=\"T_31f31_row3_col3\" class=\"data row3 col3\" >6000</td>\n",
       "      <td id=\"T_31f31_row3_col4\" class=\"data row3 col4\" >6250.847458</td>\n",
       "      <td id=\"T_31f31_row3_col5\" class=\"data row3 col5\" >0.700508</td>\n",
       "      <td id=\"T_31f31_row3_col6\" class=\"data row3 col6\" >250.847458</td>\n",
       "      <td id=\"T_31f31_row3_col7\" class=\"data row3 col7\" >6000</td>\n",
       "      <td id=\"T_31f31_row3_col8\" class=\"data row3 col8\" >6250.847458</td>\n",
       "      <td id=\"T_31f31_row3_col9\" class=\"data row3 col9\" >120.000000</td>\n",
       "      <td id=\"T_31f31_row3_col10\" class=\"data row3 col10\" >6000</td>\n",
       "      <td id=\"T_31f31_row3_col11\" class=\"data row3 col11\" >6120.000000</td>\n",
       "      <td id=\"T_31f31_row3_col12\" class=\"data row3 col12\" >150.000000</td>\n",
       "      <td id=\"T_31f31_row3_col13\" class=\"data row3 col13\" >6000</td>\n",
       "      <td id=\"T_31f31_row3_col14\" class=\"data row3 col14\" >6150.000000</td>\n",
       "      <td id=\"T_31f31_row3_col15\" class=\"data row3 col15\" >DATA-DECISION-REQUEST-CUSTOMER</td>\n",
       "      <td id=\"T_31f31_row3_col16\" class=\"data row3 col16\" >PREDICTMOBILEPROPENSITY</td>\n",
       "      <td id=\"T_31f31_row3_col17\" class=\"data row3 col17\" >0.040130</td>\n",
       "      <td id=\"T_31f31_row3_col18\" class=\"data row3 col18\" >0.040130</td>\n",
       "      <td id=\"T_31f31_row3_col19\" class=\"data row3 col19\" >0.019608</td>\n",
       "      <td id=\"T_31f31_row3_col20\" class=\"data row3 col20\" >0.024390</td>\n",
       "      <td id=\"T_31f31_row3_col21\" class=\"data row3 col21\" >1.046638</td>\n",
       "      <td id=\"T_31f31_row3_col22\" class=\"data row3 col22\" >True</td>\n",
       "    </tr>\n",
       "    <tr>\n",
       "      <th id=\"T_31f31_level0_row4\" class=\"row_heading level0 row4\" >4</th>\n",
       "      <td id=\"T_31f31_row4_col0\" class=\"data row4 col0\" >DATA-DECISION-REQUEST-CUSTOMER!PREDICTMOBILEPROPENSITY</td>\n",
       "      <td id=\"T_31f31_row4_col1\" class=\"data row4 col1\" >2024-10-07 00:00:00</td>\n",
       "      <td id=\"T_31f31_row4_col2\" class=\"data row4 col2\" >120.000000</td>\n",
       "      <td id=\"T_31f31_row4_col3\" class=\"data row4 col3\" >6000</td>\n",
       "      <td id=\"T_31f31_row4_col4\" class=\"data row4 col4\" >6120.000000</td>\n",
       "      <td id=\"T_31f31_row4_col5\" class=\"data row4 col5\" >0.700508</td>\n",
       "      <td id=\"T_31f31_row4_col6\" class=\"data row4 col6\" >250.847458</td>\n",
       "      <td id=\"T_31f31_row4_col7\" class=\"data row4 col7\" >6000</td>\n",
       "      <td id=\"T_31f31_row4_col8\" class=\"data row4 col8\" >6250.847458</td>\n",
       "      <td id=\"T_31f31_row4_col9\" class=\"data row4 col9\" >120.000000</td>\n",
       "      <td id=\"T_31f31_row4_col10\" class=\"data row4 col10\" >6000</td>\n",
       "      <td id=\"T_31f31_row4_col11\" class=\"data row4 col11\" >6120.000000</td>\n",
       "      <td id=\"T_31f31_row4_col12\" class=\"data row4 col12\" >150.000000</td>\n",
       "      <td id=\"T_31f31_row4_col13\" class=\"data row4 col13\" >6000</td>\n",
       "      <td id=\"T_31f31_row4_col14\" class=\"data row4 col14\" >6150.000000</td>\n",
       "      <td id=\"T_31f31_row4_col15\" class=\"data row4 col15\" >DATA-DECISION-REQUEST-CUSTOMER</td>\n",
       "      <td id=\"T_31f31_row4_col16\" class=\"data row4 col16\" >PREDICTMOBILEPROPENSITY</td>\n",
       "      <td id=\"T_31f31_row4_col17\" class=\"data row4 col17\" >0.019608</td>\n",
       "      <td id=\"T_31f31_row4_col18\" class=\"data row4 col18\" >0.040130</td>\n",
       "      <td id=\"T_31f31_row4_col19\" class=\"data row4 col19\" >0.019608</td>\n",
       "      <td id=\"T_31f31_row4_col20\" class=\"data row4 col20\" >0.024390</td>\n",
       "      <td id=\"T_31f31_row4_col21\" class=\"data row4 col21\" >1.046638</td>\n",
       "      <td id=\"T_31f31_row4_col22\" class=\"data row4 col22\" >True</td>\n",
       "    </tr>\n",
       "  </tbody>\n",
       "</table>\n"
      ],
      "text/plain": [
       "<pandas.io.formats.style.Styler at 0x30fba6900>"
      ]
     },
     "execution_count": 2,
     "metadata": {},
     "output_type": "execute_result"
    }
   ],
   "source": [
    "prediction.predictions.head().collect().to_pandas().style"
   ]
  },
  {
   "cell_type": "markdown",
   "metadata": {},
   "source": [
    "## Summary by Channel\n",
    "\n",
    "Standard functionality exists to summarize the predictions per channel. Note that we do not have the prediction to channel mapping in the data (this is an outstanding product issue), so apply the implicit naming conventions of NBAD. For a specific customer, custom mappings can be passed into the summarization function."
   ]
  },
  {
   "cell_type": "code",
   "execution_count": 3,
   "metadata": {},
   "outputs": [
    {
     "data": {
      "text/html": [
       "<style type=\"text/css\">\n",
       "</style>\n",
       "<table id=\"T_444c8\">\n",
       "  <thead>\n",
       "    <tr>\n",
       "      <th class=\"blank level0\" >&nbsp;</th>\n",
       "      <th id=\"T_444c8_level0_col0\" class=\"col_heading level0 col0\" >Prediction</th>\n",
       "      <th id=\"T_444c8_level0_col1\" class=\"col_heading level0 col1\" >Channel</th>\n",
       "      <th id=\"T_444c8_level0_col2\" class=\"col_heading level0 col2\" >Direction</th>\n",
       "      <th id=\"T_444c8_level0_col3\" class=\"col_heading level0 col3\" >isStandardNBADPrediction</th>\n",
       "      <th id=\"T_444c8_level0_col4\" class=\"col_heading level0 col4\" >isMultiChannelPrediction</th>\n",
       "      <th id=\"T_444c8_level0_col5\" class=\"col_heading level0 col5\" >Performance</th>\n",
       "      <th id=\"T_444c8_level0_col6\" class=\"col_heading level0 col6\" >Positives</th>\n",
       "      <th id=\"T_444c8_level0_col7\" class=\"col_heading level0 col7\" >Negatives</th>\n",
       "      <th id=\"T_444c8_level0_col8\" class=\"col_heading level0 col8\" >ResponseCount</th>\n",
       "      <th id=\"T_444c8_level0_col9\" class=\"col_heading level0 col9\" >Positives_Test</th>\n",
       "      <th id=\"T_444c8_level0_col10\" class=\"col_heading level0 col10\" >Positives_Control</th>\n",
       "      <th id=\"T_444c8_level0_col11\" class=\"col_heading level0 col11\" >Positives_NBA</th>\n",
       "      <th id=\"T_444c8_level0_col12\" class=\"col_heading level0 col12\" >Negatives_Test</th>\n",
       "      <th id=\"T_444c8_level0_col13\" class=\"col_heading level0 col13\" >Negatives_Control</th>\n",
       "      <th id=\"T_444c8_level0_col14\" class=\"col_heading level0 col14\" >Negatives_NBA</th>\n",
       "      <th id=\"T_444c8_level0_col15\" class=\"col_heading level0 col15\" >usesImpactAnalyzer</th>\n",
       "      <th id=\"T_444c8_level0_col16\" class=\"col_heading level0 col16\" >ControlPercentage</th>\n",
       "      <th id=\"T_444c8_level0_col17\" class=\"col_heading level0 col17\" >TestPercentage</th>\n",
       "      <th id=\"T_444c8_level0_col18\" class=\"col_heading level0 col18\" >CTR</th>\n",
       "      <th id=\"T_444c8_level0_col19\" class=\"col_heading level0 col19\" >CTR_Test</th>\n",
       "      <th id=\"T_444c8_level0_col20\" class=\"col_heading level0 col20\" >CTR_Control</th>\n",
       "      <th id=\"T_444c8_level0_col21\" class=\"col_heading level0 col21\" >CTR_NBA</th>\n",
       "      <th id=\"T_444c8_level0_col22\" class=\"col_heading level0 col22\" >ChannelDirectionGroup</th>\n",
       "      <th id=\"T_444c8_level0_col23\" class=\"col_heading level0 col23\" >isValid</th>\n",
       "      <th id=\"T_444c8_level0_col24\" class=\"col_heading level0 col24\" >Lift</th>\n",
       "    </tr>\n",
       "  </thead>\n",
       "  <tbody>\n",
       "    <tr>\n",
       "      <th id=\"T_444c8_level0_row0\" class=\"row_heading level0 row0\" >0</th>\n",
       "      <td id=\"T_444c8_row0_col0\" class=\"data row0 col0\" >PREDICTMOBILEPROPENSITY</td>\n",
       "      <td id=\"T_444c8_row0_col1\" class=\"data row0 col1\" >Mobile</td>\n",
       "      <td id=\"T_444c8_row0_col2\" class=\"data row0 col2\" >Inbound</td>\n",
       "      <td id=\"T_444c8_row0_col3\" class=\"data row0 col3\" >True</td>\n",
       "      <td id=\"T_444c8_row0_col4\" class=\"data row0 col4\" >False</td>\n",
       "      <td id=\"T_444c8_row0_col5\" class=\"data row0 col5\" >0.715007</td>\n",
       "      <td id=\"T_444c8_row0_col6\" class=\"data row0 col6\" >32700.000000</td>\n",
       "      <td id=\"T_444c8_row0_col7\" class=\"data row0 col7\" >1080000</td>\n",
       "      <td id=\"T_444c8_row0_col8\" class=\"data row0 col8\" >1112700.000000</td>\n",
       "      <td id=\"T_444c8_row0_col9\" class=\"data row0 col9\" >49500.000000</td>\n",
       "      <td id=\"T_444c8_row0_col10\" class=\"data row0 col10\" >21600.000000</td>\n",
       "      <td id=\"T_444c8_row0_col11\" class=\"data row0 col11\" >27000.000000</td>\n",
       "      <td id=\"T_444c8_row0_col12\" class=\"data row0 col12\" >1080000</td>\n",
       "      <td id=\"T_444c8_row0_col13\" class=\"data row0 col13\" >1080000</td>\n",
       "      <td id=\"T_444c8_row0_col14\" class=\"data row0 col14\" >1080000</td>\n",
       "      <td id=\"T_444c8_row0_col15\" class=\"data row0 col15\" >True</td>\n",
       "      <td id=\"T_444c8_row0_col16\" class=\"data row0 col16\" >33.000809</td>\n",
       "      <td id=\"T_444c8_row0_col17\" class=\"data row0 col17\" >33.836614</td>\n",
       "      <td id=\"T_444c8_row0_col18\" class=\"data row0 col18\" >0.029388</td>\n",
       "      <td id=\"T_444c8_row0_col19\" class=\"data row0 col19\" >0.043825</td>\n",
       "      <td id=\"T_444c8_row0_col20\" class=\"data row0 col20\" >0.019608</td>\n",
       "      <td id=\"T_444c8_row0_col21\" class=\"data row0 col21\" >0.024390</td>\n",
       "      <td id=\"T_444c8_row0_col22\" class=\"data row0 col22\" >Mobile/Inbound</td>\n",
       "      <td id=\"T_444c8_row0_col23\" class=\"data row0 col23\" >True</td>\n",
       "      <td id=\"T_444c8_row0_col24\" class=\"data row0 col24\" >1.235060</td>\n",
       "    </tr>\n",
       "    <tr>\n",
       "      <th id=\"T_444c8_level0_row1\" class=\"row_heading level0 row1\" >1</th>\n",
       "      <td id=\"T_444c8_row1_col0\" class=\"data row1 col0\" >PREDICTOUTBOUNDEMAILPROPENSITY</td>\n",
       "      <td id=\"T_444c8_row1_col1\" class=\"data row1 col1\" >E-mail</td>\n",
       "      <td id=\"T_444c8_row1_col2\" class=\"data row1 col2\" >Outbound</td>\n",
       "      <td id=\"T_444c8_row1_col3\" class=\"data row1 col3\" >True</td>\n",
       "      <td id=\"T_444c8_row1_col4\" class=\"data row1 col4\" >False</td>\n",
       "      <td id=\"T_444c8_row1_col5\" class=\"data row1 col5\" >0.625006</td>\n",
       "      <td id=\"T_444c8_row1_col6\" class=\"data row1 col6\" >24000.000000</td>\n",
       "      <td id=\"T_444c8_row1_col7\" class=\"data row1 col7\" >1800000</td>\n",
       "      <td id=\"T_444c8_row1_col8\" class=\"data row1 col8\" >1824000.000000</td>\n",
       "      <td id=\"T_444c8_row1_col9\" class=\"data row1 col9\" >32400.000000</td>\n",
       "      <td id=\"T_444c8_row1_col10\" class=\"data row1 col10\" >18000.000000</td>\n",
       "      <td id=\"T_444c8_row1_col11\" class=\"data row1 col11\" >21600.000000</td>\n",
       "      <td id=\"T_444c8_row1_col12\" class=\"data row1 col12\" >1800000</td>\n",
       "      <td id=\"T_444c8_row1_col13\" class=\"data row1 col13\" >1800000</td>\n",
       "      <td id=\"T_444c8_row1_col14\" class=\"data row1 col14\" >1800000</td>\n",
       "      <td id=\"T_444c8_row1_col15\" class=\"data row1 col15\" >True</td>\n",
       "      <td id=\"T_444c8_row1_col16\" class=\"data row1 col16\" >33.223684</td>\n",
       "      <td id=\"T_444c8_row1_col17\" class=\"data row1 col17\" >33.486842</td>\n",
       "      <td id=\"T_444c8_row1_col18\" class=\"data row1 col18\" >0.013158</td>\n",
       "      <td id=\"T_444c8_row1_col19\" class=\"data row1 col19\" >0.017682</td>\n",
       "      <td id=\"T_444c8_row1_col20\" class=\"data row1 col20\" >0.009901</td>\n",
       "      <td id=\"T_444c8_row1_col21\" class=\"data row1 col21\" >0.011858</td>\n",
       "      <td id=\"T_444c8_row1_col22\" class=\"data row1 col22\" >E-mail/Outbound</td>\n",
       "      <td id=\"T_444c8_row1_col23\" class=\"data row1 col23\" >True</td>\n",
       "      <td id=\"T_444c8_row1_col24\" class=\"data row1 col24\" >0.785855</td>\n",
       "    </tr>\n",
       "    <tr>\n",
       "      <th id=\"T_444c8_level0_row2\" class=\"row_heading level0 row2\" >2</th>\n",
       "      <td id=\"T_444c8_row2_col0\" class=\"data row2 col0\" >PREDICTWEBPROPENSITY</td>\n",
       "      <td id=\"T_444c8_row2_col1\" class=\"data row2 col1\" >Web</td>\n",
       "      <td id=\"T_444c8_row2_col2\" class=\"data row2 col2\" >Inbound</td>\n",
       "      <td id=\"T_444c8_row2_col3\" class=\"data row2 col3\" >True</td>\n",
       "      <td id=\"T_444c8_row2_col4\" class=\"data row2 col4\" >False</td>\n",
       "      <td id=\"T_444c8_row2_col5\" class=\"data row2 col5\" >0.670016</td>\n",
       "      <td id=\"T_444c8_row2_col6\" class=\"data row2 col6\" >379200.000000</td>\n",
       "      <td id=\"T_444c8_row2_col7\" class=\"data row2 col7\" >7200000</td>\n",
       "      <td id=\"T_444c8_row2_col8\" class=\"data row2 col8\" >7579200.000000</td>\n",
       "      <td id=\"T_444c8_row2_col9\" class=\"data row2 col9\" >612000.000000</td>\n",
       "      <td id=\"T_444c8_row2_col10\" class=\"data row2 col10\" >252000.000000</td>\n",
       "      <td id=\"T_444c8_row2_col11\" class=\"data row2 col11\" >273600.000000</td>\n",
       "      <td id=\"T_444c8_row2_col12\" class=\"data row2 col12\" >7200000</td>\n",
       "      <td id=\"T_444c8_row2_col13\" class=\"data row2 col13\" >7200000</td>\n",
       "      <td id=\"T_444c8_row2_col14\" class=\"data row2 col14\" >7200000</td>\n",
       "      <td id=\"T_444c8_row2_col15\" class=\"data row2 col15\" >True</td>\n",
       "      <td id=\"T_444c8_row2_col16\" class=\"data row2 col16\" >32.773908</td>\n",
       "      <td id=\"T_444c8_row2_col17\" class=\"data row2 col17\" >34.357188</td>\n",
       "      <td id=\"T_444c8_row2_col18\" class=\"data row2 col18\" >0.050032</td>\n",
       "      <td id=\"T_444c8_row2_col19\" class=\"data row2 col19\" >0.078341</td>\n",
       "      <td id=\"T_444c8_row2_col20\" class=\"data row2 col20\" >0.033816</td>\n",
       "      <td id=\"T_444c8_row2_col21\" class=\"data row2 col21\" >0.036609</td>\n",
       "      <td id=\"T_444c8_row2_col22\" class=\"data row2 col22\" >Web/Inbound</td>\n",
       "      <td id=\"T_444c8_row2_col23\" class=\"data row2 col23\" >True</td>\n",
       "      <td id=\"T_444c8_row2_col24\" class=\"data row2 col24\" >1.316656</td>\n",
       "    </tr>\n",
       "  </tbody>\n",
       "</table>\n"
      ],
      "text/plain": [
       "<pandas.io.formats.style.Styler at 0x330382690>"
      ]
     },
     "execution_count": 3,
     "metadata": {},
     "output_type": "execute_result"
    }
   ],
   "source": [
    "prediction.summary_by_channel().collect().to_pandas().style"
   ]
  },
  {
   "cell_type": "markdown",
   "metadata": {},
   "source": [
    "# Prediction Trends\n",
    "\n",
    "Summarization by default is over all time. You can pass in an argument to summarize by day, week or any other period as supported by the (Polars time offset string language)[https://docs.pola.rs/api/python/stable/reference/expressions/api/polars.Expr.dt.offset_by.html].\n",
    "\n",
    "This trend data can then easily be visualized."
   ]
  },
  {
   "cell_type": "code",
   "execution_count": 4,
   "metadata": {},
   "outputs": [
    {
     "data": {
      "application/vnd.plotly.v1+json": {
       "config": {
        "plotlyServerURL": "https://plot.ly"
       },
       "data": [
        {
         "hovertemplate": "Prediction=Mobile (PREDICTMOBILEPROPENSITY)<br>Period=%{x}<br>Performance=%{y}<extra></extra>",
         "legendgroup": "Mobile (PREDICTMOBILEPROPENSITY)",
         "line": {
          "color": "#001F5F",
          "dash": "solid"
         },
         "marker": {
          "symbol": "circle"
         },
         "mode": "lines+markers",
         "name": "Mobile (PREDICTMOBILEPROPENSITY)",
         "orientation": "v",
         "showlegend": true,
         "type": "scatter",
         "x": [
          "2024-09-30T00:00:00",
          "2024-10-07T00:00:00",
          "2024-10-14T00:00:00",
          "2024-10-21T00:00:00",
          "2024-10-28T00:00:00",
          "2024-11-04T00:00:00",
          "2024-11-11T00:00:00",
          "2024-11-18T00:00:00",
          "2024-11-25T00:00:00",
          "2024-12-02T00:00:00"
         ],
         "xaxis": "x",
         "y": [
          69.9999988079071,
          70.20339959697914,
          70.55933128468318,
          70.91526382403984,
          71.27119551174775,
          71.62712805110816,
          71.98305973881992,
          72.3389922781841,
          72.69492481747236,
          72.9491547319776
         ],
         "yaxis": "y"
        },
        {
         "hovertemplate": "Prediction=E-mail (PREDICTOUTBOUNDEMAILPROPENSITY)<br>Period=%{x}<br>Performance=%{y}<extra></extra>",
         "legendgroup": "E-mail (PREDICTOUTBOUNDEMAILPROPENSITY)",
         "line": {
          "color": "#10A5AC",
          "dash": "solid"
         },
         "marker": {
          "symbol": "circle"
         },
         "mode": "lines+markers",
         "name": "E-mail (PREDICTOUTBOUNDEMAILPROPENSITY)",
         "orientation": "v",
         "showlegend": true,
         "type": "scatter",
         "x": [
          "2024-09-30T00:00:00",
          "2024-10-07T00:00:00",
          "2024-10-14T00:00:00",
          "2024-10-21T00:00:00",
          "2024-10-28T00:00:00",
          "2024-11-04T00:00:00",
          "2024-11-11T00:00:00",
          "2024-11-18T00:00:00",
          "2024-11-25T00:00:00",
          "2024-12-02T00:00:00"
         ],
         "xaxis": "x",
         "y": [
          60.00000238418579,
          60.33899092950217,
          60.932208710046694,
          61.52542989645728,
          62.11865108286825,
          62.71187226927957,
          63.305093455691264,
          63.89831464210333,
          64.49153412543103,
          64.91525299104673
         ],
         "yaxis": "y"
        },
        {
         "hovertemplate": "Prediction=Web (PREDICTWEBPROPENSITY)<br>Period=%{x}<br>Performance=%{y}<extra></extra>",
         "legendgroup": "Web (PREDICTWEBPROPENSITY)",
         "line": {
          "color": "#F76923",
          "dash": "solid"
         },
         "marker": {
          "symbol": "circle"
         },
         "mode": "lines+markers",
         "name": "Web (PREDICTWEBPROPENSITY)",
         "orientation": "v",
         "showlegend": true,
         "type": "scatter",
         "x": [
          "2024-09-30T00:00:00",
          "2024-10-07T00:00:00",
          "2024-10-14T00:00:00",
          "2024-10-21T00:00:00",
          "2024-10-28T00:00:00",
          "2024-11-04T00:00:00",
          "2024-11-11T00:00:00",
          "2024-11-18T00:00:00",
          "2024-11-25T00:00:00",
          "2024-12-02T00:00:00"
         ],
         "xaxis": "x",
         "y": [
          66.00000262260437,
          66.13561574519716,
          66.37290266276104,
          66.61019128337071,
          66.84747990403618,
          67.08476767312524,
          67.32205544254384,
          67.55934406337552,
          67.79663183263068,
          67.96610518920552
         ],
         "yaxis": "y"
        }
       ],
       "layout": {
        "legend": {
         "title": {
          "text": "Channel"
         },
         "tracegroupgap": 0
        },
        "template": {
         "layout": {
          "colorway": [
           "#001F5F",
           "#10A5AC",
           "#F76923",
           "#661D34",
           "#86CAC6",
           "#005154",
           "#86CAC6",
           "#5F67B9",
           "#FFC836",
           "#E63690",
           "#AC1361",
           "#63666F",
           "#A7A9B4",
           "#D0D1DB"
          ],
          "hovermode": "closest"
         }
        },
        "title": {
         "text": "Prediction Performance<br>period:  6-Oct-2024 to  4-Dec-2024"
        },
        "xaxis": {
         "anchor": "y",
         "domain": [
          0,
          1
         ],
         "title": {
          "text": "Period"
         }
        },
        "yaxis": {
         "anchor": "x",
         "domain": [
          0,
          1
         ],
         "range": [
          50,
          100
         ],
         "title": {
          "text": "Performance"
         }
        }
       }
      }
     },
     "metadata": {},
     "output_type": "display_data"
    }
   ],
   "source": [
    "prediction.plot.performance_trend(\"1w\")"
   ]
  },
  {
   "cell_type": "code",
   "execution_count": 5,
   "metadata": {},
   "outputs": [
    {
     "data": {
      "application/vnd.plotly.v1+json": {
       "config": {
        "plotlyServerURL": "https://plot.ly"
       },
       "data": [
        {
         "hovertemplate": "Prediction=Mobile (PREDICTMOBILEPROPENSITY)<br>Period=%{x}<br>Lift=%{y}<extra></extra>",
         "legendgroup": "Mobile (PREDICTMOBILEPROPENSITY)",
         "line": {
          "color": "#001F5F",
          "dash": "solid"
         },
         "marker": {
          "symbol": "circle"
         },
         "mode": "lines+markers",
         "name": "Mobile (PREDICTMOBILEPROPENSITY)",
         "orientation": "v",
         "showlegend": true,
         "type": "scatter",
         "x": [
          "2024-09-30T00:00:00",
          "2024-10-07T00:00:00",
          "2024-10-14T00:00:00",
          "2024-10-21T00:00:00",
          "2024-10-28T00:00:00",
          "2024-11-04T00:00:00",
          "2024-11-11T00:00:00",
          "2024-11-18T00:00:00",
          "2024-11-25T00:00:00",
          "2024-12-02T00:00:00"
         ],
         "xaxis": "x",
         "y": [
          1.04,
          1.066540181596422,
          1.112916328188465,
          1.1592046530501834,
          1.2054054054054049,
          1.2515188335358443,
          1.297545184785541,
          1.343484705565288,
          1.389337641357027,
          1.4220368626395803
         ],
         "yaxis": "y"
        },
        {
         "hovertemplate": "Prediction=E-mail (PREDICTOUTBOUNDEMAILPROPENSITY)<br>Period=%{x}<br>Lift=%{y}<extra></extra>",
         "legendgroup": "E-mail (PREDICTOUTBOUNDEMAILPROPENSITY)",
         "line": {
          "color": "#10A5AC",
          "dash": "solid"
         },
         "marker": {
          "symbol": "circle"
         },
         "mode": "lines+markers",
         "name": "E-mail (PREDICTOUTBOUNDEMAILPROPENSITY)",
         "orientation": "v",
         "showlegend": true,
         "type": "scatter",
         "x": [
          "2024-09-30T00:00:00",
          "2024-10-07T00:00:00",
          "2024-10-14T00:00:00",
          "2024-10-21T00:00:00",
          "2024-10-28T00:00:00",
          "2024-11-04T00:00:00",
          "2024-11-11T00:00:00",
          "2024-11-18T00:00:00",
          "2024-11-25T00:00:00",
          "2024-12-02T00:00:00"
         ],
         "xaxis": "x",
         "y": [
          0.5905511811023622,
          0.6170780520346892,
          0.6634660265386415,
          0.7098107171420952,
          0.7561121843981071,
          0.8023704887468377,
          0.8485856905158071,
          0.8947578499201703,
          0.9408870270629698,
          0.973810156873172
         ],
         "yaxis": "y"
        },
        {
         "hovertemplate": "Prediction=Web (PREDICTWEBPROPENSITY)<br>Period=%{x}<br>Lift=%{y}<extra></extra>",
         "legendgroup": "Web (PREDICTWEBPROPENSITY)",
         "line": {
          "color": "#F76923",
          "dash": "solid"
         },
         "marker": {
          "symbol": "circle"
         },
         "mode": "lines+markers",
         "name": "Web (PREDICTWEBPROPENSITY)",
         "orientation": "v",
         "showlegend": true,
         "type": "scatter",
         "x": [
          "2024-09-30T00:00:00",
          "2024-10-07T00:00:00",
          "2024-10-14T00:00:00",
          "2024-10-21T00:00:00",
          "2024-10-28T00:00:00",
          "2024-11-04T00:00:00",
          "2024-11-11T00:00:00",
          "2024-11-18T00:00:00",
          "2024-11-25T00:00:00",
          "2024-12-02T00:00:00"
         ],
         "xaxis": "x",
         "y": [
          0.9345794392523364,
          0.9870129870129872,
          1.078294538742065,
          1.168973950503713,
          1.2590571607478314,
          1.3485500300916125,
          1.437458342590536,
          1.5257878069845208,
          1.6135440579198308,
          1.6758792309894515
         ],
         "yaxis": "y"
        }
       ],
       "layout": {
        "legend": {
         "title": {
          "text": "Channel"
         },
         "tracegroupgap": 0
        },
        "template": {
         "layout": {
          "colorway": [
           "#001F5F",
           "#10A5AC",
           "#F76923",
           "#661D34",
           "#86CAC6",
           "#005154",
           "#86CAC6",
           "#5F67B9",
           "#FFC836",
           "#E63690",
           "#AC1361",
           "#63666F",
           "#A7A9B4",
           "#D0D1DB"
          ],
          "hovermode": "closest"
         }
        },
        "title": {
         "text": "Prediction Lift<br>period:  6-Oct-2024 to  4-Dec-2024"
        },
        "xaxis": {
         "anchor": "y",
         "domain": [
          0,
          1
         ],
         "title": {
          "text": "Period"
         }
        },
        "yaxis": {
         "anchor": "x",
         "domain": [
          0,
          1
         ],
         "tickformat": ",.2%",
         "title": {
          "text": "Lift"
         }
        }
       }
      }
     },
     "metadata": {},
     "output_type": "display_data"
    }
   ],
   "source": [
    "prediction.plot.lift_trend(\"1w\")#, return_df=True).collect()"
   ]
  },
  {
   "cell_type": "code",
   "execution_count": 6,
   "metadata": {},
   "outputs": [
    {
     "data": {
      "application/vnd.plotly.v1+json": {
       "config": {
        "plotlyServerURL": "https://plot.ly"
       },
       "data": [
        {
         "hovertemplate": "Prediction=Mobile (PREDICTMOBILEPROPENSITY)<br>Period=%{x}<br>CTR=%{y}<extra></extra>",
         "legendgroup": "Mobile (PREDICTMOBILEPROPENSITY)",
         "line": {
          "color": "#001F5F",
          "dash": "solid"
         },
         "marker": {
          "symbol": "circle"
         },
         "mode": "lines+markers",
         "name": "Mobile (PREDICTMOBILEPROPENSITY)",
         "orientation": "v",
         "showlegend": true,
         "type": "scatter",
         "x": [
          "2024-09-30T00:00:00",
          "2024-10-07T00:00:00",
          "2024-10-14T00:00:00",
          "2024-10-21T00:00:00",
          "2024-10-28T00:00:00",
          "2024-11-04T00:00:00",
          "2024-11-11T00:00:00",
          "2024-11-18T00:00:00",
          "2024-11-25T00:00:00",
          "2024-12-02T00:00:00"
         ],
         "xaxis": "x",
         "y": [
          0.028077753779697623,
          0.02825561818314911,
          0.028566724294064382,
          0.028877631266116793,
          0.0291883392904482,
          0.029498848557955915,
          0.029809159259293092,
          0.030119271584869132,
          0.030429185724850046,
          0.03065043173478888
         ],
         "yaxis": "y"
        },
        {
         "hovertemplate": "Prediction=E-mail (PREDICTOUTBOUNDEMAILPROPENSITY)<br>Period=%{x}<br>CTR=%{y}<extra></extra>",
         "legendgroup": "E-mail (PREDICTOUTBOUNDEMAILPROPENSITY)",
         "line": {
          "color": "#10A5AC",
          "dash": "solid"
         },
         "marker": {
          "symbol": "circle"
         },
         "mode": "lines+markers",
         "name": "E-mail (PREDICTOUTBOUNDEMAILPROPENSITY)",
         "orientation": "v",
         "showlegend": true,
         "type": "scatter",
         "x": [
          "2024-09-30T00:00:00",
          "2024-10-07T00:00:00",
          "2024-10-14T00:00:00",
          "2024-10-21T00:00:00",
          "2024-10-28T00:00:00",
          "2024-11-04T00:00:00",
          "2024-11-11T00:00:00",
          "2024-11-18T00:00:00",
          "2024-11-25T00:00:00",
          "2024-12-02T00:00:00"
         ],
         "xaxis": "x",
         "y": [
          0.012508229098090849,
          0.012596369478628565,
          0.01275057728991667,
          0.012904736941900799,
          0.01305884845713776,
          0.013212911858170261,
          0.013366927167526951,
          0.013520894407722403,
          0.013674813601257147,
          0.013784726478487136
         ],
         "yaxis": "y"
        },
        {
         "hovertemplate": "Prediction=Web (PREDICTWEBPROPENSITY)<br>Period=%{x}<br>CTR=%{y}<extra></extra>",
         "legendgroup": "Web (PREDICTWEBPROPENSITY)",
         "line": {
          "color": "#F76923",
          "dash": "solid"
         },
         "marker": {
          "symbol": "circle"
         },
         "mode": "lines+markers",
         "name": "Web (PREDICTWEBPROPENSITY)",
         "orientation": "v",
         "showlegend": true,
         "type": "scatter",
         "x": [
          "2024-09-30T00:00:00",
          "2024-10-07T00:00:00",
          "2024-10-14T00:00:00",
          "2024-10-21T00:00:00",
          "2024-10-28T00:00:00",
          "2024-11-04T00:00:00",
          "2024-11-11T00:00:00",
          "2024-11-18T00:00:00",
          "2024-11-25T00:00:00",
          "2024-12-02T00:00:00"
         ],
         "xaxis": "x",
         "y": [
          0.04549793191218581,
          0.046115209881599735,
          0.047193527375691054,
          0.04826940965818354,
          0.04934286496909021,
          0.05041390151129042,
          0.05148252745073872,
          0.052548750916672465,
          0.05361258000181792,
          0.05437099643652799
         ],
         "yaxis": "y"
        }
       ],
       "layout": {
        "legend": {
         "title": {
          "text": "Channel"
         },
         "tracegroupgap": 0
        },
        "template": {
         "layout": {
          "colorway": [
           "#001F5F",
           "#10A5AC",
           "#F76923",
           "#661D34",
           "#86CAC6",
           "#005154",
           "#86CAC6",
           "#5F67B9",
           "#FFC836",
           "#E63690",
           "#AC1361",
           "#63666F",
           "#A7A9B4",
           "#D0D1DB"
          ],
          "hovermode": "closest"
         }
        },
        "title": {
         "text": "Prediction CTR<br>period:  6-Oct-2024 to  4-Dec-2024"
        },
        "xaxis": {
         "anchor": "y",
         "domain": [
          0,
          1
         ],
         "title": {
          "text": "Period"
         }
        },
        "yaxis": {
         "anchor": "x",
         "domain": [
          0,
          1
         ],
         "rangemode": "tozero",
         "tickformat": ",.3%",
         "title": {
          "text": "CTR"
         }
        }
       }
      }
     },
     "metadata": {},
     "output_type": "display_data"
    }
   ],
   "source": [
    "prediction.plot.ctr_trend(\"1w\", facetting=False)"
   ]
  },
  {
   "cell_type": "code",
   "execution_count": 7,
   "metadata": {},
   "outputs": [
    {
     "data": {
      "application/vnd.plotly.v1+json": {
       "config": {
        "plotlyServerURL": "https://plot.ly"
       },
       "data": [
        {
         "alignmentgroup": "True",
         "hovertemplate": "Prediction=Mobile (PREDICTMOBILEPROPENSITY)<br>Period=%{x}<br>ResponseCount=%{y}<extra></extra>",
         "legendgroup": "Mobile (PREDICTMOBILEPROPENSITY)",
         "marker": {
          "color": "#001F5F",
          "pattern": {
           "shape": ""
          }
         },
         "name": "Mobile (PREDICTMOBILEPROPENSITY)",
         "offsetgroup": "Mobile (PREDICTMOBILEPROPENSITY)",
         "orientation": "v",
         "showlegend": true,
         "textposition": "auto",
         "type": "bar",
         "x": [
          "2024-09-30T00:00:00",
          "2024-10-07T00:00:00",
          "2024-10-14T00:00:00",
          "2024-10-21T00:00:00",
          "2024-10-28T00:00:00",
          "2024-11-04T00:00:00",
          "2024-11-11T00:00:00",
          "2024-11-18T00:00:00",
          "2024-11-25T00:00:00",
          "2024-12-02T00:00:00"
         ],
         "xaxis": "x",
         "y": [
          18520,
          129663.72881355933,
          129705.25423728813,
          129746.77966101695,
          129788.30508474576,
          129829.83050847457,
          129871.3559322034,
          129912.8813559322,
          129954.406779661,
          55707.457627118645
         ],
         "yaxis": "y"
        },
        {
         "alignmentgroup": "True",
         "hovertemplate": "Prediction=E-mail (PREDICTOUTBOUNDEMAILPROPENSITY)<br>Period=%{x}<br>ResponseCount=%{y}<extra></extra>",
         "legendgroup": "E-mail (PREDICTOUTBOUNDEMAILPROPENSITY)",
         "marker": {
          "color": "#10A5AC",
          "pattern": {
           "shape": ""
          }
         },
         "name": "E-mail (PREDICTOUTBOUNDEMAILPROPENSITY)",
         "offsetgroup": "E-mail (PREDICTOUTBOUNDEMAILPROPENSITY)",
         "orientation": "v",
         "showlegend": true,
         "textposition": "auto",
         "type": "bar",
         "x": [
          "2024-09-30T00:00:00",
          "2024-10-07T00:00:00",
          "2024-10-14T00:00:00",
          "2024-10-21T00:00:00",
          "2024-10-28T00:00:00",
          "2024-11-04T00:00:00",
          "2024-11-11T00:00:00",
          "2024-11-18T00:00:00",
          "2024-11-25T00:00:00",
          "2024-12-02T00:00:00"
         ],
         "xaxis": "x",
         "y": [
          30380,
          212678.98305084746,
          212712.2033898305,
          212745.42372881356,
          212778.64406779662,
          212811.86440677967,
          212845.08474576272,
          212878.30508474575,
          212911.5254237288,
          91257.96610169491
         ],
         "yaxis": "y"
        },
        {
         "alignmentgroup": "True",
         "hovertemplate": "Prediction=Web (PREDICTWEBPROPENSITY)<br>Period=%{x}<br>ResponseCount=%{y}<extra></extra>",
         "legendgroup": "Web (PREDICTWEBPROPENSITY)",
         "marker": {
          "color": "#F76923",
          "pattern": {
           "shape": ""
          }
         },
         "name": "Web (PREDICTWEBPROPENSITY)",
         "offsetgroup": "Web (PREDICTWEBPROPENSITY)",
         "orientation": "v",
         "showlegend": true,
         "textposition": "auto",
         "type": "bar",
         "x": [
          "2024-09-30T00:00:00",
          "2024-10-07T00:00:00",
          "2024-10-14T00:00:00",
          "2024-10-21T00:00:00",
          "2024-10-28T00:00:00",
          "2024-11-04T00:00:00",
          "2024-11-11T00:00:00",
          "2024-11-18T00:00:00",
          "2024-11-25T00:00:00",
          "2024-12-02T00:00:00"
         ],
         "xaxis": "x",
         "y": [
          125720,
          880609.4915254237,
          881606.1016949152,
          882602.7118644067,
          883599.3220338984,
          884595.9322033899,
          885592.5423728814,
          886589.1525423729,
          887585.7627118644,
          380698.9830508475
         ],
         "yaxis": "y"
        }
       ],
       "layout": {
        "barmode": "group",
        "legend": {
         "title": {
          "text": "Channel"
         },
         "tracegroupgap": 0
        },
        "template": {
         "layout": {
          "colorway": [
           "#001F5F",
           "#10A5AC",
           "#F76923",
           "#661D34",
           "#86CAC6",
           "#005154",
           "#86CAC6",
           "#5F67B9",
           "#FFC836",
           "#E63690",
           "#AC1361",
           "#63666F",
           "#A7A9B4",
           "#D0D1DB"
          ],
          "hovermode": "closest"
         }
        },
        "title": {
         "text": "Prediction Responses<br>period:  6-Oct-2024 to  4-Dec-2024"
        },
        "xaxis": {
         "anchor": "y",
         "domain": [
          0,
          1
         ],
         "title": {
          "text": "Period"
         }
        },
        "yaxis": {
         "anchor": "x",
         "domain": [
          0,
          1
         ],
         "title": {
          "text": "Responses"
         }
        }
       }
      }
     },
     "metadata": {},
     "output_type": "display_data"
    }
   ],
   "source": [
    "prediction.plot.responsecount_trend(\"1w\", facetting=False)"
   ]
  }
 ],
 "metadata": {
  "kernelspec": {
   "display_name": ".venv",
   "language": "python",
   "name": "python3"
  },
  "language_info": {
   "codemirror_mode": {
    "name": "ipython",
    "version": 3
   },
   "file_extension": ".py",
   "mimetype": "text/x-python",
   "name": "python",
   "nbconvert_exporter": "python",
   "pygments_lexer": "ipython3",
   "version": "3.12.3"
  },
  "orig_nbformat": 4
 },
 "nbformat": 4,
 "nbformat_minor": 2
}
