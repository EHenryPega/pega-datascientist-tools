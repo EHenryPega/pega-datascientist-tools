{
 "cells": [
  {
   "cell_type": "markdown",
   "metadata": {},
   "source": [
    "# Predictions View\n",
    "\n",
    "Currently using PDC data to reproduce the view of Predictions from a data dump: Lift, CTR, Performance trend charts.\n",
    "\n",
    "Will be generalized to support a direct export from the Prediction Studio datamart table."
   ]
  },
  {
   "cell_type": "code",
   "execution_count": null,
   "metadata": {},
   "outputs": [],
   "source": [
    "from pathlib import Path\n",
    "import polars as pl\n",
    "\n",
    "pdc_data_file = Path(\n",
    "    # \"~/<YOUR PATH TO THE PDC EXPORT>.parquet\"\n",
    "    \"/Users/perdo/Library/CloudStorage/OneDrive-SharedLibraries-PegasystemsInc/AI Chapter Data Sets - Documents/Customers/Bank of New Zealand/PDC/bank-of-new-zealand.bofnz-bnzcee-prod1.telemetry.parquet\"\n",
    ").expanduser()\n",
    "pdc_data = pl.read_parquet(pdc_data_file).filter(pl.col(\"ModelType\").str.starts_with(\"Prediction\")).sort(\"SnapshotTime\")\n",
    "\n",
    "pdc_data.head()"
   ]
  },
  {
   "cell_type": "code",
   "execution_count": null,
   "metadata": {},
   "outputs": [],
   "source": [
    "pdc_data.filter(pl.col(\"SnapshotTime\") == pl.col(\"SnapshotTime\").last()).sort([\"SnapshotTime\", \"ModelName\", \"ModelType\"]).select([\"ModelName\", \"ModelType\", \"Negatives\", \"Positives\"]).head(50).to_pandas().style.hide()"
   ]
  },
  {
   "cell_type": "code",
   "execution_count": null,
   "metadata": {},
   "outputs": [],
   "source": [
    "import plotly.express as px\n",
    "\n",
    "px.line(\n",
    "    pdc_data,\n",
    "    x = \"SnapshotTime\",\n",
    "    y = \"Performance\",\n",
    "    color=\"ModelName\")"
   ]
  },
  {
   "cell_type": "code",
   "execution_count": null,
   "metadata": {},
   "outputs": [],
   "source": [
    "px.line(\n",
    "    pdc_data,\n",
    "    x = \"SnapshotTime\",\n",
    "    y = \"CTR\",\n",
    "    color=\"ModelName\")"
   ]
  },
  {
   "cell_type": "code",
   "execution_count": null,
   "metadata": {},
   "outputs": [],
   "source": [
    "from pdstools  import Prediction\n",
    "\n",
    "\n",
    "p = Prediction(pdc_data.lazy())\n",
    "p.summary_by_channel().collect().to_pandas().style"
   ]
  },
  {
   "cell_type": "code",
   "execution_count": null,
   "metadata": {},
   "outputs": [],
   "source": [
    "px.line(\n",
    "    p.summary_by_channel(keep_trend_data=True)\n",
    "    .collect()\n",
    "    .filter(pl.col(\"isMultiChannelPrediction\").not_())\n",
    "    .sort([\"SnapshotTime\"]),\n",
    "    x=\"SnapshotTime\",\n",
    "    y=\"Performance\",\n",
    "    color=\"Channel\",\n",
    ")"
   ]
  },
  {
   "cell_type": "code",
   "execution_count": null,
   "metadata": {},
   "outputs": [],
   "source": [
    "px.line(\n",
    "    p.summary_by_channel(keep_trend_data=True)\n",
    "    .collect()\n",
    "    .filter(pl.col(\"isMultiChannelPrediction\").not_())\n",
    "    .sort([\"SnapshotTime\"]),\n",
    "    x=\"SnapshotTime\",\n",
    "    y=\"Lift\",\n",
    "    color=\"Channel\",\n",
    ")"
   ]
  }
 ],
 "metadata": {
  "kernelspec": {
   "display_name": "env-p11",
   "language": "python",
   "name": "python3"
  },
  "language_info": {
   "codemirror_mode": {
    "name": "ipython",
    "version": 3
   },
   "file_extension": ".py",
   "mimetype": "text/x-python",
   "name": "python",
   "nbconvert_exporter": "python",
   "pygments_lexer": "ipython3",
   "version": "3.11.9"
  },
  "orig_nbformat": 4
 },
 "nbformat": 4,
 "nbformat_minor": 2
}
