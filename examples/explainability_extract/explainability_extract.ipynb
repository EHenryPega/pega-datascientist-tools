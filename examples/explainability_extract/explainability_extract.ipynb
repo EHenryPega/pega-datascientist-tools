{
    "cells": [
        {
            "cell_type": "markdown",
            "metadata": {},
            "source": [
                "# Explainability Extract Analysis\n",
                "\n",
                "__Pega__\n",
                "\n",
                "__2024-06-11__\n",
                "\n",
                "This notebooks shows how you can analyze the Explainability Extract dataset using\n",
                "pdstools.\n",
                "\n"
            ]
        },
        {
            "cell_type": "code",
            "execution_count": null,
            "metadata": {
                "nbsphinx": "hidden"
            },
            "outputs": [],
            "source": [
                "# These lines are only for rendering in the docs, and are hidden through Jupyter tags\n",
                "# Do not run if you're running the notebook seperately\n",
                "\n",
                "import plotly.io as pio\n",
                "\n",
                "pio.renderers.default = \"notebook_connected\"\n",
                "\n",
                "import sys\n",
                "\n",
                "sys.path.append(\"../../../\")\n",
                "sys.path.append('../../python')"
            ]
        },
        {
            "cell_type": "code",
            "execution_count": null,
            "metadata": {},
            "outputs": [],
            "source": [
                "from pdstools import DecisionData, readDSExport\n",
                "from pdstools.decision_analyzer.data_read_utils import read_data"
            ]
        },
        {
            "cell_type": "markdown",
            "metadata": {},
            "source": [
                "### Read the Data and create DecisionData instance"
            ]
        },
        {
            "cell_type": "code",
            "execution_count": null,
            "metadata": {},
            "outputs": [],
            "source": [
                "df = readDSExport(\n",
                "    filename=\"sample_explainability_extract.parquet\",\n",
                "    path=\"https://raw.githubusercontent.com/pegasystems/pega-datascientist-tools/explainability/data\",\n",
                ")\n",
                "decision_data = DecisionData(df)"
            ]
        },
        {
            "cell_type": "markdown",
            "metadata": {},
            "source": [
                "### Overview"
            ]
        },
        {
            "cell_type": "code",
            "execution_count": null,
            "metadata": {},
            "outputs": [],
            "source": [
                "decision_data.get_overview_stats"
            ]
        },
        {
            "cell_type": "markdown",
            "metadata": {},
            "source": [
                "### Action Distribution\n",
                "\n",
                "Shows the overall distribution of actions at the Arbitration Stage"
            ]
        },
        {
            "cell_type": "code",
            "execution_count": null,
            "metadata": {},
            "outputs": [],
            "source": [
                "stage = \"Arbitration\"\n",
                "scope_options = [\"pyIssue\", \"pyGroup\", \"pyName\"]\n",
                "distribution_data = decision_data.getDistributionData(stage, scope_options)\n",
                "fig = decision_data.plot.plot_distribution_as_treemap(\n",
                "    df=distribution_data, stage=stage, scope_options=scope_options\n",
                ")\n",
                "fig.show()"
            ]
        },
        {
            "cell_type": "markdown",
            "metadata": {},
            "source": [
                "### Global Sensitivity"
            ]
        },
        {
            "cell_type": "code",
            "execution_count": null,
            "metadata": {},
            "outputs": [],
            "source": [
                "decision_data.plot.plot_sensitivity(win_rank=1)"
            ]
        },
        {
            "cell_type": "markdown",
            "metadata": {},
            "source": [
                "### Wins and Losses in Arbitration"
            ]
        },
        {
            "cell_type": "code",
            "execution_count": null,
            "metadata": {},
            "outputs": [],
            "source": [
                "decision_data.plot.plot_global_winloss_distribution(level=\"pyIssue\", win_rank=1)"
            ]
        },
        {
            "cell_type": "markdown",
            "metadata": {},
            "source": [
                "### Personalization Analysis\n",
                "Analysis of the number of actions per customer. Do we have enough options for people? "
            ]
        },
        {
            "cell_type": "code",
            "execution_count": null,
            "metadata": {},
            "outputs": [],
            "source": [
                "decision_data.plot.plot_propensity_vs_optionality(stage=\"Arbitration\")\n"
            ]
        }
    ],
    "metadata": {
        "kernelspec": {
            "display_name": "Python 3",
            "language": "python",
            "name": "python3"
        },
        "language_info": {
            "codemirror_mode": {
                "name": "ipython",
                "version": 3
            },
            "file_extension": ".py",
            "mimetype": "text/x-python",
            "name": "python",
            "nbconvert_exporter": "python",
            "pygments_lexer": "ipython3",
            "version": "3.11.4"
        }
    },
    "nbformat": 4,
    "nbformat_minor": 2
}
