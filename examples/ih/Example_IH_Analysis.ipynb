{
 "cells": [
  {
   "cell_type": "code",
   "execution_count": null,
   "metadata": {},
   "outputs": [],
   "source": [
    "from pdstools import IH\n",
    "\n",
    "import plotly.io as pio\n",
    "import plotly as plotly\n",
    "\n",
    "plotly.offline.init_notebook_mode()\n",
    "pio.renderers.default = \"vscode\""
   ]
  },
  {
   "cell_type": "markdown",
   "metadata": {},
   "source": [
    "# IH Example Analysis\n",
    "\n",
    "This notebook uses sample data shipped with PDStools. Replace with actual IH data."
   ]
  },
  {
   "cell_type": "code",
   "execution_count": 2,
   "metadata": {},
   "outputs": [],
   "source": [
    "ih = IH.from_ds_export(\n",
    "    \"../../data/Data-pxStrategyResult_pxInteractionHistory_20210101T010000_GMT.zip\"\n",
    ")"
   ]
  },
  {
   "cell_type": "markdown",
   "metadata": {},
   "source": [
    "At first, take a look into the IH dataframe, explore the columns, outcome types and business structure"
   ]
  },
  {
   "cell_type": "code",
   "execution_count": null,
   "metadata": {},
   "outputs": [],
   "source": [
    "ih.data.head().collect()"
   ]
  },
  {
   "cell_type": "code",
   "execution_count": null,
   "metadata": {},
   "outputs": [],
   "source": [
    "# df.groupby(['pyIssue', 'pyGroup', 'pyDirection', 'pyChannel', 'pyName', 'pyOutcome']).count()[[\n",
    "#     'pxInteractionID']].rename(columns={'pxInteractionID':'Count'})\n",
    "\n",
    "# TODO tree map\n",
    "import plotly.express as px\n",
    "\n",
    "plot_data = ih.aggregates.summary_outcomes(\n",
    "    by=[\"Issue\", \"Group\", \"Direction\", \"Channel\", \"Name\"]\n",
    ").collect()\n",
    "fig = px.treemap(\n",
    "    plot_data,\n",
    "    path=[px.Constant(\"ALL\")]\n",
    "    + [\"Outcome\"]\n",
    "    + [\"Issue\", \"Group\", \"Direction\", \"Channel\", \"Name\"],\n",
    "    values=\"Count\",\n",
    "    color=\"Count\",\n",
    "    branchvalues=\"total\",\n",
    "    # color_continuous_scale=px.colors.sequential.RdBu_r,\n",
    "    # title=title,\n",
    "    # hover_data=[\n",
    "    #     f\"StdErr_{metric}\",\n",
    "    #     f\"Positives_{metric}\",\n",
    "    #     f\"Negatives_{metric}\",\n",
    "    # ],\n",
    "    height=640,\n",
    "    template=\"pega\",\n",
    ")\n",
    "fig.update_coloraxes(showscale=False)\n",
    "fig.update_traces(textinfo=\"label+value+percent parent\")\n",
    "fig.update_layout(margin=dict(t=50, l=25, r=25, b=25))\n",
    "fig"
   ]
  },
  {
   "cell_type": "markdown",
   "metadata": {},
   "source": [
    "Use \"plot_daily_accept_rate\" to plot accept rate per day to understand how accept rates changed over time. To define accept rate, enter the positive (here: Accepted) and negative (here: Rejected) behaviour in the function. use kwargs to customize the graph. If the time ticks on the x axis are too many, shrink them using 'shrinkTicks'. If data is missing in certain days, force the graph make gaps for the missing days by setting 'allTime':True. you can also define hue"
   ]
  },
  {
   "cell_type": "code",
   "execution_count": null,
   "metadata": {},
   "outputs": [],
   "source": [
    "# plot_daily_accept_rate(\n",
    "#     df,\n",
    "#     \"Accepted\",\n",
    "#     \"Rejected\",\n",
    "#     **{\"hue\": [\"pyChannel\"], \"allTime\": True, \"shrinkTicks\": True},\n",
    "# )\n",
    "# TODO more or less fits the engagement trend charts\n",
    "ih.plots.success_rates_trend_line(by=\"Channel\")"
   ]
  },
  {
   "cell_type": "markdown",
   "metadata": {},
   "source": [
    "The above graph provides detailed metric behavior over time. Instead of Accept, you can use other outcome types. To get a rolled up view, plot the accept rate graph based on a weekly axis. The week values are calculated based on the starting date of the IH file"
   ]
  },
  {
   "cell_type": "code",
   "execution_count": null,
   "metadata": {},
   "outputs": [],
   "source": [
    "# plot_weekly_accept_rate(\n",
    "#     df, \"Accepted\", \"Rejected\", **{\"showOutlier\": True, \"hue\": \"pyDirection\"}\n",
    "# )\n",
    "# Same"
   ]
  },
  {
   "cell_type": "markdown",
   "metadata": {},
   "source": [
    "The above graphs provide insight into the accept rates on daily or weekly basis. ADM models however, take all time data every update cycle, to generate bubble charts. To view the historical cumulative accept rate, use the function below. If choosing a single model, this graph will be as if you had ADM success rate captured over time. Set 'showOutlier' to True to view outlier values"
   ]
  },
  {
   "cell_type": "code",
   "execution_count": null,
   "metadata": {},
   "outputs": [],
   "source": [
    "plot_daily_cumulative_accept_rate(\n",
    "    df[df[\"pyName\"] == \"UPlusPersonal\"],\n",
    "    \"Accepted\",\n",
    "    \"Rejected\",\n",
    "    **{\n",
    "        \"allTime\": True,\n",
    "        \"shrinkTicks\": True,\n",
    "        \"showOutlier\": True,\n",
    "        \"title\": \"Proposition: UPlusPersonal\",\n",
    "    },\n",
    ")\n",
    "# Not sure how useful that really is"
   ]
  },
  {
   "cell_type": "markdown",
   "metadata": {},
   "source": [
    "The above graph can be done in various granularity level. For example the below graph shows the cumulative accept rate over time across all the offers"
   ]
  },
  {
   "cell_type": "code",
   "execution_count": null,
   "metadata": {},
   "outputs": [],
   "source": [
    "plot_daily_cumulative_accept_rate(\n",
    "    df,\n",
    "    \"Accepted\",\n",
    "    \"Rejected\",\n",
    "    **{\"allTime\": True, \"shrinkTicks\": True, \"showOutlier\": True},\n",
    ")"
   ]
  },
  {
   "cell_type": "markdown",
   "metadata": {},
   "source": [
    "Below graph shows the cumulative accept rate per pyGroup, pyDirection and pyChannel"
   ]
  },
  {
   "cell_type": "code",
   "execution_count": null,
   "metadata": {},
   "outputs": [],
   "source": [
    "plot_daily_cumulative_accept_rate(\n",
    "    df,\n",
    "    \"Clicked\",\n",
    "    \"NoResponse\",\n",
    "    **{\n",
    "        \"hue\": [\"pyGroup\", \"pyDirection\", \"pyChannel\"],\n",
    "        \"allTime\": True,\n",
    "        \"shrinkTicks\": True,\n",
    "    },\n",
    ")"
   ]
  },
  {
   "cell_type": "markdown",
   "metadata": {},
   "source": [
    "In addition to accept rate, it is important to track other outcome values over time. Use 'daily' or 'weekly' to set the granularity of time axis. Instead of 'Accepted', other outcome labels can be explored over time"
   ]
  },
  {
   "cell_type": "code",
   "execution_count": null,
   "metadata": {},
   "outputs": [],
   "source": [
    "plot_outcome_count_time(\n",
    "    df, \"Accepted\", \"weekly\", **{\"hue\": \"pyIssue\", \"allTime\": True, \"shrinkTicks\": True}\n",
    ")\n",
    "\n",
    "# A count trend seems useful to, not just the CTR"
   ]
  },
  {
   "cell_type": "markdown",
   "metadata": {},
   "source": [
    "below graphs puts a couple of graphs together to provide better insight at the offer level to be able to compare the accept rate, accept count and total responses per model"
   ]
  },
  {
   "cell_type": "code",
   "execution_count": null,
   "metadata": {},
   "outputs": [],
   "source": [
    "plot_df = get_accept_rate(\n",
    "    df[df[\"pyDirection\"] == \"Inbound\"], \"Accepted\", \"Rejected\", \"pyName\"\n",
    ")\n",
    "\n",
    "fig, ax = plt.subplots(2, 1, figsize=(13, 9), sharex=True, gridspec_kw={\"hspace\": 0.05})\n",
    "sort = plot_df.sort_values(\"Accept Rate (%)\", ascending=False)[\"pyName\"].tolist()\n",
    "sns.barplot(x=\"pyName\", y=\"Accept Rate (%)\", data=plot_df, ax=ax[0], order=sort)\n",
    "sns.barplot(x=\"pyName\", y=\"Accepted\", data=plot_df, ax=ax[1], order=sort)\n",
    "sns.pointplot(x=\"pyName\", y=\"Total\", data=plot_df, ax=ax[1], order=sort)\n",
    "for x in ax[1].get_xmajorticklabels():\n",
    "    x.set_rotation(90)\n",
    "ax[0].set_xlabel(\"\")\n",
    "ax[1].text(2, 2000, \"The bars show the accepts\\nThe line shows accept+reject\")\n",
    "ax[0].set_ylabel(\"Accept Rate (%)\", fontsize=13)\n",
    "ax[1].set_ylabel(\"Accepts\", fontsize=13)\n",
    "ax[0].set_title(\"Offers within Inbound direction\")\n",
    "\n",
    "# Not sure about this"
   ]
  },
  {
   "cell_type": "markdown",
   "metadata": {},
   "source": [
    "Another insightful graph is to see what share of a given outcome label, each offer(or direction or channel) has. For example the below graph shows that of all the historical 'Accepted' labels, 'UPlusGold' proposition has a little over 50% of all the 'Accepted' outcomes. 'UPlusFinPersonal' has roughly 10% of all time Accepted outcomes. instead of proposition level, you can set other levels (channel, direction etc)."
   ]
  },
  {
   "cell_type": "code",
   "execution_count": null,
   "metadata": {},
   "outputs": [],
   "source": [
    "plot_outcome_share_graph(df[df[\"pyChannel\"] == \"Web\"], \"Accepted\", \"pyName\", \"pyGroup\")\n",
    "\n",
    "# Wouldn't the tree show this?"
   ]
  },
  {
   "cell_type": "markdown",
   "metadata": {},
   "source": [
    "It is also possible to see how the outcome share of a given proposition (or channel etc.) changed over time"
   ]
  },
  {
   "cell_type": "code",
   "execution_count": null,
   "metadata": {},
   "outputs": [],
   "source": [
    "click_share_name_daily = get_outcome_share_time(\n",
    "    df[df[\"pyChannel\"] == \"Web\"], \"Clicked\", \"pyName\", time=\"daily\"\n",
    ")\n",
    "click_share_name_weekly = get_outcome_share_time(\n",
    "    df[df[\"pyChannel\"] == \"Web\"], \"Clicked\", \"pyName\", time=\"weekly\"\n",
    ")"
   ]
  },
  {
   "cell_type": "markdown",
   "metadata": {},
   "source": [
    "The graph below shows among offer within Web channel, what share of Clicked outcome labels belonged to UPlusGold proposition every day. It can be seen that the value dropped significantly on 12-23"
   ]
  },
  {
   "cell_type": "code",
   "execution_count": null,
   "metadata": {},
   "outputs": [],
   "source": [
    "get_daily_graph(\n",
    "    click_share_name_daily[click_share_name_daily[\"pyName\"] == \"UPlusGold\"],\n",
    "    \"Date\",\n",
    "    \"Clicked Share (%)\",\n",
    "    **{\"shrinkTicks\": True},\n",
    ")"
   ]
  },
  {
   "cell_type": "markdown",
   "metadata": {},
   "source": [
    "same graph can be viewed on a weekly basis"
   ]
  },
  {
   "cell_type": "code",
   "execution_count": null,
   "metadata": {},
   "outputs": [],
   "source": [
    "get_daily_graph(\n",
    "    click_share_name_weekly[click_share_name_weekly[\"pyName\"] == \"UPlusGold\"],\n",
    "    \"Week\",\n",
    "    \"Clicked Share (%)\",\n",
    "    **{\"shrinkTicks\": True},\n",
    ")"
   ]
  },
  {
   "cell_type": "markdown",
   "metadata": {},
   "source": [
    "The graph below shows the Accepted share between two directions: Inbound/Outbound. Of course in this case because there are only 2 directions, when one graph goes up, the other has to go down so the sum of the two per day would be 100%"
   ]
  },
  {
   "cell_type": "code",
   "execution_count": null,
   "metadata": {},
   "outputs": [],
   "source": [
    "click_share_direction_daily = get_outcome_share_time(\n",
    "    df, \"Accepted\", \"pyDirection\", time=\"daily\"\n",
    ")"
   ]
  },
  {
   "cell_type": "code",
   "execution_count": null,
   "metadata": {},
   "outputs": [],
   "source": [
    "get_daily_graph(\n",
    "    click_share_direction_daily,\n",
    "    \"Date\",\n",
    "    \"Accepted Share (%)\",\n",
    "    **{\"shrinkTicks\": True, \"hue\": \"pyDirection\"},\n",
    ")"
   ]
  },
  {
   "cell_type": "markdown",
   "metadata": {},
   "source": [
    "The above graph can help identify how things evolve as a whole. It helps identify when the share for one direction (or channel etc.) goes down, which channel takes over goes down, which other "
   ]
  },
  {
   "cell_type": "markdown",
   "metadata": {},
   "source": [
    "same graph can be done for pyName as well. However, since there are usually so many pyNames, it would be hard to follow up and identify which offer had the highest share over time, and when an offer's share drops, which other offer takes over. So instead of looking over time, the below graph calculates a delta between the share percentage across two time frames. This is significanlty helpful when things in the strategy changes (priotitization, eligibility etc.) it helps identify how the system reacts once there is a change introduced."
   ]
  },
  {
   "cell_type": "code",
   "execution_count": null,
   "metadata": {},
   "outputs": [],
   "source": [
    "plot_share_delta_graph(\n",
    "    df[df[\"pyChannel\"] == \"SMS\"].reset_index(drop=True), \"Clicked\", \"pyName\", dates=4\n",
    ")\n",
    "\n",
    "# A delta view of actions vs a condition (eg experiment) could be neat, showing a delta of offer counts\n",
    "# maybe a variant of the regular bar charts"
   ]
  },
  {
   "cell_type": "markdown",
   "metadata": {},
   "source": [
    "In the above graph, the clicked outcome shares for MasterCardGold has increased by 5% recently. The time range can be specified either by defining a lookback window (in that case only enter an integer) or by a list of two tuples where the first tuple represents the earlier time range and the second tuple represent the recent time range"
   ]
  },
  {
   "cell_type": "code",
   "execution_count": null,
   "metadata": {},
   "outputs": [],
   "source": []
  },
  {
   "cell_type": "markdown",
   "metadata": {},
   "source": [
    "# Performance\n",
    "\n",
    "Model performance over time\n"
   ]
  }
 ],
 "metadata": {
  "kernelspec": {
   "display_name": ".venv",
   "language": "python",
   "name": "python3"
  },
  "language_info": {
   "codemirror_mode": {
    "name": "ipython",
    "version": 3
   },
   "file_extension": ".py",
   "mimetype": "text/x-python",
   "name": "python",
   "nbconvert_exporter": "python",
   "pygments_lexer": "ipython3",
   "version": "3.12.3"
  }
 },
 "nbformat": 4,
 "nbformat_minor": 2
}
