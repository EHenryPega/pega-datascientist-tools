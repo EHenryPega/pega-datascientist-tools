{
 "cells": [
  {
   "cell_type": "code",
   "execution_count": null,
   "metadata": {},
   "outputs": [],
   "source": [
    "from pdstools import IH\n",
    "\n",
    "import plotly.io as pio\n",
    "import plotly as plotly\n",
    "\n",
    "plotly.offline.init_notebook_mode()\n",
    "pio.renderers.default = \"vscode\""
   ]
  },
  {
   "cell_type": "markdown",
   "metadata": {},
   "source": [
    "# Conversion Results\n",
    "\n",
    "Visualization of conversion modeling results from IH data."
   ]
  },
  {
   "cell_type": "code",
   "execution_count": null,
   "metadata": {},
   "outputs": [],
   "source": [
    "from pathlib import Path\n",
    "\n",
    "ih_export_file = Path(\n",
    "    \"./Data-pxStrategyResult_InteractionFiles_20241213T091932_GMT.zip \"\n",
    ")\n",
    "\n",
    "if not ih_export_file.exists():\n",
    "    ih = IH.from_mock_data()\n",
    "else:\n",
    "    ih = IH.from_ds_export(ih_export_file)\n",
    "\n",
    "ih.aggregates.summary_by_experiment(\n",
    "    experiment_field=\"ExperimentGroup\",\n",
    "    by=[\"Channel\"],\n",
    "    positive_labels=[\"Conversion\"],\n",
    "    negative_labels=[\"Impression\", \"Pending\"],\n",
    ").collect()"
   ]
  },
  {
   "cell_type": "code",
   "execution_count": null,
   "metadata": {},
   "outputs": [],
   "source": [
    "ih.plots.experiment_gauges(\n",
    "    experiment_field=\"ExperimentGroup\",\n",
    "    by=\"Channel\",\n",
    "    positive_labels=[\"Conversion\"],\n",
    "    negative_labels=[\"Impression\", \"Pending\"],\n",
    "    reference_values={\"Web\": 0.055, \"Email\": 0.09},\n",
    "    title = \"Overall Conversion\",\n",
    ")"
   ]
  },
  {
   "cell_type": "markdown",
   "metadata": {},
   "source": [
    "## Detailed View "
   ]
  },
  {
   "cell_type": "code",
   "execution_count": null,
   "metadata": {},
   "outputs": [],
   "source": [
    "# TODO maybe this would only be useful for the test group\n",
    "# then in the hovers show both test and control values\n",
    "ih.plots.tree_map(\n",
    "    experiment_field=\"ExperimentGroup\", # should be optional, can also give query to select only the Test group\n",
    "    positive_labels=[\"Conversion\"],\n",
    "    negative_labels=[\"Impression\", \"Pending\"],\n",
    "    title=\"Conversion rates for all Actions\",\n",
    ")"
   ]
  },
  {
   "cell_type": "markdown",
   "metadata": {},
   "source": [
    "## Trends\n",
    "\n",
    "side-by-side bars and lines (separate methods) with error bars"
   ]
  },
  {
   "cell_type": "code",
   "execution_count": null,
   "metadata": {},
   "outputs": [],
   "source": [
    "ih.plots.trend_bar(\n",
    "    experiment_field=\"ExperimentGroup\",\n",
    "    every=\"1w\",\n",
    "    positive_labels=[\"Conversion\"],\n",
    "    negative_labels=[\"Impression\", \"Pending\"],\n",
    "    title=\"Conversion Rates over Time\",\n",
    ")"
   ]
  },
  {
   "cell_type": "markdown",
   "metadata": {},
   "source": [
    "# Engagement"
   ]
  },
  {
   "cell_type": "code",
   "execution_count": null,
   "metadata": {},
   "outputs": [],
   "source": [
    "ih.plots.experiment_gauges(\n",
    "    experiment_field=\"ExperimentGroup\",\n",
    "    by=\"Channel\",\n",
    "    reference_values={\"Web\": 0.20, \"Email\": 0.20},\n",
    "    title = \"Overall Engagement\",\n",
    ")"
   ]
  },
  {
   "cell_type": "code",
   "execution_count": null,
   "metadata": {},
   "outputs": [],
   "source": [
    "ih.plots.trend_line(\n",
    "    title=\"Engagement Rates over Time\",\n",
    ")"
   ]
  }
 ],
 "metadata": {
  "kernelspec": {
   "display_name": ".venv",
   "language": "python",
   "name": "python3"
  },
  "language_info": {
   "codemirror_mode": {
    "name": "ipython",
    "version": 3
   },
   "file_extension": ".py",
   "mimetype": "text/x-python",
   "name": "python",
   "nbconvert_exporter": "python",
   "pygments_lexer": "ipython3",
   "version": "3.12.3"
  }
 },
 "nbformat": 4,
 "nbformat_minor": 2
}
