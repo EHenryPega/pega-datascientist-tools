{
 "cells": [
  {
   "cell_type": "markdown",
   "metadata": {},
   "source": [
    "# HDS (Historical Data Set) Analysis\n",
    "\n",
    "This notebook demonstrates how to work with a sample HDS dataset, explore its structure, and build a simple XGBoost model to show feature importance.\n",
    "\n",
    "It then shows how to combine this data with a sample dataset from the Data Lake and perform an analysis of which features could be considered to pull in to Pega to improve the models."
   ]
  },
  {
   "cell_type": "code",
   "execution_count": 1,
   "metadata": {},
   "outputs": [],
   "source": [
    "import polars as pl\n",
    "import polars.selectors as cs\n",
    "import plotly.express as px\n",
    "import zipfile\n",
    "from sklearn.model_selection import train_test_split\n",
    "from sklearn.preprocessing import LabelEncoder\n",
    "from xgboost import XGBClassifier\n",
    "\n",
    "from sklearn.metrics import classification_report, roc_auc_score\n",
    "from pdstools.utils import cdh_utils"
   ]
  },
  {
   "cell_type": "markdown",
   "metadata": {},
   "source": [
    "## Data Read\n",
    "\n",
    "Read the HDS data. Depending on how the data was extracted and stored, you may need different reading methods using\n",
    "zipfile and/or Polars.\n",
    "\n",
    "We're also casting the data to the appropriate types and dropping some features that shouldnt be used for models. "
   ]
  },
  {
   "cell_type": "code",
   "execution_count": 2,
   "metadata": {},
   "outputs": [
    {
     "data": {
      "text/html": [
       "<div><style>\n",
       ".dataframe > thead > tr,\n",
       ".dataframe > tbody > tr {\n",
       "  text-align: right;\n",
       "  white-space: pre-wrap;\n",
       "}\n",
       "</style>\n",
       "<small>shape: (9, 92)</small><table border=\"1\" class=\"dataframe\"><thead><tr><th>statistic</th><th>Customer_CLV</th><th>Customer_pyCountry</th><th>Customer_RiskCode</th><th>IH_Web_Inbound_Rejected_pxLastOutcomeTime_DaysSince</th><th>Decision_SubjectID</th><th>Decision_Outcome</th><th>Customer_City</th><th>IH_Web_Inbound_Loyal_pxLastOutcomeTime_DaysSince</th><th>Context_Name</th><th>Decision_OutcomeTime</th><th>Customer_RelationshipStartDate</th><th>Customer_ID</th><th>IH_Web_Inbound_Rejected_pyHistoricalOutcomeCount</th><th>Param_ExtGroupCreditcards</th><th>Customer_Date_of_Birth</th><th>Customer_BusinessSegment</th><th>Customer_NoOfDependents</th><th>Customer_CreditScore</th><th>Decision_InteractionID</th><th>Customer_Incarceration</th><th>IH_Email_Outbound_Rejected_pxLastGroupID</th><th>Customer_LastReviewedDate</th><th>IH_Web_Inbound_Accepted_pxLastGroupID</th><th>IH_Email_Outbound_Accepted_pxLastOutcomeTime_DaysSince</th><th>IH_SMS_Outbound_Loyal_pxLastGroupID</th><th>rulesetVersion</th><th>IH_Email_Outbound_Churned_pyHistoricalOutcomeCount</th><th>Context_Issue</th><th>Customer_ReviewDate</th><th>Customer_WinScore</th><th>Context_Group</th><th>IH_Web_Inbound_Churned_pyHistoricalOutcomeCount</th><th>Customer_InCollections</th><th>IH_SMS_Outbound_Accepted_pyHistoricalOutcomeCount</th><th>IH_Email_Outbound_Loyal_pyHistoricalOutcomeCount</th><th>Customer_Age</th><th>&hellip;</th><th>IH_SMS_Outbound_Accepted_pxLastOutcomeTime_DaysSince</th><th>Decision_DecisionTime</th><th>Customer_MilitaryService</th><th>IH_SMS_Outbound_Churned_pxLastGroupID</th><th>Customer_Bankruptcy</th><th>Customer_RiskScore</th><th>IH_Web_Inbound_Rejected_pxLastGroupID</th><th>IH_Web_Inbound_Loyal_pyHistoricalOutcomeCount</th><th>IH_Email_Outbound_Churned_pxLastGroupID</th><th>Customer_State</th><th>IH_Email_Outbound_Rejected_pyHistoricalOutcomeCount</th><th>Context_Direction</th><th>Customer_NaturalDisaster</th><th>Customer_CLV_VALUE</th><th>Customer_MaritalStatus</th><th>Customer_AnnualIncome</th><th>Customer_NextReviewDate</th><th>IH_Email_Outbound_Churned_pxLastOutcomeTime_DaysSince</th><th>IH_SMS_Outbound_Loyal_pyHistoricalOutcomeCount</th><th>IH_SMS_Outbound_Loyal_pxLastOutcomeTime_DaysSince</th><th>IH_SMS_Outbound_Churned_pxLastOutcomeTime_DaysSince</th><th>Customer_TotalLiabilities</th><th>Context_Channel</th><th>id</th><th>Customer_ResidentialStatus</th><th>Decision_Rank</th><th>IH_SMS_Outbound_Rejected_pyHistoricalOutcomeCount</th><th>rulesetName</th><th>IH_Web_Inbound_Accepted_pyHistoricalOutcomeCount</th><th>IH_Email_Outbound_Loyal_pxLastGroupID</th><th>Param_ExtGroupWealthoffers</th><th>Customer_OrganizationLabel</th><th>Param_ExtGroupAutoloans</th><th>IH_Web_Inbound_Churned_pxLastOutcomeTime_DaysSince</th><th>Customer_pyRegion</th><th>IH_SMS_Outbound_Accepted_pxLastGroupID</th><th>Customer_Deceased</th></tr><tr><td>str</td><td>str</td><td>str</td><td>str</td><td>f64</td><td>str</td><td>str</td><td>str</td><td>f64</td><td>str</td><td>str</td><td>f64</td><td>str</td><td>f64</td><td>f64</td><td>f64</td><td>str</td><td>f64</td><td>f64</td><td>str</td><td>str</td><td>str</td><td>str</td><td>str</td><td>f64</td><td>str</td><td>str</td><td>f64</td><td>str</td><td>str</td><td>str</td><td>str</td><td>f64</td><td>str</td><td>f64</td><td>f64</td><td>str</td><td>&hellip;</td><td>f64</td><td>str</td><td>str</td><td>str</td><td>str</td><td>str</td><td>str</td><td>f64</td><td>str</td><td>str</td><td>f64</td><td>str</td><td>str</td><td>f64</td><td>str</td><td>str</td><td>str</td><td>f64</td><td>f64</td><td>f64</td><td>f64</td><td>str</td><td>str</td><td>str</td><td>str</td><td>str</td><td>f64</td><td>str</td><td>f64</td><td>str</td><td>f64</td><td>str</td><td>f64</td><td>f64</td><td>str</td><td>str</td><td>str</td></tr></thead><tbody><tr><td>&quot;count&quot;</td><td>&quot;12062&quot;</td><td>&quot;12062&quot;</td><td>&quot;12062&quot;</td><td>12062.0</td><td>&quot;12062&quot;</td><td>&quot;12062&quot;</td><td>&quot;12062&quot;</td><td>6076.0</td><td>&quot;12062&quot;</td><td>&quot;12062&quot;</td><td>12062.0</td><td>&quot;12062&quot;</td><td>12062.0</td><td>12062.0</td><td>12062.0</td><td>&quot;12062&quot;</td><td>12062.0</td><td>12062.0</td><td>&quot;12062&quot;</td><td>&quot;12062&quot;</td><td>&quot;12062&quot;</td><td>&quot;12062&quot;</td><td>&quot;11971&quot;</td><td>8156.0</td><td>&quot;1169&quot;</td><td>&quot;12062&quot;</td><td>2259.0</td><td>&quot;12062&quot;</td><td>&quot;12062&quot;</td><td>&quot;12062&quot;</td><td>&quot;12062&quot;</td><td>5911.0</td><td>&quot;12062&quot;</td><td>11826.0</td><td>2432.0</td><td>&quot;11947&quot;</td><td>&hellip;</td><td>11826.0</td><td>&quot;12062&quot;</td><td>&quot;12062&quot;</td><td>&quot;828&quot;</td><td>&quot;12062&quot;</td><td>&quot;12062&quot;</td><td>&quot;12062&quot;</td><td>6076.0</td><td>&quot;2259&quot;</td><td>&quot;12062&quot;</td><td>12062.0</td><td>&quot;12062&quot;</td><td>&quot;12062&quot;</td><td>12062.0</td><td>&quot;12062&quot;</td><td>&quot;12062&quot;</td><td>&quot;12062&quot;</td><td>2259.0</td><td>1169.0</td><td>1169.0</td><td>828.0</td><td>&quot;12062&quot;</td><td>&quot;12062&quot;</td><td>&quot;12062&quot;</td><td>&quot;12062&quot;</td><td>&quot;12062&quot;</td><td>12062.0</td><td>&quot;12062&quot;</td><td>11971.0</td><td>&quot;2432&quot;</td><td>12062.0</td><td>&quot;12062&quot;</td><td>12062.0</td><td>5911.0</td><td>&quot;12062&quot;</td><td>&quot;11826&quot;</td><td>&quot;12062&quot;</td></tr><tr><td>&quot;null_count&quot;</td><td>&quot;0&quot;</td><td>&quot;0&quot;</td><td>&quot;0&quot;</td><td>0.0</td><td>&quot;0&quot;</td><td>&quot;0&quot;</td><td>&quot;0&quot;</td><td>5986.0</td><td>&quot;0&quot;</td><td>&quot;0&quot;</td><td>0.0</td><td>&quot;0&quot;</td><td>0.0</td><td>0.0</td><td>0.0</td><td>&quot;0&quot;</td><td>0.0</td><td>0.0</td><td>&quot;0&quot;</td><td>&quot;0&quot;</td><td>&quot;0&quot;</td><td>&quot;0&quot;</td><td>&quot;91&quot;</td><td>3906.0</td><td>&quot;10893&quot;</td><td>&quot;0&quot;</td><td>9803.0</td><td>&quot;0&quot;</td><td>&quot;0&quot;</td><td>&quot;0&quot;</td><td>&quot;0&quot;</td><td>6151.0</td><td>&quot;0&quot;</td><td>236.0</td><td>9630.0</td><td>&quot;115&quot;</td><td>&hellip;</td><td>236.0</td><td>&quot;0&quot;</td><td>&quot;0&quot;</td><td>&quot;11234&quot;</td><td>&quot;0&quot;</td><td>&quot;0&quot;</td><td>&quot;0&quot;</td><td>5986.0</td><td>&quot;9803&quot;</td><td>&quot;0&quot;</td><td>0.0</td><td>&quot;0&quot;</td><td>&quot;0&quot;</td><td>0.0</td><td>&quot;0&quot;</td><td>&quot;0&quot;</td><td>&quot;0&quot;</td><td>9803.0</td><td>10893.0</td><td>10893.0</td><td>11234.0</td><td>&quot;0&quot;</td><td>&quot;0&quot;</td><td>&quot;0&quot;</td><td>&quot;0&quot;</td><td>&quot;0&quot;</td><td>0.0</td><td>&quot;0&quot;</td><td>91.0</td><td>&quot;9630&quot;</td><td>0.0</td><td>&quot;0&quot;</td><td>0.0</td><td>6151.0</td><td>&quot;0&quot;</td><td>&quot;236&quot;</td><td>&quot;0&quot;</td></tr><tr><td>&quot;mean&quot;</td><td>null</td><td>null</td><td>null</td><td>17.320495</td><td>null</td><td>null</td><td>null</td><td>29.931684</td><td>null</td><td>&quot;2021-05-24 02:01:33.432064&quot;</td><td>1954.04534</td><td>null</td><td>50.346211</td><td>0.207214</td><td>18775.43305</td><td>null</td><td>2.091527</td><td>618.270602</td><td>null</td><td>null</td><td>null</td><td>null</td><td>null</td><td>51.498683</td><td>null</td><td>null</td><td>1.212041</td><td>null</td><td>null</td><td>null</td><td>null</td><td>2.966165</td><td>null</td><td>4.787418</td><td>1.271793</td><td>null</td><td>&hellip;</td><td>32.895143</td><td>&quot;2021-05-23 17:38:44.435893&quot;</td><td>null</td><td>null</td><td>null</td><td>null</td><td>null</td><td>2.948157</td><td>null</td><td>null</td><td>52.695241</td><td>null</td><td>null</td><td>1251.451583</td><td>null</td><td>null</td><td>null</td><td>57.427781</td><td>1.206159</td><td>47.343567</td><td>61.296615</td><td>null</td><td>null</td><td>null</td><td>null</td><td>null</td><td>52.441801</td><td>null</td><td>6.526773</td><td>null</td><td>0.0</td><td>null</td><td>0.0</td><td>25.518859</td><td>null</td><td>null</td><td>null</td></tr><tr><td>&quot;std&quot;</td><td>null</td><td>null</td><td>null</td><td>3.410703</td><td>null</td><td>null</td><td>null</td><td>27.654112</td><td>null</td><td>null</td><td>1075.608663</td><td>null</td><td>29.760986</td><td>0.037934</td><td>0.002264</td><td>null</td><td>1.420209</td><td>98.990058</td><td>null</td><td>null</td><td>null</td><td>null</td><td>null</td><td>36.013343</td><td>null</td><td>null</td><td>0.426862</td><td>null</td><td>null</td><td>null</td><td>null</td><td>1.73045</td><td>null</td><td>3.649131</td><td>0.59178</td><td>null</td><td>&hellip;</td><td>29.670535</td><td>null</td><td>null</td><td>null</td><td>null</td><td>null</td><td>null</td><td>1.976515</td><td>null</td><td>null</td><td>30.951928</td><td>null</td><td>null</td><td>451.723341</td><td>null</td><td>null</td><td>null</td><td>36.27133</td><td>0.549997</td><td>37.747789</td><td>35.247243</td><td>null</td><td>null</td><td>null</td><td>null</td><td>null</td><td>31.191932</td><td>null</td><td>4.816119</td><td>null</td><td>0.0</td><td>null</td><td>0.0</td><td>22.712564</td><td>null</td><td>null</td><td>null</td></tr><tr><td>&quot;min&quot;</td><td>&quot;1000&quot;</td><td>&quot;CAN&quot;</td><td>&quot;R1&quot;</td><td>1.905461</td><td>&quot;Customer-1253&quot;</td><td>&quot;Accepted&quot;</td><td>&quot;Aaronside&quot;</td><td>1.905491</td><td>&quot;AMEXPersonal&quot;</td><td>&quot;2021-05-21 11:53:38.138000&quot;</td><td>91.943732</td><td>&quot;Customer-1253&quot;</td><td>23.0</td><td>0.095743</td><td>18775.430493</td><td>&quot;matureSegmentPlus&quot;</td><td>0.0</td><td>450.0</td><td>&quot;4394977578094791970&quot;</td><td>&quot;&quot;</td><td>&quot;Account&quot;</td><td>&quot;&quot;</td><td>&quot;Account&quot;</td><td>1.905466</td><td>&quot;CreditCards&quot;</td><td>&quot;01-01-01&quot;</td><td>1.0</td><td>&quot;Sales&quot;</td><td>&quot;&quot;</td><td>&quot;50.0&quot;</td><td>&quot;Account&quot;</td><td>1.0</td><td>&quot;false&quot;</td><td>1.0</td><td>1.0</td><td>&quot;19.0&quot;</td><td>&hellip;</td><td>1.905461</td><td>&quot;2021-05-21 11:53:37.996000&quot;</td><td>&quot;false&quot;</td><td>&quot;CreditCards&quot;</td><td>&quot;false&quot;</td><td>&quot;&quot;</td><td>&quot;Account&quot;</td><td>1.0</td><td>&quot;CreditCards&quot;</td><td>&quot;AK&quot;</td><td>26.0</td><td>&quot;Inbound&quot;</td><td>&quot;&quot;</td><td>507.0</td><td>&quot;Married&quot;</td><td>&quot;10017.7283640206&quot;</td><td>&quot;&quot;</td><td>1.908269</td><td>1.0</td><td>1.905463</td><td>1.910302</td><td>&quot;&quot;</td><td>&quot;Email&quot;</td><td>&quot;00011fdb-8994-5386-9100-4f5a66…</td><td>&quot;&quot;</td><td>&quot;10.0&quot;</td><td>24.0</td><td>&quot;CDHSample-Artifacts&quot;</td><td>1.0</td><td>&quot;CreditCards&quot;</td><td>0.0</td><td>&quot;Abbott, Abbott and Abbott&quot;</td><td>0.0</td><td>1.905466</td><td>&quot;&quot;</td><td>&quot;Account&quot;</td><td>&quot;&quot;</td></tr><tr><td>&quot;25%&quot;</td><td>null</td><td>null</td><td>null</td><td>18.07174</td><td>null</td><td>null</td><td>null</td><td>18.076566</td><td>null</td><td>&quot;2021-05-23 05:14:34.137999&quot;</td><td>1041.466832</td><td>null</td><td>40.0</td><td>0.184626</td><td>18775.430712</td><td>null</td><td>1.0</td><td>531.0</td><td>null</td><td>null</td><td>null</td><td>null</td><td>null</td><td>18.076852</td><td>null</td><td>null</td><td>1.0</td><td>null</td><td>null</td><td>null</td><td>null</td><td>2.0</td><td>null</td><td>3.0</td><td>1.0</td><td>null</td><td>&hellip;</td><td>18.072437</td><td>&quot;2021-05-21 16:29:50.996000&quot;</td><td>null</td><td>null</td><td>null</td><td>null</td><td>null</td><td>2.0</td><td>null</td><td>null</td><td>42.0</td><td>null</td><td>null</td><td>837.0</td><td>null</td><td>null</td><td>null</td><td>18.077559</td><td>1.0</td><td>18.072013</td><td>18.077977</td><td>null</td><td>null</td><td>null</td><td>null</td><td>null</td><td>41.0</td><td>null</td><td>4.0</td><td>null</td><td>0.0</td><td>null</td><td>0.0</td><td>18.071891</td><td>null</td><td>null</td><td>null</td></tr><tr><td>&quot;50%&quot;</td><td>null</td><td>null</td><td>null</td><td>18.077119</td><td>null</td><td>null</td><td>null</td><td>18.078024</td><td>null</td><td>&quot;2021-05-24 02:35:09.137999&quot;</td><td>1957.490792</td><td>null</td><td>44.0</td><td>0.207049</td><td>18775.433905</td><td>null</td><td>2.0</td><td>611.0</td><td>null</td><td>null</td><td>null</td><td>null</td><td>null</td><td>18.079942</td><td>null</td><td>null</td><td>1.0</td><td>null</td><td>null</td><td>null</td><td>null</td><td>3.0</td><td>null</td><td>4.0</td><td>1.0</td><td>null</td><td>&hellip;</td><td>18.077977</td><td>&quot;2021-05-24 11:37:24.996000&quot;</td><td>null</td><td>null</td><td>null</td><td>null</td><td>null</td><td>3.0</td><td>null</td><td>null</td><td>46.0</td><td>null</td><td>null</td><td>1250.0</td><td>null</td><td>null</td><td>null</td><td>87.826581</td><td>1.0</td><td>18.079281</td><td>87.826688</td><td>null</td><td>null</td><td>null</td><td>null</td><td>null</td><td>46.0</td><td>null</td><td>6.0</td><td>null</td><td>0.0</td><td>null</td><td>0.0</td><td>18.077743</td><td>null</td><td>null</td><td>null</td></tr><tr><td>&quot;75%&quot;</td><td>null</td><td>null</td><td>null</td><td>18.078301</td><td>null</td><td>null</td><td>null</td><td>18.079068</td><td>null</td><td>&quot;2021-05-24 20:52:17.137999&quot;</td><td>2936.383635</td><td>null</td><td>49.0</td><td>0.224035</td><td>18775.43434</td><td>null</td><td>3.0</td><td>706.0</td><td>null</td><td>null</td><td>null</td><td>null</td><td>null</td><td>87.827585</td><td>null</td><td>null</td><td>1.0</td><td>null</td><td>null</td><td>null</td><td>null</td><td>3.0</td><td>null</td><td>6.0</td><td>1.0</td><td>null</td><td>&hellip;</td><td>18.079465</td><td>&quot;2021-05-24 20:46:31.996000&quot;</td><td>null</td><td>null</td><td>null</td><td>null</td><td>null</td><td>3.0</td><td>null</td><td>null</td><td>51.0</td><td>null</td><td>null</td><td>1657.0</td><td>null</td><td>null</td><td>null</td><td>87.841397</td><td>1.0</td><td>87.827813</td><td>87.840308</td><td>null</td><td>null</td><td>null</td><td>null</td><td>null</td><td>51.0</td><td>null</td><td>8.0</td><td>null</td><td>0.0</td><td>null</td><td>0.0</td><td>18.078603</td><td>null</td><td>null</td><td>null</td></tr><tr><td>&quot;max&quot;</td><td>&quot;998&quot;</td><td>&quot;USA&quot;</td><td>&quot;R4&quot;</td><td>18.082964</td><td>&quot;Customer-9979&quot;</td><td>&quot;Rejected&quot;</td><td>&quot;Zulaufbury&quot;</td><td>87.842578</td><td>&quot;WhenToRefinance&quot;</td><td>&quot;2021-05-31 11:53:38.138000&quot;</td><td>3737.027909</td><td>&quot;Customer-9979&quot;</td><td>209.0</td><td>0.409128</td><td>18775.441909</td><td>&quot;youngSegmentPlus&quot;</td><td>4.0</td><td>790.0</td><td>&quot;8067856128443701623&quot;</td><td>&quot;&quot;</td><td>&quot;WealthOffers&quot;</td><td>&quot;&quot;</td><td>&quot;WealthOffers&quot;</td><td>87.843381</td><td>&quot;CreditCards&quot;</td><td>&quot;01-01-01&quot;</td><td>3.0</td><td>&quot;Services&quot;</td><td>&quot;&quot;</td><td>&quot;90.0&quot;</td><td>&quot;WealthOffers&quot;</td><td>12.0</td><td>&quot;true&quot;</td><td>30.0</td><td>4.0</td><td>&quot;76.0&quot;</td><td>&hellip;</td><td>87.842911</td><td>&quot;2021-05-31 11:53:37.996000&quot;</td><td>&quot;true&quot;</td><td>&quot;CreditCards&quot;</td><td>&quot;true&quot;</td><td>&quot;&quot;</td><td>&quot;WealthOffers&quot;</td><td>13.0</td><td>&quot;CreditCards&quot;</td><td>&quot;WY&quot;</td><td>224.0</td><td>&quot;Outbound&quot;</td><td>&quot;&quot;</td><td>1999.0</td><td>&quot;Unknown&quot;</td><td>&quot;98352.7071131784&quot;</td><td>&quot;&quot;</td><td>87.84292</td><td>4.0</td><td>87.843035</td><td>87.843381</td><td>&quot;&quot;</td><td>&quot;Web&quot;</td><td>&quot;fffcc44c-0722-5046-b18f-3ad983…</td><td>&quot;&quot;</td><td>&quot;9.0&quot;</td><td>223.0</td><td>&quot;CDHSample-Artifacts&quot;</td><td>39.0</td><td>&quot;CreditCards&quot;</td><td>0.0</td><td>&quot;Zulauf-Zulauf&quot;</td><td>0.0</td><td>87.842373</td><td>&quot;&quot;</td><td>&quot;HomeLoans&quot;</td><td>&quot;&quot;</td></tr></tbody></table></div>"
      ],
      "text/plain": [
       "shape: (9, 92)\n",
       "┌───────────┬───────────┬───────────┬───────────┬───┬───────────┬───────────┬───────────┬──────────┐\n",
       "│ statistic ┆ Customer_ ┆ Customer_ ┆ Customer_ ┆ … ┆ IH_Web_In ┆ Customer_ ┆ IH_SMS_Ou ┆ Customer │\n",
       "│ ---       ┆ CLV       ┆ pyCountry ┆ RiskCode  ┆   ┆ bound_Chu ┆ pyRegion  ┆ tbound_Ac ┆ _Decease │\n",
       "│ str       ┆ ---       ┆ ---       ┆ ---       ┆   ┆ rned_pxLa ┆ ---       ┆ cepted_px ┆ d        │\n",
       "│           ┆ str       ┆ str       ┆ str       ┆   ┆ stO…      ┆ str       ┆ Las…      ┆ ---      │\n",
       "│           ┆           ┆           ┆           ┆   ┆ ---       ┆           ┆ ---       ┆ str      │\n",
       "│           ┆           ┆           ┆           ┆   ┆ f64       ┆           ┆ str       ┆          │\n",
       "╞═══════════╪═══════════╪═══════════╪═══════════╪═══╪═══════════╪═══════════╪═══════════╪══════════╡\n",
       "│ count     ┆ 12062     ┆ 12062     ┆ 12062     ┆ … ┆ 5911.0    ┆ 12062     ┆ 11826     ┆ 12062    │\n",
       "│ null_coun ┆ 0         ┆ 0         ┆ 0         ┆ … ┆ 6151.0    ┆ 0         ┆ 236       ┆ 0        │\n",
       "│ t         ┆           ┆           ┆           ┆   ┆           ┆           ┆           ┆          │\n",
       "│ mean      ┆ null      ┆ null      ┆ null      ┆ … ┆ 25.518859 ┆ null      ┆ null      ┆ null     │\n",
       "│ std       ┆ null      ┆ null      ┆ null      ┆ … ┆ 22.712564 ┆ null      ┆ null      ┆ null     │\n",
       "│ min       ┆ 1000      ┆ CAN       ┆ R1        ┆ … ┆ 1.905466  ┆           ┆ Account   ┆          │\n",
       "│ 25%       ┆ null      ┆ null      ┆ null      ┆ … ┆ 18.071891 ┆ null      ┆ null      ┆ null     │\n",
       "│ 50%       ┆ null      ┆ null      ┆ null      ┆ … ┆ 18.077743 ┆ null      ┆ null      ┆ null     │\n",
       "│ 75%       ┆ null      ┆ null      ┆ null      ┆ … ┆ 18.078603 ┆ null      ┆ null      ┆ null     │\n",
       "│ max       ┆ 998       ┆ USA       ┆ R4        ┆ … ┆ 87.842373 ┆           ┆ HomeLoans ┆          │\n",
       "└───────────┴───────────┴───────────┴───────────┴───┴───────────┴───────────┴───────────┴──────────┘"
      ]
     },
     "execution_count": 2,
     "metadata": {},
     "output_type": "execute_result"
    }
   ],
   "source": [
    "archive = zipfile.ZipFile(\"../../data/hds.zip\", \"r\")\n",
    "hds_data = (\n",
    "    pl.concat([pl.read_ndjson(archive.open(f)) for f in archive.namelist()])\n",
    "    .rename({\"Customer_C_CIFNBR\": \"Customer_ID\"})\n",
    "    .with_columns(\n",
    "        cdh_utils.parse_pega_date_time_formats(\"Decision_DecisionTime\"),\n",
    "        cdh_utils.parse_pega_date_time_formats(\"Decision_OutcomeTime\"),\n",
    "        cs.ends_with(\"_DaysSince\", \"_pyHistoricalOutcomeCount\").cast(pl.Float64),\n",
    "        pl.col(\n",
    "            [\n",
    "                \"Customer_NetWealth\",\n",
    "                \"Customer_CreditScore\",\n",
    "                \"Customer_CLV_VALUE\",\n",
    "                \"Customer_RelationshipStartDate\",\n",
    "                \"Customer_Date_of_Birth\",\n",
    "                \"Customer_NoOfDependents\"\n",
    "            ]\n",
    "        ).cast(pl.Float64),\n",
    "        cs.starts_with(\"Param_ExtGroup\").cast(pl.Float64),\n",
    "    )\n",
    "    .drop([\"Customer_Gender\", \"Customer_Prefix\"])\n",
    ")\n",
    "hds_data.describe()"
   ]
  },
  {
   "cell_type": "markdown",
   "metadata": {},
   "source": [
    "## Available Fields in the HDS dataset\n",
    "\n",
    "The HDS data contains all the payload sent to the ADM models (over a period of time) plus the outcomes (Accepted/Declined/Clicked etc). There are a few categories of fields, that can be identified by their prefix:\n",
    "\n",
    "* \"Customer\" fields, representing the fields/predictors configured in ADM\n",
    "* \"Context\" fields, these are Channel/Direction/Issue/Group/Name, the usual \"context identifiers\" of the ADM models\n",
    "* \"IH\" fields, these are Pega-generated fields derived from Interaction History\n",
    "* Optional \"Param\" fields, also user defined fields/predictors, but configured in the strategies, rather than defined in the ADM model configuration\n",
    "\n",
    "Meta information about the decisions is in Decision and internal fields, containing info about the time of decision, the sample size etc. These are not used in the models.\n",
    "\n"
   ]
  },
  {
   "cell_type": "code",
   "execution_count": 3,
   "metadata": {},
   "outputs": [
    {
     "data": {
      "text/html": [
       "<style type=\"text/css\">\n",
       "</style>\n",
       "<table id=\"T_0f931\">\n",
       "  <thead>\n",
       "    <tr>\n",
       "      <th id=\"T_0f931_level0_col0\" class=\"col_heading level0 col0\" >Field</th>\n",
       "      <th id=\"T_0f931_level0_col1\" class=\"col_heading level0 col1\" >Numeric</th>\n",
       "      <th id=\"T_0f931_level0_col2\" class=\"col_heading level0 col2\" >Category</th>\n",
       "    </tr>\n",
       "  </thead>\n",
       "  <tbody>\n",
       "    <tr>\n",
       "      <td id=\"T_0f931_row0_col0\" class=\"data row0 col0\" >Context_Name</td>\n",
       "      <td id=\"T_0f931_row0_col1\" class=\"data row0 col1\" >False</td>\n",
       "      <td id=\"T_0f931_row0_col2\" class=\"data row0 col2\" >Context</td>\n",
       "    </tr>\n",
       "    <tr>\n",
       "      <td id=\"T_0f931_row1_col0\" class=\"data row1 col0\" >Context_Issue</td>\n",
       "      <td id=\"T_0f931_row1_col1\" class=\"data row1 col1\" >False</td>\n",
       "      <td id=\"T_0f931_row1_col2\" class=\"data row1 col2\" >Context</td>\n",
       "    </tr>\n",
       "    <tr>\n",
       "      <td id=\"T_0f931_row2_col0\" class=\"data row2 col0\" >Context_Group</td>\n",
       "      <td id=\"T_0f931_row2_col1\" class=\"data row2 col1\" >False</td>\n",
       "      <td id=\"T_0f931_row2_col2\" class=\"data row2 col2\" >Context</td>\n",
       "    </tr>\n",
       "    <tr>\n",
       "      <td id=\"T_0f931_row3_col0\" class=\"data row3 col0\" >Context_Direction</td>\n",
       "      <td id=\"T_0f931_row3_col1\" class=\"data row3 col1\" >False</td>\n",
       "      <td id=\"T_0f931_row3_col2\" class=\"data row3 col2\" >Context</td>\n",
       "    </tr>\n",
       "    <tr>\n",
       "      <td id=\"T_0f931_row4_col0\" class=\"data row4 col0\" >Context_Channel</td>\n",
       "      <td id=\"T_0f931_row4_col1\" class=\"data row4 col1\" >False</td>\n",
       "      <td id=\"T_0f931_row4_col2\" class=\"data row4 col2\" >Context</td>\n",
       "    </tr>\n",
       "    <tr>\n",
       "      <td id=\"T_0f931_row5_col0\" class=\"data row5 col0\" >Customer_CLV</td>\n",
       "      <td id=\"T_0f931_row5_col1\" class=\"data row5 col1\" >False</td>\n",
       "      <td id=\"T_0f931_row5_col2\" class=\"data row5 col2\" >Customer</td>\n",
       "    </tr>\n",
       "    <tr>\n",
       "      <td id=\"T_0f931_row6_col0\" class=\"data row6 col0\" >Customer_pyCountry</td>\n",
       "      <td id=\"T_0f931_row6_col1\" class=\"data row6 col1\" >False</td>\n",
       "      <td id=\"T_0f931_row6_col2\" class=\"data row6 col2\" >Customer</td>\n",
       "    </tr>\n",
       "    <tr>\n",
       "      <td id=\"T_0f931_row7_col0\" class=\"data row7 col0\" >Customer_RiskCode</td>\n",
       "      <td id=\"T_0f931_row7_col1\" class=\"data row7 col1\" >False</td>\n",
       "      <td id=\"T_0f931_row7_col2\" class=\"data row7 col2\" >Customer</td>\n",
       "    </tr>\n",
       "    <tr>\n",
       "      <td id=\"T_0f931_row8_col0\" class=\"data row8 col0\" >Customer_City</td>\n",
       "      <td id=\"T_0f931_row8_col1\" class=\"data row8 col1\" >False</td>\n",
       "      <td id=\"T_0f931_row8_col2\" class=\"data row8 col2\" >Customer</td>\n",
       "    </tr>\n",
       "    <tr>\n",
       "      <td id=\"T_0f931_row9_col0\" class=\"data row9 col0\" >Customer_RelationshipStartDate</td>\n",
       "      <td id=\"T_0f931_row9_col1\" class=\"data row9 col1\" >True</td>\n",
       "      <td id=\"T_0f931_row9_col2\" class=\"data row9 col2\" >Customer</td>\n",
       "    </tr>\n",
       "    <tr>\n",
       "      <td id=\"T_0f931_row10_col0\" class=\"data row10 col0\" >Customer_ID</td>\n",
       "      <td id=\"T_0f931_row10_col1\" class=\"data row10 col1\" >False</td>\n",
       "      <td id=\"T_0f931_row10_col2\" class=\"data row10 col2\" >Customer</td>\n",
       "    </tr>\n",
       "    <tr>\n",
       "      <td id=\"T_0f931_row11_col0\" class=\"data row11 col0\" >Customer_Date_of_Birth</td>\n",
       "      <td id=\"T_0f931_row11_col1\" class=\"data row11 col1\" >True</td>\n",
       "      <td id=\"T_0f931_row11_col2\" class=\"data row11 col2\" >Customer</td>\n",
       "    </tr>\n",
       "    <tr>\n",
       "      <td id=\"T_0f931_row12_col0\" class=\"data row12 col0\" >Customer_BusinessSegment</td>\n",
       "      <td id=\"T_0f931_row12_col1\" class=\"data row12 col1\" >False</td>\n",
       "      <td id=\"T_0f931_row12_col2\" class=\"data row12 col2\" >Customer</td>\n",
       "    </tr>\n",
       "    <tr>\n",
       "      <td id=\"T_0f931_row13_col0\" class=\"data row13 col0\" >Customer_NoOfDependents</td>\n",
       "      <td id=\"T_0f931_row13_col1\" class=\"data row13 col1\" >True</td>\n",
       "      <td id=\"T_0f931_row13_col2\" class=\"data row13 col2\" >Customer</td>\n",
       "    </tr>\n",
       "    <tr>\n",
       "      <td id=\"T_0f931_row14_col0\" class=\"data row14 col0\" >Customer_CreditScore</td>\n",
       "      <td id=\"T_0f931_row14_col1\" class=\"data row14 col1\" >True</td>\n",
       "      <td id=\"T_0f931_row14_col2\" class=\"data row14 col2\" >Customer</td>\n",
       "    </tr>\n",
       "    <tr>\n",
       "      <td id=\"T_0f931_row15_col0\" class=\"data row15 col0\" >Customer_Incarceration</td>\n",
       "      <td id=\"T_0f931_row15_col1\" class=\"data row15 col1\" >False</td>\n",
       "      <td id=\"T_0f931_row15_col2\" class=\"data row15 col2\" >Customer</td>\n",
       "    </tr>\n",
       "    <tr>\n",
       "      <td id=\"T_0f931_row16_col0\" class=\"data row16 col0\" >Customer_LastReviewedDate</td>\n",
       "      <td id=\"T_0f931_row16_col1\" class=\"data row16 col1\" >False</td>\n",
       "      <td id=\"T_0f931_row16_col2\" class=\"data row16 col2\" >Customer</td>\n",
       "    </tr>\n",
       "    <tr>\n",
       "      <td id=\"T_0f931_row17_col0\" class=\"data row17 col0\" >Customer_ReviewDate</td>\n",
       "      <td id=\"T_0f931_row17_col1\" class=\"data row17 col1\" >False</td>\n",
       "      <td id=\"T_0f931_row17_col2\" class=\"data row17 col2\" >Customer</td>\n",
       "    </tr>\n",
       "    <tr>\n",
       "      <td id=\"T_0f931_row18_col0\" class=\"data row18 col0\" >Customer_WinScore</td>\n",
       "      <td id=\"T_0f931_row18_col1\" class=\"data row18 col1\" >False</td>\n",
       "      <td id=\"T_0f931_row18_col2\" class=\"data row18 col2\" >Customer</td>\n",
       "    </tr>\n",
       "    <tr>\n",
       "      <td id=\"T_0f931_row19_col0\" class=\"data row19 col0\" >Customer_InCollections</td>\n",
       "      <td id=\"T_0f931_row19_col1\" class=\"data row19 col1\" >False</td>\n",
       "      <td id=\"T_0f931_row19_col2\" class=\"data row19 col2\" >Customer</td>\n",
       "    </tr>\n",
       "    <tr>\n",
       "      <td id=\"T_0f931_row20_col0\" class=\"data row20 col0\" >Customer_Age</td>\n",
       "      <td id=\"T_0f931_row20_col1\" class=\"data row20 col1\" >False</td>\n",
       "      <td id=\"T_0f931_row20_col2\" class=\"data row20 col2\" >Customer</td>\n",
       "    </tr>\n",
       "    <tr>\n",
       "      <td id=\"T_0f931_row21_col0\" class=\"data row21 col0\" >Customer_BalanceTransaction</td>\n",
       "      <td id=\"T_0f931_row21_col1\" class=\"data row21 col1\" >False</td>\n",
       "      <td id=\"T_0f931_row21_col2\" class=\"data row21 col2\" >Customer</td>\n",
       "    </tr>\n",
       "    <tr>\n",
       "      <td id=\"T_0f931_row22_col0\" class=\"data row22 col0\" >Customer_TotalAssets</td>\n",
       "      <td id=\"T_0f931_row22_col1\" class=\"data row22 col1\" >False</td>\n",
       "      <td id=\"T_0f931_row22_col2\" class=\"data row22 col2\" >Customer</td>\n",
       "    </tr>\n",
       "    <tr>\n",
       "      <td id=\"T_0f931_row23_col0\" class=\"data row23 col0\" >Customer_NetWealth</td>\n",
       "      <td id=\"T_0f931_row23_col1\" class=\"data row23 col1\" >True</td>\n",
       "      <td id=\"T_0f931_row23_col2\" class=\"data row23 col2\" >Customer</td>\n",
       "    </tr>\n",
       "    <tr>\n",
       "      <td id=\"T_0f931_row24_col0\" class=\"data row24 col0\" >Customer_IsCustomerActive</td>\n",
       "      <td id=\"T_0f931_row24_col1\" class=\"data row24 col1\" >False</td>\n",
       "      <td id=\"T_0f931_row24_col2\" class=\"data row24 col2\" >Customer</td>\n",
       "    </tr>\n",
       "    <tr>\n",
       "      <td id=\"T_0f931_row25_col0\" class=\"data row25 col0\" >Customer_HealthMatter</td>\n",
       "      <td id=\"T_0f931_row25_col1\" class=\"data row25 col1\" >False</td>\n",
       "      <td id=\"T_0f931_row25_col2\" class=\"data row25 col2\" >Customer</td>\n",
       "    </tr>\n",
       "    <tr>\n",
       "      <td id=\"T_0f931_row26_col0\" class=\"data row26 col0\" >Customer_MilitaryService</td>\n",
       "      <td id=\"T_0f931_row26_col1\" class=\"data row26 col1\" >False</td>\n",
       "      <td id=\"T_0f931_row26_col2\" class=\"data row26 col2\" >Customer</td>\n",
       "    </tr>\n",
       "    <tr>\n",
       "      <td id=\"T_0f931_row27_col0\" class=\"data row27 col0\" >Customer_Bankruptcy</td>\n",
       "      <td id=\"T_0f931_row27_col1\" class=\"data row27 col1\" >False</td>\n",
       "      <td id=\"T_0f931_row27_col2\" class=\"data row27 col2\" >Customer</td>\n",
       "    </tr>\n",
       "    <tr>\n",
       "      <td id=\"T_0f931_row28_col0\" class=\"data row28 col0\" >Customer_RiskScore</td>\n",
       "      <td id=\"T_0f931_row28_col1\" class=\"data row28 col1\" >False</td>\n",
       "      <td id=\"T_0f931_row28_col2\" class=\"data row28 col2\" >Customer</td>\n",
       "    </tr>\n",
       "    <tr>\n",
       "      <td id=\"T_0f931_row29_col0\" class=\"data row29 col0\" >Customer_State</td>\n",
       "      <td id=\"T_0f931_row29_col1\" class=\"data row29 col1\" >False</td>\n",
       "      <td id=\"T_0f931_row29_col2\" class=\"data row29 col2\" >Customer</td>\n",
       "    </tr>\n",
       "    <tr>\n",
       "      <td id=\"T_0f931_row30_col0\" class=\"data row30 col0\" >Customer_NaturalDisaster</td>\n",
       "      <td id=\"T_0f931_row30_col1\" class=\"data row30 col1\" >False</td>\n",
       "      <td id=\"T_0f931_row30_col2\" class=\"data row30 col2\" >Customer</td>\n",
       "    </tr>\n",
       "    <tr>\n",
       "      <td id=\"T_0f931_row31_col0\" class=\"data row31 col0\" >Customer_CLV_VALUE</td>\n",
       "      <td id=\"T_0f931_row31_col1\" class=\"data row31 col1\" >True</td>\n",
       "      <td id=\"T_0f931_row31_col2\" class=\"data row31 col2\" >Customer</td>\n",
       "    </tr>\n",
       "    <tr>\n",
       "      <td id=\"T_0f931_row32_col0\" class=\"data row32 col0\" >Customer_MaritalStatus</td>\n",
       "      <td id=\"T_0f931_row32_col1\" class=\"data row32 col1\" >False</td>\n",
       "      <td id=\"T_0f931_row32_col2\" class=\"data row32 col2\" >Customer</td>\n",
       "    </tr>\n",
       "    <tr>\n",
       "      <td id=\"T_0f931_row33_col0\" class=\"data row33 col0\" >Customer_AnnualIncome</td>\n",
       "      <td id=\"T_0f931_row33_col1\" class=\"data row33 col1\" >False</td>\n",
       "      <td id=\"T_0f931_row33_col2\" class=\"data row33 col2\" >Customer</td>\n",
       "    </tr>\n",
       "    <tr>\n",
       "      <td id=\"T_0f931_row34_col0\" class=\"data row34 col0\" >Customer_NextReviewDate</td>\n",
       "      <td id=\"T_0f931_row34_col1\" class=\"data row34 col1\" >False</td>\n",
       "      <td id=\"T_0f931_row34_col2\" class=\"data row34 col2\" >Customer</td>\n",
       "    </tr>\n",
       "    <tr>\n",
       "      <td id=\"T_0f931_row35_col0\" class=\"data row35 col0\" >Customer_TotalLiabilities</td>\n",
       "      <td id=\"T_0f931_row35_col1\" class=\"data row35 col1\" >False</td>\n",
       "      <td id=\"T_0f931_row35_col2\" class=\"data row35 col2\" >Customer</td>\n",
       "    </tr>\n",
       "    <tr>\n",
       "      <td id=\"T_0f931_row36_col0\" class=\"data row36 col0\" >Customer_ResidentialStatus</td>\n",
       "      <td id=\"T_0f931_row36_col1\" class=\"data row36 col1\" >False</td>\n",
       "      <td id=\"T_0f931_row36_col2\" class=\"data row36 col2\" >Customer</td>\n",
       "    </tr>\n",
       "    <tr>\n",
       "      <td id=\"T_0f931_row37_col0\" class=\"data row37 col0\" >Customer_OrganizationLabel</td>\n",
       "      <td id=\"T_0f931_row37_col1\" class=\"data row37 col1\" >False</td>\n",
       "      <td id=\"T_0f931_row37_col2\" class=\"data row37 col2\" >Customer</td>\n",
       "    </tr>\n",
       "    <tr>\n",
       "      <td id=\"T_0f931_row38_col0\" class=\"data row38 col0\" >Customer_pyRegion</td>\n",
       "      <td id=\"T_0f931_row38_col1\" class=\"data row38 col1\" >False</td>\n",
       "      <td id=\"T_0f931_row38_col2\" class=\"data row38 col2\" >Customer</td>\n",
       "    </tr>\n",
       "    <tr>\n",
       "      <td id=\"T_0f931_row39_col0\" class=\"data row39 col0\" >Customer_Deceased</td>\n",
       "      <td id=\"T_0f931_row39_col1\" class=\"data row39 col1\" >False</td>\n",
       "      <td id=\"T_0f931_row39_col2\" class=\"data row39 col2\" >Customer</td>\n",
       "    </tr>\n",
       "    <tr>\n",
       "      <td id=\"T_0f931_row40_col0\" class=\"data row40 col0\" >Decision_SubjectID</td>\n",
       "      <td id=\"T_0f931_row40_col1\" class=\"data row40 col1\" >False</td>\n",
       "      <td id=\"T_0f931_row40_col2\" class=\"data row40 col2\" >Decision</td>\n",
       "    </tr>\n",
       "    <tr>\n",
       "      <td id=\"T_0f931_row41_col0\" class=\"data row41 col0\" >Decision_Outcome</td>\n",
       "      <td id=\"T_0f931_row41_col1\" class=\"data row41 col1\" >False</td>\n",
       "      <td id=\"T_0f931_row41_col2\" class=\"data row41 col2\" >Decision</td>\n",
       "    </tr>\n",
       "    <tr>\n",
       "      <td id=\"T_0f931_row42_col0\" class=\"data row42 col0\" >Decision_OutcomeTime</td>\n",
       "      <td id=\"T_0f931_row42_col1\" class=\"data row42 col1\" >False</td>\n",
       "      <td id=\"T_0f931_row42_col2\" class=\"data row42 col2\" >Decision</td>\n",
       "    </tr>\n",
       "    <tr>\n",
       "      <td id=\"T_0f931_row43_col0\" class=\"data row43 col0\" >Decision_InteractionID</td>\n",
       "      <td id=\"T_0f931_row43_col1\" class=\"data row43 col1\" >False</td>\n",
       "      <td id=\"T_0f931_row43_col2\" class=\"data row43 col2\" >Decision</td>\n",
       "    </tr>\n",
       "    <tr>\n",
       "      <td id=\"T_0f931_row44_col0\" class=\"data row44 col0\" >Decision_DecisionTime</td>\n",
       "      <td id=\"T_0f931_row44_col1\" class=\"data row44 col1\" >False</td>\n",
       "      <td id=\"T_0f931_row44_col2\" class=\"data row44 col2\" >Decision</td>\n",
       "    </tr>\n",
       "    <tr>\n",
       "      <td id=\"T_0f931_row45_col0\" class=\"data row45 col0\" >Decision_Rank</td>\n",
       "      <td id=\"T_0f931_row45_col1\" class=\"data row45 col1\" >False</td>\n",
       "      <td id=\"T_0f931_row45_col2\" class=\"data row45 col2\" >Decision</td>\n",
       "    </tr>\n",
       "    <tr>\n",
       "      <td id=\"T_0f931_row46_col0\" class=\"data row46 col0\" >IH_Web_Inbound_Rejected_pxLastOutcomeTime_DaysSince</td>\n",
       "      <td id=\"T_0f931_row46_col1\" class=\"data row46 col1\" >True</td>\n",
       "      <td id=\"T_0f931_row46_col2\" class=\"data row46 col2\" >IH</td>\n",
       "    </tr>\n",
       "    <tr>\n",
       "      <td id=\"T_0f931_row47_col0\" class=\"data row47 col0\" >IH_Web_Inbound_Loyal_pxLastOutcomeTime_DaysSince</td>\n",
       "      <td id=\"T_0f931_row47_col1\" class=\"data row47 col1\" >True</td>\n",
       "      <td id=\"T_0f931_row47_col2\" class=\"data row47 col2\" >IH</td>\n",
       "    </tr>\n",
       "    <tr>\n",
       "      <td id=\"T_0f931_row48_col0\" class=\"data row48 col0\" >IH_Web_Inbound_Rejected_pyHistoricalOutcomeCount</td>\n",
       "      <td id=\"T_0f931_row48_col1\" class=\"data row48 col1\" >True</td>\n",
       "      <td id=\"T_0f931_row48_col2\" class=\"data row48 col2\" >IH</td>\n",
       "    </tr>\n",
       "    <tr>\n",
       "      <td id=\"T_0f931_row49_col0\" class=\"data row49 col0\" >IH_Email_Outbound_Rejected_pxLastGroupID</td>\n",
       "      <td id=\"T_0f931_row49_col1\" class=\"data row49 col1\" >False</td>\n",
       "      <td id=\"T_0f931_row49_col2\" class=\"data row49 col2\" >IH</td>\n",
       "    </tr>\n",
       "    <tr>\n",
       "      <td id=\"T_0f931_row50_col0\" class=\"data row50 col0\" >IH_Web_Inbound_Accepted_pxLastGroupID</td>\n",
       "      <td id=\"T_0f931_row50_col1\" class=\"data row50 col1\" >False</td>\n",
       "      <td id=\"T_0f931_row50_col2\" class=\"data row50 col2\" >IH</td>\n",
       "    </tr>\n",
       "    <tr>\n",
       "      <td id=\"T_0f931_row51_col0\" class=\"data row51 col0\" >IH_Email_Outbound_Accepted_pxLastOutcomeTime_DaysSince</td>\n",
       "      <td id=\"T_0f931_row51_col1\" class=\"data row51 col1\" >True</td>\n",
       "      <td id=\"T_0f931_row51_col2\" class=\"data row51 col2\" >IH</td>\n",
       "    </tr>\n",
       "    <tr>\n",
       "      <td id=\"T_0f931_row52_col0\" class=\"data row52 col0\" >IH_SMS_Outbound_Loyal_pxLastGroupID</td>\n",
       "      <td id=\"T_0f931_row52_col1\" class=\"data row52 col1\" >False</td>\n",
       "      <td id=\"T_0f931_row52_col2\" class=\"data row52 col2\" >IH</td>\n",
       "    </tr>\n",
       "    <tr>\n",
       "      <td id=\"T_0f931_row53_col0\" class=\"data row53 col0\" >IH_Email_Outbound_Churned_pyHistoricalOutcomeCount</td>\n",
       "      <td id=\"T_0f931_row53_col1\" class=\"data row53 col1\" >True</td>\n",
       "      <td id=\"T_0f931_row53_col2\" class=\"data row53 col2\" >IH</td>\n",
       "    </tr>\n",
       "    <tr>\n",
       "      <td id=\"T_0f931_row54_col0\" class=\"data row54 col0\" >IH_Web_Inbound_Churned_pyHistoricalOutcomeCount</td>\n",
       "      <td id=\"T_0f931_row54_col1\" class=\"data row54 col1\" >True</td>\n",
       "      <td id=\"T_0f931_row54_col2\" class=\"data row54 col2\" >IH</td>\n",
       "    </tr>\n",
       "    <tr>\n",
       "      <td id=\"T_0f931_row55_col0\" class=\"data row55 col0\" >IH_SMS_Outbound_Accepted_pyHistoricalOutcomeCount</td>\n",
       "      <td id=\"T_0f931_row55_col1\" class=\"data row55 col1\" >True</td>\n",
       "      <td id=\"T_0f931_row55_col2\" class=\"data row55 col2\" >IH</td>\n",
       "    </tr>\n",
       "    <tr>\n",
       "      <td id=\"T_0f931_row56_col0\" class=\"data row56 col0\" >IH_Email_Outbound_Loyal_pyHistoricalOutcomeCount</td>\n",
       "      <td id=\"T_0f931_row56_col1\" class=\"data row56 col1\" >True</td>\n",
       "      <td id=\"T_0f931_row56_col2\" class=\"data row56 col2\" >IH</td>\n",
       "    </tr>\n",
       "    <tr>\n",
       "      <td id=\"T_0f931_row57_col0\" class=\"data row57 col0\" >IH_Email_Outbound_Accepted_pxLastGroupID</td>\n",
       "      <td id=\"T_0f931_row57_col1\" class=\"data row57 col1\" >False</td>\n",
       "      <td id=\"T_0f931_row57_col2\" class=\"data row57 col2\" >IH</td>\n",
       "    </tr>\n",
       "    <tr>\n",
       "      <td id=\"T_0f931_row58_col0\" class=\"data row58 col0\" >IH_SMS_Outbound_Churned_pyHistoricalOutcomeCount</td>\n",
       "      <td id=\"T_0f931_row58_col1\" class=\"data row58 col1\" >True</td>\n",
       "      <td id=\"T_0f931_row58_col2\" class=\"data row58 col2\" >IH</td>\n",
       "    </tr>\n",
       "    <tr>\n",
       "      <td id=\"T_0f931_row59_col0\" class=\"data row59 col0\" >IH_SMS_Outbound_Rejected_pxLastOutcomeTime_DaysSince</td>\n",
       "      <td id=\"T_0f931_row59_col1\" class=\"data row59 col1\" >True</td>\n",
       "      <td id=\"T_0f931_row59_col2\" class=\"data row59 col2\" >IH</td>\n",
       "    </tr>\n",
       "    <tr>\n",
       "      <td id=\"T_0f931_row60_col0\" class=\"data row60 col0\" >IH_Web_Inbound_Accepted_pxLastOutcomeTime_DaysSince</td>\n",
       "      <td id=\"T_0f931_row60_col1\" class=\"data row60 col1\" >True</td>\n",
       "      <td id=\"T_0f931_row60_col2\" class=\"data row60 col2\" >IH</td>\n",
       "    </tr>\n",
       "    <tr>\n",
       "      <td id=\"T_0f931_row61_col0\" class=\"data row61 col0\" >IH_Email_Outbound_Loyal_pxLastOutcomeTime_DaysSince</td>\n",
       "      <td id=\"T_0f931_row61_col1\" class=\"data row61 col1\" >True</td>\n",
       "      <td id=\"T_0f931_row61_col2\" class=\"data row61 col2\" >IH</td>\n",
       "    </tr>\n",
       "    <tr>\n",
       "      <td id=\"T_0f931_row62_col0\" class=\"data row62 col0\" >IH_Email_Outbound_Rejected_pxLastOutcomeTime_DaysSince</td>\n",
       "      <td id=\"T_0f931_row62_col1\" class=\"data row62 col1\" >True</td>\n",
       "      <td id=\"T_0f931_row62_col2\" class=\"data row62 col2\" >IH</td>\n",
       "    </tr>\n",
       "    <tr>\n",
       "      <td id=\"T_0f931_row63_col0\" class=\"data row63 col0\" >IH_Web_Inbound_Churned_pxLastGroupID</td>\n",
       "      <td id=\"T_0f931_row63_col1\" class=\"data row63 col1\" >False</td>\n",
       "      <td id=\"T_0f931_row63_col2\" class=\"data row63 col2\" >IH</td>\n",
       "    </tr>\n",
       "    <tr>\n",
       "      <td id=\"T_0f931_row64_col0\" class=\"data row64 col0\" >IH_Email_Outbound_Accepted_pyHistoricalOutcomeCount</td>\n",
       "      <td id=\"T_0f931_row64_col1\" class=\"data row64 col1\" >True</td>\n",
       "      <td id=\"T_0f931_row64_col2\" class=\"data row64 col2\" >IH</td>\n",
       "    </tr>\n",
       "    <tr>\n",
       "      <td id=\"T_0f931_row65_col0\" class=\"data row65 col0\" >IH_SMS_Outbound_Rejected_pxLastGroupID</td>\n",
       "      <td id=\"T_0f931_row65_col1\" class=\"data row65 col1\" >False</td>\n",
       "      <td id=\"T_0f931_row65_col2\" class=\"data row65 col2\" >IH</td>\n",
       "    </tr>\n",
       "    <tr>\n",
       "      <td id=\"T_0f931_row66_col0\" class=\"data row66 col0\" >IH_Web_Inbound_Loyal_pxLastGroupID</td>\n",
       "      <td id=\"T_0f931_row66_col1\" class=\"data row66 col1\" >False</td>\n",
       "      <td id=\"T_0f931_row66_col2\" class=\"data row66 col2\" >IH</td>\n",
       "    </tr>\n",
       "    <tr>\n",
       "      <td id=\"T_0f931_row67_col0\" class=\"data row67 col0\" >IH_SMS_Outbound_Accepted_pxLastOutcomeTime_DaysSince</td>\n",
       "      <td id=\"T_0f931_row67_col1\" class=\"data row67 col1\" >True</td>\n",
       "      <td id=\"T_0f931_row67_col2\" class=\"data row67 col2\" >IH</td>\n",
       "    </tr>\n",
       "    <tr>\n",
       "      <td id=\"T_0f931_row68_col0\" class=\"data row68 col0\" >IH_SMS_Outbound_Churned_pxLastGroupID</td>\n",
       "      <td id=\"T_0f931_row68_col1\" class=\"data row68 col1\" >False</td>\n",
       "      <td id=\"T_0f931_row68_col2\" class=\"data row68 col2\" >IH</td>\n",
       "    </tr>\n",
       "    <tr>\n",
       "      <td id=\"T_0f931_row69_col0\" class=\"data row69 col0\" >IH_Web_Inbound_Rejected_pxLastGroupID</td>\n",
       "      <td id=\"T_0f931_row69_col1\" class=\"data row69 col1\" >False</td>\n",
       "      <td id=\"T_0f931_row69_col2\" class=\"data row69 col2\" >IH</td>\n",
       "    </tr>\n",
       "    <tr>\n",
       "      <td id=\"T_0f931_row70_col0\" class=\"data row70 col0\" >IH_Web_Inbound_Loyal_pyHistoricalOutcomeCount</td>\n",
       "      <td id=\"T_0f931_row70_col1\" class=\"data row70 col1\" >True</td>\n",
       "      <td id=\"T_0f931_row70_col2\" class=\"data row70 col2\" >IH</td>\n",
       "    </tr>\n",
       "    <tr>\n",
       "      <td id=\"T_0f931_row71_col0\" class=\"data row71 col0\" >IH_Email_Outbound_Churned_pxLastGroupID</td>\n",
       "      <td id=\"T_0f931_row71_col1\" class=\"data row71 col1\" >False</td>\n",
       "      <td id=\"T_0f931_row71_col2\" class=\"data row71 col2\" >IH</td>\n",
       "    </tr>\n",
       "    <tr>\n",
       "      <td id=\"T_0f931_row72_col0\" class=\"data row72 col0\" >IH_Email_Outbound_Rejected_pyHistoricalOutcomeCount</td>\n",
       "      <td id=\"T_0f931_row72_col1\" class=\"data row72 col1\" >True</td>\n",
       "      <td id=\"T_0f931_row72_col2\" class=\"data row72 col2\" >IH</td>\n",
       "    </tr>\n",
       "    <tr>\n",
       "      <td id=\"T_0f931_row73_col0\" class=\"data row73 col0\" >IH_Email_Outbound_Churned_pxLastOutcomeTime_DaysSince</td>\n",
       "      <td id=\"T_0f931_row73_col1\" class=\"data row73 col1\" >True</td>\n",
       "      <td id=\"T_0f931_row73_col2\" class=\"data row73 col2\" >IH</td>\n",
       "    </tr>\n",
       "    <tr>\n",
       "      <td id=\"T_0f931_row74_col0\" class=\"data row74 col0\" >IH_SMS_Outbound_Loyal_pyHistoricalOutcomeCount</td>\n",
       "      <td id=\"T_0f931_row74_col1\" class=\"data row74 col1\" >True</td>\n",
       "      <td id=\"T_0f931_row74_col2\" class=\"data row74 col2\" >IH</td>\n",
       "    </tr>\n",
       "    <tr>\n",
       "      <td id=\"T_0f931_row75_col0\" class=\"data row75 col0\" >IH_SMS_Outbound_Loyal_pxLastOutcomeTime_DaysSince</td>\n",
       "      <td id=\"T_0f931_row75_col1\" class=\"data row75 col1\" >True</td>\n",
       "      <td id=\"T_0f931_row75_col2\" class=\"data row75 col2\" >IH</td>\n",
       "    </tr>\n",
       "    <tr>\n",
       "      <td id=\"T_0f931_row76_col0\" class=\"data row76 col0\" >IH_SMS_Outbound_Churned_pxLastOutcomeTime_DaysSince</td>\n",
       "      <td id=\"T_0f931_row76_col1\" class=\"data row76 col1\" >True</td>\n",
       "      <td id=\"T_0f931_row76_col2\" class=\"data row76 col2\" >IH</td>\n",
       "    </tr>\n",
       "    <tr>\n",
       "      <td id=\"T_0f931_row77_col0\" class=\"data row77 col0\" >IH_SMS_Outbound_Rejected_pyHistoricalOutcomeCount</td>\n",
       "      <td id=\"T_0f931_row77_col1\" class=\"data row77 col1\" >True</td>\n",
       "      <td id=\"T_0f931_row77_col2\" class=\"data row77 col2\" >IH</td>\n",
       "    </tr>\n",
       "    <tr>\n",
       "      <td id=\"T_0f931_row78_col0\" class=\"data row78 col0\" >IH_Web_Inbound_Accepted_pyHistoricalOutcomeCount</td>\n",
       "      <td id=\"T_0f931_row78_col1\" class=\"data row78 col1\" >True</td>\n",
       "      <td id=\"T_0f931_row78_col2\" class=\"data row78 col2\" >IH</td>\n",
       "    </tr>\n",
       "    <tr>\n",
       "      <td id=\"T_0f931_row79_col0\" class=\"data row79 col0\" >IH_Email_Outbound_Loyal_pxLastGroupID</td>\n",
       "      <td id=\"T_0f931_row79_col1\" class=\"data row79 col1\" >False</td>\n",
       "      <td id=\"T_0f931_row79_col2\" class=\"data row79 col2\" >IH</td>\n",
       "    </tr>\n",
       "    <tr>\n",
       "      <td id=\"T_0f931_row80_col0\" class=\"data row80 col0\" >IH_Web_Inbound_Churned_pxLastOutcomeTime_DaysSince</td>\n",
       "      <td id=\"T_0f931_row80_col1\" class=\"data row80 col1\" >True</td>\n",
       "      <td id=\"T_0f931_row80_col2\" class=\"data row80 col2\" >IH</td>\n",
       "    </tr>\n",
       "    <tr>\n",
       "      <td id=\"T_0f931_row81_col0\" class=\"data row81 col0\" >IH_SMS_Outbound_Accepted_pxLastGroupID</td>\n",
       "      <td id=\"T_0f931_row81_col1\" class=\"data row81 col1\" >False</td>\n",
       "      <td id=\"T_0f931_row81_col2\" class=\"data row81 col2\" >IH</td>\n",
       "    </tr>\n",
       "    <tr>\n",
       "      <td id=\"T_0f931_row82_col0\" class=\"data row82 col0\" >rulesetVersion</td>\n",
       "      <td id=\"T_0f931_row82_col1\" class=\"data row82 col1\" >False</td>\n",
       "      <td id=\"T_0f931_row82_col2\" class=\"data row82 col2\" >Internal</td>\n",
       "    </tr>\n",
       "    <tr>\n",
       "      <td id=\"T_0f931_row83_col0\" class=\"data row83 col0\" >dataCenter</td>\n",
       "      <td id=\"T_0f931_row83_col1\" class=\"data row83 col1\" >False</td>\n",
       "      <td id=\"T_0f931_row83_col2\" class=\"data row83 col2\" >Internal</td>\n",
       "    </tr>\n",
       "    <tr>\n",
       "      <td id=\"T_0f931_row84_col0\" class=\"data row84 col0\" >positiveSampling</td>\n",
       "      <td id=\"T_0f931_row84_col1\" class=\"data row84 col1\" >False</td>\n",
       "      <td id=\"T_0f931_row84_col2\" class=\"data row84 col2\" >Internal</td>\n",
       "    </tr>\n",
       "    <tr>\n",
       "      <td id=\"T_0f931_row85_col0\" class=\"data row85 col0\" >negativeSampling</td>\n",
       "      <td id=\"T_0f931_row85_col1\" class=\"data row85 col1\" >False</td>\n",
       "      <td id=\"T_0f931_row85_col2\" class=\"data row85 col2\" >Internal</td>\n",
       "    </tr>\n",
       "    <tr>\n",
       "      <td id=\"T_0f931_row86_col0\" class=\"data row86 col0\" >id</td>\n",
       "      <td id=\"T_0f931_row86_col1\" class=\"data row86 col1\" >False</td>\n",
       "      <td id=\"T_0f931_row86_col2\" class=\"data row86 col2\" >Internal</td>\n",
       "    </tr>\n",
       "    <tr>\n",
       "      <td id=\"T_0f931_row87_col0\" class=\"data row87 col0\" >rulesetName</td>\n",
       "      <td id=\"T_0f931_row87_col1\" class=\"data row87 col1\" >False</td>\n",
       "      <td id=\"T_0f931_row87_col2\" class=\"data row87 col2\" >Internal</td>\n",
       "    </tr>\n",
       "    <tr>\n",
       "      <td id=\"T_0f931_row88_col0\" class=\"data row88 col0\" >Param_ExtGroupCreditcards</td>\n",
       "      <td id=\"T_0f931_row88_col1\" class=\"data row88 col1\" >True</td>\n",
       "      <td id=\"T_0f931_row88_col2\" class=\"data row88 col2\" >Param</td>\n",
       "    </tr>\n",
       "    <tr>\n",
       "      <td id=\"T_0f931_row89_col0\" class=\"data row89 col0\" >Param_ExtGroupWealthoffers</td>\n",
       "      <td id=\"T_0f931_row89_col1\" class=\"data row89 col1\" >True</td>\n",
       "      <td id=\"T_0f931_row89_col2\" class=\"data row89 col2\" >Param</td>\n",
       "    </tr>\n",
       "    <tr>\n",
       "      <td id=\"T_0f931_row90_col0\" class=\"data row90 col0\" >Param_ExtGroupAutoloans</td>\n",
       "      <td id=\"T_0f931_row90_col1\" class=\"data row90 col1\" >True</td>\n",
       "      <td id=\"T_0f931_row90_col2\" class=\"data row90 col2\" >Param</td>\n",
       "    </tr>\n",
       "  </tbody>\n",
       "</table>\n"
      ],
      "text/plain": [
       "<pandas.io.formats.style.Styler at 0x112041370>"
      ]
     },
     "execution_count": 3,
     "metadata": {},
     "output_type": "execute_result"
    }
   ],
   "source": [
    "hds_data_dictionary = (\n",
    "    pl.DataFrame(\n",
    "           {\"Field\" : hds_data.schema.names(),\n",
    "           \"Numeric\" : [x.is_numeric() for x in hds_data.schema.dtypes()],}\n",
    "    )\n",
    "    .with_columns(\n",
    "        Category=pl.when(pl.col(\"Field\").str.contains(\"_\", literal=True))\n",
    "        .then(pl.col(\"Field\").str.replace(r\"([^_]+)_.*\", \"${1}\"))\n",
    "        .otherwise(pl.lit(\"Internal\"))\n",
    "    )\n",
    "    .sort(\"Category\")\n",
    ")\n",
    "hds_data_dictionary.to_pandas().style.hide()\n"
   ]
  },
  {
   "cell_type": "code",
   "execution_count": 4,
   "metadata": {},
   "outputs": [
    {
     "data": {
      "application/vnd.plotly.v1+json": {
       "config": {
        "plotlyServerURL": "https://plot.ly"
       },
       "data": [
        {
         "hovertemplate": "Numeric=False<br>Count=%{text}<br>Category=%{y}<extra></extra>",
         "legendgroup": "False",
         "marker": {
          "color": "#636efa",
          "pattern": {
           "shape": ""
          }
         },
         "name": "False",
         "orientation": "h",
         "showlegend": true,
         "text": {
          "bdata": "AAAAAAAAFEAAAAAAAAA9QAAAAAAAABhAAAAAAAAAKEAAAAAAAAAYQA==",
          "dtype": "f8"
         },
         "textposition": "auto",
         "type": "bar",
         "x": {
          "bdata": "BQAAAB0AAAAGAAAADAAAAAYAAAA=",
          "dtype": "u4"
         },
         "xaxis": "x",
         "y": [
          "Context",
          "Customer",
          "Decision",
          "IH",
          "Internal"
         ],
         "yaxis": "y"
        },
        {
         "hovertemplate": "Numeric=True<br>Count=%{text}<br>Category=%{y}<extra></extra>",
         "legendgroup": "True",
         "marker": {
          "color": "#EF553B",
          "pattern": {
           "shape": ""
          }
         },
         "name": "True",
         "orientation": "h",
         "showlegend": true,
         "text": {
          "bdata": "AAAAAAAAGEAAAAAAAAA4QAAAAAAAAAhA",
          "dtype": "f8"
         },
         "textposition": "auto",
         "type": "bar",
         "x": {
          "bdata": "BgAAABgAAAADAAAA",
          "dtype": "u4"
         },
         "xaxis": "x",
         "y": [
          "Customer",
          "IH",
          "Param"
         ],
         "yaxis": "y"
        }
       ],
       "layout": {
        "barmode": "relative",
        "legend": {
         "title": {
          "text": "Numeric"
         },
         "tracegroupgap": 0
        },
        "template": {
         "data": {
          "bar": [
           {
            "error_x": {
             "color": "#2a3f5f"
            },
            "error_y": {
             "color": "#2a3f5f"
            },
            "marker": {
             "line": {
              "color": "#E5ECF6",
              "width": 0.5
             },
             "pattern": {
              "fillmode": "overlay",
              "size": 10,
              "solidity": 0.2
             }
            },
            "type": "bar"
           }
          ],
          "barpolar": [
           {
            "marker": {
             "line": {
              "color": "#E5ECF6",
              "width": 0.5
             },
             "pattern": {
              "fillmode": "overlay",
              "size": 10,
              "solidity": 0.2
             }
            },
            "type": "barpolar"
           }
          ],
          "carpet": [
           {
            "aaxis": {
             "endlinecolor": "#2a3f5f",
             "gridcolor": "white",
             "linecolor": "white",
             "minorgridcolor": "white",
             "startlinecolor": "#2a3f5f"
            },
            "baxis": {
             "endlinecolor": "#2a3f5f",
             "gridcolor": "white",
             "linecolor": "white",
             "minorgridcolor": "white",
             "startlinecolor": "#2a3f5f"
            },
            "type": "carpet"
           }
          ],
          "choropleth": [
           {
            "colorbar": {
             "outlinewidth": 0,
             "ticks": ""
            },
            "type": "choropleth"
           }
          ],
          "contour": [
           {
            "colorbar": {
             "outlinewidth": 0,
             "ticks": ""
            },
            "colorscale": [
             [
              0,
              "#0d0887"
             ],
             [
              0.1111111111111111,
              "#46039f"
             ],
             [
              0.2222222222222222,
              "#7201a8"
             ],
             [
              0.3333333333333333,
              "#9c179e"
             ],
             [
              0.4444444444444444,
              "#bd3786"
             ],
             [
              0.5555555555555556,
              "#d8576b"
             ],
             [
              0.6666666666666666,
              "#ed7953"
             ],
             [
              0.7777777777777778,
              "#fb9f3a"
             ],
             [
              0.8888888888888888,
              "#fdca26"
             ],
             [
              1,
              "#f0f921"
             ]
            ],
            "type": "contour"
           }
          ],
          "contourcarpet": [
           {
            "colorbar": {
             "outlinewidth": 0,
             "ticks": ""
            },
            "type": "contourcarpet"
           }
          ],
          "heatmap": [
           {
            "colorbar": {
             "outlinewidth": 0,
             "ticks": ""
            },
            "colorscale": [
             [
              0,
              "#0d0887"
             ],
             [
              0.1111111111111111,
              "#46039f"
             ],
             [
              0.2222222222222222,
              "#7201a8"
             ],
             [
              0.3333333333333333,
              "#9c179e"
             ],
             [
              0.4444444444444444,
              "#bd3786"
             ],
             [
              0.5555555555555556,
              "#d8576b"
             ],
             [
              0.6666666666666666,
              "#ed7953"
             ],
             [
              0.7777777777777778,
              "#fb9f3a"
             ],
             [
              0.8888888888888888,
              "#fdca26"
             ],
             [
              1,
              "#f0f921"
             ]
            ],
            "type": "heatmap"
           }
          ],
          "histogram": [
           {
            "marker": {
             "pattern": {
              "fillmode": "overlay",
              "size": 10,
              "solidity": 0.2
             }
            },
            "type": "histogram"
           }
          ],
          "histogram2d": [
           {
            "colorbar": {
             "outlinewidth": 0,
             "ticks": ""
            },
            "colorscale": [
             [
              0,
              "#0d0887"
             ],
             [
              0.1111111111111111,
              "#46039f"
             ],
             [
              0.2222222222222222,
              "#7201a8"
             ],
             [
              0.3333333333333333,
              "#9c179e"
             ],
             [
              0.4444444444444444,
              "#bd3786"
             ],
             [
              0.5555555555555556,
              "#d8576b"
             ],
             [
              0.6666666666666666,
              "#ed7953"
             ],
             [
              0.7777777777777778,
              "#fb9f3a"
             ],
             [
              0.8888888888888888,
              "#fdca26"
             ],
             [
              1,
              "#f0f921"
             ]
            ],
            "type": "histogram2d"
           }
          ],
          "histogram2dcontour": [
           {
            "colorbar": {
             "outlinewidth": 0,
             "ticks": ""
            },
            "colorscale": [
             [
              0,
              "#0d0887"
             ],
             [
              0.1111111111111111,
              "#46039f"
             ],
             [
              0.2222222222222222,
              "#7201a8"
             ],
             [
              0.3333333333333333,
              "#9c179e"
             ],
             [
              0.4444444444444444,
              "#bd3786"
             ],
             [
              0.5555555555555556,
              "#d8576b"
             ],
             [
              0.6666666666666666,
              "#ed7953"
             ],
             [
              0.7777777777777778,
              "#fb9f3a"
             ],
             [
              0.8888888888888888,
              "#fdca26"
             ],
             [
              1,
              "#f0f921"
             ]
            ],
            "type": "histogram2dcontour"
           }
          ],
          "mesh3d": [
           {
            "colorbar": {
             "outlinewidth": 0,
             "ticks": ""
            },
            "type": "mesh3d"
           }
          ],
          "parcoords": [
           {
            "line": {
             "colorbar": {
              "outlinewidth": 0,
              "ticks": ""
             }
            },
            "type": "parcoords"
           }
          ],
          "pie": [
           {
            "automargin": true,
            "type": "pie"
           }
          ],
          "scatter": [
           {
            "fillpattern": {
             "fillmode": "overlay",
             "size": 10,
             "solidity": 0.2
            },
            "type": "scatter"
           }
          ],
          "scatter3d": [
           {
            "line": {
             "colorbar": {
              "outlinewidth": 0,
              "ticks": ""
             }
            },
            "marker": {
             "colorbar": {
              "outlinewidth": 0,
              "ticks": ""
             }
            },
            "type": "scatter3d"
           }
          ],
          "scattercarpet": [
           {
            "marker": {
             "colorbar": {
              "outlinewidth": 0,
              "ticks": ""
             }
            },
            "type": "scattercarpet"
           }
          ],
          "scattergeo": [
           {
            "marker": {
             "colorbar": {
              "outlinewidth": 0,
              "ticks": ""
             }
            },
            "type": "scattergeo"
           }
          ],
          "scattergl": [
           {
            "marker": {
             "colorbar": {
              "outlinewidth": 0,
              "ticks": ""
             }
            },
            "type": "scattergl"
           }
          ],
          "scattermap": [
           {
            "marker": {
             "colorbar": {
              "outlinewidth": 0,
              "ticks": ""
             }
            },
            "type": "scattermap"
           }
          ],
          "scattermapbox": [
           {
            "marker": {
             "colorbar": {
              "outlinewidth": 0,
              "ticks": ""
             }
            },
            "type": "scattermapbox"
           }
          ],
          "scatterpolar": [
           {
            "marker": {
             "colorbar": {
              "outlinewidth": 0,
              "ticks": ""
             }
            },
            "type": "scatterpolar"
           }
          ],
          "scatterpolargl": [
           {
            "marker": {
             "colorbar": {
              "outlinewidth": 0,
              "ticks": ""
             }
            },
            "type": "scatterpolargl"
           }
          ],
          "scatterternary": [
           {
            "marker": {
             "colorbar": {
              "outlinewidth": 0,
              "ticks": ""
             }
            },
            "type": "scatterternary"
           }
          ],
          "surface": [
           {
            "colorbar": {
             "outlinewidth": 0,
             "ticks": ""
            },
            "colorscale": [
             [
              0,
              "#0d0887"
             ],
             [
              0.1111111111111111,
              "#46039f"
             ],
             [
              0.2222222222222222,
              "#7201a8"
             ],
             [
              0.3333333333333333,
              "#9c179e"
             ],
             [
              0.4444444444444444,
              "#bd3786"
             ],
             [
              0.5555555555555556,
              "#d8576b"
             ],
             [
              0.6666666666666666,
              "#ed7953"
             ],
             [
              0.7777777777777778,
              "#fb9f3a"
             ],
             [
              0.8888888888888888,
              "#fdca26"
             ],
             [
              1,
              "#f0f921"
             ]
            ],
            "type": "surface"
           }
          ],
          "table": [
           {
            "cells": {
             "fill": {
              "color": "#EBF0F8"
             },
             "line": {
              "color": "white"
             }
            },
            "header": {
             "fill": {
              "color": "#C8D4E3"
             },
             "line": {
              "color": "white"
             }
            },
            "type": "table"
           }
          ]
         },
         "layout": {
          "annotationdefaults": {
           "arrowcolor": "#2a3f5f",
           "arrowhead": 0,
           "arrowwidth": 1
          },
          "autotypenumbers": "strict",
          "coloraxis": {
           "colorbar": {
            "outlinewidth": 0,
            "ticks": ""
           }
          },
          "colorscale": {
           "diverging": [
            [
             0,
             "#8e0152"
            ],
            [
             0.1,
             "#c51b7d"
            ],
            [
             0.2,
             "#de77ae"
            ],
            [
             0.3,
             "#f1b6da"
            ],
            [
             0.4,
             "#fde0ef"
            ],
            [
             0.5,
             "#f7f7f7"
            ],
            [
             0.6,
             "#e6f5d0"
            ],
            [
             0.7,
             "#b8e186"
            ],
            [
             0.8,
             "#7fbc41"
            ],
            [
             0.9,
             "#4d9221"
            ],
            [
             1,
             "#276419"
            ]
           ],
           "sequential": [
            [
             0,
             "#0d0887"
            ],
            [
             0.1111111111111111,
             "#46039f"
            ],
            [
             0.2222222222222222,
             "#7201a8"
            ],
            [
             0.3333333333333333,
             "#9c179e"
            ],
            [
             0.4444444444444444,
             "#bd3786"
            ],
            [
             0.5555555555555556,
             "#d8576b"
            ],
            [
             0.6666666666666666,
             "#ed7953"
            ],
            [
             0.7777777777777778,
             "#fb9f3a"
            ],
            [
             0.8888888888888888,
             "#fdca26"
            ],
            [
             1,
             "#f0f921"
            ]
           ],
           "sequentialminus": [
            [
             0,
             "#0d0887"
            ],
            [
             0.1111111111111111,
             "#46039f"
            ],
            [
             0.2222222222222222,
             "#7201a8"
            ],
            [
             0.3333333333333333,
             "#9c179e"
            ],
            [
             0.4444444444444444,
             "#bd3786"
            ],
            [
             0.5555555555555556,
             "#d8576b"
            ],
            [
             0.6666666666666666,
             "#ed7953"
            ],
            [
             0.7777777777777778,
             "#fb9f3a"
            ],
            [
             0.8888888888888888,
             "#fdca26"
            ],
            [
             1,
             "#f0f921"
            ]
           ]
          },
          "colorway": [
           "#636efa",
           "#EF553B",
           "#00cc96",
           "#ab63fa",
           "#FFA15A",
           "#19d3f3",
           "#FF6692",
           "#B6E880",
           "#FF97FF",
           "#FECB52"
          ],
          "font": {
           "color": "#2a3f5f"
          },
          "geo": {
           "bgcolor": "white",
           "lakecolor": "white",
           "landcolor": "#E5ECF6",
           "showlakes": true,
           "showland": true,
           "subunitcolor": "white"
          },
          "hoverlabel": {
           "align": "left"
          },
          "hovermode": "closest",
          "mapbox": {
           "style": "light"
          },
          "paper_bgcolor": "white",
          "plot_bgcolor": "#E5ECF6",
          "polar": {
           "angularaxis": {
            "gridcolor": "white",
            "linecolor": "white",
            "ticks": ""
           },
           "bgcolor": "#E5ECF6",
           "radialaxis": {
            "gridcolor": "white",
            "linecolor": "white",
            "ticks": ""
           }
          },
          "scene": {
           "xaxis": {
            "backgroundcolor": "#E5ECF6",
            "gridcolor": "white",
            "gridwidth": 2,
            "linecolor": "white",
            "showbackground": true,
            "ticks": "",
            "zerolinecolor": "white"
           },
           "yaxis": {
            "backgroundcolor": "#E5ECF6",
            "gridcolor": "white",
            "gridwidth": 2,
            "linecolor": "white",
            "showbackground": true,
            "ticks": "",
            "zerolinecolor": "white"
           },
           "zaxis": {
            "backgroundcolor": "#E5ECF6",
            "gridcolor": "white",
            "gridwidth": 2,
            "linecolor": "white",
            "showbackground": true,
            "ticks": "",
            "zerolinecolor": "white"
           }
          },
          "shapedefaults": {
           "line": {
            "color": "#2a3f5f"
           }
          },
          "ternary": {
           "aaxis": {
            "gridcolor": "white",
            "linecolor": "white",
            "ticks": ""
           },
           "baxis": {
            "gridcolor": "white",
            "linecolor": "white",
            "ticks": ""
           },
           "bgcolor": "#E5ECF6",
           "caxis": {
            "gridcolor": "white",
            "linecolor": "white",
            "ticks": ""
           }
          },
          "title": {
           "x": 0.05
          },
          "xaxis": {
           "automargin": true,
           "gridcolor": "white",
           "linecolor": "white",
           "ticks": "",
           "title": {
            "standoff": 15
           },
           "zerolinecolor": "white",
           "zerolinewidth": 2
          },
          "yaxis": {
           "automargin": true,
           "gridcolor": "white",
           "linecolor": "white",
           "ticks": "",
           "title": {
            "standoff": 15
           },
           "zerolinecolor": "white",
           "zerolinewidth": 2
          }
         }
        },
        "title": {
         "text": "Number of Fields by Category"
        },
        "xaxis": {
         "anchor": "y",
         "domain": [
          0,
          1
         ],
         "title": {
          "text": "Number of Fields"
         }
        },
        "yaxis": {
         "anchor": "x",
         "domain": [
          0,
          1
         ],
         "title": {
          "text": "Field Category"
         }
        }
       }
      }
     },
     "metadata": {},
     "output_type": "display_data"
    }
   ],
   "source": [
    "category_counts = (\n",
    "    hds_data_dictionary\n",
    "    .group_by(\"Category\", \"Numeric\")\n",
    "    .agg(Count=pl.len())\n",
    "    .sort(\"Category\")\n",
    ")\n",
    "fig = px.bar(\n",
    "    category_counts, #.to_dict(as_series=False),\n",
    "    y=\"Category\",\n",
    "    x=\"Count\",\n",
    "    title=\"Number of Fields by Category\",\n",
    "    color=\"Numeric\",\n",
    "    text=\"Count\",\n",
    "    orientation=\"h\",\n",
    ")\n",
    "\n",
    "fig.update_layout(\n",
    "    yaxis_title=\"Field Category\",\n",
    "    xaxis_title=\"Number of Fields\",\n",
    ")\n",
    "\n",
    "fig.show()"
   ]
  },
  {
   "cell_type": "markdown",
   "metadata": {},
   "source": [
    "## Create XGBoost model \n",
    "\n",
    "From this HDS data we create a simple XGBoost model. We create a simple model over all channels and all actions, not split up like ADM does. This could be changed, but the goal here is to get a list of the features ranked by importance, not to create a model that is better than ADM.\n",
    "\n",
    "First, there is data prep to do one-hot encoding and target encoding."
   ]
  },
  {
   "cell_type": "code",
   "execution_count": 5,
   "metadata": {},
   "outputs": [
    {
     "name": "stdout",
     "output_type": "stream",
     "text": [
      "Categorical fields: ['Context_Name', 'Context_Issue', 'Context_Group', 'Context_Direction', 'Context_Channel', 'Customer_CLV', 'Customer_pyCountry', 'Customer_RiskCode', 'Customer_City', 'Customer_ID', 'Customer_BusinessSegment', 'Customer_Incarceration', 'Customer_LastReviewedDate', 'Customer_ReviewDate', 'Customer_WinScore', 'Customer_InCollections', 'Customer_Age', 'Customer_BalanceTransaction', 'Customer_TotalAssets', 'Customer_IsCustomerActive', 'Customer_HealthMatter', 'Customer_MilitaryService', 'Customer_Bankruptcy', 'Customer_RiskScore', 'Customer_State', 'Customer_NaturalDisaster', 'Customer_MaritalStatus', 'Customer_AnnualIncome', 'Customer_NextReviewDate', 'Customer_TotalLiabilities', 'Customer_ResidentialStatus', 'Customer_OrganizationLabel', 'Customer_pyRegion', 'Customer_Deceased', 'IH_Email_Outbound_Rejected_pxLastGroupID', 'IH_Web_Inbound_Accepted_pxLastGroupID', 'IH_SMS_Outbound_Loyal_pxLastGroupID', 'IH_Email_Outbound_Accepted_pxLastGroupID', 'IH_Web_Inbound_Churned_pxLastGroupID', 'IH_SMS_Outbound_Rejected_pxLastGroupID', 'IH_Web_Inbound_Loyal_pxLastGroupID', 'IH_SMS_Outbound_Churned_pxLastGroupID', 'IH_Web_Inbound_Rejected_pxLastGroupID', 'IH_Email_Outbound_Churned_pxLastGroupID', 'IH_Email_Outbound_Loyal_pxLastGroupID', 'IH_SMS_Outbound_Accepted_pxLastGroupID']\n",
      "Numerical fields: ['Customer_RelationshipStartDate', 'Customer_Date_of_Birth', 'Customer_NoOfDependents', 'Customer_CreditScore', 'Customer_NetWealth', 'Customer_CLV_VALUE', 'IH_Web_Inbound_Rejected_pxLastOutcomeTime_DaysSince', 'IH_Web_Inbound_Loyal_pxLastOutcomeTime_DaysSince', 'IH_Web_Inbound_Rejected_pyHistoricalOutcomeCount', 'IH_Email_Outbound_Accepted_pxLastOutcomeTime_DaysSince', 'IH_Email_Outbound_Churned_pyHistoricalOutcomeCount', 'IH_Web_Inbound_Churned_pyHistoricalOutcomeCount', 'IH_SMS_Outbound_Accepted_pyHistoricalOutcomeCount', 'IH_Email_Outbound_Loyal_pyHistoricalOutcomeCount', 'IH_SMS_Outbound_Churned_pyHistoricalOutcomeCount', 'IH_SMS_Outbound_Rejected_pxLastOutcomeTime_DaysSince', 'IH_Web_Inbound_Accepted_pxLastOutcomeTime_DaysSince', 'IH_Email_Outbound_Loyal_pxLastOutcomeTime_DaysSince', 'IH_Email_Outbound_Rejected_pxLastOutcomeTime_DaysSince', 'IH_Email_Outbound_Accepted_pyHistoricalOutcomeCount', 'IH_SMS_Outbound_Accepted_pxLastOutcomeTime_DaysSince', 'IH_Web_Inbound_Loyal_pyHistoricalOutcomeCount', 'IH_Email_Outbound_Rejected_pyHistoricalOutcomeCount', 'IH_Email_Outbound_Churned_pxLastOutcomeTime_DaysSince', 'IH_SMS_Outbound_Loyal_pyHistoricalOutcomeCount', 'IH_SMS_Outbound_Loyal_pxLastOutcomeTime_DaysSince', 'IH_SMS_Outbound_Churned_pxLastOutcomeTime_DaysSince', 'IH_SMS_Outbound_Rejected_pyHistoricalOutcomeCount', 'IH_Web_Inbound_Accepted_pyHistoricalOutcomeCount', 'IH_Web_Inbound_Churned_pxLastOutcomeTime_DaysSince', 'Param_ExtGroupCreditcards', 'Param_ExtGroupWealthoffers', 'Param_ExtGroupAutoloans']\n",
      "\n",
      "Target encoding: {np.str_('Accepted'): 0, np.str_('Rejected'): 1}\n",
      "\n",
      "Training set size: 9649 samples\n",
      "Test set size: 2413 samples\n"
     ]
    }
   ],
   "source": [
    "def data_prep(data, data_dictionary):\n",
    "    categorical_fields = (\n",
    "        data_dictionary.filter(~pl.col(\"Numeric\"))\n",
    "        .filter((pl.col(\"Category\") != \"Internal\") & (pl.col(\"Category\") != \"Decision\"))\n",
    "        .select(\"Field\")\n",
    "        .to_series()\n",
    "        .to_list()\n",
    "    )\n",
    "    numerical_fields = (\n",
    "        data_dictionary.filter(pl.col(\"Numeric\"))\n",
    "        .filter((pl.col(\"Category\") != \"Internal\") & (pl.col(\"Category\") != \"Decision\"))\n",
    "        .select(\"Field\")\n",
    "        .to_series()\n",
    "        .to_list()\n",
    "    )\n",
    "\n",
    "    print(f\"Categorical fields: {categorical_fields}\")\n",
    "    print(f\"Numerical fields: {numerical_fields}\")\n",
    "\n",
    "    # Simple encoding for categorical features\n",
    "    for column in categorical_fields:\n",
    "        if column != \"Decision_Outcome\":\n",
    "            # Handle missing values\n",
    "            data = data.with_columns(\n",
    "                pl.col(column).fill_null(\"missing\").alias(column)\n",
    "            )\n",
    "\n",
    "            # Create a simple label encoder\n",
    "            le = LabelEncoder()\n",
    "            encoded = le.fit_transform(data[column].to_list())\n",
    "            data = data.with_columns(\n",
    "                pl.Series(name=column + \"_encoded\", values=encoded)\n",
    "            )\n",
    "\n",
    "    # Encode target variable\n",
    "    le_target = LabelEncoder()\n",
    "    encoded_target = le_target.fit_transform(data[\"Decision_Outcome\"].to_list())\n",
    "    data = data.with_columns(\n",
    "        pl.Series(name=\"target\", values=encoded_target)\n",
    "    )\n",
    "\n",
    "    # Show target encoding\n",
    "    target_mapping = dict(zip(le_target.classes_, range(len(le_target.classes_))))\n",
    "    print(f\"\\nTarget encoding: {target_mapping}\")\n",
    "\n",
    "    # Select features and target\n",
    "    feature_cols = [\n",
    "        col for col in data.columns if col.endswith(\"_encoded\")\n",
    "    ] + numerical_fields\n",
    "\n",
    "    X = data[feature_cols]\n",
    "    y = data[\"target\"]\n",
    "\n",
    "    # Split the data\n",
    "    X_train, X_test, y_train, y_test = train_test_split(\n",
    "        X, y, test_size=0.2, random_state=42\n",
    "    )\n",
    "\n",
    "    print(f\"\\nTraining set size: {X_train.shape[0]} samples\")\n",
    "    print(f\"Test set size: {X_test.shape[0]} samples\")\n",
    "\n",
    "    return X_train, X_test, y_train, y_test, le_target, feature_cols\n",
    "\n",
    "\n",
    "X_train, X_test, y_train, y_test, target_encoder, feature_cols = data_prep(hds_data, hds_data_dictionary)"
   ]
  },
  {
   "cell_type": "code",
   "execution_count": 6,
   "metadata": {},
   "outputs": [
    {
     "name": "stdout",
     "output_type": "stream",
     "text": [
      "Model AUC: 0.54311\n",
      "\n",
      "Classification Report:\n",
      "              precision    recall  f1-score   support\n",
      "\n",
      "    Accepted       0.24      0.12      0.16       180\n",
      "    Rejected       0.93      0.97      0.95      2233\n",
      "\n",
      "    accuracy                           0.91      2413\n",
      "   macro avg       0.58      0.54      0.55      2413\n",
      "weighted avg       0.88      0.91      0.89      2413\n",
      "\n"
     ]
    }
   ],
   "source": [
    "def create_classifier(X_train, X_test, y_train, y_test, target_encoder):\n",
    "    # Create and train the model\n",
    "    xgb_model = XGBClassifier(random_state=42)\n",
    "    xgb_model.fit(X_train, y_train)\n",
    "\n",
    "    # Make predictions and evaluate\n",
    "    y_pred = xgb_model.predict(X_test)\n",
    "    print (f\"Model AUC: {round(roc_auc_score(y_test,y_pred), 5)}\")\n",
    "\n",
    "    # Classification report\n",
    "    print(\"\\nClassification Report:\")\n",
    "    print(classification_report(y_test, y_pred, target_names=target_encoder.classes_))\n",
    "\n",
    "    return xgb_model\n",
    "\n",
    "classifier = create_classifier(X_train, X_test, y_train, y_test, target_encoder)"
   ]
  },
  {
   "cell_type": "code",
   "execution_count": 7,
   "metadata": {},
   "outputs": [
    {
     "data": {
      "application/vnd.plotly.v1+json": {
       "config": {
        "plotlyServerURL": "https://plot.ly"
       },
       "data": [
        {
         "hovertemplate": "Category=Context<br>Importance=%{x}<br>Feature=%{y}<br>GroupLabel=%{text}<extra></extra>",
         "legendgroup": "Context",
         "marker": {
          "color": "orange",
          "pattern": {
           "shape": ""
          }
         },
         "name": "Context",
         "orientation": "h",
         "showlegend": true,
         "text": [
          "",
          ""
         ],
         "textfont": {
          "color": "black",
          "size": 12
         },
         "textposition": "outside",
         "type": "bar",
         "x": {
          "bdata": "AAAAAFV9tz8AAAAAYiylPw==",
          "dtype": "f8"
         },
         "xaxis": "x",
         "y": [
          "Context_Channel",
          "Context_Group"
         ],
         "yaxis": "y"
        },
        {
         "hovertemplate": "Category=IH<br>Importance=%{x}<br>Feature=%{y}<br>GroupLabel=%{text}<extra></extra>",
         "legendgroup": "IH",
         "marker": {
          "color": "green",
          "pattern": {
           "shape": ""
          }
         },
         "name": "IH",
         "orientation": "h",
         "showlegend": true,
         "text": [
          "",
          "Group 1",
          "",
          "",
          "",
          "",
          "Group 1",
          "Group 1",
          ""
         ],
         "textfont": {
          "color": "black",
          "size": 12
         },
         "textposition": "outside",
         "type": "bar",
         "x": {
          "bdata": "AAAA4LutoD8AAABAP/CZPwAAAEAARpU/AAAAQB+ulD8AAACAsf2SPwAAAMAa6JI/AAAAAEx9kj8AAACgQlqSPwAAAGAknZE/",
          "dtype": "f8"
         },
         "xaxis": "x",
         "y": [
          "IH_Web_Inbound_Loyal_pyHistoricalOutcomeCount",
          "IH_Email_Outbound_Rejected_pyHistoricalOutcomeCount",
          "IH_SMS_Outbound_Loyal_pyHistoricalOutcomeCount",
          "IH_Email_Outbound_Accepted_pyHistoricalOutcomeCount",
          "IH_Web_Inbound_Accepted_pyHistoricalOutcomeCount",
          "IH_Web_Inbound_Accepted_pxLastGroupID",
          "IH_Web_Inbound_Rejected_pyHistoricalOutcomeCount",
          "IH_SMS_Outbound_Rejected_pyHistoricalOutcomeCount",
          "IH_Web_Inbound_Churned_pxLastOutcomeTime_DaysSince"
         ],
         "yaxis": "y"
        },
        {
         "hovertemplate": "Category=Customer<br>Importance=%{x}<br>Feature=%{y}<br>GroupLabel=%{text}<extra></extra>",
         "legendgroup": "Customer",
         "marker": {
          "color": "blue",
          "pattern": {
           "shape": ""
          }
         },
         "name": "Customer",
         "orientation": "h",
         "showlegend": true,
         "text": [
          "",
          "",
          "",
          "",
          "",
          "",
          "",
          "",
          ""
         ],
         "textfont": {
          "color": "black",
          "size": 12
         },
         "textposition": "outside",
         "type": "bar",
         "x": {
          "bdata": "AAAAIOyKlj8AAABAd/aTPwAAACAkiJM/AAAAIEDykj8AAACgrqmSPwAAAMCqpJI/AAAAACVUkj8AAAAAqkmSPwAAAECFe5E/",
          "dtype": "f8"
         },
         "xaxis": "x",
         "y": [
          "Customer_CLV_VALUE",
          "Customer_CreditScore",
          "Customer_MaritalStatus",
          "Customer_NoOfDependents",
          "Customer_AnnualIncome",
          "Customer_NetWealth",
          "Customer_State",
          "Customer_WinScore",
          "Customer_IsCustomerActive"
         ],
         "yaxis": "y"
        }
       ],
       "layout": {
        "barmode": "relative",
        "legend": {
         "title": {
          "text": "Category"
         },
         "tracegroupgap": 0
        },
        "template": {
         "data": {
          "bar": [
           {
            "error_x": {
             "color": "#2a3f5f"
            },
            "error_y": {
             "color": "#2a3f5f"
            },
            "marker": {
             "line": {
              "color": "#E5ECF6",
              "width": 0.5
             },
             "pattern": {
              "fillmode": "overlay",
              "size": 10,
              "solidity": 0.2
             }
            },
            "type": "bar"
           }
          ],
          "barpolar": [
           {
            "marker": {
             "line": {
              "color": "#E5ECF6",
              "width": 0.5
             },
             "pattern": {
              "fillmode": "overlay",
              "size": 10,
              "solidity": 0.2
             }
            },
            "type": "barpolar"
           }
          ],
          "carpet": [
           {
            "aaxis": {
             "endlinecolor": "#2a3f5f",
             "gridcolor": "white",
             "linecolor": "white",
             "minorgridcolor": "white",
             "startlinecolor": "#2a3f5f"
            },
            "baxis": {
             "endlinecolor": "#2a3f5f",
             "gridcolor": "white",
             "linecolor": "white",
             "minorgridcolor": "white",
             "startlinecolor": "#2a3f5f"
            },
            "type": "carpet"
           }
          ],
          "choropleth": [
           {
            "colorbar": {
             "outlinewidth": 0,
             "ticks": ""
            },
            "type": "choropleth"
           }
          ],
          "contour": [
           {
            "colorbar": {
             "outlinewidth": 0,
             "ticks": ""
            },
            "colorscale": [
             [
              0,
              "#0d0887"
             ],
             [
              0.1111111111111111,
              "#46039f"
             ],
             [
              0.2222222222222222,
              "#7201a8"
             ],
             [
              0.3333333333333333,
              "#9c179e"
             ],
             [
              0.4444444444444444,
              "#bd3786"
             ],
             [
              0.5555555555555556,
              "#d8576b"
             ],
             [
              0.6666666666666666,
              "#ed7953"
             ],
             [
              0.7777777777777778,
              "#fb9f3a"
             ],
             [
              0.8888888888888888,
              "#fdca26"
             ],
             [
              1,
              "#f0f921"
             ]
            ],
            "type": "contour"
           }
          ],
          "contourcarpet": [
           {
            "colorbar": {
             "outlinewidth": 0,
             "ticks": ""
            },
            "type": "contourcarpet"
           }
          ],
          "heatmap": [
           {
            "colorbar": {
             "outlinewidth": 0,
             "ticks": ""
            },
            "colorscale": [
             [
              0,
              "#0d0887"
             ],
             [
              0.1111111111111111,
              "#46039f"
             ],
             [
              0.2222222222222222,
              "#7201a8"
             ],
             [
              0.3333333333333333,
              "#9c179e"
             ],
             [
              0.4444444444444444,
              "#bd3786"
             ],
             [
              0.5555555555555556,
              "#d8576b"
             ],
             [
              0.6666666666666666,
              "#ed7953"
             ],
             [
              0.7777777777777778,
              "#fb9f3a"
             ],
             [
              0.8888888888888888,
              "#fdca26"
             ],
             [
              1,
              "#f0f921"
             ]
            ],
            "type": "heatmap"
           }
          ],
          "histogram": [
           {
            "marker": {
             "pattern": {
              "fillmode": "overlay",
              "size": 10,
              "solidity": 0.2
             }
            },
            "type": "histogram"
           }
          ],
          "histogram2d": [
           {
            "colorbar": {
             "outlinewidth": 0,
             "ticks": ""
            },
            "colorscale": [
             [
              0,
              "#0d0887"
             ],
             [
              0.1111111111111111,
              "#46039f"
             ],
             [
              0.2222222222222222,
              "#7201a8"
             ],
             [
              0.3333333333333333,
              "#9c179e"
             ],
             [
              0.4444444444444444,
              "#bd3786"
             ],
             [
              0.5555555555555556,
              "#d8576b"
             ],
             [
              0.6666666666666666,
              "#ed7953"
             ],
             [
              0.7777777777777778,
              "#fb9f3a"
             ],
             [
              0.8888888888888888,
              "#fdca26"
             ],
             [
              1,
              "#f0f921"
             ]
            ],
            "type": "histogram2d"
           }
          ],
          "histogram2dcontour": [
           {
            "colorbar": {
             "outlinewidth": 0,
             "ticks": ""
            },
            "colorscale": [
             [
              0,
              "#0d0887"
             ],
             [
              0.1111111111111111,
              "#46039f"
             ],
             [
              0.2222222222222222,
              "#7201a8"
             ],
             [
              0.3333333333333333,
              "#9c179e"
             ],
             [
              0.4444444444444444,
              "#bd3786"
             ],
             [
              0.5555555555555556,
              "#d8576b"
             ],
             [
              0.6666666666666666,
              "#ed7953"
             ],
             [
              0.7777777777777778,
              "#fb9f3a"
             ],
             [
              0.8888888888888888,
              "#fdca26"
             ],
             [
              1,
              "#f0f921"
             ]
            ],
            "type": "histogram2dcontour"
           }
          ],
          "mesh3d": [
           {
            "colorbar": {
             "outlinewidth": 0,
             "ticks": ""
            },
            "type": "mesh3d"
           }
          ],
          "parcoords": [
           {
            "line": {
             "colorbar": {
              "outlinewidth": 0,
              "ticks": ""
             }
            },
            "type": "parcoords"
           }
          ],
          "pie": [
           {
            "automargin": true,
            "type": "pie"
           }
          ],
          "scatter": [
           {
            "fillpattern": {
             "fillmode": "overlay",
             "size": 10,
             "solidity": 0.2
            },
            "type": "scatter"
           }
          ],
          "scatter3d": [
           {
            "line": {
             "colorbar": {
              "outlinewidth": 0,
              "ticks": ""
             }
            },
            "marker": {
             "colorbar": {
              "outlinewidth": 0,
              "ticks": ""
             }
            },
            "type": "scatter3d"
           }
          ],
          "scattercarpet": [
           {
            "marker": {
             "colorbar": {
              "outlinewidth": 0,
              "ticks": ""
             }
            },
            "type": "scattercarpet"
           }
          ],
          "scattergeo": [
           {
            "marker": {
             "colorbar": {
              "outlinewidth": 0,
              "ticks": ""
             }
            },
            "type": "scattergeo"
           }
          ],
          "scattergl": [
           {
            "marker": {
             "colorbar": {
              "outlinewidth": 0,
              "ticks": ""
             }
            },
            "type": "scattergl"
           }
          ],
          "scattermap": [
           {
            "marker": {
             "colorbar": {
              "outlinewidth": 0,
              "ticks": ""
             }
            },
            "type": "scattermap"
           }
          ],
          "scattermapbox": [
           {
            "marker": {
             "colorbar": {
              "outlinewidth": 0,
              "ticks": ""
             }
            },
            "type": "scattermapbox"
           }
          ],
          "scatterpolar": [
           {
            "marker": {
             "colorbar": {
              "outlinewidth": 0,
              "ticks": ""
             }
            },
            "type": "scatterpolar"
           }
          ],
          "scatterpolargl": [
           {
            "marker": {
             "colorbar": {
              "outlinewidth": 0,
              "ticks": ""
             }
            },
            "type": "scatterpolargl"
           }
          ],
          "scatterternary": [
           {
            "marker": {
             "colorbar": {
              "outlinewidth": 0,
              "ticks": ""
             }
            },
            "type": "scatterternary"
           }
          ],
          "surface": [
           {
            "colorbar": {
             "outlinewidth": 0,
             "ticks": ""
            },
            "colorscale": [
             [
              0,
              "#0d0887"
             ],
             [
              0.1111111111111111,
              "#46039f"
             ],
             [
              0.2222222222222222,
              "#7201a8"
             ],
             [
              0.3333333333333333,
              "#9c179e"
             ],
             [
              0.4444444444444444,
              "#bd3786"
             ],
             [
              0.5555555555555556,
              "#d8576b"
             ],
             [
              0.6666666666666666,
              "#ed7953"
             ],
             [
              0.7777777777777778,
              "#fb9f3a"
             ],
             [
              0.8888888888888888,
              "#fdca26"
             ],
             [
              1,
              "#f0f921"
             ]
            ],
            "type": "surface"
           }
          ],
          "table": [
           {
            "cells": {
             "fill": {
              "color": "#EBF0F8"
             },
             "line": {
              "color": "white"
             }
            },
            "header": {
             "fill": {
              "color": "#C8D4E3"
             },
             "line": {
              "color": "white"
             }
            },
            "type": "table"
           }
          ]
         },
         "layout": {
          "annotationdefaults": {
           "arrowcolor": "#2a3f5f",
           "arrowhead": 0,
           "arrowwidth": 1
          },
          "autotypenumbers": "strict",
          "coloraxis": {
           "colorbar": {
            "outlinewidth": 0,
            "ticks": ""
           }
          },
          "colorscale": {
           "diverging": [
            [
             0,
             "#8e0152"
            ],
            [
             0.1,
             "#c51b7d"
            ],
            [
             0.2,
             "#de77ae"
            ],
            [
             0.3,
             "#f1b6da"
            ],
            [
             0.4,
             "#fde0ef"
            ],
            [
             0.5,
             "#f7f7f7"
            ],
            [
             0.6,
             "#e6f5d0"
            ],
            [
             0.7,
             "#b8e186"
            ],
            [
             0.8,
             "#7fbc41"
            ],
            [
             0.9,
             "#4d9221"
            ],
            [
             1,
             "#276419"
            ]
           ],
           "sequential": [
            [
             0,
             "#0d0887"
            ],
            [
             0.1111111111111111,
             "#46039f"
            ],
            [
             0.2222222222222222,
             "#7201a8"
            ],
            [
             0.3333333333333333,
             "#9c179e"
            ],
            [
             0.4444444444444444,
             "#bd3786"
            ],
            [
             0.5555555555555556,
             "#d8576b"
            ],
            [
             0.6666666666666666,
             "#ed7953"
            ],
            [
             0.7777777777777778,
             "#fb9f3a"
            ],
            [
             0.8888888888888888,
             "#fdca26"
            ],
            [
             1,
             "#f0f921"
            ]
           ],
           "sequentialminus": [
            [
             0,
             "#0d0887"
            ],
            [
             0.1111111111111111,
             "#46039f"
            ],
            [
             0.2222222222222222,
             "#7201a8"
            ],
            [
             0.3333333333333333,
             "#9c179e"
            ],
            [
             0.4444444444444444,
             "#bd3786"
            ],
            [
             0.5555555555555556,
             "#d8576b"
            ],
            [
             0.6666666666666666,
             "#ed7953"
            ],
            [
             0.7777777777777778,
             "#fb9f3a"
            ],
            [
             0.8888888888888888,
             "#fdca26"
            ],
            [
             1,
             "#f0f921"
            ]
           ]
          },
          "colorway": [
           "#636efa",
           "#EF553B",
           "#00cc96",
           "#ab63fa",
           "#FFA15A",
           "#19d3f3",
           "#FF6692",
           "#B6E880",
           "#FF97FF",
           "#FECB52"
          ],
          "font": {
           "color": "#2a3f5f"
          },
          "geo": {
           "bgcolor": "white",
           "lakecolor": "white",
           "landcolor": "#E5ECF6",
           "showlakes": true,
           "showland": true,
           "subunitcolor": "white"
          },
          "hoverlabel": {
           "align": "left"
          },
          "hovermode": "closest",
          "mapbox": {
           "style": "light"
          },
          "paper_bgcolor": "white",
          "plot_bgcolor": "#E5ECF6",
          "polar": {
           "angularaxis": {
            "gridcolor": "white",
            "linecolor": "white",
            "ticks": ""
           },
           "bgcolor": "#E5ECF6",
           "radialaxis": {
            "gridcolor": "white",
            "linecolor": "white",
            "ticks": ""
           }
          },
          "scene": {
           "xaxis": {
            "backgroundcolor": "#E5ECF6",
            "gridcolor": "white",
            "gridwidth": 2,
            "linecolor": "white",
            "showbackground": true,
            "ticks": "",
            "zerolinecolor": "white"
           },
           "yaxis": {
            "backgroundcolor": "#E5ECF6",
            "gridcolor": "white",
            "gridwidth": 2,
            "linecolor": "white",
            "showbackground": true,
            "ticks": "",
            "zerolinecolor": "white"
           },
           "zaxis": {
            "backgroundcolor": "#E5ECF6",
            "gridcolor": "white",
            "gridwidth": 2,
            "linecolor": "white",
            "showbackground": true,
            "ticks": "",
            "zerolinecolor": "white"
           }
          },
          "shapedefaults": {
           "line": {
            "color": "#2a3f5f"
           }
          },
          "ternary": {
           "aaxis": {
            "gridcolor": "white",
            "linecolor": "white",
            "ticks": ""
           },
           "baxis": {
            "gridcolor": "white",
            "linecolor": "white",
            "ticks": ""
           },
           "bgcolor": "#E5ECF6",
           "caxis": {
            "gridcolor": "white",
            "linecolor": "white",
            "ticks": ""
           }
          },
          "title": {
           "x": 0.05
          },
          "xaxis": {
           "automargin": true,
           "gridcolor": "white",
           "linecolor": "white",
           "ticks": "",
           "title": {
            "standoff": 15
           },
           "zerolinecolor": "white",
           "zerolinewidth": 2
          },
          "yaxis": {
           "automargin": true,
           "gridcolor": "white",
           "linecolor": "white",
           "ticks": "",
           "title": {
            "standoff": 15
           },
           "zerolinecolor": "white",
           "zerolinewidth": 2
          }
         }
        },
        "title": {
         "text": "Feature Importance"
        },
        "xaxis": {
         "anchor": "y",
         "domain": [
          0,
          1
         ],
         "title": {
          "text": "Importance"
         }
        },
        "yaxis": {
         "anchor": "x",
         "autorange": "reversed",
         "categoryarray": [
          "Context_Channel",
          "Context_Group",
          "IH_Web_Inbound_Loyal_pyHistoricalOutcomeCount",
          "IH_Email_Outbound_Rejected_pyHistoricalOutcomeCount",
          "Customer_CLV_VALUE",
          "IH_SMS_Outbound_Loyal_pyHistoricalOutcomeCount",
          "IH_Email_Outbound_Accepted_pyHistoricalOutcomeCount",
          "Customer_CreditScore",
          "Customer_MaritalStatus",
          "IH_Web_Inbound_Accepted_pyHistoricalOutcomeCount",
          "Customer_NoOfDependents",
          "IH_Web_Inbound_Accepted_pxLastGroupID",
          "Customer_AnnualIncome",
          "Customer_NetWealth",
          "IH_Web_Inbound_Rejected_pyHistoricalOutcomeCount",
          "IH_SMS_Outbound_Rejected_pyHistoricalOutcomeCount",
          "Customer_State",
          "Customer_WinScore",
          "IH_Web_Inbound_Churned_pxLastOutcomeTime_DaysSince",
          "Customer_IsCustomerActive"
         ],
         "categoryorder": "array",
         "domain": [
          0,
          1
         ],
         "dtick": 1,
         "title": {
          "text": "Feature"
         }
        }
       }
      }
     },
     "metadata": {},
     "output_type": "display_data"
    }
   ],
   "source": [
    "def show_feature_imp(classifier, data, feature_cols):\n",
    "    importances = classifier.feature_importances_\n",
    "\n",
    "    # Create a DataFrame for feature importances\n",
    "    feature_importance_df = (\n",
    "        pl.DataFrame({\"Feature\": feature_cols, \"Importance\": importances.tolist()})\n",
    "        .with_columns(\n",
    "            Feature=pl.when(pl.col(\"Feature\").str.ends_with(\"_encoded\"))\n",
    "            .then(pl.col(\"Feature\").str.replace(r\"_encoded$\", \"\"))\n",
    "            .otherwise(pl.col(\"Feature\"))\n",
    "        )\n",
    "        .with_columns(\n",
    "            Category=pl.when(pl.col(\"Feature\").str.contains(\"_\", literal=True))\n",
    "            .then(pl.col(\"Feature\").str.replace(r\"([^_]+)_.*\", \"${1}\"))\n",
    "            .otherwise(pl.lit(\"Internal\"))\n",
    "        )\n",
    "        .sort(\"Importance\", descending=True)\n",
    "    )\n",
    "\n",
    "    # Get top 20 features by importance\n",
    "    top_features_df = feature_importance_df.head(20)\n",
    "\n",
    "    # Get the ordered list of feature names\n",
    "    feature_order = top_features_df[\"Feature\"].to_list()\n",
    "\n",
    "    # Correlation test of new features\n",
    "    features_encoded_name = [\n",
    "        f\"{feat}_encoded\" if f\"{feat}_encoded\" in feature_cols else feat\n",
    "        for feat in feature_order\n",
    "    ]   \n",
    "\n",
    "    similar_features = []\n",
    "    n = len(features_encoded_name)\n",
    "\n",
    "    for i in range(n):\n",
    "        for j in range(i + 1, n):\n",
    "            col1 = features_encoded_name[i]\n",
    "            col2 = features_encoded_name[j]\n",
    "\n",
    "            correlation = data.select(pl.corr(col1, col2)).item()\n",
    "            if abs(correlation) >= 0.95:\n",
    "                found = False\n",
    "\n",
    "                for i, tup in enumerate(similar_features):\n",
    "                    if col1 in tup:\n",
    "                        similar_features[i] = tup + (col2,)\n",
    "                        found = True\n",
    "                        break\n",
    "                    elif col2 in tup:\n",
    "                        similar_features[i] = tup + (col1,)\n",
    "                        found = True\n",
    "\n",
    "                if not found:\n",
    "                    similar_features.append((col1, col2))\n",
    "    \n",
    "\n",
    "    # Creating the group label\n",
    "    group_mapping = {}\n",
    "    for i, group in enumerate(similar_features, 1):\n",
    "        for feature in group:\n",
    "            group_mapping[feature] = f\"Group {i}\"\n",
    "\n",
    "    top_features_df = top_features_df.with_columns(\n",
    "        pl.col(\"Feature\").map_elements(lambda f: group_mapping.get(f, \"\"), return_dtype=pl.Utf8).alias(\"GroupLabel\")\n",
    "    )\n",
    "\n",
    "    # Plot feature importances\n",
    "    fig = px.bar(\n",
    "        top_features_df,\n",
    "        x=\"Importance\",\n",
    "        y=\"Feature\",\n",
    "        orientation=\"h\",\n",
    "        title=\"Feature Importance\",\n",
    "        color=\"Category\",\n",
    "        text=\"GroupLabel\",\n",
    "        color_discrete_map={\n",
    "            \"Context\": \"orange\",\n",
    "            \"IH\": \"green\",\n",
    "            \"Customer\": \"blue\",\n",
    "            \"Param\": \"lightblue\",\n",
    "            \"DataLake\": \"red\",\n",
    "            \"Internal\": \"gray\",\n",
    "            \"Decision\": \"purple\",\n",
    "        },\n",
    "    )\n",
    "\n",
    "    fig.update_layout(\n",
    "        xaxis_title=\"Importance\",\n",
    "        yaxis_title=\"Feature\",\n",
    "        yaxis=dict(\n",
    "            categoryorder=\"array\",\n",
    "            categoryarray=feature_order,\n",
    "            autorange=\"reversed\",\n",
    "            dtick=1,\n",
    "        ),\n",
    "    )\n",
    "\n",
    "    fig.update_traces(\n",
    "        textposition=\"outside\",\n",
    "        textfont=dict(color=\"black\", size=12),\n",
    "    )\n",
    "\n",
    "    fig.show()\n",
    "\n",
    "\n",
    "show_feature_imp(classifier, X_train, feature_cols)"
   ]
  },
  {
   "cell_type": "markdown",
   "metadata": {},
   "source": [
    "Features that are strongly correlated are shown with an indication of the group (e.g. \"Group 1\"). Colors are used to differentiate the different sources of the features. In this demo data set, you see that Group and Channel are very important features, as is expected."
   ]
  },
  {
   "cell_type": "markdown",
   "metadata": {},
   "source": [
    "# Finding new Features from the Data Lake\n",
    "\n",
    "Now, suppose you have external data from your data lake that you want to consider adding to Pega to improve the performance of your models.\n",
    "\n",
    "If you have such data, you can merge it with the HDS data and run the model again to see how these features fare against what ADM already uses.\n",
    "\n",
    "Such data is typically time-stamped, so we need to be careful to only pull in data from before the decisions were made. \n",
    "\n",
    "## Create (fake) External Data\n",
    "\n",
    "We first create an example of external data. All features are captured over time there, so there is a feature name, a timestamp, and a value.\n",
    "\n",
    "This code (and resulting data) are just an example. You can use any data you want, we just highlight the structure.\n"
   ]
  },
  {
   "cell_type": "code",
   "execution_count": 8,
   "metadata": {},
   "outputs": [
    {
     "data": {
      "text/html": [
       "<div><style>\n",
       ".dataframe > thead > tr,\n",
       ".dataframe > tbody > tr {\n",
       "  text-align: right;\n",
       "  white-space: pre-wrap;\n",
       "}\n",
       "</style>\n",
       "<small>shape: (5, 5)</small><table border=\"1\" class=\"dataframe\"><thead><tr><th>Customer_ID</th><th>SnapshotTime</th><th>DataLake_BadFeature</th><th>DataLake_GoodFeature</th><th>DataLake_GoodFeatureCorrelated</th></tr><tr><td>str</td><td>datetime[ns]</td><td>f64</td><td>f64</td><td>f64</td></tr></thead><tbody><tr><td>&quot;Customer-1253&quot;</td><td>2021-05-24 00:00:00</td><td>0.551759</td><td>0.178849</td><td>0.155624</td></tr><tr><td>&quot;Customer-1254&quot;</td><td>2021-05-24 00:00:00</td><td>0.592678</td><td>0.179437</td><td>0.161329</td></tr><tr><td>&quot;Customer-1255&quot;</td><td>2021-05-24 00:00:00</td><td>0.506912</td><td>0.092285</td><td>0.090262</td></tr><tr><td>&quot;Customer-1256&quot;</td><td>2021-05-24 00:00:00</td><td>0.399738</td><td>0.057378</td><td>0.043184</td></tr><tr><td>&quot;Customer-1257&quot;</td><td>2021-05-24 00:00:00</td><td>0.494478</td><td>0.043562</td><td>0.049615</td></tr></tbody></table></div>"
      ],
      "text/plain": [
       "shape: (5, 5)\n",
       "┌───────────────┬──────────────┬──────────────────────┬──────────────────────┬─────────────────────┐\n",
       "│ Customer_ID   ┆ SnapshotTime ┆ DataLake_BadFeature  ┆ DataLake_GoodFeature ┆ DataLake_GoodFeatur │\n",
       "│ ---           ┆ ---          ┆ ---                  ┆ ---                  ┆ eCorrelated         │\n",
       "│ str           ┆ datetime[ns] ┆ f64                  ┆ f64                  ┆ ---                 │\n",
       "│               ┆              ┆                      ┆                      ┆ f64                 │\n",
       "╞═══════════════╪══════════════╪══════════════════════╪══════════════════════╪═════════════════════╡\n",
       "│ Customer-1253 ┆ 2021-05-24   ┆ 0.551759             ┆ 0.178849             ┆ 0.155624            │\n",
       "│               ┆ 00:00:00     ┆                      ┆                      ┆                     │\n",
       "│ Customer-1254 ┆ 2021-05-24   ┆ 0.592678             ┆ 0.179437             ┆ 0.161329            │\n",
       "│               ┆ 00:00:00     ┆                      ┆                      ┆                     │\n",
       "│ Customer-1255 ┆ 2021-05-24   ┆ 0.506912             ┆ 0.092285             ┆ 0.090262            │\n",
       "│               ┆ 00:00:00     ┆                      ┆                      ┆                     │\n",
       "│ Customer-1256 ┆ 2021-05-24   ┆ 0.399738             ┆ 0.057378             ┆ 0.043184            │\n",
       "│               ┆ 00:00:00     ┆                      ┆                      ┆                     │\n",
       "│ Customer-1257 ┆ 2021-05-24   ┆ 0.494478             ┆ 0.043562             ┆ 0.049615            │\n",
       "│               ┆ 00:00:00     ┆                      ┆                      ┆                     │\n",
       "└───────────────┴──────────────┴──────────────────────┴──────────────────────┴─────────────────────┘"
      ]
     },
     "execution_count": 8,
     "metadata": {},
     "output_type": "execute_result"
    }
   ],
   "source": [
    "import random\n",
    "\n",
    "random.seed(101)\n",
    "datalake_fake_data = hds_data.with_columns(\n",
    "    DataLake_BadFeature=pl.Series([random.random() for _ in range(hds_data.height)]),\n",
    "    DataLake_GoodFeature=(pl.col(\"Decision_Outcome\") == \"Accepted\") * 0.9\n",
    "    + pl.Series([random.random() for _ in range(hds_data.height)]) * 0.1,\n",
    "    DataLake_GoodFeatureCorrelated=(pl.col(\"Decision_Outcome\") == \"Accepted\") * 0.8\n",
    "    + pl.Series([random.random() for _ in range(hds_data.height)]) * 0.1\n",
    ").select(\n",
    "    [\n",
    "        pl.col(\"Customer_ID\"),\n",
    "        pl.col(\"Decision_DecisionTime\").dt.truncate(\"1d\").alias(\"SnapshotTime\"),\n",
    "        pl.col(\"DataLake_BadFeature\"),\n",
    "        pl.col(\"DataLake_GoodFeature\"),\n",
    "        pl.col(\"DataLake_GoodFeatureCorrelated\")\n",
    "    ]\n",
    ").group_by(\n",
    "    [\"Customer_ID\", \"SnapshotTime\"]\n",
    ").agg(\n",
    "    cs.all().mean()\n",
    ").sort([\"Customer_ID\", \"SnapshotTime\"])\n",
    "\n",
    "datalake_fake_data.head()"
   ]
  },
  {
   "cell_type": "markdown",
   "metadata": {},
   "source": [
    "Joining that data with the HDS data is straightforward: we match by customer ID and timestamp, but need to be careful to avoid leakage, so we only join in data for a particular customer from the data lake that is the latest snapshot before the timestamp of the HDS dataset. \n",
    "\n",
    "Polars provides a convenient way to do this with the join_asof function."
   ]
  },
  {
   "cell_type": "code",
   "execution_count": 9,
   "metadata": {},
   "outputs": [
    {
     "name": "stderr",
     "output_type": "stream",
     "text": [
      "/var/folders/9w/xtb0b1l95mz5g1vy6xm_48f80000gp/T/ipykernel_56928/3474530575.py:1: UserWarning:\n",
      "\n",
      "Sortedness of columns cannot be checked when 'by' groups provided\n",
      "\n"
     ]
    }
   ],
   "source": [
    "augmented_data = hds_data.join_asof(\n",
    "    datalake_fake_data,\n",
    "    left_on=\"Decision_DecisionTime\",\n",
    "    right_on=\"SnapshotTime\",\n",
    "    by=\"Customer_ID\",\n",
    ")\n",
    "augmented_data_dictionary = pl.concat(\n",
    "    [\n",
    "        hds_data_dictionary,\n",
    "        pl.DataFrame(\n",
    "            {\n",
    "                \"Field\": [\"DataLake_BadFeature\", \"DataLake_GoodFeature\", \"DataLake_GoodFeatureCorrelated\"],\n",
    "                \"Numeric\": [True, True, True],\n",
    "                \"Category\": [\"DataLake\", \"DataLake\", \"DataLake\"],\n",
    "            }\n",
    "        ),\n",
    "    ]\n",
    ")"
   ]
  },
  {
   "cell_type": "code",
   "execution_count": 10,
   "metadata": {},
   "outputs": [
    {
     "name": "stdout",
     "output_type": "stream",
     "text": [
      "Categorical fields: ['Context_Name', 'Context_Issue', 'Context_Group', 'Context_Direction', 'Context_Channel', 'Customer_CLV', 'Customer_pyCountry', 'Customer_RiskCode', 'Customer_City', 'Customer_ID', 'Customer_BusinessSegment', 'Customer_Incarceration', 'Customer_LastReviewedDate', 'Customer_ReviewDate', 'Customer_WinScore', 'Customer_InCollections', 'Customer_Age', 'Customer_BalanceTransaction', 'Customer_TotalAssets', 'Customer_IsCustomerActive', 'Customer_HealthMatter', 'Customer_MilitaryService', 'Customer_Bankruptcy', 'Customer_RiskScore', 'Customer_State', 'Customer_NaturalDisaster', 'Customer_MaritalStatus', 'Customer_AnnualIncome', 'Customer_NextReviewDate', 'Customer_TotalLiabilities', 'Customer_ResidentialStatus', 'Customer_OrganizationLabel', 'Customer_pyRegion', 'Customer_Deceased', 'IH_Email_Outbound_Rejected_pxLastGroupID', 'IH_Web_Inbound_Accepted_pxLastGroupID', 'IH_SMS_Outbound_Loyal_pxLastGroupID', 'IH_Email_Outbound_Accepted_pxLastGroupID', 'IH_Web_Inbound_Churned_pxLastGroupID', 'IH_SMS_Outbound_Rejected_pxLastGroupID', 'IH_Web_Inbound_Loyal_pxLastGroupID', 'IH_SMS_Outbound_Churned_pxLastGroupID', 'IH_Web_Inbound_Rejected_pxLastGroupID', 'IH_Email_Outbound_Churned_pxLastGroupID', 'IH_Email_Outbound_Loyal_pxLastGroupID', 'IH_SMS_Outbound_Accepted_pxLastGroupID']\n",
      "Numerical fields: ['Customer_RelationshipStartDate', 'Customer_Date_of_Birth', 'Customer_NoOfDependents', 'Customer_CreditScore', 'Customer_NetWealth', 'Customer_CLV_VALUE', 'IH_Web_Inbound_Rejected_pxLastOutcomeTime_DaysSince', 'IH_Web_Inbound_Loyal_pxLastOutcomeTime_DaysSince', 'IH_Web_Inbound_Rejected_pyHistoricalOutcomeCount', 'IH_Email_Outbound_Accepted_pxLastOutcomeTime_DaysSince', 'IH_Email_Outbound_Churned_pyHistoricalOutcomeCount', 'IH_Web_Inbound_Churned_pyHistoricalOutcomeCount', 'IH_SMS_Outbound_Accepted_pyHistoricalOutcomeCount', 'IH_Email_Outbound_Loyal_pyHistoricalOutcomeCount', 'IH_SMS_Outbound_Churned_pyHistoricalOutcomeCount', 'IH_SMS_Outbound_Rejected_pxLastOutcomeTime_DaysSince', 'IH_Web_Inbound_Accepted_pxLastOutcomeTime_DaysSince', 'IH_Email_Outbound_Loyal_pxLastOutcomeTime_DaysSince', 'IH_Email_Outbound_Rejected_pxLastOutcomeTime_DaysSince', 'IH_Email_Outbound_Accepted_pyHistoricalOutcomeCount', 'IH_SMS_Outbound_Accepted_pxLastOutcomeTime_DaysSince', 'IH_Web_Inbound_Loyal_pyHistoricalOutcomeCount', 'IH_Email_Outbound_Rejected_pyHistoricalOutcomeCount', 'IH_Email_Outbound_Churned_pxLastOutcomeTime_DaysSince', 'IH_SMS_Outbound_Loyal_pyHistoricalOutcomeCount', 'IH_SMS_Outbound_Loyal_pxLastOutcomeTime_DaysSince', 'IH_SMS_Outbound_Churned_pxLastOutcomeTime_DaysSince', 'IH_SMS_Outbound_Rejected_pyHistoricalOutcomeCount', 'IH_Web_Inbound_Accepted_pyHistoricalOutcomeCount', 'IH_Web_Inbound_Churned_pxLastOutcomeTime_DaysSince', 'Param_ExtGroupCreditcards', 'Param_ExtGroupWealthoffers', 'Param_ExtGroupAutoloans', 'DataLake_BadFeature', 'DataLake_GoodFeature', 'DataLake_GoodFeatureCorrelated']\n",
      "\n",
      "Target encoding: {np.str_('Accepted'): 0, np.str_('Rejected'): 1}\n",
      "\n",
      "Training set size: 9649 samples\n",
      "Test set size: 2413 samples\n",
      "Model AUC: 0.54656\n",
      "\n",
      "Classification Report:\n",
      "              precision    recall  f1-score   support\n",
      "\n",
      "    Accepted       0.25      0.12      0.16       180\n",
      "    Rejected       0.93      0.97      0.95      2233\n",
      "\n",
      "    accuracy                           0.91      2413\n",
      "   macro avg       0.59      0.55      0.56      2413\n",
      "weighted avg       0.88      0.91      0.89      2413\n",
      "\n"
     ]
    },
    {
     "data": {
      "application/vnd.plotly.v1+json": {
       "config": {
        "plotlyServerURL": "https://plot.ly"
       },
       "data": [
        {
         "hovertemplate": "Category=Context<br>Importance=%{x}<br>Feature=%{y}<br>GroupLabel=%{text}<extra></extra>",
         "legendgroup": "Context",
         "marker": {
          "color": "orange",
          "pattern": {
           "shape": ""
          }
         },
         "name": "Context",
         "orientation": "h",
         "showlegend": true,
         "text": [
          "",
          ""
         ],
         "textfont": {
          "color": "black",
          "size": 12
         },
         "textposition": "outside",
         "type": "bar",
         "x": {
          "bdata": "AAAA4H06tD8AAADgNMeiPw==",
          "dtype": "f8"
         },
         "xaxis": "x",
         "y": [
          "Context_Channel",
          "Context_Group"
         ],
         "yaxis": "y"
        },
        {
         "hovertemplate": "Category=DataLake<br>Importance=%{x}<br>Feature=%{y}<br>GroupLabel=%{text}<extra></extra>",
         "legendgroup": "DataLake",
         "marker": {
          "color": "red",
          "pattern": {
           "shape": ""
          }
         },
         "name": "DataLake",
         "orientation": "h",
         "showlegend": true,
         "text": [
          "Group 1",
          "Group 1",
          ""
         ],
         "textfont": {
          "color": "black",
          "size": 12
         },
         "textposition": "outside",
         "type": "bar",
         "x": {
          "bdata": "AAAAQAPNsD8AAACAufemPwAAAMCeDI8/",
          "dtype": "f8"
         },
         "xaxis": "x",
         "y": [
          "DataLake_GoodFeature",
          "DataLake_GoodFeatureCorrelated",
          "DataLake_BadFeature"
         ],
         "yaxis": "y"
        },
        {
         "hovertemplate": "Category=IH<br>Importance=%{x}<br>Feature=%{y}<br>GroupLabel=%{text}<extra></extra>",
         "legendgroup": "IH",
         "marker": {
          "color": "green",
          "pattern": {
           "shape": ""
          }
         },
         "name": "IH",
         "orientation": "h",
         "showlegend": true,
         "text": [
          "",
          "",
          "",
          "",
          "",
          "",
          "",
          "",
          ""
         ],
         "textfont": {
          "color": "black",
          "size": 12
         },
         "textposition": "outside",
         "type": "bar",
         "x": {
          "bdata": "AAAAIOGMpj8AAABACJiXPwAAAACVXpE/AAAAIAiakD8AAABAyXaQPwAAAAC2po8/AAAAIETKjj8AAAAAdGWNPwAAAIDXRY0/",
          "dtype": "f8"
         },
         "xaxis": "x",
         "y": [
          "IH_Web_Inbound_Loyal_pxLastGroupID",
          "IH_SMS_Outbound_Rejected_pyHistoricalOutcomeCount",
          "IH_Email_Outbound_Accepted_pyHistoricalOutcomeCount",
          "IH_SMS_Outbound_Accepted_pxLastGroupID",
          "IH_SMS_Outbound_Loyal_pxLastGroupID",
          "IH_Email_Outbound_Loyal_pxLastOutcomeTime_DaysSince",
          "IH_Web_Inbound_Churned_pxLastOutcomeTime_DaysSince",
          "IH_Email_Outbound_Accepted_pxLastGroupID",
          "IH_SMS_Outbound_Accepted_pxLastOutcomeTime_DaysSince"
         ],
         "yaxis": "y"
        },
        {
         "hovertemplate": "Category=Customer<br>Importance=%{x}<br>Feature=%{y}<br>GroupLabel=%{text}<extra></extra>",
         "legendgroup": "Customer",
         "marker": {
          "color": "blue",
          "pattern": {
           "shape": ""
          }
         },
         "name": "Customer",
         "orientation": "h",
         "showlegend": true,
         "text": [
          "",
          "",
          "",
          "",
          "",
          ""
         ],
         "textfont": {
          "color": "black",
          "size": 12
         },
         "textposition": "outside",
         "type": "bar",
         "x": {
          "bdata": "AAAAwJEOlT8AAACgXXmQPwAAAIBfHJA/AAAAAMCdjz8AAAAAIY6OPwAAAKBnNY4/",
          "dtype": "f8"
         },
         "xaxis": "x",
         "y": [
          "Customer_Bankruptcy",
          "Customer_CreditScore",
          "Customer_NetWealth",
          "Customer_Date_of_Birth",
          "Customer_pyCountry",
          "Customer_CLV_VALUE"
         ],
         "yaxis": "y"
        }
       ],
       "layout": {
        "barmode": "relative",
        "legend": {
         "title": {
          "text": "Category"
         },
         "tracegroupgap": 0
        },
        "template": {
         "data": {
          "bar": [
           {
            "error_x": {
             "color": "#2a3f5f"
            },
            "error_y": {
             "color": "#2a3f5f"
            },
            "marker": {
             "line": {
              "color": "#E5ECF6",
              "width": 0.5
             },
             "pattern": {
              "fillmode": "overlay",
              "size": 10,
              "solidity": 0.2
             }
            },
            "type": "bar"
           }
          ],
          "barpolar": [
           {
            "marker": {
             "line": {
              "color": "#E5ECF6",
              "width": 0.5
             },
             "pattern": {
              "fillmode": "overlay",
              "size": 10,
              "solidity": 0.2
             }
            },
            "type": "barpolar"
           }
          ],
          "carpet": [
           {
            "aaxis": {
             "endlinecolor": "#2a3f5f",
             "gridcolor": "white",
             "linecolor": "white",
             "minorgridcolor": "white",
             "startlinecolor": "#2a3f5f"
            },
            "baxis": {
             "endlinecolor": "#2a3f5f",
             "gridcolor": "white",
             "linecolor": "white",
             "minorgridcolor": "white",
             "startlinecolor": "#2a3f5f"
            },
            "type": "carpet"
           }
          ],
          "choropleth": [
           {
            "colorbar": {
             "outlinewidth": 0,
             "ticks": ""
            },
            "type": "choropleth"
           }
          ],
          "contour": [
           {
            "colorbar": {
             "outlinewidth": 0,
             "ticks": ""
            },
            "colorscale": [
             [
              0,
              "#0d0887"
             ],
             [
              0.1111111111111111,
              "#46039f"
             ],
             [
              0.2222222222222222,
              "#7201a8"
             ],
             [
              0.3333333333333333,
              "#9c179e"
             ],
             [
              0.4444444444444444,
              "#bd3786"
             ],
             [
              0.5555555555555556,
              "#d8576b"
             ],
             [
              0.6666666666666666,
              "#ed7953"
             ],
             [
              0.7777777777777778,
              "#fb9f3a"
             ],
             [
              0.8888888888888888,
              "#fdca26"
             ],
             [
              1,
              "#f0f921"
             ]
            ],
            "type": "contour"
           }
          ],
          "contourcarpet": [
           {
            "colorbar": {
             "outlinewidth": 0,
             "ticks": ""
            },
            "type": "contourcarpet"
           }
          ],
          "heatmap": [
           {
            "colorbar": {
             "outlinewidth": 0,
             "ticks": ""
            },
            "colorscale": [
             [
              0,
              "#0d0887"
             ],
             [
              0.1111111111111111,
              "#46039f"
             ],
             [
              0.2222222222222222,
              "#7201a8"
             ],
             [
              0.3333333333333333,
              "#9c179e"
             ],
             [
              0.4444444444444444,
              "#bd3786"
             ],
             [
              0.5555555555555556,
              "#d8576b"
             ],
             [
              0.6666666666666666,
              "#ed7953"
             ],
             [
              0.7777777777777778,
              "#fb9f3a"
             ],
             [
              0.8888888888888888,
              "#fdca26"
             ],
             [
              1,
              "#f0f921"
             ]
            ],
            "type": "heatmap"
           }
          ],
          "histogram": [
           {
            "marker": {
             "pattern": {
              "fillmode": "overlay",
              "size": 10,
              "solidity": 0.2
             }
            },
            "type": "histogram"
           }
          ],
          "histogram2d": [
           {
            "colorbar": {
             "outlinewidth": 0,
             "ticks": ""
            },
            "colorscale": [
             [
              0,
              "#0d0887"
             ],
             [
              0.1111111111111111,
              "#46039f"
             ],
             [
              0.2222222222222222,
              "#7201a8"
             ],
             [
              0.3333333333333333,
              "#9c179e"
             ],
             [
              0.4444444444444444,
              "#bd3786"
             ],
             [
              0.5555555555555556,
              "#d8576b"
             ],
             [
              0.6666666666666666,
              "#ed7953"
             ],
             [
              0.7777777777777778,
              "#fb9f3a"
             ],
             [
              0.8888888888888888,
              "#fdca26"
             ],
             [
              1,
              "#f0f921"
             ]
            ],
            "type": "histogram2d"
           }
          ],
          "histogram2dcontour": [
           {
            "colorbar": {
             "outlinewidth": 0,
             "ticks": ""
            },
            "colorscale": [
             [
              0,
              "#0d0887"
             ],
             [
              0.1111111111111111,
              "#46039f"
             ],
             [
              0.2222222222222222,
              "#7201a8"
             ],
             [
              0.3333333333333333,
              "#9c179e"
             ],
             [
              0.4444444444444444,
              "#bd3786"
             ],
             [
              0.5555555555555556,
              "#d8576b"
             ],
             [
              0.6666666666666666,
              "#ed7953"
             ],
             [
              0.7777777777777778,
              "#fb9f3a"
             ],
             [
              0.8888888888888888,
              "#fdca26"
             ],
             [
              1,
              "#f0f921"
             ]
            ],
            "type": "histogram2dcontour"
           }
          ],
          "mesh3d": [
           {
            "colorbar": {
             "outlinewidth": 0,
             "ticks": ""
            },
            "type": "mesh3d"
           }
          ],
          "parcoords": [
           {
            "line": {
             "colorbar": {
              "outlinewidth": 0,
              "ticks": ""
             }
            },
            "type": "parcoords"
           }
          ],
          "pie": [
           {
            "automargin": true,
            "type": "pie"
           }
          ],
          "scatter": [
           {
            "fillpattern": {
             "fillmode": "overlay",
             "size": 10,
             "solidity": 0.2
            },
            "type": "scatter"
           }
          ],
          "scatter3d": [
           {
            "line": {
             "colorbar": {
              "outlinewidth": 0,
              "ticks": ""
             }
            },
            "marker": {
             "colorbar": {
              "outlinewidth": 0,
              "ticks": ""
             }
            },
            "type": "scatter3d"
           }
          ],
          "scattercarpet": [
           {
            "marker": {
             "colorbar": {
              "outlinewidth": 0,
              "ticks": ""
             }
            },
            "type": "scattercarpet"
           }
          ],
          "scattergeo": [
           {
            "marker": {
             "colorbar": {
              "outlinewidth": 0,
              "ticks": ""
             }
            },
            "type": "scattergeo"
           }
          ],
          "scattergl": [
           {
            "marker": {
             "colorbar": {
              "outlinewidth": 0,
              "ticks": ""
             }
            },
            "type": "scattergl"
           }
          ],
          "scattermap": [
           {
            "marker": {
             "colorbar": {
              "outlinewidth": 0,
              "ticks": ""
             }
            },
            "type": "scattermap"
           }
          ],
          "scattermapbox": [
           {
            "marker": {
             "colorbar": {
              "outlinewidth": 0,
              "ticks": ""
             }
            },
            "type": "scattermapbox"
           }
          ],
          "scatterpolar": [
           {
            "marker": {
             "colorbar": {
              "outlinewidth": 0,
              "ticks": ""
             }
            },
            "type": "scatterpolar"
           }
          ],
          "scatterpolargl": [
           {
            "marker": {
             "colorbar": {
              "outlinewidth": 0,
              "ticks": ""
             }
            },
            "type": "scatterpolargl"
           }
          ],
          "scatterternary": [
           {
            "marker": {
             "colorbar": {
              "outlinewidth": 0,
              "ticks": ""
             }
            },
            "type": "scatterternary"
           }
          ],
          "surface": [
           {
            "colorbar": {
             "outlinewidth": 0,
             "ticks": ""
            },
            "colorscale": [
             [
              0,
              "#0d0887"
             ],
             [
              0.1111111111111111,
              "#46039f"
             ],
             [
              0.2222222222222222,
              "#7201a8"
             ],
             [
              0.3333333333333333,
              "#9c179e"
             ],
             [
              0.4444444444444444,
              "#bd3786"
             ],
             [
              0.5555555555555556,
              "#d8576b"
             ],
             [
              0.6666666666666666,
              "#ed7953"
             ],
             [
              0.7777777777777778,
              "#fb9f3a"
             ],
             [
              0.8888888888888888,
              "#fdca26"
             ],
             [
              1,
              "#f0f921"
             ]
            ],
            "type": "surface"
           }
          ],
          "table": [
           {
            "cells": {
             "fill": {
              "color": "#EBF0F8"
             },
             "line": {
              "color": "white"
             }
            },
            "header": {
             "fill": {
              "color": "#C8D4E3"
             },
             "line": {
              "color": "white"
             }
            },
            "type": "table"
           }
          ]
         },
         "layout": {
          "annotationdefaults": {
           "arrowcolor": "#2a3f5f",
           "arrowhead": 0,
           "arrowwidth": 1
          },
          "autotypenumbers": "strict",
          "coloraxis": {
           "colorbar": {
            "outlinewidth": 0,
            "ticks": ""
           }
          },
          "colorscale": {
           "diverging": [
            [
             0,
             "#8e0152"
            ],
            [
             0.1,
             "#c51b7d"
            ],
            [
             0.2,
             "#de77ae"
            ],
            [
             0.3,
             "#f1b6da"
            ],
            [
             0.4,
             "#fde0ef"
            ],
            [
             0.5,
             "#f7f7f7"
            ],
            [
             0.6,
             "#e6f5d0"
            ],
            [
             0.7,
             "#b8e186"
            ],
            [
             0.8,
             "#7fbc41"
            ],
            [
             0.9,
             "#4d9221"
            ],
            [
             1,
             "#276419"
            ]
           ],
           "sequential": [
            [
             0,
             "#0d0887"
            ],
            [
             0.1111111111111111,
             "#46039f"
            ],
            [
             0.2222222222222222,
             "#7201a8"
            ],
            [
             0.3333333333333333,
             "#9c179e"
            ],
            [
             0.4444444444444444,
             "#bd3786"
            ],
            [
             0.5555555555555556,
             "#d8576b"
            ],
            [
             0.6666666666666666,
             "#ed7953"
            ],
            [
             0.7777777777777778,
             "#fb9f3a"
            ],
            [
             0.8888888888888888,
             "#fdca26"
            ],
            [
             1,
             "#f0f921"
            ]
           ],
           "sequentialminus": [
            [
             0,
             "#0d0887"
            ],
            [
             0.1111111111111111,
             "#46039f"
            ],
            [
             0.2222222222222222,
             "#7201a8"
            ],
            [
             0.3333333333333333,
             "#9c179e"
            ],
            [
             0.4444444444444444,
             "#bd3786"
            ],
            [
             0.5555555555555556,
             "#d8576b"
            ],
            [
             0.6666666666666666,
             "#ed7953"
            ],
            [
             0.7777777777777778,
             "#fb9f3a"
            ],
            [
             0.8888888888888888,
             "#fdca26"
            ],
            [
             1,
             "#f0f921"
            ]
           ]
          },
          "colorway": [
           "#636efa",
           "#EF553B",
           "#00cc96",
           "#ab63fa",
           "#FFA15A",
           "#19d3f3",
           "#FF6692",
           "#B6E880",
           "#FF97FF",
           "#FECB52"
          ],
          "font": {
           "color": "#2a3f5f"
          },
          "geo": {
           "bgcolor": "white",
           "lakecolor": "white",
           "landcolor": "#E5ECF6",
           "showlakes": true,
           "showland": true,
           "subunitcolor": "white"
          },
          "hoverlabel": {
           "align": "left"
          },
          "hovermode": "closest",
          "mapbox": {
           "style": "light"
          },
          "paper_bgcolor": "white",
          "plot_bgcolor": "#E5ECF6",
          "polar": {
           "angularaxis": {
            "gridcolor": "white",
            "linecolor": "white",
            "ticks": ""
           },
           "bgcolor": "#E5ECF6",
           "radialaxis": {
            "gridcolor": "white",
            "linecolor": "white",
            "ticks": ""
           }
          },
          "scene": {
           "xaxis": {
            "backgroundcolor": "#E5ECF6",
            "gridcolor": "white",
            "gridwidth": 2,
            "linecolor": "white",
            "showbackground": true,
            "ticks": "",
            "zerolinecolor": "white"
           },
           "yaxis": {
            "backgroundcolor": "#E5ECF6",
            "gridcolor": "white",
            "gridwidth": 2,
            "linecolor": "white",
            "showbackground": true,
            "ticks": "",
            "zerolinecolor": "white"
           },
           "zaxis": {
            "backgroundcolor": "#E5ECF6",
            "gridcolor": "white",
            "gridwidth": 2,
            "linecolor": "white",
            "showbackground": true,
            "ticks": "",
            "zerolinecolor": "white"
           }
          },
          "shapedefaults": {
           "line": {
            "color": "#2a3f5f"
           }
          },
          "ternary": {
           "aaxis": {
            "gridcolor": "white",
            "linecolor": "white",
            "ticks": ""
           },
           "baxis": {
            "gridcolor": "white",
            "linecolor": "white",
            "ticks": ""
           },
           "bgcolor": "#E5ECF6",
           "caxis": {
            "gridcolor": "white",
            "linecolor": "white",
            "ticks": ""
           }
          },
          "title": {
           "x": 0.05
          },
          "xaxis": {
           "automargin": true,
           "gridcolor": "white",
           "linecolor": "white",
           "ticks": "",
           "title": {
            "standoff": 15
           },
           "zerolinecolor": "white",
           "zerolinewidth": 2
          },
          "yaxis": {
           "automargin": true,
           "gridcolor": "white",
           "linecolor": "white",
           "ticks": "",
           "title": {
            "standoff": 15
           },
           "zerolinecolor": "white",
           "zerolinewidth": 2
          }
         }
        },
        "title": {
         "text": "Feature Importance"
        },
        "xaxis": {
         "anchor": "y",
         "domain": [
          0,
          1
         ],
         "title": {
          "text": "Importance"
         }
        },
        "yaxis": {
         "anchor": "x",
         "autorange": "reversed",
         "categoryarray": [
          "Context_Channel",
          "DataLake_GoodFeature",
          "DataLake_GoodFeatureCorrelated",
          "IH_Web_Inbound_Loyal_pxLastGroupID",
          "Context_Group",
          "IH_SMS_Outbound_Rejected_pyHistoricalOutcomeCount",
          "Customer_Bankruptcy",
          "IH_Email_Outbound_Accepted_pyHistoricalOutcomeCount",
          "IH_SMS_Outbound_Accepted_pxLastGroupID",
          "Customer_CreditScore",
          "IH_SMS_Outbound_Loyal_pxLastGroupID",
          "Customer_NetWealth",
          "IH_Email_Outbound_Loyal_pxLastOutcomeTime_DaysSince",
          "Customer_Date_of_Birth",
          "DataLake_BadFeature",
          "IH_Web_Inbound_Churned_pxLastOutcomeTime_DaysSince",
          "Customer_pyCountry",
          "Customer_CLV_VALUE",
          "IH_Email_Outbound_Accepted_pxLastGroupID",
          "IH_SMS_Outbound_Accepted_pxLastOutcomeTime_DaysSince"
         ],
         "categoryorder": "array",
         "domain": [
          0,
          1
         ],
         "dtick": 1,
         "title": {
          "text": "Feature"
         }
        }
       }
      }
     },
     "metadata": {},
     "output_type": "display_data"
    }
   ],
   "source": [
    "X_train, X_test, y_train, y_test, target_encoder, feature_cols = data_prep(augmented_data, augmented_data_dictionary)\n",
    "classifier = create_classifier(X_train, X_test, y_train, y_test, target_encoder)\n",
    "test = show_feature_imp(classifier, X_train, feature_cols)"
   ]
  },
  {
   "cell_type": "markdown",
   "metadata": {},
   "source": [
    "## Conclusions\n",
    "\n",
    "The resulting feature importance shows how the new \"GoodFeature\" and its correlated variant are on top of the list of features, and the \"BadFeature\" is at the bottom. You should consider the new features with high feature importance for inclusion in Pega.\n",
    "\n",
    "We also do a correlation check, so very similar features are labeled with their group index. In this example, you would want only the best feature of \"Group 1\" to be included, the other one won't add much values since it is so highly correlated.\n"
   ]
  }
 ],
 "metadata": {
  "kernelspec": {
   "display_name": ".venv",
   "language": "python",
   "name": "python3"
  },
  "language_info": {
   "codemirror_mode": {
    "name": "ipython",
    "version": 3
   },
   "file_extension": ".py",
   "mimetype": "text/x-python",
   "name": "python",
   "nbconvert_exporter": "python",
   "pygments_lexer": "ipython3",
   "version": "3.12.6"
  }
 },
 "nbformat": 4,
 "nbformat_minor": 4
}
