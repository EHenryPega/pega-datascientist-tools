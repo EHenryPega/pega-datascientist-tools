{
 "cells": [
  {
   "cell_type": "markdown",
   "metadata": {},
   "source": [
    "## Generate Aggregations"
   ]
  },
  {
   "cell_type": "code",
   "execution_count": 1,
   "metadata": {},
   "outputs": [],
   "source": [
    "from pdstools import GradientBoostGlobalExplanations"
   ]
  },
  {
   "cell_type": "code",
   "execution_count": 2,
   "metadata": {},
   "outputs": [],
   "source": [
    "# from dotenv import load_dotenv\n",
    "# load_dotenv()"
   ]
  },
  {
   "cell_type": "code",
   "execution_count": 3,
   "metadata": {},
   "outputs": [
    {
     "name": "stdout",
     "output_type": "stream",
     "text": [
      "Selected files:= ['/Users/henre/Repositories/pega-datascientist-tools/data/agb/explanations/small-3000-ctx/20250219.parquet']\n"
     ]
    }
   ],
   "source": [
    "agg = GradientBoostGlobalExplanations(\n",
    "         nb_days= 3\n",
    "        ,files_location='/Users/henre/Repositories/pega-datascientist-tools/data/agb/explanations/small-3000-ctx'\n",
    "        ,batch_limit=20\n",
    "        ,memory_limit=2\n",
    "        ,thread_count=4\n",
    "        ,redo=\"SYMBOLIC\"\n",
    "        )"
   ]
  },
  {
   "cell_type": "code",
   "execution_count": 4,
   "metadata": {},
   "outputs": [
    {
     "name": "stdout",
     "output_type": "stream",
     "text": [
      "Processed batch 10, group: 180, len: 20\n",
      "Processed batch 20, group: 380, len: 20\n",
      "Processed batch 30, group: 580, len: 20\n",
      "Processed batch 40, group: 780, len: 20\n",
      "Processed batch 50, group: 980, len: 20\n",
      "Processed batch 60, group: 1180, len: 20\n",
      "Processed batch 70, group: 1380, len: 20\n",
      "Processed batch 80, group: 1580, len: 20\n",
      "Processed batch 90, group: 1780, len: 20\n",
      "Processed batch 100, group: 1980, len: 20\n",
      "Processed batch 110, group: 2180, len: 20\n",
      "Processed batch 120, group: 2380, len: 20\n",
      "Processed batch 130, group: 2580, len: 20\n",
      "Processed batch 140, group: 2780, len: 20\n",
      "Processed batch 150, group: 2980, len: 20\n"
     ]
    }
   ],
   "source": [
    "agg.process()"
   ]
  },
  {
   "cell_type": "code",
   "execution_count": 5,
   "metadata": {},
   "outputs": [],
   "source": [
    "# import polars as pl"
   ]
  },
  {
   "cell_type": "code",
   "execution_count": 6,
   "metadata": {},
   "outputs": [],
   "source": [
    "# import glob\n",
    "# ctx = 'pyChannel, pyDirection, pyGroup, pyIssue, pyName'\n",
    "\n",
    "# for f in glob.glob(\"../data/small-3000/2025*.parquet\"):\n",
    "#     df = pl.read_parquet(f).with_columns([\n",
    "#         pl.concat_str([\n",
    "#             pl.col('pyChannel')\n",
    "#             , pl.col('pyDirection')\n",
    "#             , pl.col('pyGroup')\n",
    "#             , pl.col('pyIssue')\n",
    "#             , pl.col('pyName')])\n",
    "#         .alias('context_keys')\n",
    "#     ])\n",
    "#     file_to = f'../data/small-3000-ctx/{f.split('/')[-1]}'\n",
    "#     df.write_parquet(file_to)"
   ]
  },
  {
   "cell_type": "code",
   "execution_count": 7,
   "metadata": {},
   "outputs": [],
   "source": [
    "# df.head()"
   ]
  },
  {
   "cell_type": "code",
   "execution_count": null,
   "metadata": {},
   "outputs": [],
   "source": []
  }
 ],
 "metadata": {
  "kernelspec": {
   "display_name": ".venv",
   "language": "python",
   "name": "python3"
  },
  "language_info": {
   "codemirror_mode": {
    "name": "ipython",
    "version": 3
   },
   "file_extension": ".py",
   "mimetype": "text/x-python",
   "name": "python",
   "nbconvert_exporter": "python",
   "pygments_lexer": "ipython3",
   "version": "3.13.1"
  }
 },
 "nbformat": 4,
 "nbformat_minor": 2
}
