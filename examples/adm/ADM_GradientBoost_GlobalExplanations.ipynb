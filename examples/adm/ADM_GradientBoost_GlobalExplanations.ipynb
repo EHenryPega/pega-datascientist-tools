{
 "cells": [
  {
   "cell_type": "markdown",
   "metadata": {},
   "source": [
    "## Generate Aggregations"
   ]
  },
  {
   "cell_type": "code",
   "execution_count": 1,
   "metadata": {},
   "outputs": [
    {
     "data": {
      "text/plain": [
       "<polars.config.Config at 0x109316510>"
      ]
     },
     "execution_count": 1,
     "metadata": {},
     "output_type": "execute_result"
    }
   ],
   "source": [
    "from pdstools.explanations import GradientBoostGlobalExplanations\n",
    "from datetime import datetime\n",
    "import polars as pl\n",
    "pl.Config(fmt_str_lengths=1000, tbl_width_chars=1000)"
   ]
  },
  {
   "cell_type": "markdown",
   "metadata": {},
   "source": [
    "## Processing Data\n",
    "\n",
    "Here we process explanation data for an Adaptive Gradient Boost Model in NBA"
   ]
  },
  {
   "cell_type": "code",
   "execution_count": 2,
   "metadata": {},
   "outputs": [],
   "source": [
    "agg = GradientBoostGlobalExplanations(\n",
    "    end_date = datetime(2025, 3, 28),\n",
    "    model_name = 'AdaptiveBoostCT',\n",
    "    data_folder='/Users/henre/Repositories/pega-datascientist-tools/data/agb/explanations',\n",
    "    overwrite=True)\n",
    "    \n",
    "agg.process()"
   ]
  },
  {
   "cell_type": "markdown",
   "metadata": {},
   "source": [
    "## Graphing results"
   ]
  },
  {
   "cell_type": "code",
   "execution_count": 3,
   "metadata": {},
   "outputs": [
    {
     "data": {
      "application/vnd.jupyter.widget-view+json": {
       "model_id": "e78d1146e88a4bb5af06d371cc20ed31",
       "version_major": 2,
       "version_minor": 0
      },
      "text/plain": [
       "VBox(children=(HTML(value='<h2>Context Filter</h2>'), HBox(children=(VBox(children=(Combobox(value='', descrip…"
      ]
     },
     "metadata": {},
     "output_type": "display_data"
    }
   ],
   "source": [
    "agg.explore()"
   ]
  },
  {
   "cell_type": "code",
   "execution_count": null,
   "metadata": {},
   "outputs": [],
   "source": [
    "explorer.display()"
   ]
  },
  {
   "cell_type": "code",
   "execution_count": 5,
   "metadata": {},
   "outputs": [],
   "source": [
    "import polars as pl"
   ]
  },
  {
   "cell_type": "code",
   "execution_count": 8,
   "metadata": {},
   "outputs": [],
   "source": [
    "df = pl.read_parquet('.tmp/out/NUMERIC_BATCH_2.parquet')"
   ]
  },
  {
   "cell_type": "code",
   "execution_count": 9,
   "metadata": {},
   "outputs": [
    {
     "data": {
      "text/html": [
       "<div><style>\n",
       ".dataframe > thead > tr,\n",
       ".dataframe > tbody > tr {\n",
       "  text-align: right;\n",
       "  white-space: pre-wrap;\n",
       "}\n",
       "</style>\n",
       "<small>shape: (5, 10)</small><table border=\"1\" class=\"dataframe\"><thead><tr><th>partition</th><th>predictor_name</th><th>predictor_type</th><th>bin_contents</th><th>bin_order</th><th>contribution_abs</th><th>contribution</th><th>contribution_0</th><th>contribution_100</th><th>frequency</th></tr><tr><td>str</td><td>str</td><td>str</td><td>str</td><td>str</td><td>f64</td><td>f64</td><td>f64</td><td>f64</td><td>i64</td></tr></thead><tbody><tr><td>&quot;{&quot;partition&quot;:{&quot;pyChannel&quot;:&quot;PegaBatch&quot;,&quot;pyDirection&quot;:&quot;E2E Test&quot;,&quot;pyGroup&quot;:&quot;E2E Test&quot;,&quot;pyIssue&quot;:&quot;Batch&quot;,&quot;pyName&quot;:&quot;P12&quot;}}&quot;</td><td>&quot;NumX&quot;</td><td>&quot;NUMERIC&quot;</td><td>&quot;MISSING&quot;</td><td>&quot;MISSING&quot;</td><td>0.004256</td><td>-0.002933</td><td>-0.014812</td><td>0.01522</td><td>123</td></tr><tr><td>&quot;{&quot;partition&quot;:{&quot;pyChannel&quot;:&quot;PegaBatch&quot;,&quot;pyDirection&quot;:&quot;E2E Test&quot;,&quot;pyGroup&quot;:&quot;E2E Test&quot;,&quot;pyIssue&quot;:&quot;Batch&quot;,&quot;pyName&quot;:&quot;P20&quot;}}&quot;</td><td>&quot;NumX&quot;</td><td>&quot;NUMERIC&quot;</td><td>&quot;MISSING&quot;</td><td>&quot;MISSING&quot;</td><td>0.012153</td><td>-0.011561</td><td>-0.025888</td><td>0.010741</td><td>119</td></tr><tr><td>&quot;{&quot;partition&quot;:{&quot;pyChannel&quot;:&quot;PegaBatch&quot;,&quot;pyDirection&quot;:&quot;E2E Test&quot;,&quot;pyGroup&quot;:&quot;E2E Test&quot;,&quot;pyIssue&quot;:&quot;Batch&quot;,&quot;pyName&quot;:&quot;P10&quot;}}&quot;</td><td>&quot;Age&quot;</td><td>&quot;NUMERIC&quot;</td><td>&quot;MISSING&quot;</td><td>&quot;MISSING&quot;</td><td>0.021067</td><td>-0.020893</td><td>-0.034704</td><td>0.00233</td><td>107</td></tr><tr><td>&quot;{&quot;partition&quot;:{&quot;pyChannel&quot;:&quot;PegaBatch&quot;,&quot;pyDirection&quot;:&quot;E2E Test&quot;,&quot;pyGroup&quot;:&quot;E2E Test&quot;,&quot;pyIssue&quot;:&quot;Batch&quot;,&quot;pyName&quot;:&quot;P3&quot;}}&quot;</td><td>&quot;IncomeDouble&quot;</td><td>&quot;NUMERIC&quot;</td><td>&quot;MISSING&quot;</td><td>&quot;MISSING&quot;</td><td>0.0</td><td>0.0</td><td>0.0</td><td>0.0</td><td>2550</td></tr><tr><td>&quot;{&quot;partition&quot;:{&quot;pyChannel&quot;:&quot;PegaBatch&quot;,&quot;pyDirection&quot;:&quot;E2E Test&quot;,&quot;pyGroup&quot;:&quot;E2E Test&quot;,&quot;pyIssue&quot;:&quot;Batch&quot;,&quot;pyName&quot;:&quot;P7&quot;}}&quot;</td><td>&quot;NumX&quot;</td><td>&quot;NUMERIC&quot;</td><td>&quot;MISSING&quot;</td><td>&quot;MISSING&quot;</td><td>0.003579</td><td>-0.00011</td><td>-0.010166</td><td>0.015361</td><td>121</td></tr></tbody></table></div>"
      ],
      "text/plain": [
       "shape: (5, 10)\n",
       "┌────────────────────────────────────────────────────────────────────────────────────────────────────────────────────────┬────────────────┬────────────────┬──────────────┬───┬──────────────┬────────────────┬──────────────────┬───────────┐\n",
       "│ partition                                                                                                              ┆ predictor_name ┆ predictor_type ┆ bin_contents ┆ … ┆ contribution ┆ contribution_0 ┆ contribution_100 ┆ frequency │\n",
       "│ ---                                                                                                                    ┆ ---            ┆ ---            ┆ ---          ┆   ┆ ---          ┆ ---            ┆ ---              ┆ ---       │\n",
       "│ str                                                                                                                    ┆ str            ┆ str            ┆ str          ┆   ┆ f64          ┆ f64            ┆ f64              ┆ i64       │\n",
       "╞════════════════════════════════════════════════════════════════════════════════════════════════════════════════════════╪════════════════╪════════════════╪══════════════╪═══╪══════════════╪════════════════╪══════════════════╪═══════════╡\n",
       "│ {\"partition\":{\"pyChannel\":\"PegaBatch\",\"pyDirection\":\"E2E Test\",\"pyGroup\":\"E2E Test\",\"pyIssue\":\"Batch\",\"pyName\":\"P12\"}} ┆ NumX           ┆ NUMERIC        ┆ MISSING      ┆ … ┆ -0.002933    ┆ -0.014812      ┆ 0.01522          ┆ 123       │\n",
       "│ {\"partition\":{\"pyChannel\":\"PegaBatch\",\"pyDirection\":\"E2E Test\",\"pyGroup\":\"E2E Test\",\"pyIssue\":\"Batch\",\"pyName\":\"P20\"}} ┆ NumX           ┆ NUMERIC        ┆ MISSING      ┆ … ┆ -0.011561    ┆ -0.025888      ┆ 0.010741         ┆ 119       │\n",
       "│ {\"partition\":{\"pyChannel\":\"PegaBatch\",\"pyDirection\":\"E2E Test\",\"pyGroup\":\"E2E Test\",\"pyIssue\":\"Batch\",\"pyName\":\"P10\"}} ┆ Age            ┆ NUMERIC        ┆ MISSING      ┆ … ┆ -0.020893    ┆ -0.034704      ┆ 0.00233          ┆ 107       │\n",
       "│ {\"partition\":{\"pyChannel\":\"PegaBatch\",\"pyDirection\":\"E2E Test\",\"pyGroup\":\"E2E Test\",\"pyIssue\":\"Batch\",\"pyName\":\"P3\"}}  ┆ IncomeDouble   ┆ NUMERIC        ┆ MISSING      ┆ … ┆ 0.0          ┆ 0.0            ┆ 0.0              ┆ 2550      │\n",
       "│ {\"partition\":{\"pyChannel\":\"PegaBatch\",\"pyDirection\":\"E2E Test\",\"pyGroup\":\"E2E Test\",\"pyIssue\":\"Batch\",\"pyName\":\"P7\"}}  ┆ NumX           ┆ NUMERIC        ┆ MISSING      ┆ … ┆ -0.00011     ┆ -0.010166      ┆ 0.015361         ┆ 121       │\n",
       "└────────────────────────────────────────────────────────────────────────────────────────────────────────────────────────┴────────────────┴────────────────┴──────────────┴───┴──────────────┴────────────────┴──────────────────┴───────────┘"
      ]
     },
     "execution_count": 9,
     "metadata": {},
     "output_type": "execute_result"
    }
   ],
   "source": [
    "df.head()"
   ]
  },
  {
   "cell_type": "code",
   "execution_count": null,
   "metadata": {},
   "outputs": [],
   "source": []
  }
 ],
 "metadata": {
  "kernelspec": {
   "display_name": "Python 3 (ipykernel)",
   "language": "python",
   "name": "python3"
  },
  "language_info": {
   "codemirror_mode": {
    "name": "ipython",
    "version": 3
   },
   "file_extension": ".py",
   "mimetype": "text/x-python",
   "name": "python",
   "nbconvert_exporter": "python",
   "pygments_lexer": "ipython3",
   "version": "3.13.1"
  }
 },
 "nbformat": 4,
 "nbformat_minor": 4
}
