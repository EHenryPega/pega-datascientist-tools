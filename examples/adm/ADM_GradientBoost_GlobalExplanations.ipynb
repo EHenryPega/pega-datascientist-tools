{
 "cells": [
  {
   "cell_type": "markdown",
   "metadata": {},
   "source": [
    "## Generate Aggregations"
   ]
  },
  {
   "cell_type": "code",
   "execution_count": 6,
   "metadata": {},
   "outputs": [
    {
     "data": {
      "text/plain": [
       "<polars.config.Config at 0x11e6a0cd0>"
      ]
     },
     "execution_count": 6,
     "metadata": {},
     "output_type": "execute_result"
    }
   ],
   "source": [
    "from pdstools import GradientBoostGlobalExplanations, PredictorContributionExplorer\n",
    "from datetime import datetime\n",
    "import polars as pl\n",
    "pl.Config(fmt_str_lengths=1000, tbl_width_chars=1000)"
   ]
  },
  {
   "cell_type": "markdown",
   "metadata": {},
   "source": [
    "## Processing Data\n",
    "\n",
    "Here we process explanation data for an Adaptive Gradient Boost Model in NBA"
   ]
  },
  {
   "cell_type": "code",
   "execution_count": 11,
   "metadata": {},
   "outputs": [
    {
     "name": "stdout",
     "output_type": "stream",
     "text": [
      "Selected files:= ['/Users/henre/Repositories/pega-datascientist-tools/data/agb/explanations/raphanus/raphanus_model_20250213.parquet']\n",
      "Processed NUMERIC batch 1, group: 20, len: 20\n",
      "Processed SYMBOLIC batch 1, group: 20, len: 20\n"
     ]
    }
   ],
   "source": [
    "agg = GradientBoostGlobalExplanations(\n",
    "    nb_days=1,\n",
    "    start_date = datetime(2025, 2, 13),\n",
    "    model_name = 'raphanus_model',\n",
    "    files_location='/Users/henre/Repositories/pega-datascientist-tools/data/agb/explanations/raphanus',\n",
    "    batch_limit=20,\n",
    "    memory_limit=2,\n",
    "    thread_count=4)\n",
    "    \n",
    "agg.process()"
   ]
  },
  {
   "cell_type": "markdown",
   "metadata": {},
   "source": [
    "## Graphing results"
   ]
  },
  {
   "cell_type": "code",
   "execution_count": 12,
   "metadata": {},
   "outputs": [],
   "source": [
    "explorer = PredictorContributionExplorer()"
   ]
  },
  {
   "cell_type": "code",
   "execution_count": 13,
   "metadata": {},
   "outputs": [
    {
     "data": {
      "application/vnd.jupyter.widget-view+json": {
       "model_id": "ea88bdc4a4694ada8229c4c042ef7e6f",
       "version_major": 2,
       "version_minor": 0
      },
      "text/plain": [
       "VBox(children=(HTML(value='<h2>Context Filter</h2>'), HBox(children=(VBox(children=(Combobox(value='', descrip…"
      ]
     },
     "metadata": {},
     "output_type": "display_data"
    }
   ],
   "source": [
    "explorer.display()"
   ]
  },
  {
   "cell_type": "code",
   "execution_count": null,
   "metadata": {},
   "outputs": [],
   "source": []
  }
 ],
 "metadata": {
  "kernelspec": {
   "display_name": "Python 3 (ipykernel)",
   "language": "python",
   "name": "python3"
  },
  "language_info": {
   "codemirror_mode": {
    "name": "ipython",
    "version": 3
   },
   "file_extension": ".py",
   "mimetype": "text/x-python",
   "name": "python",
   "nbconvert_exporter": "python",
   "pygments_lexer": "ipython3",
   "version": "3.13.1"
  }
 },
 "nbformat": 4,
 "nbformat_minor": 4
}
