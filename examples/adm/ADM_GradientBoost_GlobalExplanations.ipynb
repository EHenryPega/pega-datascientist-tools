{
 "cells": [
  {
   "cell_type": "markdown",
   "metadata": {},
   "source": [
    "## Generate Aggregations"
   ]
  },
  {
   "cell_type": "code",
   "execution_count": 11,
   "metadata": {},
   "outputs": [
    {
     "data": {
      "text/plain": [
       "<polars.config.Config at 0x13530da70>"
      ]
     },
     "execution_count": 11,
     "metadata": {},
     "output_type": "execute_result"
    }
   ],
   "source": [
    "from pdstools.explanations import GradientBoostGlobalExplanations, PredictorContributionExplorer\n",
    "from datetime import datetime\n",
    "import polars as pl\n",
    "pl.Config(fmt_str_lengths=1000, tbl_width_chars=1000)"
   ]
  },
  {
   "cell_type": "markdown",
   "metadata": {},
   "source": [
    "## Processing Data\n",
    "\n",
    "Here we process explanation data for an Adaptive Gradient Boost Model in NBA"
   ]
  },
  {
   "cell_type": "code",
   "execution_count": 15,
   "metadata": {},
   "outputs": [
    {
     "name": "stdout",
     "output_type": "stream",
     "text": [
      "Selected files:= ['/Users/henre/Repositories/pega-datascientist-tools/data/agb/explanations/dummy/dummy_model_20250213000000.parquet']\n",
      "Processed PREDICTOR_TYPE.NUMERIC batch 10, group: 200, len: 20\n",
      "Processed PREDICTOR_TYPE.NUMERIC batch 20, group: 400, len: 20\n",
      "Processed PREDICTOR_TYPE.NUMERIC batch 30, group: 600, len: 20\n",
      "Processed PREDICTOR_TYPE.NUMERIC batch 40, group: 800, len: 20\n",
      "Processed PREDICTOR_TYPE.NUMERIC batch 50, group: 1000, len: 20\n",
      "Processed PREDICTOR_TYPE.NUMERIC batch 60, group: 1200, len: 20\n",
      "Processed PREDICTOR_TYPE.NUMERIC batch 70, group: 1400, len: 20\n",
      "Processed PREDICTOR_TYPE.NUMERIC batch 80, group: 1600, len: 20\n",
      "Processed PREDICTOR_TYPE.NUMERIC batch 90, group: 1800, len: 20\n",
      "Processed PREDICTOR_TYPE.NUMERIC batch 100, group: 2000, len: 20\n",
      "Processed PREDICTOR_TYPE.NUMERIC batch 110, group: 2200, len: 20\n",
      "Processed PREDICTOR_TYPE.NUMERIC batch 120, group: 2400, len: 20\n",
      "Processed PREDICTOR_TYPE.NUMERIC batch 130, group: 2600, len: 20\n",
      "Processed PREDICTOR_TYPE.NUMERIC batch 140, group: 2800, len: 20\n",
      "Processed PREDICTOR_TYPE.NUMERIC batch 150, group: 3000, len: 20\n",
      "Processed PREDICTOR_TYPE.SYMBOLIC batch 10, group: 200, len: 20\n",
      "Processed PREDICTOR_TYPE.SYMBOLIC batch 20, group: 400, len: 20\n",
      "Processed PREDICTOR_TYPE.SYMBOLIC batch 30, group: 600, len: 20\n",
      "Processed PREDICTOR_TYPE.SYMBOLIC batch 40, group: 800, len: 20\n",
      "Processed PREDICTOR_TYPE.SYMBOLIC batch 50, group: 1000, len: 20\n",
      "Processed PREDICTOR_TYPE.SYMBOLIC batch 60, group: 1200, len: 20\n",
      "Processed PREDICTOR_TYPE.SYMBOLIC batch 70, group: 1400, len: 20\n",
      "Processed PREDICTOR_TYPE.SYMBOLIC batch 80, group: 1600, len: 20\n",
      "Processed PREDICTOR_TYPE.SYMBOLIC batch 90, group: 1800, len: 20\n",
      "Processed PREDICTOR_TYPE.SYMBOLIC batch 100, group: 2000, len: 20\n",
      "Processed PREDICTOR_TYPE.SYMBOLIC batch 110, group: 2200, len: 20\n",
      "Processed PREDICTOR_TYPE.SYMBOLIC batch 120, group: 2400, len: 20\n",
      "Processed PREDICTOR_TYPE.SYMBOLIC batch 130, group: 2600, len: 20\n",
      "Processed PREDICTOR_TYPE.SYMBOLIC batch 140, group: 2800, len: 20\n",
      "Processed PREDICTOR_TYPE.SYMBOLIC batch 150, group: 3000, len: 20\n"
     ]
    }
   ],
   "source": [
    "agg = GradientBoostGlobalExplanations(\n",
    "    nb_days=1,\n",
    "    start_date = datetime(2025, 2, 13),\n",
    "    model_name = 'dummy',\n",
    "    files_location='/Users/henre/Repositories/pega-datascientist-tools/data/agb/explanations/dummy',\n",
    "    batch_limit=20,\n",
    "    memory_limit=2,\n",
    "    thread_count=4)\n",
    "    \n",
    "agg.process()"
   ]
  },
  {
   "cell_type": "markdown",
   "metadata": {},
   "source": [
    "## Graphing results"
   ]
  },
  {
   "cell_type": "code",
   "execution_count": 18,
   "metadata": {},
   "outputs": [],
   "source": [
    "explorer = PredictorContributionExplorer()"
   ]
  },
  {
   "cell_type": "code",
   "execution_count": 21,
   "metadata": {},
   "outputs": [
    {
     "data": {
      "application/vnd.jupyter.widget-view+json": {
       "model_id": "9ffe19392c964116ab872bb53e21b1b3",
       "version_major": 2,
       "version_minor": 0
      },
      "text/plain": [
       "VBox(children=(HTML(value='<h2>Context Filter</h2>'), HBox(children=(VBox(children=(Combobox(value='', descrip…"
      ]
     },
     "metadata": {},
     "output_type": "display_data"
    }
   ],
   "source": [
    "explorer.display()"
   ]
  },
  {
   "cell_type": "code",
   "execution_count": null,
   "metadata": {},
   "outputs": [],
   "source": []
  }
 ],
 "metadata": {
  "kernelspec": {
   "display_name": "Python 3 (ipykernel)",
   "language": "python",
   "name": "python3"
  },
  "language_info": {
   "codemirror_mode": {
    "name": "ipython",
    "version": 3
   },
   "file_extension": ".py",
   "mimetype": "text/x-python",
   "name": "python",
   "nbconvert_exporter": "python",
   "pygments_lexer": "ipython3",
   "version": "3.13.1"
  }
 },
 "nbformat": 4,
 "nbformat_minor": 4
}
