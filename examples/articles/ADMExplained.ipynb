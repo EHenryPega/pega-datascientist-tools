{
 "cells": [
  {
   "cell_type": "markdown",
   "metadata": {},
   "source": [
    "# ADM Explained\n",
    "\n",
    "__Pega__\n",
    "\n",
    "__2023-03-15__\n",
    "\n",
    "This notebook shows exactly how all the values in an ADM model report are calculated. It also shows how the propensity is calculated for a particular customer.\n",
    "\n",
    "We use one of the shipped datamart exports for the example. This is a model very similar to one used in some of the ADM PowerPoint/Excel deep dive examples. To load your own data, see the vignette on ADM reporting for examples.\n",
    "\n",
    "For the example we use one particular model: AutoNew36Months over SMS. You can use your own data and select a different model.\n",
    "\n",
    "To explain the ADM model report, we use one of the IH predictors as an example. Swap for any other predictor when using different data.\n",
    "\n"
   ]
  },
  {
   "cell_type": "code",
   "execution_count": 2,
   "metadata": {
    "nbsphinx": "hidden"
   },
   "outputs": [
    {
     "data": {
      "text/plain": [
       "polars.config.Config"
      ]
     },
     "execution_count": 2,
     "metadata": {},
     "output_type": "execute_result"
    }
   ],
   "source": [
    "import sys\n",
    "import polars as pl\n",
    "import numpy as np\n",
    "from plotly.subplots import make_subplots\n",
    "import plotly.graph_objects as go\n",
    "import plotly.express as px\n",
    "import plotly.io as pio\n",
    "\n",
    "pio.renderers.default = \"notebook_connected\"\n",
    "\n",
    "sys.path.append(\"../../../\")\n",
    "sys.path.append('../../python')\n",
    "from pdstools import datasets\n",
    "from pdstools.utils import cdh_utils\n",
    "\n",
    "pl.Config.set_fmt_str_lengths(100)"
   ]
  },
  {
   "cell_type": "code",
   "execution_count": 17,
   "metadata": {
    "nbsphinx": "hidden"
   },
   "outputs": [],
   "source": [
    "adm_datamart = datasets.CDHSample(subset=False)\n",
    "\n",
    "model = adm_datamart.combinedData.filter(\n",
    "    (pl.col(\"Name\") == \"AutoNew36Months\") & (pl.col(\"Channel\") == \"SMS\")\n",
    ")\n",
    "\n",
    "modelpredictors = adm_datamart.combinedData.filter(\n",
    "    (pl.col(\"ModelID\") == model.collect().select(\"ModelID\")[0, 0])\n",
    "    & (pl.col(\"EntryType\") != \"Inactive\")\n",
    ").with_columns(pl.concat_str([\"Issue\", \"Group\"], separator=\"/\").alias(\"Action\")).collect()\n",
    "\n",
    "predictorbinning = modelpredictors.filter(\n",
    "    pl.col(\"PredictorName\") == \"IH.SMS.Outbound.Accepted.pyHistoricalOutcomeCount\"\n",
    ").sort(\"BinIndex\")"
   ]
  },
  {
   "cell_type": "markdown",
   "metadata": {},
   "source": [
    "## Model Overview"
   ]
  },
  {
   "cell_type": "code",
   "execution_count": 21,
   "metadata": {
    "nbsphinx": "hidden"
   },
   "outputs": [],
   "source": [
    "model_overview = modelpredictors.select(pl.col(\"Action\").unique(),\n",
    "                       pl.col(\"Channel\").unique(),\n",
    "                       pl.col(\"Name\").unique(),\n",
    "                       pl.col(\"PredictorName\").unique().list().alias(\"Active Predictors\"),\n",
    "                       (pl.col(\"Performance\").unique() * 100).alias(\"Model Performance (AUC)\")\n",
    "                       ).to_pandas().T"
   ]
  },
  {
   "cell_type": "code",
   "execution_count": 22,
   "metadata": {},
   "outputs": [
    {
     "data": {
      "text/html": [
       "<div>\n",
       "<style scoped>\n",
       "    .dataframe tbody tr th:only-of-type {\n",
       "        vertical-align: middle;\n",
       "    }\n",
       "\n",
       "    .dataframe tbody tr th {\n",
       "        vertical-align: top;\n",
       "    }\n",
       "\n",
       "    .dataframe thead th {\n",
       "        text-align: right;\n",
       "    }\n",
       "</style>\n",
       "<table border=\"1\" class=\"dataframe\">\n",
       "  <thead>\n",
       "    <tr style=\"text-align: right;\">\n",
       "      <th></th>\n",
       "      <th>0</th>\n",
       "    </tr>\n",
       "  </thead>\n",
       "  <tbody>\n",
       "    <tr>\n",
       "      <th>Action</th>\n",
       "      <td>Sales/AutoLoans</td>\n",
       "    </tr>\n",
       "    <tr>\n",
       "      <th>Channel</th>\n",
       "      <td>SMS</td>\n",
       "    </tr>\n",
       "    <tr>\n",
       "      <th>Name</th>\n",
       "      <td>AutoNew36Months</td>\n",
       "    </tr>\n",
       "    <tr>\n",
       "      <th>Active Predictors</th>\n",
       "      <td>[Customer.AnnualIncome, Customer.CLV_VALUE, IH...</td>\n",
       "    </tr>\n",
       "    <tr>\n",
       "      <th>Model Performance (AUC)</th>\n",
       "      <td>60.5845</td>\n",
       "    </tr>\n",
       "  </tbody>\n",
       "</table>\n",
       "</div>"
      ],
      "text/plain": [
       "                                                                         0\n",
       "Action                                                     Sales/AutoLoans\n",
       "Channel                                                                SMS\n",
       "Name                                                       AutoNew36Months\n",
       "Active Predictors        [Customer.AnnualIncome, Customer.CLV_VALUE, IH...\n",
       "Model Performance (AUC)                                            60.5845"
      ]
     },
     "execution_count": 22,
     "metadata": {},
     "output_type": "execute_result"
    }
   ],
   "source": [
    "model_overview"
   ]
  },
  {
   "cell_type": "markdown",
   "metadata": {},
   "source": [
    "## Predictor binning for IH.SMS.Outbound.Accepted.pyHistoricalOutcomeCount\n"
   ]
  },
  {
   "attachments": {},
   "cell_type": "markdown",
   "metadata": {},
   "source": [
    "The ADM model report will show predictor binning similar to this, with all displayed data coming from fields in the ADM data mart. In subsequent sections we’ll show how all the data is derived from the number of positives and negatives in each of the bins.\n",
    "\n"
   ]
  },
  {
   "cell_type": "code",
   "execution_count": 24,
   "metadata": {
    "nbsphinx": "hidden"
   },
   "outputs": [],
   "source": [
    "predictor_binning_overview = predictorbinning.groupby(\"PredictorName\").agg(\n",
    "    pl.first(\"ResponseCount\").alias(\"Responses\"),\n",
    "    pl.n_unique(\"BinIndex\").alias(\"# Bins\"),\n",
    "    (pl.first(\"PerformanceBin\") * 100).alias(\"Predictor Performance(AUC)\"),\n",
    ").rename({\"PredictorName\":\"Name\"}).transpose(include_header=True)"
   ]
  },
  {
   "cell_type": "code",
   "execution_count": 25,
   "metadata": {},
   "outputs": [
    {
     "data": {
      "text/html": [
       "<div><style>\n",
       ".dataframe > thead > tr > th,\n",
       ".dataframe > tbody > tr > td {\n",
       "  text-align: right;\n",
       "}\n",
       "</style>\n",
       "<small>shape: (4, 2)</small><table border=\"1\" class=\"dataframe\"><thead><tr><th>column</th><th>column_0</th></tr><tr><td>str</td><td>str</td></tr></thead><tbody><tr><td>&quot;Name&quot;</td><td>&quot;IH.SMS.Outbound.Accepted.pyHistoricalOutcomeCount&quot;</td></tr><tr><td>&quot;Responses&quot;</td><td>&quot;5602&quot;</td></tr><tr><td>&quot;# Bins&quot;</td><td>&quot;5&quot;</td></tr><tr><td>&quot;Predictor Performance(AUC)&quot;</td><td>&quot;65.4153&quot;</td></tr></tbody></table></div>"
      ],
      "text/plain": [
       "shape: (4, 2)\n",
       "┌────────────────────────────┬───────────────────────────────────────────────────┐\n",
       "│ column                     ┆ column_0                                          │\n",
       "│ ---                        ┆ ---                                               │\n",
       "│ str                        ┆ str                                               │\n",
       "╞════════════════════════════╪═══════════════════════════════════════════════════╡\n",
       "│ Name                       ┆ IH.SMS.Outbound.Accepted.pyHistoricalOutcomeCount │\n",
       "│ Responses                  ┆ 5602                                              │\n",
       "│ # Bins                     ┆ 5                                                 │\n",
       "│ Predictor Performance(AUC) ┆ 65.4153                                           │\n",
       "└────────────────────────────┴───────────────────────────────────────────────────┘"
      ]
     },
     "execution_count": 25,
     "metadata": {},
     "output_type": "execute_result"
    }
   ],
   "source": [
    "predictor_binning_overview"
   ]
  },
  {
   "cell_type": "code",
   "execution_count": 26,
   "metadata": {
    "nbsphinx": "hidden"
   },
   "outputs": [],
   "source": [
    "Positives = pl.col(\"Positives\")\n",
    "Negatives = pl.col(\"Negatives\")\n",
    "BinPositives = pl.col(\"BinPositives\")\n",
    "BinNegatives = pl.col(\"BinNegatives\")\n",
    "sumPositives = pl.sum(\"BinPositives\")\n",
    "sumNegatives = pl.sum(\"BinNegatives\")\n",
    "\n",
    "groups = [\"Name\", \"PredictorName\", \"Channel\"]\n",
    "N = Positives.count().over(groups)\n",
    "\n",
    "\n",
    "\n",
    "predictorbinning_data = predictorbinning.select(\n",
    "    pl.col(\"BinSymbol\").alias(\"Range/Symbol\"),\n",
    "    ((BinPositives + BinNegatives) / (sumPositives + sumNegatives))\n",
    "    .round(2)\n",
    "    .alias(\"Responses (%)\"),\n",
    "    BinPositives.alias(\"Positives\"),\n",
    "    (BinPositives / sumPositives).round(2).alias(\"Positives (%)\"),\n",
    "    BinNegatives.alias(\"Negatives\"),\n",
    "    (BinNegatives/sumNegatives).round(2).alias(\"Negatives (%)\"),\n",
    "    (BinPositives / (BinPositives + BinNegatives))\n",
    "    .round(4)\n",
    "    .alias(\"Propensity (%)\"),\n",
    "    pl.col(\"ZRatio\"),\n",
    "    pl.col(\"Lift\"),\n",
    ")"
   ]
  },
  {
   "cell_type": "code",
   "execution_count": 27,
   "metadata": {},
   "outputs": [
    {
     "data": {
      "text/html": [
       "<div><style>\n",
       ".dataframe > thead > tr > th,\n",
       ".dataframe > tbody > tr > td {\n",
       "  text-align: right;\n",
       "}\n",
       "</style>\n",
       "<small>shape: (5, 9)</small><table border=\"1\" class=\"dataframe\"><thead><tr><th>Range/Symbol</th><th>Responses (%)</th><th>Positives</th><th>Positives (%)</th><th>Negatives</th><th>Negatives (%)</th><th>Propensity (%)</th><th>ZRatio</th><th>Lift</th></tr><tr><td>str</td><td>f64</td><td>i64</td><td>f64</td><td>i64</td><td>f64</td><td>f64</td><td>f64</td><td>f64</td></tr></thead><tbody><tr><td>&quot;MISSING&quot;</td><td>0.0</td><td>0</td><td>0.0</td><td>5</td><td>0.0</td><td>0.0</td><td>-2.237073</td><td>0.0</td></tr><tr><td>&quot;&lt;7.08&quot;</td><td>0.4</td><td>7</td><td>0.19</td><td>2208</td><td>0.4</td><td>0.0032</td><td>-3.051114</td><td>0.491773</td></tr><tr><td>&quot;[7.08, 12.04&gt;&quot;</td><td>0.34</td><td>11</td><td>0.31</td><td>1919</td><td>0.34</td><td>0.0057</td><td>-0.509054</td><td>0.886903</td></tr><tr><td>&quot;[12.04, 18.04&gt;&quot;</td><td>0.2</td><td>12</td><td>0.33</td><td>1082</td><td>0.19</td><td>0.011</td><td>1.764386</td><td>1.706886</td></tr><tr><td>&quot;&gt;=18.04&quot;</td><td>0.06</td><td>6</td><td>0.17</td><td>352</td><td>0.06</td><td>0.0168</td><td>1.662827</td><td>2.608007</td></tr></tbody></table></div>"
      ],
      "text/plain": [
       "shape: (5, 9)\n",
       "┌────────────┬────────────┬─────────┬────────────┬─────┬────────────┬────────────┬──────┬──────────┐\n",
       "│ Range/Symb ┆ Responses  ┆ Positiv ┆ Positives  ┆ ... ┆ Negatives  ┆ Propensity ┆ ZRat ┆ Lift     │\n",
       "│ ol         ┆ (%)        ┆ es      ┆ (%)        ┆     ┆ (%)        ┆ (%)        ┆ io   ┆ ---      │\n",
       "│ ---        ┆ ---        ┆ ---     ┆ ---        ┆     ┆ ---        ┆ ---        ┆ ---  ┆ f64      │\n",
       "│ str        ┆ f64        ┆ i64     ┆ f64        ┆     ┆ f64        ┆ f64        ┆ f64  ┆          │\n",
       "╞════════════╪════════════╪═════════╪════════════╪═════╪════════════╪════════════╪══════╪══════════╡\n",
       "│ MISSING    ┆ 0.0        ┆ 0       ┆ 0.0        ┆ ... ┆ 0.0        ┆ 0.0        ┆ -2.2 ┆ 0.0      │\n",
       "│            ┆            ┆         ┆            ┆     ┆            ┆            ┆ 3707 ┆          │\n",
       "│            ┆            ┆         ┆            ┆     ┆            ┆            ┆ 3    ┆          │\n",
       "│ <7.08      ┆ 0.4        ┆ 7       ┆ 0.19       ┆ ... ┆ 0.4        ┆ 0.0032     ┆ -3.0 ┆ 0.491773 │\n",
       "│            ┆            ┆         ┆            ┆     ┆            ┆            ┆ 5111 ┆          │\n",
       "│            ┆            ┆         ┆            ┆     ┆            ┆            ┆ 4    ┆          │\n",
       "│ [7.08,     ┆ 0.34       ┆ 11      ┆ 0.31       ┆ ... ┆ 0.34       ┆ 0.0057     ┆ -0.5 ┆ 0.886903 │\n",
       "│ 12.04>     ┆            ┆         ┆            ┆     ┆            ┆            ┆ 0905 ┆          │\n",
       "│            ┆            ┆         ┆            ┆     ┆            ┆            ┆ 4    ┆          │\n",
       "│ [12.04,    ┆ 0.2        ┆ 12      ┆ 0.33       ┆ ... ┆ 0.19       ┆ 0.011      ┆ 1.76 ┆ 1.706886 │\n",
       "│ 18.04>     ┆            ┆         ┆            ┆     ┆            ┆            ┆ 4386 ┆          │\n",
       "│ >=18.04    ┆ 0.06       ┆ 6       ┆ 0.17       ┆ ... ┆ 0.06       ┆ 0.0168     ┆ 1.66 ┆ 2.608007 │\n",
       "│            ┆            ┆         ┆            ┆     ┆            ┆            ┆ 2827 ┆          │\n",
       "└────────────┴────────────┴─────────┴────────────┴─────┴────────────┴────────────┴──────┴──────────┘"
      ]
     },
     "execution_count": 27,
     "metadata": {},
     "output_type": "execute_result"
    }
   ],
   "source": [
    "predictorbinning_data"
   ]
  },
  {
   "cell_type": "markdown",
   "metadata": {},
   "source": [
    "## Bin Statistics"
   ]
  },
  {
   "cell_type": "markdown",
   "metadata": {},
   "source": [
    "### Positive and Negative ratios"
   ]
  },
  {
   "cell_type": "markdown",
   "metadata": {},
   "source": [
    "Internally, ADM only keeps track of the total counts of positive and negative responses in each bin. Everything else is derived from those numbers. The percentages and totals are trivially derived, and the propensity is just the number of positives divided by the total. The numbers calculated here match the numbers from the datamart table exactly."
   ]
  },
  {
   "cell_type": "code",
   "execution_count": 6,
   "metadata": {},
   "outputs": [
    {
     "data": {
      "text/html": [
       "<div><style>\n",
       ".dataframe > thead > tr > th,\n",
       ".dataframe > tbody > tr > td {\n",
       "  text-align: right;\n",
       "}\n",
       "</style>\n",
       "<small>shape: (5, 7)</small><table border=\"1\" class=\"dataframe\"><thead><tr><th>Range/Symbol</th><th>Positives</th><th>Negatives</th><th>Responses %</th><th>Positives %</th><th>Negatives %</th><th>Propensity</th></tr><tr><td>str</td><td>i64</td><td>i64</td><td>f64</td><td>f64</td><td>f64</td><td>f64</td></tr></thead><tbody><tr><td>&quot;MISSING&quot;</td><td>0</td><td>5</td><td>0.09</td><td>0.0</td><td>0.09</td><td>0.0</td></tr><tr><td>&quot;&lt;7.08&quot;</td><td>7</td><td>2208</td><td>39.54</td><td>19.44</td><td>39.67</td><td>0.0032</td></tr><tr><td>&quot;[7.08, 12.04&gt;&quot;</td><td>11</td><td>1919</td><td>34.45</td><td>30.56</td><td>34.48</td><td>0.0057</td></tr><tr><td>&quot;[12.04, 18.04&gt;&quot;</td><td>12</td><td>1082</td><td>19.53</td><td>33.33</td><td>19.44</td><td>0.011</td></tr><tr><td>&quot;&gt;=18.04&quot;</td><td>6</td><td>352</td><td>6.39</td><td>16.67</td><td>6.32</td><td>0.0168</td></tr></tbody></table></div>"
      ],
      "text/plain": [
       "shape: (5, 7)\n",
       "┌────────────────┬───────────┬───────────┬─────────────┬─────────────┬─────────────┬────────────┐\n",
       "│ Range/Symbol   ┆ Positives ┆ Negatives ┆ Responses % ┆ Positives % ┆ Negatives % ┆ Propensity │\n",
       "│ ---            ┆ ---       ┆ ---       ┆ ---         ┆ ---         ┆ ---         ┆ ---        │\n",
       "│ str            ┆ i64       ┆ i64       ┆ f64         ┆ f64         ┆ f64         ┆ f64        │\n",
       "╞════════════════╪═══════════╪═══════════╪═════════════╪═════════════╪═════════════╪════════════╡\n",
       "│ MISSING        ┆ 0         ┆ 5         ┆ 0.09        ┆ 0.0         ┆ 0.09        ┆ 0.0        │\n",
       "│ <7.08          ┆ 7         ┆ 2208      ┆ 39.54       ┆ 19.44       ┆ 39.67       ┆ 0.0032     │\n",
       "│ [7.08, 12.04>  ┆ 11        ┆ 1919      ┆ 34.45       ┆ 30.56       ┆ 34.48       ┆ 0.0057     │\n",
       "│ [12.04, 18.04> ┆ 12        ┆ 1082      ┆ 19.53       ┆ 33.33       ┆ 19.44       ┆ 0.011      │\n",
       "│ >=18.04        ┆ 6         ┆ 352       ┆ 6.39        ┆ 16.67       ┆ 6.32        ┆ 0.0168     │\n",
       "└────────────────┴───────────┴───────────┴─────────────┴─────────────┴─────────────┴────────────┘"
      ]
     },
     "execution_count": 6,
     "metadata": {},
     "output_type": "execute_result"
    }
   ],
   "source": [
    "binningDerived = predictorbinning.select(\n",
    "    pl.col(\"BinSymbol\").alias(\"Range/Symbol\"),\n",
    "    BinPositives.alias(\"Positives\"),\n",
    "    BinNegatives.alias(\"Negatives\"),\n",
    "    (((BinPositives + BinNegatives) / (sumPositives + sumNegatives)) * 100)\n",
    "    .round(2)\n",
    "    .alias(\"Responses %\"),\n",
    "    ((BinPositives / sumPositives) * 100).round(2).alias(\"Positives %\"),\n",
    "    ((BinNegatives/sumNegatives) * 100).round(2).alias(\"Negatives %\"),\n",
    "    (BinPositives / (BinPositives + BinNegatives))\n",
    "    .round(4)\n",
    "    .alias(\"Propensity\"),\n",
    ")\n",
    "binningDerived"
   ]
  },
  {
   "cell_type": "markdown",
   "metadata": {},
   "source": [
    "### Lift"
   ]
  },
  {
   "attachments": {},
   "cell_type": "markdown",
   "metadata": {},
   "source": [
    "Lift is the ratio of the propensity in a particular bin over the average propensity. So a value of 1 is the average, larger than 1 means higher propensity, smaller means lower propensity:"
   ]
  },
  {
   "cell_type": "code",
   "execution_count": 7,
   "metadata": {},
   "outputs": [
    {
     "data": {
      "text/html": [
       "<div><style>\n",
       ".dataframe > thead > tr > th,\n",
       ".dataframe > tbody > tr > td {\n",
       "  text-align: right;\n",
       "}\n",
       "</style>\n",
       "<small>shape: (5, 4)</small><table border=\"1\" class=\"dataframe\"><thead><tr><th>Range/Symbol</th><th>Positives</th><th>Negatives</th><th>Lift</th></tr><tr><td>str</td><td>i64</td><td>i64</td><td>f64</td></tr></thead><tbody><tr><td>&quot;MISSING&quot;</td><td>0</td><td>5</td><td>0.0</td></tr><tr><td>&quot;&lt;7.08&quot;</td><td>7</td><td>2208</td><td>0.491773</td></tr><tr><td>&quot;[7.08, 12.04&gt;&quot;</td><td>11</td><td>1919</td><td>0.886903</td></tr><tr><td>&quot;[12.04, 18.04&gt;&quot;</td><td>12</td><td>1082</td><td>1.706886</td></tr><tr><td>&quot;&gt;=18.04&quot;</td><td>6</td><td>352</td><td>2.608007</td></tr></tbody></table></div>"
      ],
      "text/plain": [
       "shape: (5, 4)\n",
       "┌────────────────┬───────────┬───────────┬──────────┐\n",
       "│ Range/Symbol   ┆ Positives ┆ Negatives ┆ Lift     │\n",
       "│ ---            ┆ ---       ┆ ---       ┆ ---      │\n",
       "│ str            ┆ i64       ┆ i64       ┆ f64      │\n",
       "╞════════════════╪═══════════╪═══════════╪══════════╡\n",
       "│ MISSING        ┆ 0         ┆ 5         ┆ 0.0      │\n",
       "│ <7.08          ┆ 7         ┆ 2208      ┆ 0.491773 │\n",
       "│ [7.08, 12.04>  ┆ 11        ┆ 1919      ┆ 0.886903 │\n",
       "│ [12.04, 18.04> ┆ 12        ┆ 1082      ┆ 1.706886 │\n",
       "│ >=18.04        ┆ 6         ┆ 352       ┆ 2.608007 │\n",
       "└────────────────┴───────────┴───────────┴──────────┘"
      ]
     },
     "execution_count": 7,
     "metadata": {},
     "output_type": "execute_result"
    }
   ],
   "source": [
    "sumPositives = pl.sum(\"Positives\")\n",
    "sumNegatives = pl.sum(\"Negatives\")\n",
    "binningDerived.select(\n",
    "    \"Range/Symbol\",\n",
    "    \"Positives\",\n",
    "    \"Negatives\",\n",
    "    (\n",
    "        (Positives / (Positives + Negatives))\n",
    "        / (sumPositives / (Positives + Negatives).sum())\n",
    "    ).alias(\"Lift\"),\n",
    ")\n"
   ]
  },
  {
   "cell_type": "markdown",
   "metadata": {},
   "source": [
    "### Z-Ratio"
   ]
  },
  {
   "attachments": {},
   "cell_type": "markdown",
   "metadata": {},
   "source": [
    "The Z-Ratio is also a measure of the how the propensity in a bin differs from the average, but takes into account the size of the bin and thus is statistically more relevant. It represents the number of standard deviations from the average, so centers around 0. The wider the spread, the better the predictor is.\n",
    "$$\\frac{posFraction-negFraction}{\\sqrt(\\frac{posFraction*(1-posFraction)}{\\sum positives}+\\frac{negFraction*(1-negFraction)}{\\sum negatives})}$$ \n",
    "\n",
    "\n",
    "See [cdh_utils.zRatio()](https://github.com/pegasystems/pega-datascientist-tools/blob/master/python/pdstools/utils/cdh_utils.py#L751) function in pdstools for the implementation of the formula in python"
   ]
  },
  {
   "cell_type": "code",
   "execution_count": 9,
   "metadata": {},
   "outputs": [
    {
     "data": {
      "text/html": [
       "<div><style>\n",
       ".dataframe > thead > tr > th,\n",
       ".dataframe > tbody > tr > td {\n",
       "  text-align: right;\n",
       "}\n",
       "</style>\n",
       "<small>shape: (5, 6)</small><table border=\"1\" class=\"dataframe\"><thead><tr><th>Range/Symbol</th><th>Positives</th><th>Negatives</th><th>Positives %</th><th>Negatives %</th><th>ZRatio</th></tr><tr><td>str</td><td>i64</td><td>i64</td><td>f64</td><td>f64</td><td>f64</td></tr></thead><tbody><tr><td>&quot;MISSING&quot;</td><td>0</td><td>5</td><td>0.0</td><td>0.09</td><td>-2.237073</td></tr><tr><td>&quot;&lt;7.08&quot;</td><td>7</td><td>2208</td><td>19.44</td><td>39.67</td><td>-3.051114</td></tr><tr><td>&quot;[7.08, 12.04&gt;&quot;</td><td>11</td><td>1919</td><td>30.56</td><td>34.48</td><td>-0.509054</td></tr><tr><td>&quot;[12.04, 18.04&gt;&quot;</td><td>12</td><td>1082</td><td>33.33</td><td>19.44</td><td>1.764386</td></tr><tr><td>&quot;&gt;=18.04&quot;</td><td>6</td><td>352</td><td>16.67</td><td>6.32</td><td>1.662827</td></tr></tbody></table></div>"
      ],
      "text/plain": [
       "shape: (5, 6)\n",
       "┌────────────────┬───────────┬───────────┬─────────────┬─────────────┬───────────┐\n",
       "│ Range/Symbol   ┆ Positives ┆ Negatives ┆ Positives % ┆ Negatives % ┆ ZRatio    │\n",
       "│ ---            ┆ ---       ┆ ---       ┆ ---         ┆ ---         ┆ ---       │\n",
       "│ str            ┆ i64       ┆ i64       ┆ f64         ┆ f64         ┆ f64       │\n",
       "╞════════════════╪═══════════╪═══════════╪═════════════╪═════════════╪═══════════╡\n",
       "│ MISSING        ┆ 0         ┆ 5         ┆ 0.0         ┆ 0.09        ┆ -2.237073 │\n",
       "│ <7.08          ┆ 7         ┆ 2208      ┆ 19.44       ┆ 39.67       ┆ -3.051114 │\n",
       "│ [7.08, 12.04>  ┆ 11        ┆ 1919      ┆ 30.56       ┆ 34.48       ┆ -0.509054 │\n",
       "│ [12.04, 18.04> ┆ 12        ┆ 1082      ┆ 33.33       ┆ 19.44       ┆ 1.764386  │\n",
       "│ >=18.04        ┆ 6         ┆ 352       ┆ 16.67       ┆ 6.32        ┆ 1.662827  │\n",
       "└────────────────┴───────────┴───────────┴─────────────┴─────────────┴───────────┘"
      ]
     },
     "execution_count": 9,
     "metadata": {},
     "output_type": "execute_result"
    }
   ],
   "source": [
    "binningDerived.select(\n",
    "    \"Range/Symbol\", \"Positives\", \"Negatives\", \"Positives %\", \"Negatives %\"\n",
    ").with_columns(cdh_utils.zRatio(Positives, Negatives))\n"
   ]
  },
  {
   "cell_type": "markdown",
   "metadata": {},
   "source": [
    "## Predictor AUC\n"
   ]
  },
  {
   "attachments": {},
   "cell_type": "markdown",
   "metadata": {},
   "source": [
    "The predictor AUC is the univariate performance of this predictor against the outcome. This too can be derived from the positives and negatives and\n",
    "there is  a convenient function in pdstools to calculate it directly from the positives and negatives.\n",
    "\n",
    "See [cdh_utls.auc_from_bincounts()](https://github.com/pegasystems/pega-datascientist-tools/blob/master/python/pdstools/utils/cdh_utils.py#L448) function to check how AUC is calculated using positives and negatives."
   ]
  },
  {
   "cell_type": "code",
   "execution_count": 39,
   "metadata": {},
   "outputs": [
    {
     "data": {
      "application/vnd.plotly.v1+json": {
       "config": {
        "plotlyServerURL": "https://plot.ly"
       },
       "data": [
        {
         "hovertemplate": "Specificity=%{x}<br>Sensitivity=%{y}<extra></extra>",
         "legendgroup": "",
         "line": {
          "color": "#1F77B4",
          "dash": "solid"
         },
         "marker": {
          "symbol": "circle"
         },
         "mode": "lines",
         "name": "",
         "orientation": "v",
         "showlegend": false,
         "type": "scatter",
         "x": [
          1,
          0.8333333333333334,
          0.5,
          0.19444444444444445,
          0
         ],
         "xaxis": "x",
         "y": [
          0.0008983111749910168,
          0.3975925260510241,
          0.7423643550125764,
          0.9367588932806324,
          1
         ],
         "yaxis": "y"
        }
       ],
       "layout": {
        "height": 700,
        "legend": {
         "tracegroupgap": 0
        },
        "shapes": [
         {
          "line": {
           "dash": "dash"
          },
          "type": "line",
          "x0": 1,
          "x1": 0,
          "y0": 0,
          "y1": 1
         }
        ],
        "template": {
         "data": {
          "scatter": [
           {
            "type": "scatter"
           }
          ]
         }
        },
        "title": {
         "text": "AUC = 0.654"
        },
        "width": 700,
        "xaxis": {
         "anchor": "y",
         "domain": [
          0,
          1
         ],
         "range": [
          1,
          0
         ],
         "title": {
          "text": "Specificity"
         }
        },
        "yaxis": {
         "anchor": "x",
         "domain": [
          0,
          1
         ],
         "title": {
          "text": "Sensitivity"
         }
        }
       }
      }
     },
     "metadata": {},
     "output_type": "display_data"
    }
   ],
   "source": [
    "auc = cdh_utils.auc_from_bincounts(\n",
    "    pos=binningDerived.get_column(\"Positives\").to_list(),\n",
    "    neg=binningDerived.get_column(\"Negatives\").to_list(),\n",
    ")\n",
    "\n",
    "\n",
    "pos=np.asarray(binningDerived.get_column(\"Positives\").to_list())\n",
    "neg=np.asarray(binningDerived.get_column(\"Negatives\").to_list())\n",
    "\n",
    "o = np.argsort((pos / (pos + neg)))\n",
    "\n",
    "TNR = np.cumsum(neg[o]) / np.sum(neg)\n",
    "TPR = np.flip(np.cumsum(pos[o]) / np.sum(pos), axis=0)\n",
    "\n",
    "fig = px.line(\n",
    "    x=TPR, y=TNR,\n",
    "    labels=dict(x='Specificity', y='Sensitivity'),\n",
    "    title = f\"AUC = {auc.round(3)}\",\n",
    "    width=700, height=700,\n",
    "    range_x=[1,0],\n",
    "    template='none'\n",
    ")\n",
    "fig.add_shape(\n",
    "    type='line', line=dict(dash='dash'),\n",
    "    x0=1, x1=0, y0=0, y1=1\n",
    ")\n",
    "fig.show()"
   ]
  },
  {
   "cell_type": "markdown",
   "metadata": {},
   "source": [
    "## Predictor score and log odds"
   ]
  },
  {
   "cell_type": "markdown",
   "metadata": {},
   "source": [
    "The score is calculated from the log odds which are simply the ratio of the probabilities of positives and negatives. For the actual calculation in ADM this is modified slightly to avoid division-by-zero problems and is written differently to avoid numeric instability as shown below."
   ]
  },
  {
   "cell_type": "code",
   "execution_count": 11,
   "metadata": {},
   "outputs": [
    {
     "data": {
      "text/html": [
       "<div><style>\n",
       ".dataframe > thead > tr > th,\n",
       ".dataframe > tbody > tr > td {\n",
       "  text-align: right;\n",
       "}\n",
       "</style>\n",
       "<small>shape: (5, 7)</small><table border=\"1\" class=\"dataframe\"><thead><tr><th>Range/Symbol</th><th>Positives</th><th>Negatives</th><th>Positives %</th><th>Negatives %</th><th>LogOds</th><th>ModifiedLogOdds</th></tr><tr><td>str</td><td>i64</td><td>i64</td><td>f64</td><td>f64</td><td>f64</td><td>f64</td></tr></thead><tbody><tr><td>&quot;MISSING&quot;</td><td>0</td><td>5</td><td>0.0</td><td>0.09</td><td>-inf</td><td>1.653661</td></tr><tr><td>&quot;&lt;7.08&quot;</td><td>7</td><td>2208</td><td>19.44</td><td>39.67</td><td>-0.713262</td><td>-0.814094</td></tr><tr><td>&quot;[7.08, 12.04&gt;&quot;</td><td>11</td><td>1919</td><td>30.56</td><td>34.48</td><td>-0.120687</td><td>-0.231992</td></tr><tr><td>&quot;[12.04, 18.04&gt;&quot;</td><td>12</td><td>1082</td><td>33.33</td><td>19.44</td><td>0.539125</td><td>0.426442</td></tr><tr><td>&quot;&gt;=18.04&quot;</td><td>6</td><td>352</td><td>16.67</td><td>6.32</td><td>0.969891</td><td>0.872108</td></tr></tbody></table></div>"
      ],
      "text/plain": [
       "shape: (5, 7)\n",
       "┌────────────────┬───────────┬───────────┬─────────────┬─────────────┬───────────┬─────────────────┐\n",
       "│ Range/Symbol   ┆ Positives ┆ Negatives ┆ Positives % ┆ Negatives % ┆ LogOds    ┆ ModifiedLogOdds │\n",
       "│ ---            ┆ ---       ┆ ---       ┆ ---         ┆ ---         ┆ ---       ┆ ---             │\n",
       "│ str            ┆ i64       ┆ i64       ┆ f64         ┆ f64         ┆ f64       ┆ f64             │\n",
       "╞════════════════╪═══════════╪═══════════╪═════════════╪═════════════╪═══════════╪═════════════════╡\n",
       "│ MISSING        ┆ 0         ┆ 5         ┆ 0.0         ┆ 0.09        ┆ -inf      ┆ 1.653661        │\n",
       "│ <7.08          ┆ 7         ┆ 2208      ┆ 19.44       ┆ 39.67       ┆ -0.713262 ┆ -0.814094       │\n",
       "│ [7.08, 12.04>  ┆ 11        ┆ 1919      ┆ 30.56       ┆ 34.48       ┆ -0.120687 ┆ -0.231992       │\n",
       "│ [12.04, 18.04> ┆ 12        ┆ 1082      ┆ 33.33       ┆ 19.44       ┆ 0.539125  ┆ 0.426442        │\n",
       "│ >=18.04        ┆ 6         ┆ 352       ┆ 16.67       ┆ 6.32        ┆ 0.969891  ┆ 0.872108        │\n",
       "└────────────────┴───────────┴───────────┴─────────────┴─────────────┴───────────┴─────────────────┘"
      ]
     },
     "execution_count": 11,
     "metadata": {},
     "output_type": "execute_result"
    }
   ],
   "source": [
    "N = binningDerived.shape[0]\n",
    "binningDerived.with_columns(\n",
    "    LogOds= (pl.col(\"Positives %\") / pl.col(\"Negatives %\")).log(),\n",
    "    ModifiedLogOdds=(\n",
    "        ((Positives + 1 / N).log() - (Positives + 1).sum().log())\n",
    "        - ((Negatives + 1 / N).log() - (Negatives + 1).sum().log())\n",
    "    )\n",
    ").drop(\"Responses %\", \"Propensity\")"
   ]
  },
  {
   "cell_type": "markdown",
   "metadata": {},
   "source": [
    "## Propensity mapping"
   ]
  },
  {
   "cell_type": "markdown",
   "metadata": {},
   "source": [
    "### Log odds contribution for all the predictors"
   ]
  },
  {
   "cell_type": "markdown",
   "metadata": {},
   "source": [
    "To get to a propensity, the log odds of the relevant bins of the active predictors are added up and divided by the number of active predictors +1, then used to index in the classifier.\n",
    "\n",
    "Below an example. From all the active predictors of the model for we pick a value (in the middle for numerics, first symbol for symbolics) and show the (modified) log odds. These log odds values are averaged (added up and divided by number of active predictors + 1), and this is the “score” that is mapped to a propensity value by the classifier (which is constructed using the PAV(A) algorithm)."
   ]
  },
  {
   "cell_type": "code",
   "execution_count": 31,
   "metadata": {
    "nbsphinx": "hidden"
   },
   "outputs": [
    {
     "name": "stderr",
     "output_type": "stream",
     "text": [
      "The predicate '[(col(\"Type\")) == (Utf8(numeric))]' in 'when->then->otherwise' is not a valid aggregation and might produce a different number of rows than the groupby operation would. This behavior is experimental and may be subject to change\n"
     ]
    }
   ],
   "source": [
    "Positives = pl.col(\"BinPositives\")\n",
    "Negatives = pl.col(\"BinNegatives\")\n",
    "groups = [\"Name\", \"PredictorName\", \"Channel\"]\n",
    "N = Positives.count().over(groups)\n",
    "\n",
    "def Fraction(col: pl.Expr, over):\n",
    "    return (col / col.sum()).over(over)\n",
    "\n",
    "\n",
    "def LogOdds(col, count, over):\n",
    "    return (col + 1 / count).log() - (col + 1).sum().over(over).log()\n",
    "\n",
    "df =  modelpredictors.select(\n",
    "        Name=pl.col(\"PredictorName\"),\n",
    "        Value=pl.col(\"BinSymbol\"),\n",
    "        Bin=pl.col(\"BinIndex\"),\n",
    "        Positives=BinPositives,\n",
    "        Negatives=BinNegatives,\n",
    "        Type=pl.col(\"Type\"),\n",
    "        BinLowerBound=pl.col(\"BinLowerBound\"),\n",
    "        BinUpperBound=pl.col(\"BinUpperBound\"),\n",
    "    )\n",
    "\n",
    "propensity_mapping = df.filter(pl.col(\"Name\") !=\"Classifier\").with_columns(\n",
    "    temp=pl.list(\"Value\").over(\"Name\"), nbins=pl.max(\"Bin\").over(\"Name\")\n",
    ").filter(pl.col(\"Bin\") == (pl.col(\"nbins\") / 2).floor().over(\"Name\")).with_columns(\n",
    "    Value=(\n",
    "        pl.when(pl.col(\"Type\") == \"numeric\")\n",
    "        .then(((pl.col(\"BinLowerBound\") + pl.col(\"BinUpperBound\")) / 2))\n",
    "        .otherwise(pl.col(\"temp\").arr.get(0).str.split(\",\").arr.get(0))\n",
    "    ).over(\"Name\")\n",
    ").drop(\n",
    "    \"temp\",\"BinLowerBound\", \"BinUpperBound\", \"nbins\"\n",
    ").sort(\n",
    "    \"Name\"\n",
    ") \n",
    "\n",
    "model_with_log_odds_calculations = (\n",
    "    model.collect().filter(\n",
    "        (pl.col(\"Name\") == \"AutoNew36Months\")\n",
    "        & (pl.col(\"Channel\") == \"SMS\")\n",
    "        & (pl.col(\"EntryType\") != \"Inactive\")\n",
    "    )\n",
    "    .with_columns(\n",
    "        posFraction=Fraction(Positives, over=groups),\n",
    "        negFraction=Fraction(Negatives, over=groups),\n",
    "    )\n",
    "    .with_columns(\n",
    "        LogOdds=pl.col(\"posFraction\") / pl.col(\"negFraction\").log(),\n",
    "        ModifiedLogOdds=LogOdds(Positives, N, groups) - LogOdds(Negatives, N, groups),\n",
    "    )\n",
    "    .select(\n",
    "        Name=pl.col(\"PredictorName\"),\n",
    "        Bin=pl.col(\"BinIndex\").cast(pl.Int64),\n",
    "        LogOdds=pl.col(\"LogOdds\"),\n",
    "        ModifiedLogOdds=pl.col(\"ModifiedLogOdds\"),\n",
    "    )\n",
    ")\n",
    "\n",
    "log_odds_contributions = propensity_mapping.join(\n",
    "    model_with_log_odds_calculations, on=[\"Name\", \"Bin\"], how=\"left\"\n",
    ")\n",
    "\n",
    "average_log_odds = log_odds_contributions.select(pl.sum(\"ModifiedLogOdds\") / (log_odds_contributions.shape[0]+1)).row(0)[0]\n",
    "average_log_odds_df = pl.DataFrame(schema=log_odds_contributions.schema,\n",
    "             data = {\"Name\":\"Average Log Odds\",\n",
    "                     \"Value\":None,\n",
    "                     \"Bin\":None,\n",
    "                     \"Positives\":None,\n",
    "                     \"Negatives\":None,\n",
    "                     \"Type\":None,\n",
    "                     \"LogOdds\":None,\n",
    "                     \"ModifiedLogOdds\": average_log_odds})\n",
    "propensity_mapping = pl.concat([log_odds_contributions,\n",
    "          average_log_odds_df]\n",
    "          ,how=\"vertical\")"
   ]
  },
  {
   "cell_type": "code",
   "execution_count": 32,
   "metadata": {},
   "outputs": [
    {
     "data": {
      "text/html": [
       "<div><style>\n",
       ".dataframe > thead > tr > th,\n",
       ".dataframe > tbody > tr > td {\n",
       "  text-align: right;\n",
       "}\n",
       "</style>\n",
       "<small>shape: (25, 8)</small><table border=\"1\" class=\"dataframe\"><thead><tr><th>Name</th><th>Value</th><th>Bin</th><th>Positives</th><th>Negatives</th><th>Type</th><th>LogOdds</th><th>ModifiedLogOdds</th></tr><tr><td>str</td><td>str</td><td>i64</td><td>i64</td><td>i64</td><td>str</td><td>f64</td><td>f64</td></tr></thead><tbody><tr><td>&quot;Customer.Age&quot;</td><td>&quot;37.16&quot;</td><td>2</td><td>7</td><td>3042</td><td>&quot;numeric&quot;</td><td>-0.321842</td><td>-1.10308</td></tr><tr><td>&quot;Customer.AnnualIncome&quot;</td><td>&quot;2827.7097520000007&quot;</td><td>1</td><td>7</td><td>3401</td><td>&quot;numeric&quot;</td><td>-0.394725</td><td>-1.178083</td></tr><tr><td>&quot;Customer.BusinessSegment&quot;</td><td>&quot;middleSegmentPlus&quot;</td><td>1</td><td>10</td><td>3369</td><td>&quot;symbolic&quot;</td><td>-0.553275</td><td>-0.825686</td></tr><tr><td>&quot;Customer.CLV_VALUE&quot;</td><td>&quot;352.52&quot;</td><td>1</td><td>7</td><td>1379</td><td>&quot;numeric&quot;</td><td>-0.139355</td><td>-0.275516</td></tr><tr><td>&quot;Customer.CreditScore&quot;</td><td>&quot;432.2&quot;</td><td>1</td><td>14</td><td>426</td><td>&quot;numeric&quot;</td><td>-0.151319</td><td>1.568775</td></tr><tr><td>&quot;Customer.Gender&quot;</td><td>&quot;M&quot;</td><td>1</td><td>7</td><td>1735</td><td>&quot;symbolic&quot;</td><td>-0.166809</td><td>-0.505115</td></tr><tr><td>&quot;Customer.MaritalStatus&quot;</td><td>&quot;Single&quot;</td><td>1</td><td>6</td><td>1454</td><td>&quot;symbolic&quot;</td><td>-0.12416</td><td>-0.475067</td></tr><tr><td>&quot;Customer.NetWealth&quot;</td><td>&quot;5458.64&quot;</td><td>1</td><td>7</td><td>2679</td><td>&quot;numeric&quot;</td><td>-0.265913</td><td>-0.939484</td></tr><tr><td>&quot;Customer.OrganizationLabel&quot;</td><td>&quot;NON-MISSING&quot;</td><td>1</td><td>31</td><td>3646</td><td>&quot;symbolic&quot;</td><td>-2.035502</td><td>0.23567</td></tr><tr><td>&quot;Customer.Prefix&quot;</td><td>&quot;Dr.&quot;</td><td>2</td><td>8</td><td>1174</td><td>&quot;symbolic&quot;</td><td>-0.142792</td><td>-0.021901</td></tr><tr><td>&quot;Customer.WinScore&quot;</td><td>&quot;66.6&quot;</td><td>2</td><td>9</td><td>462</td><td>&quot;numeric&quot;</td><td>-0.100447</td><td>1.024789</td></tr><tr><td>&quot;IH.Email.Outbound.Accepted.pxLastGroupID&quot;</td><td>&quot;MISSING&quot;</td><td>2</td><td>10</td><td>2887</td><td>&quot;symbolic&quot;</td><td>-0.423146</td><td>-0.733897</td></tr><tr><td>&quot;IH.Email.Outbound.Accepted.pyHistoricalOutcomeCount&quot;</td><td>&quot;1.01&quot;</td><td>2</td><td>10</td><td>1244</td><td>&quot;numeric&quot;</td><td>-0.18539</td><td>0.13726</td></tr><tr><td>&quot;IH.Email.Outbound.Rejected.pxLastGroupID&quot;</td><td>&quot;Account&quot;</td><td>2</td><td>7</td><td>975</td><td>&quot;symbolic&quot;</td><td>-0.111622</td><td>0.034578</td></tr><tr><td>&quot;IH.Email.Outbound.Rejected.pyHistoricalOutcomeCount&quot;</td><td>&quot;68.12&quot;</td><td>2</td><td>6</td><td>1251</td><td>&quot;numeric&quot;</td><td>-0.111652</td><td>-0.395551</td></tr><tr><td>&quot;IH.SMS.Outbound.Accepted.pxLastGroupID&quot;</td><td>&quot;MISSING&quot;</td><td>2</td><td>9</td><td>2090</td><td>&quot;symbolic&quot;</td><td>-0.255229</td><td>-0.514054</td></tr><tr><td>&quot;IH.SMS.Outbound.Accepted.pyHistoricalOutcomeCount&quot;</td><td>&quot;1.04&quot;</td><td>2</td><td>7</td><td>2208</td><td>&quot;numeric&quot;</td><td>-0.210304</td><td>-0.814094</td></tr><tr><td>&quot;IH.SMS.Outbound.Churned.pxLastGroupID&quot;</td><td>&quot;MISSING&quot;</td><td>1</td><td>28</td><td>4935</td><td>&quot;symbolic&quot;</td><td>-6.853759</td><td>-0.14403</td></tr><tr><td>&quot;IH.SMS.Outbound.Loyal.pyHistoricalOutcomeCount&quot;</td><td>null</td><td>1</td><td>24</td><td>4563</td><td>&quot;numeric&quot;</td><td>-3.501801</td><td>-0.216176</td></tr><tr><td>&quot;IH.SMS.Outbound.Rejected.pxLastGroupID&quot;</td><td>&quot;CreditCards&quot;</td><td>2</td><td>10</td><td>1484</td><td>&quot;symbolic&quot;</td><td>-0.21013</td><td>-0.039116</td></tr><tr><td>&quot;IH.Web.Inbound.Accepted.pyHistoricalOutcomeCount&quot;</td><td>null</td><td>1</td><td>0</td><td>4</td><td>&quot;numeric&quot;</td><td>-0.0</td><td>2.39646</td></tr><tr><td>&quot;IH.Web.Inbound.Churned.pxLastGroupID&quot;</td><td>&quot;MISSING&quot;</td><td>1</td><td>23</td><td>2891</td><td>&quot;symbolic&quot;</td><td>-0.976096</td><td>0.14128</td></tr><tr><td>&quot;IH.Web.Inbound.Churned.pxLastOutcomeTime.DaysSince&quot;</td><td>null</td><td>1</td><td>23</td><td>2891</td><td>&quot;numeric&quot;</td><td>-0.976096</td><td>0.174136</td></tr><tr><td>&quot;IH.Web.Inbound.Rejected.pxLastGroupID&quot;</td><td>&quot;Account&quot;</td><td>1</td><td>18</td><td>3425</td><td>&quot;symbolic&quot;</td><td>-1.029707</td><td>-0.268824</td></tr><tr><td>&quot;Average Log Odds&quot;</td><td>null</td><td>null</td><td>null</td><td>null</td><td>null</td><td>null</td><td>-0.109469</td></tr></tbody></table></div>"
      ],
      "text/plain": [
       "shape: (25, 8)\n",
       "┌──────────────┬──────────────┬──────┬───────────┬───────────┬──────────┬───────────┬──────────────┐\n",
       "│ Name         ┆ Value        ┆ Bin  ┆ Positives ┆ Negatives ┆ Type     ┆ LogOdds   ┆ ModifiedLogO │\n",
       "│ ---          ┆ ---          ┆ ---  ┆ ---       ┆ ---       ┆ ---      ┆ ---       ┆ dds          │\n",
       "│ str          ┆ str          ┆ i64  ┆ i64       ┆ i64       ┆ str      ┆ f64       ┆ ---          │\n",
       "│              ┆              ┆      ┆           ┆           ┆          ┆           ┆ f64          │\n",
       "╞══════════════╪══════════════╪══════╪═══════════╪═══════════╪══════════╪═══════════╪══════════════╡\n",
       "│ Customer.Age ┆ 37.16        ┆ 2    ┆ 7         ┆ 3042      ┆ numeric  ┆ -0.321842 ┆ -1.10308     │\n",
       "│ Customer.Ann ┆ 2827.7097520 ┆ 1    ┆ 7         ┆ 3401      ┆ numeric  ┆ -0.394725 ┆ -1.178083    │\n",
       "│ ualIncome    ┆ 000007       ┆      ┆           ┆           ┆          ┆           ┆              │\n",
       "│ Customer.Bus ┆ middleSegmen ┆ 1    ┆ 10        ┆ 3369      ┆ symbolic ┆ -0.553275 ┆ -0.825686    │\n",
       "│ inessSegment ┆ tPlus        ┆      ┆           ┆           ┆          ┆           ┆              │\n",
       "│ Customer.CLV ┆ 352.52       ┆ 1    ┆ 7         ┆ 1379      ┆ numeric  ┆ -0.139355 ┆ -0.275516    │\n",
       "│ _VALUE       ┆              ┆      ┆           ┆           ┆          ┆           ┆              │\n",
       "│ ...          ┆ ...          ┆ ...  ┆ ...       ┆ ...       ┆ ...      ┆ ...       ┆ ...          │\n",
       "│ IH.Web.Inbou ┆ MISSING      ┆ 1    ┆ 23        ┆ 2891      ┆ symbolic ┆ -0.976096 ┆ 0.14128      │\n",
       "│ nd.Churned.p ┆              ┆      ┆           ┆           ┆          ┆           ┆              │\n",
       "│ xLastGroupID ┆              ┆      ┆           ┆           ┆          ┆           ┆              │\n",
       "│ IH.Web.Inbou ┆ null         ┆ 1    ┆ 23        ┆ 2891      ┆ numeric  ┆ -0.976096 ┆ 0.174136     │\n",
       "│ nd.Churned.p ┆              ┆      ┆           ┆           ┆          ┆           ┆              │\n",
       "│ xLastOutcome ┆              ┆      ┆           ┆           ┆          ┆           ┆              │\n",
       "│ Time.DaysSin ┆              ┆      ┆           ┆           ┆          ┆           ┆              │\n",
       "│ ce           ┆              ┆      ┆           ┆           ┆          ┆           ┆              │\n",
       "│ IH.Web.Inbou ┆ Account      ┆ 1    ┆ 18        ┆ 3425      ┆ symbolic ┆ -1.029707 ┆ -0.268824    │\n",
       "│ nd.Rejected. ┆              ┆      ┆           ┆           ┆          ┆           ┆              │\n",
       "│ pxLastGroupI ┆              ┆      ┆           ┆           ┆          ┆           ┆              │\n",
       "│ D            ┆              ┆      ┆           ┆           ┆          ┆           ┆              │\n",
       "│ Average Log  ┆ null         ┆ null ┆ null      ┆ null      ┆ null     ┆ null      ┆ -0.109469    │\n",
       "│ Odds         ┆              ┆      ┆           ┆           ┆          ┆           ┆              │\n",
       "└──────────────┴──────────────┴──────┴───────────┴───────────┴──────────┴───────────┴──────────────┘"
      ]
     },
     "execution_count": 32,
     "metadata": {},
     "output_type": "execute_result"
    }
   ],
   "source": [
    "propensity_mapping"
   ]
  },
  {
   "cell_type": "markdown",
   "metadata": {},
   "source": [
    "## Classifier"
   ]
  },
  {
   "cell_type": "markdown",
   "metadata": {},
   "source": [
    "The success rate is defined as $\\frac{positives}{positives+negatives}$ per bin. \n",
    "\n",
    "The adjusted propensity that is returned is a small modification (Laplace smoothing) to this and calculated as $\\frac{0.5+positives}{1+positives+negatives}$ so empty models return a propensity of 0.5.\n"
   ]
  },
  {
   "cell_type": "code",
   "execution_count": 33,
   "metadata": {
    "nbsphinx": "hidden"
   },
   "outputs": [
    {
     "data": {
      "text/html": [
       "<div><style>\n",
       ".dataframe > thead > tr > th,\n",
       ".dataframe > tbody > tr > td {\n",
       "  text-align: right;\n",
       "}\n",
       "</style>\n",
       "<small>shape: (8, 10)</small><table border=\"1\" class=\"dataframe\"><thead><tr><th>Index</th><th>Bin</th><th>Positives</th><th>Negatives</th><th>Cum. Total (%)</th><th>Propensity (%)</th><th>Adjusted Propensity (%)</th><th>Cum Positives (%)</th><th>ZRatio</th><th>Lift(%)</th></tr><tr><td>i64</td><td>str</td><td>i64</td><td>i64</td><td>f64</td><td>f64</td><td>f64</td><td>f64</td><td>f64</td><td>f64</td></tr></thead><tbody><tr><td>1</td><td>&quot;&lt;-1.95&quot;</td><td>0</td><td>35</td><td>0.624777</td><td>0.0</td><td>1.388889</td><td>0.0</td><td>-5.934769</td><td>0.0</td></tr><tr><td>2</td><td>&quot;[-1.95, -0.63&gt;&quot;</td><td>7</td><td>1939</td><td>35.362371</td><td>0.359712</td><td>0.385208</td><td>19.444444</td><td>-2.322612</td><td>55.9752</td></tr><tr><td>3</td><td>&quot;[-0.63, -0.5&gt;&quot;</td><td>7</td><td>1331</td><td>59.246698</td><td>0.523169</td><td>0.560119</td><td>38.888889</td><td>-0.674919</td><td>81.4109</td></tr><tr><td>4</td><td>&quot;[-0.5, -0.36&gt;&quot;</td><td>8</td><td>1125</td><td>79.471617</td><td>0.70609</td><td>0.749559</td><td>61.111111</td><td>0.289246</td><td>109.8755</td></tr><tr><td>5</td><td>&quot;[-0.36, -0.29&gt;&quot;</td><td>4</td><td>446</td><td>87.504463</td><td>0.888889</td><td>0.997783</td><td>72.222222</td><td>0.590078</td><td>138.321</td></tr><tr><td>6</td><td>&quot;[-0.29, -0.22&gt;&quot;</td><td>3</td><td>319</td><td>93.25241</td><td>0.931677</td><td>1.083591</td><td>80.555556</td><td>0.563599</td><td>144.9793</td></tr><tr><td>7</td><td>&quot;[-0.22, 0.99&gt;&quot;</td><td>2</td><td>144</td><td>95.858622</td><td>1.369863</td><td>1.70068</td><td>86.111111</td><td>0.776338</td><td>213.1659</td></tr><tr><td>8</td><td>&quot;&gt;=0.99&quot;</td><td>5</td><td>227</td><td>100.0</td><td>2.155172</td><td>2.360515</td><td>100.0</td><td>1.700289</td><td>335.3688</td></tr></tbody></table></div>"
      ],
      "text/plain": [
       "shape: (8, 10)\n",
       "┌───────┬───────────┬───────────┬───────────┬─────┬────────────┬────────────┬───────────┬──────────┐\n",
       "│ Index ┆ Bin       ┆ Positives ┆ Negatives ┆ ... ┆ Adjusted   ┆ Cum        ┆ ZRatio    ┆ Lift(%)  │\n",
       "│ ---   ┆ ---       ┆ ---       ┆ ---       ┆     ┆ Propensity ┆ Positives  ┆ ---       ┆ ---      │\n",
       "│ i64   ┆ str       ┆ i64       ┆ i64       ┆     ┆ (%)        ┆ (%)        ┆ f64       ┆ f64      │\n",
       "│       ┆           ┆           ┆           ┆     ┆ ---        ┆ ---        ┆           ┆          │\n",
       "│       ┆           ┆           ┆           ┆     ┆ f64        ┆ f64        ┆           ┆          │\n",
       "╞═══════╪═══════════╪═══════════╪═══════════╪═════╪════════════╪════════════╪═══════════╪══════════╡\n",
       "│ 1     ┆ <-1.95    ┆ 0         ┆ 35        ┆ ... ┆ 1.388889   ┆ 0.0        ┆ -5.934769 ┆ 0.0      │\n",
       "│ 2     ┆ [-1.95,   ┆ 7         ┆ 1939      ┆ ... ┆ 0.385208   ┆ 19.444444  ┆ -2.322612 ┆ 55.9752  │\n",
       "│       ┆ -0.63>    ┆           ┆           ┆     ┆            ┆            ┆           ┆          │\n",
       "│ 3     ┆ [-0.63,   ┆ 7         ┆ 1331      ┆ ... ┆ 0.560119   ┆ 38.888889  ┆ -0.674919 ┆ 81.4109  │\n",
       "│       ┆ -0.5>     ┆           ┆           ┆     ┆            ┆            ┆           ┆          │\n",
       "│ 4     ┆ [-0.5,    ┆ 8         ┆ 1125      ┆ ... ┆ 0.749559   ┆ 61.111111  ┆ 0.289246  ┆ 109.8755 │\n",
       "│       ┆ -0.36>    ┆           ┆           ┆     ┆            ┆            ┆           ┆          │\n",
       "│ 5     ┆ [-0.36,   ┆ 4         ┆ 446       ┆ ... ┆ 0.997783   ┆ 72.222222  ┆ 0.590078  ┆ 138.321  │\n",
       "│       ┆ -0.29>    ┆           ┆           ┆     ┆            ┆            ┆           ┆          │\n",
       "│ 6     ┆ [-0.29,   ┆ 3         ┆ 319       ┆ ... ┆ 1.083591   ┆ 80.555556  ┆ 0.563599  ┆ 144.9793 │\n",
       "│       ┆ -0.22>    ┆           ┆           ┆     ┆            ┆            ┆           ┆          │\n",
       "│ 7     ┆ [-0.22,   ┆ 2         ┆ 144       ┆ ... ┆ 1.70068    ┆ 86.111111  ┆ 0.776338  ┆ 213.1659 │\n",
       "│       ┆ 0.99>     ┆           ┆           ┆     ┆            ┆            ┆           ┆          │\n",
       "│ 8     ┆ >=0.99    ┆ 5         ┆ 227       ┆ ... ┆ 2.360515   ┆ 100.0      ┆ 1.700289  ┆ 335.3688 │\n",
       "└───────┴───────────┴───────────┴───────────┴─────┴────────────┴────────────┴───────────┴──────────┘"
      ]
     },
     "execution_count": 33,
     "metadata": {},
     "output_type": "execute_result"
    }
   ],
   "source": [
    "classifier = modelpredictors.filter(pl.col(\"EntryType\") == \"Classifier\")\n",
    "\n",
    "classifier = classifier.with_columns(\n",
    "    Propensity=(Positives / (Positives / Negatives)),\n",
    "    AdjustedPropensity=((0.5 + Positives) / (1 + Positives + Negatives)),\n",
    ").select(\n",
    "    [\n",
    "        pl.col(\"BinIndex\").alias(\"Index\"),\n",
    "        pl.col(\"BinSymbol\").alias(\"Bin\"),\n",
    "        Positives.alias(\"Positives\"),\n",
    "        Negatives.alias(\"Negatives\"),\n",
    "        ((pl.cumsum(\"BinResponseCount\") / pl.sum(\"BinResponseCount\")) * 100).alias(\n",
    "            \"Cum. Total (%)\"\n",
    "        ),\n",
    "        (pl.col(\"BinPropensity\") * 100).alias(\"Propensity (%)\"),\n",
    "        (pl.col(\"AdjustedPropensity\") * 100).alias(\"Adjusted Propensity (%)\"),\n",
    "        ((pl.cumsum(\"BinPositives\") / pl.sum(\"BinPositives\")) * 100).alias(\n",
    "            \"Cum Positives (%)\"\n",
    "        ),\n",
    "        pl.col(\"ZRatio\"),\n",
    "        (pl.col(\"Lift\") * 100).alias(\"Lift(%)\"),\n",
    "        pl.col(\"BinResponseCount\").alias(\"Responses\"),\n",
    "    ]\n",
    ")\n",
    "classifier.drop(\"Responses\")"
   ]
  },
  {
   "cell_type": "code",
   "execution_count": 34,
   "metadata": {},
   "outputs": [
    {
     "data": {
      "text/html": [
       "<div><style>\n",
       ".dataframe > thead > tr > th,\n",
       ".dataframe > tbody > tr > td {\n",
       "  text-align: right;\n",
       "}\n",
       "</style>\n",
       "<small>shape: (8, 11)</small><table border=\"1\" class=\"dataframe\"><thead><tr><th>Index</th><th>Bin</th><th>Positives</th><th>Negatives</th><th>Cum. Total (%)</th><th>Propensity (%)</th><th>Adjusted Propensity (%)</th><th>Cum Positives (%)</th><th>ZRatio</th><th>Lift(%)</th><th>Responses</th></tr><tr><td>i64</td><td>str</td><td>i64</td><td>i64</td><td>f64</td><td>f64</td><td>f64</td><td>f64</td><td>f64</td><td>f64</td><td>i64</td></tr></thead><tbody><tr><td>1</td><td>&quot;&lt;-1.95&quot;</td><td>0</td><td>35</td><td>0.624777</td><td>0.0</td><td>1.388889</td><td>0.0</td><td>-5.934769</td><td>0.0</td><td>35</td></tr><tr><td>2</td><td>&quot;[-1.95, -0.63&gt;&quot;</td><td>7</td><td>1939</td><td>35.362371</td><td>0.359712</td><td>0.385208</td><td>19.444444</td><td>-2.322612</td><td>55.9752</td><td>1946</td></tr><tr><td>3</td><td>&quot;[-0.63, -0.5&gt;&quot;</td><td>7</td><td>1331</td><td>59.246698</td><td>0.523169</td><td>0.560119</td><td>38.888889</td><td>-0.674919</td><td>81.4109</td><td>1338</td></tr><tr><td>4</td><td>&quot;[-0.5, -0.36&gt;&quot;</td><td>8</td><td>1125</td><td>79.471617</td><td>0.70609</td><td>0.749559</td><td>61.111111</td><td>0.289246</td><td>109.8755</td><td>1133</td></tr><tr><td>5</td><td>&quot;[-0.36, -0.29&gt;&quot;</td><td>4</td><td>446</td><td>87.504463</td><td>0.888889</td><td>0.997783</td><td>72.222222</td><td>0.590078</td><td>138.321</td><td>450</td></tr><tr><td>6</td><td>&quot;[-0.29, -0.22&gt;&quot;</td><td>3</td><td>319</td><td>93.25241</td><td>0.931677</td><td>1.083591</td><td>80.555556</td><td>0.563599</td><td>144.9793</td><td>322</td></tr><tr><td>7</td><td>&quot;[-0.22, 0.99&gt;&quot;</td><td>2</td><td>144</td><td>95.858622</td><td>1.369863</td><td>1.70068</td><td>86.111111</td><td>0.776338</td><td>213.1659</td><td>146</td></tr><tr><td>8</td><td>&quot;&gt;=0.99&quot;</td><td>5</td><td>227</td><td>100.0</td><td>2.155172</td><td>2.360515</td><td>100.0</td><td>1.700289</td><td>335.3688</td><td>232</td></tr></tbody></table></div>"
      ],
      "text/plain": [
       "shape: (8, 11)\n",
       "┌───────┬─────────┬───────────┬───────────┬─────┬────────────┬───────────┬──────────┬───────────┐\n",
       "│ Index ┆ Bin     ┆ Positives ┆ Negatives ┆ ... ┆ Cum        ┆ ZRatio    ┆ Lift(%)  ┆ Responses │\n",
       "│ ---   ┆ ---     ┆ ---       ┆ ---       ┆     ┆ Positives  ┆ ---       ┆ ---      ┆ ---       │\n",
       "│ i64   ┆ str     ┆ i64       ┆ i64       ┆     ┆ (%)        ┆ f64       ┆ f64      ┆ i64       │\n",
       "│       ┆         ┆           ┆           ┆     ┆ ---        ┆           ┆          ┆           │\n",
       "│       ┆         ┆           ┆           ┆     ┆ f64        ┆           ┆          ┆           │\n",
       "╞═══════╪═════════╪═══════════╪═══════════╪═════╪════════════╪═══════════╪══════════╪═══════════╡\n",
       "│ 1     ┆ <-1.95  ┆ 0         ┆ 35        ┆ ... ┆ 0.0        ┆ -5.934769 ┆ 0.0      ┆ 35        │\n",
       "│ 2     ┆ [-1.95, ┆ 7         ┆ 1939      ┆ ... ┆ 19.444444  ┆ -2.322612 ┆ 55.9752  ┆ 1946      │\n",
       "│       ┆ -0.63>  ┆           ┆           ┆     ┆            ┆           ┆          ┆           │\n",
       "│ 3     ┆ [-0.63, ┆ 7         ┆ 1331      ┆ ... ┆ 38.888889  ┆ -0.674919 ┆ 81.4109  ┆ 1338      │\n",
       "│       ┆ -0.5>   ┆           ┆           ┆     ┆            ┆           ┆          ┆           │\n",
       "│ 4     ┆ [-0.5,  ┆ 8         ┆ 1125      ┆ ... ┆ 61.111111  ┆ 0.289246  ┆ 109.8755 ┆ 1133      │\n",
       "│       ┆ -0.36>  ┆           ┆           ┆     ┆            ┆           ┆          ┆           │\n",
       "│ 5     ┆ [-0.36, ┆ 4         ┆ 446       ┆ ... ┆ 72.222222  ┆ 0.590078  ┆ 138.321  ┆ 450       │\n",
       "│       ┆ -0.29>  ┆           ┆           ┆     ┆            ┆           ┆          ┆           │\n",
       "│ 6     ┆ [-0.29, ┆ 3         ┆ 319       ┆ ... ┆ 80.555556  ┆ 0.563599  ┆ 144.9793 ┆ 322       │\n",
       "│       ┆ -0.22>  ┆           ┆           ┆     ┆            ┆           ┆          ┆           │\n",
       "│ 7     ┆ [-0.22, ┆ 2         ┆ 144       ┆ ... ┆ 86.111111  ┆ 0.776338  ┆ 213.1659 ┆ 146       │\n",
       "│       ┆ 0.99>   ┆           ┆           ┆     ┆            ┆           ┆          ┆           │\n",
       "│ 8     ┆ >=0.99  ┆ 5         ┆ 227       ┆ ... ┆ 100.0      ┆ 1.700289  ┆ 335.3688 ┆ 232       │\n",
       "└───────┴─────────┴───────────┴───────────┴─────┴────────────┴───────────┴──────────┴───────────┘"
      ]
     },
     "execution_count": 34,
     "metadata": {},
     "output_type": "execute_result"
    }
   ],
   "source": [
    "classifier"
   ]
  },
  {
   "cell_type": "markdown",
   "metadata": {},
   "source": [
    "## Final Propensity"
   ]
  },
  {
   "cell_type": "markdown",
   "metadata": {},
   "source": [
    "Below the classifier mapping. On the x-axis the binned scores (log odds values), on the y-axis the Propensity. Note the returned propensities are following a slightly adjusted formula, see the table above. The bin that contains the calculated score is highlighted.\n",
    "\n",
    "The score -0.1094691 falls in bin 7 of the classifier, so for this set of inputs, the model returns a propensity of 1.70%."
   ]
  },
  {
   "cell_type": "code",
   "execution_count": 38,
   "metadata": {
    "nbsphinx": "hidden"
   },
   "outputs": [
    {
     "data": {
      "application/vnd.plotly.v1+json": {
       "config": {
        "plotlyServerURL": "https://plot.ly"
       },
       "data": [
        {
         "marker": {
          "color": [
           "grey",
           "grey",
           "grey",
           "grey",
           "grey",
           "grey",
           "red",
           "grey"
          ]
         },
         "name": "Responses",
         "type": "bar",
         "x": [
          "<-1.95",
          "[-1.95, -0.63>",
          "[-0.63, -0.5>",
          "[-0.5, -0.36>",
          "[-0.36, -0.29>",
          "[-0.29, -0.22>",
          "[-0.22, 0.99>",
          ">=0.99"
         ],
         "y": [
          35,
          1946,
          1338,
          1133,
          450,
          322,
          146,
          232
         ]
        },
        {
         "hovertemplate": "<b>%{text} %</b>",
         "mode": "lines+markers",
         "text": [
          "Returned Propensity: 1.39",
          "Returned Propensity: 0.39",
          "Returned Propensity: 0.56",
          "Returned Propensity: 0.75",
          "Returned Propensity: 1.0",
          "Returned Propensity: 1.08",
          "Returned Propensity: 1.7",
          "Returned Propensity: 2.36"
         ],
         "type": "scatter",
         "x": [
          "<-1.95",
          "[-1.95, -0.63>",
          "[-0.63, -0.5>",
          "[-0.5, -0.36>",
          "[-0.36, -0.29>",
          "[-0.29, -0.22>",
          "[-0.22, 0.99>",
          ">=0.99"
         ],
         "y": [
          0,
          0.3597122302158274,
          0.523168908819133,
          0.706090026478376,
          0.8888888888888888,
          0.9316770186335404,
          1.36986301369863,
          2.1551724137931036
         ],
         "yaxis": "y2"
        }
       ],
       "layout": {
        "height": 500,
        "template": {
         "data": {
          "scatter": [
           {
            "type": "scatter"
           }
          ]
         }
        },
        "width": 800,
        "xaxis": {
         "anchor": "y",
         "domain": [
          0,
          0.94
         ],
         "title": {
          "text": "Range"
         }
        },
        "yaxis": {
         "anchor": "x",
         "domain": [
          0,
          1
         ],
         "showgrid": false,
         "title": {
          "text": "Responses"
         }
        },
        "yaxis2": {
         "anchor": "x",
         "overlaying": "y",
         "showgrid": false,
         "side": "right",
         "title": {
          "text": "Propensity (%)"
         },
         "zeroline": false
        }
       }
      }
     },
     "metadata": {},
     "output_type": "display_data"
    }
   ],
   "source": [
    "df = result.to_pandas()\n",
    "colors = [\"grey\", \"grey\", \"grey\", \"grey\", \"grey\", \"grey\", \"red\", \"grey\"]\n",
    "fig = make_subplots(specs=[[{\"secondary_y\": True}]])\n",
    "fig.add_trace(\n",
    "    go.Bar(x=df[\"Bin\"], y=df[\"Responses\"], name=\"Responses\", marker_color=colors)\n",
    ")\n",
    "fig.add_trace(\n",
    "    go.Scatter(\n",
    "        x=df[\"Bin\"],\n",
    "        y=df[\"Propensity (%)\"],\n",
    "        yaxis=\"y2\",\n",
    "        mode=\"lines+markers\",\n",
    "        hovertemplate = '<b>%{text} %</b>',\n",
    "        text = [f'Returned Propensity: {round(i,2)}' for i in df[\"Adjusted Propensity (%)\"].to_list()],\n",
    "    )\n",
    ")\n",
    "fig.update_layout(xaxis_title=\"Range\", yaxis_title=\"Responses\",width=800, height=500, template='none',\n",
    "                  \n",
    ")\n",
    "fig.update_yaxes(title_text=\"Propensity (%)\", secondary_y=True)\n",
    "fig.layout.yaxis2.zeroline = False\n",
    "fig.update_yaxes(showgrid=False)"
   ]
  },
  {
   "cell_type": "code",
   "execution_count": 36,
   "metadata": {},
   "outputs": [
    {
     "data": {
      "application/vnd.plotly.v1+json": {
       "config": {
        "plotlyServerURL": "https://plot.ly"
       },
       "data": [
        {
         "marker": {
          "color": [
           "grey",
           "grey",
           "grey",
           "grey",
           "grey",
           "grey",
           "red",
           "grey"
          ]
         },
         "name": "Responses",
         "type": "bar",
         "x": [
          "<-1.95",
          "[-1.95, -0.63>",
          "[-0.63, -0.5>",
          "[-0.5, -0.36>",
          "[-0.36, -0.29>",
          "[-0.29, -0.22>",
          "[-0.22, 0.99>",
          ">=0.99"
         ],
         "y": [
          35,
          1946,
          1338,
          1133,
          450,
          322,
          146,
          232
         ]
        },
        {
         "hovertemplate": "<b>%{text} %</b>",
         "mode": "lines+markers",
         "text": [
          "Returned Propensity: 1.39",
          "Returned Propensity: 0.39",
          "Returned Propensity: 0.56",
          "Returned Propensity: 0.75",
          "Returned Propensity: 1.0",
          "Returned Propensity: 1.08",
          "Returned Propensity: 1.7",
          "Returned Propensity: 2.36"
         ],
         "type": "scatter",
         "x": [
          "<-1.95",
          "[-1.95, -0.63>",
          "[-0.63, -0.5>",
          "[-0.5, -0.36>",
          "[-0.36, -0.29>",
          "[-0.29, -0.22>",
          "[-0.22, 0.99>",
          ">=0.99"
         ],
         "y": [
          0,
          0.3597122302158274,
          0.523168908819133,
          0.706090026478376,
          0.8888888888888888,
          0.9316770186335404,
          1.36986301369863,
          2.1551724137931036
         ],
         "yaxis": "y2"
        }
       ],
       "layout": {
        "height": 500,
        "template": {
         "data": {
          "scatter": [
           {
            "type": "scatter"
           }
          ]
         }
        },
        "width": 800,
        "xaxis": {
         "anchor": "y",
         "domain": [
          0,
          0.94
         ],
         "title": {
          "text": "Range"
         }
        },
        "yaxis": {
         "anchor": "x",
         "domain": [
          0,
          1
         ],
         "showgrid": false,
         "title": {
          "text": "Responses"
         }
        },
        "yaxis2": {
         "anchor": "x",
         "overlaying": "y",
         "showgrid": false,
         "side": "right",
         "title": {
          "text": "Propensity (%)"
         },
         "zeroline": false
        }
       }
      }
     },
     "metadata": {},
     "output_type": "display_data"
    }
   ],
   "source": [
    "fig"
   ]
  }
 ],
 "metadata": {
  "kernelspec": {
   "display_name": "playground",
   "language": "python",
   "name": "python3"
  },
  "language_info": {
   "codemirror_mode": {
    "name": "ipython",
    "version": 3
   },
   "file_extension": ".py",
   "mimetype": "text/x-python",
   "name": "python",
   "nbconvert_exporter": "python",
   "pygments_lexer": "ipython3",
   "version": "3.11.0"
  },
  "orig_nbformat": 4
 },
 "nbformat": 4,
 "nbformat_minor": 2
}
